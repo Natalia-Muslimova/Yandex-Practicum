{
 "cells": [
  {
   "cell_type": "markdown",
   "metadata": {},
   "source": [
    "# A/B-тест для интернет-магазина"
   ]
  },
  {
   "cell_type": "markdown",
   "metadata": {},
   "source": [
    "**Цель исследования:** проанализировать результаты A/B-теста.\n",
    "\n",
    "**Этапы исследования:**\n",
    "1) Приоритизация гипотез;\n",
    "2) Запуск A/B-теста;\n",
    "3) Анализ результата.\n",
    "\n",
    "**Описание данных:** в исследовании используются несколько датасетов:\n",
    "1) Датасет с гипотезами;\n",
    "2) Датасет с информацией о заказах;\n",
    "3) Датасет с информацией о пользователях"
   ]
  },
  {
   "cell_type": "markdown",
   "metadata": {},
   "source": [
    "### Приоритизация гипотез"
   ]
  },
  {
   "cell_type": "code",
   "execution_count": 90,
   "metadata": {},
   "outputs": [],
   "source": [
    "#импортируем библиотеки\n",
    "import pandas as pd\n",
    "import datetime as dt\n",
    "import numpy as np\n",
    "import matplotlib.pyplot as plt\n",
    "from pandas.plotting import register_matplotlib_converters\n",
    "import warnings\n",
    "import scipy.stats as stats"
   ]
  },
  {
   "cell_type": "code",
   "execution_count": 91,
   "metadata": {},
   "outputs": [],
   "source": [
    "# зададаим формат отображения колонок\n",
    "pd.options.display.max_colwidth = 130"
   ]
  },
  {
   "cell_type": "code",
   "execution_count": 92,
   "metadata": {},
   "outputs": [
    {
     "name": "stdout",
     "output_type": "stream",
     "text": [
      "<class 'pandas.core.frame.DataFrame'>\n",
      "RangeIndex: 9 entries, 0 to 8\n",
      "Data columns (total 5 columns):\n",
      " #   Column      Non-Null Count  Dtype \n",
      "---  ------      --------------  ----- \n",
      " 0   Hypothesis  9 non-null      object\n",
      " 1   Reach       9 non-null      int64 \n",
      " 2   Impact      9 non-null      int64 \n",
      " 3   Confidence  9 non-null      int64 \n",
      " 4   Efforts     9 non-null      int64 \n",
      "dtypes: int64(4), object(1)\n",
      "memory usage: 488.0+ bytes\n"
     ]
    },
    {
     "data": {
      "text/html": [
       "<div>\n",
       "<style scoped>\n",
       "    .dataframe tbody tr th:only-of-type {\n",
       "        vertical-align: middle;\n",
       "    }\n",
       "\n",
       "    .dataframe tbody tr th {\n",
       "        vertical-align: top;\n",
       "    }\n",
       "\n",
       "    .dataframe thead th {\n",
       "        text-align: right;\n",
       "    }\n",
       "</style>\n",
       "<table border=\"1\" class=\"dataframe\">\n",
       "  <thead>\n",
       "    <tr style=\"text-align: right;\">\n",
       "      <th></th>\n",
       "      <th>Hypothesis</th>\n",
       "      <th>Reach</th>\n",
       "      <th>Impact</th>\n",
       "      <th>Confidence</th>\n",
       "      <th>Efforts</th>\n",
       "    </tr>\n",
       "  </thead>\n",
       "  <tbody>\n",
       "    <tr>\n",
       "      <th>0</th>\n",
       "      <td>Добавить два новых канала привлечения трафика, что позволит привлекать на 30% больше пользователей</td>\n",
       "      <td>3</td>\n",
       "      <td>10</td>\n",
       "      <td>8</td>\n",
       "      <td>6</td>\n",
       "    </tr>\n",
       "    <tr>\n",
       "      <th>1</th>\n",
       "      <td>Запустить собственную службу доставки, что сократит срок доставки заказов</td>\n",
       "      <td>2</td>\n",
       "      <td>5</td>\n",
       "      <td>4</td>\n",
       "      <td>10</td>\n",
       "    </tr>\n",
       "    <tr>\n",
       "      <th>2</th>\n",
       "      <td>Добавить блоки рекомендаций товаров на сайт интернет магазина, чтобы повысить конверсию и средний чек заказа</td>\n",
       "      <td>8</td>\n",
       "      <td>3</td>\n",
       "      <td>7</td>\n",
       "      <td>3</td>\n",
       "    </tr>\n",
       "    <tr>\n",
       "      <th>3</th>\n",
       "      <td>Изменить структура категорий, что увеличит конверсию, т.к. пользователи быстрее найдут нужный товар</td>\n",
       "      <td>8</td>\n",
       "      <td>3</td>\n",
       "      <td>3</td>\n",
       "      <td>8</td>\n",
       "    </tr>\n",
       "    <tr>\n",
       "      <th>4</th>\n",
       "      <td>Изменить цвет фона главной страницы, чтобы увеличить вовлеченность пользователей</td>\n",
       "      <td>3</td>\n",
       "      <td>1</td>\n",
       "      <td>1</td>\n",
       "      <td>1</td>\n",
       "    </tr>\n",
       "    <tr>\n",
       "      <th>5</th>\n",
       "      <td>Добавить страницу отзывов клиентов о магазине, что позволит увеличить количество заказов</td>\n",
       "      <td>3</td>\n",
       "      <td>2</td>\n",
       "      <td>2</td>\n",
       "      <td>3</td>\n",
       "    </tr>\n",
       "    <tr>\n",
       "      <th>6</th>\n",
       "      <td>Показать на главной странице баннеры с актуальными акциями и распродажами, чтобы увеличить конверсию</td>\n",
       "      <td>5</td>\n",
       "      <td>3</td>\n",
       "      <td>8</td>\n",
       "      <td>3</td>\n",
       "    </tr>\n",
       "    <tr>\n",
       "      <th>7</th>\n",
       "      <td>Добавить форму подписки на все основные страницы, чтобы собрать базу клиентов для email-рассылок</td>\n",
       "      <td>10</td>\n",
       "      <td>7</td>\n",
       "      <td>8</td>\n",
       "      <td>5</td>\n",
       "    </tr>\n",
       "    <tr>\n",
       "      <th>8</th>\n",
       "      <td>Запустить акцию, дающую скидку на товар в день рождения</td>\n",
       "      <td>1</td>\n",
       "      <td>9</td>\n",
       "      <td>9</td>\n",
       "      <td>5</td>\n",
       "    </tr>\n",
       "  </tbody>\n",
       "</table>\n",
       "</div>"
      ],
      "text/plain": [
       "                                                                                                     Hypothesis  \\\n",
       "0            Добавить два новых канала привлечения трафика, что позволит привлекать на 30% больше пользователей   \n",
       "1                                     Запустить собственную службу доставки, что сократит срок доставки заказов   \n",
       "2  Добавить блоки рекомендаций товаров на сайт интернет магазина, чтобы повысить конверсию и средний чек заказа   \n",
       "3           Изменить структура категорий, что увеличит конверсию, т.к. пользователи быстрее найдут нужный товар   \n",
       "4                              Изменить цвет фона главной страницы, чтобы увеличить вовлеченность пользователей   \n",
       "5                      Добавить страницу отзывов клиентов о магазине, что позволит увеличить количество заказов   \n",
       "6          Показать на главной странице баннеры с актуальными акциями и распродажами, чтобы увеличить конверсию   \n",
       "7              Добавить форму подписки на все основные страницы, чтобы собрать базу клиентов для email-рассылок   \n",
       "8                                                       Запустить акцию, дающую скидку на товар в день рождения   \n",
       "\n",
       "   Reach  Impact  Confidence  Efforts  \n",
       "0      3      10           8        6  \n",
       "1      2       5           4       10  \n",
       "2      8       3           7        3  \n",
       "3      8       3           3        8  \n",
       "4      3       1           1        1  \n",
       "5      3       2           2        3  \n",
       "6      5       3           8        3  \n",
       "7     10       7           8        5  \n",
       "8      1       9           9        5  "
      ]
     },
     "execution_count": 92,
     "metadata": {},
     "output_type": "execute_result"
    }
   ],
   "source": [
    "# откроем файл и ознакомимся с данными\n",
    "hyp = pd.read_csv('/datasets/hypothesis.csv')\n",
    "hyp.info()\n",
    "hyp.head(9)"
   ]
  },
  {
   "cell_type": "markdown",
   "metadata": {},
   "source": [
    "Значения целые, пропусков, дубликатов нет. "
   ]
  },
  {
   "cell_type": "code",
   "execution_count": 93,
   "metadata": {},
   "outputs": [
    {
     "data": {
      "text/html": [
       "<div>\n",
       "<style scoped>\n",
       "    .dataframe tbody tr th:only-of-type {\n",
       "        vertical-align: middle;\n",
       "    }\n",
       "\n",
       "    .dataframe tbody tr th {\n",
       "        vertical-align: top;\n",
       "    }\n",
       "\n",
       "    .dataframe thead th {\n",
       "        text-align: right;\n",
       "    }\n",
       "</style>\n",
       "<table border=\"1\" class=\"dataframe\">\n",
       "  <thead>\n",
       "    <tr style=\"text-align: right;\">\n",
       "      <th></th>\n",
       "      <th>hypothesis</th>\n",
       "      <th>reach</th>\n",
       "      <th>impact</th>\n",
       "      <th>confidence</th>\n",
       "      <th>efforts</th>\n",
       "    </tr>\n",
       "  </thead>\n",
       "  <tbody>\n",
       "    <tr>\n",
       "      <th>0</th>\n",
       "      <td>Добавить два новых канала привлечения трафика, что позволит привлекать на 30% больше пользователей</td>\n",
       "      <td>3</td>\n",
       "      <td>10</td>\n",
       "      <td>8</td>\n",
       "      <td>6</td>\n",
       "    </tr>\n",
       "    <tr>\n",
       "      <th>1</th>\n",
       "      <td>Запустить собственную службу доставки, что сократит срок доставки заказов</td>\n",
       "      <td>2</td>\n",
       "      <td>5</td>\n",
       "      <td>4</td>\n",
       "      <td>10</td>\n",
       "    </tr>\n",
       "    <tr>\n",
       "      <th>2</th>\n",
       "      <td>Добавить блоки рекомендаций товаров на сайт интернет магазина, чтобы повысить конверсию и средний чек заказа</td>\n",
       "      <td>8</td>\n",
       "      <td>3</td>\n",
       "      <td>7</td>\n",
       "      <td>3</td>\n",
       "    </tr>\n",
       "    <tr>\n",
       "      <th>3</th>\n",
       "      <td>Изменить структура категорий, что увеличит конверсию, т.к. пользователи быстрее найдут нужный товар</td>\n",
       "      <td>8</td>\n",
       "      <td>3</td>\n",
       "      <td>3</td>\n",
       "      <td>8</td>\n",
       "    </tr>\n",
       "    <tr>\n",
       "      <th>4</th>\n",
       "      <td>Изменить цвет фона главной страницы, чтобы увеличить вовлеченность пользователей</td>\n",
       "      <td>3</td>\n",
       "      <td>1</td>\n",
       "      <td>1</td>\n",
       "      <td>1</td>\n",
       "    </tr>\n",
       "  </tbody>\n",
       "</table>\n",
       "</div>"
      ],
      "text/plain": [
       "                                                                                                     hypothesis  \\\n",
       "0            Добавить два новых канала привлечения трафика, что позволит привлекать на 30% больше пользователей   \n",
       "1                                     Запустить собственную службу доставки, что сократит срок доставки заказов   \n",
       "2  Добавить блоки рекомендаций товаров на сайт интернет магазина, чтобы повысить конверсию и средний чек заказа   \n",
       "3           Изменить структура категорий, что увеличит конверсию, т.к. пользователи быстрее найдут нужный товар   \n",
       "4                              Изменить цвет фона главной страницы, чтобы увеличить вовлеченность пользователей   \n",
       "\n",
       "   reach  impact  confidence  efforts  \n",
       "0      3      10           8        6  \n",
       "1      2       5           4       10  \n",
       "2      8       3           7        3  \n",
       "3      8       3           3        8  \n",
       "4      3       1           1        1  "
      ]
     },
     "execution_count": 93,
     "metadata": {},
     "output_type": "execute_result"
    }
   ],
   "source": [
    "# переведем названия колонок в нижний регистр\n",
    "hyp.columns = hyp.columns.str.lower()\n",
    "hyp.head()"
   ]
  },
  {
   "cell_type": "markdown",
   "metadata": {},
   "source": [
    "#### Применим фреймворк ICE для приоритизации гипотез. "
   ]
  },
  {
   "cell_type": "code",
   "execution_count": 94,
   "metadata": {},
   "outputs": [
    {
     "data": {
      "text/html": [
       "<div>\n",
       "<style scoped>\n",
       "    .dataframe tbody tr th:only-of-type {\n",
       "        vertical-align: middle;\n",
       "    }\n",
       "\n",
       "    .dataframe tbody tr th {\n",
       "        vertical-align: top;\n",
       "    }\n",
       "\n",
       "    .dataframe thead th {\n",
       "        text-align: right;\n",
       "    }\n",
       "</style>\n",
       "<table border=\"1\" class=\"dataframe\">\n",
       "  <thead>\n",
       "    <tr style=\"text-align: right;\">\n",
       "      <th></th>\n",
       "      <th>hypothesis</th>\n",
       "      <th>ICE</th>\n",
       "    </tr>\n",
       "  </thead>\n",
       "  <tbody>\n",
       "    <tr>\n",
       "      <th>8</th>\n",
       "      <td>Запустить акцию, дающую скидку на товар в день рождения</td>\n",
       "      <td>16.20</td>\n",
       "    </tr>\n",
       "    <tr>\n",
       "      <th>0</th>\n",
       "      <td>Добавить два новых канала привлечения трафика, что позволит привлекать на 30% больше пользователей</td>\n",
       "      <td>13.33</td>\n",
       "    </tr>\n",
       "    <tr>\n",
       "      <th>7</th>\n",
       "      <td>Добавить форму подписки на все основные страницы, чтобы собрать базу клиентов для email-рассылок</td>\n",
       "      <td>11.20</td>\n",
       "    </tr>\n",
       "    <tr>\n",
       "      <th>6</th>\n",
       "      <td>Показать на главной странице баннеры с актуальными акциями и распродажами, чтобы увеличить конверсию</td>\n",
       "      <td>8.00</td>\n",
       "    </tr>\n",
       "    <tr>\n",
       "      <th>2</th>\n",
       "      <td>Добавить блоки рекомендаций товаров на сайт интернет магазина, чтобы повысить конверсию и средний чек заказа</td>\n",
       "      <td>7.00</td>\n",
       "    </tr>\n",
       "    <tr>\n",
       "      <th>1</th>\n",
       "      <td>Запустить собственную службу доставки, что сократит срок доставки заказов</td>\n",
       "      <td>2.00</td>\n",
       "    </tr>\n",
       "    <tr>\n",
       "      <th>5</th>\n",
       "      <td>Добавить страницу отзывов клиентов о магазине, что позволит увеличить количество заказов</td>\n",
       "      <td>1.33</td>\n",
       "    </tr>\n",
       "    <tr>\n",
       "      <th>3</th>\n",
       "      <td>Изменить структура категорий, что увеличит конверсию, т.к. пользователи быстрее найдут нужный товар</td>\n",
       "      <td>1.12</td>\n",
       "    </tr>\n",
       "    <tr>\n",
       "      <th>4</th>\n",
       "      <td>Изменить цвет фона главной страницы, чтобы увеличить вовлеченность пользователей</td>\n",
       "      <td>1.00</td>\n",
       "    </tr>\n",
       "  </tbody>\n",
       "</table>\n",
       "</div>"
      ],
      "text/plain": [
       "                                                                                                     hypothesis  \\\n",
       "8                                                       Запустить акцию, дающую скидку на товар в день рождения   \n",
       "0            Добавить два новых канала привлечения трафика, что позволит привлекать на 30% больше пользователей   \n",
       "7              Добавить форму подписки на все основные страницы, чтобы собрать базу клиентов для email-рассылок   \n",
       "6          Показать на главной странице баннеры с актуальными акциями и распродажами, чтобы увеличить конверсию   \n",
       "2  Добавить блоки рекомендаций товаров на сайт интернет магазина, чтобы повысить конверсию и средний чек заказа   \n",
       "1                                     Запустить собственную службу доставки, что сократит срок доставки заказов   \n",
       "5                      Добавить страницу отзывов клиентов о магазине, что позволит увеличить количество заказов   \n",
       "3           Изменить структура категорий, что увеличит конверсию, т.к. пользователи быстрее найдут нужный товар   \n",
       "4                              Изменить цвет фона главной страницы, чтобы увеличить вовлеченность пользователей   \n",
       "\n",
       "     ICE  \n",
       "8  16.20  \n",
       "0  13.33  \n",
       "7  11.20  \n",
       "6   8.00  \n",
       "2   7.00  \n",
       "1   2.00  \n",
       "5   1.33  \n",
       "3   1.12  \n",
       "4   1.00  "
      ]
     },
     "execution_count": 94,
     "metadata": {},
     "output_type": "execute_result"
    }
   ],
   "source": [
    "hyp['ICE'] = hyp['impact'] * hyp['confidence'] / hyp['efforts']\n",
    "hyp_ICE = hyp[['hypothesis', 'ICE']].sort_values(by='ICE', ascending=False).round(2)\n",
    "hyp_ICE"
   ]
  },
  {
   "cell_type": "markdown",
   "metadata": {},
   "source": [
    "По фреймворку ICE приорететнее оказались гипотезы:\n",
    "\n",
    "1) \"Запустить акцию, дающую скидку на товар в день рождения\"\\\n",
    "2) \"Добавить два новых канала привлечения трафика, что позволит привлекать на 30% больше пользователей\"\\\n",
    "3) \"Добавить форму подписки на все основные страницы, чтобы собрать базу клиентов для email-рассылок\""
   ]
  },
  {
   "cell_type": "markdown",
   "metadata": {},
   "source": [
    "#### Применим фреймворк RICE для приоритизации гипотез. "
   ]
  },
  {
   "cell_type": "code",
   "execution_count": 95,
   "metadata": {},
   "outputs": [
    {
     "data": {
      "text/html": [
       "<div>\n",
       "<style scoped>\n",
       "    .dataframe tbody tr th:only-of-type {\n",
       "        vertical-align: middle;\n",
       "    }\n",
       "\n",
       "    .dataframe tbody tr th {\n",
       "        vertical-align: top;\n",
       "    }\n",
       "\n",
       "    .dataframe thead th {\n",
       "        text-align: right;\n",
       "    }\n",
       "</style>\n",
       "<table border=\"1\" class=\"dataframe\">\n",
       "  <thead>\n",
       "    <tr style=\"text-align: right;\">\n",
       "      <th></th>\n",
       "      <th>hypothesis</th>\n",
       "      <th>RICE</th>\n",
       "    </tr>\n",
       "  </thead>\n",
       "  <tbody>\n",
       "    <tr>\n",
       "      <th>7</th>\n",
       "      <td>Добавить форму подписки на все основные страницы, чтобы собрать базу клиентов для email-рассылок</td>\n",
       "      <td>112.0</td>\n",
       "    </tr>\n",
       "    <tr>\n",
       "      <th>2</th>\n",
       "      <td>Добавить блоки рекомендаций товаров на сайт интернет магазина, чтобы повысить конверсию и средний чек заказа</td>\n",
       "      <td>56.0</td>\n",
       "    </tr>\n",
       "    <tr>\n",
       "      <th>0</th>\n",
       "      <td>Добавить два новых канала привлечения трафика, что позволит привлекать на 30% больше пользователей</td>\n",
       "      <td>40.0</td>\n",
       "    </tr>\n",
       "    <tr>\n",
       "      <th>6</th>\n",
       "      <td>Показать на главной странице баннеры с актуальными акциями и распродажами, чтобы увеличить конверсию</td>\n",
       "      <td>40.0</td>\n",
       "    </tr>\n",
       "    <tr>\n",
       "      <th>8</th>\n",
       "      <td>Запустить акцию, дающую скидку на товар в день рождения</td>\n",
       "      <td>16.2</td>\n",
       "    </tr>\n",
       "    <tr>\n",
       "      <th>3</th>\n",
       "      <td>Изменить структура категорий, что увеличит конверсию, т.к. пользователи быстрее найдут нужный товар</td>\n",
       "      <td>9.0</td>\n",
       "    </tr>\n",
       "    <tr>\n",
       "      <th>1</th>\n",
       "      <td>Запустить собственную службу доставки, что сократит срок доставки заказов</td>\n",
       "      <td>4.0</td>\n",
       "    </tr>\n",
       "    <tr>\n",
       "      <th>5</th>\n",
       "      <td>Добавить страницу отзывов клиентов о магазине, что позволит увеличить количество заказов</td>\n",
       "      <td>4.0</td>\n",
       "    </tr>\n",
       "    <tr>\n",
       "      <th>4</th>\n",
       "      <td>Изменить цвет фона главной страницы, чтобы увеличить вовлеченность пользователей</td>\n",
       "      <td>3.0</td>\n",
       "    </tr>\n",
       "  </tbody>\n",
       "</table>\n",
       "</div>"
      ],
      "text/plain": [
       "                                                                                                     hypothesis  \\\n",
       "7              Добавить форму подписки на все основные страницы, чтобы собрать базу клиентов для email-рассылок   \n",
       "2  Добавить блоки рекомендаций товаров на сайт интернет магазина, чтобы повысить конверсию и средний чек заказа   \n",
       "0            Добавить два новых канала привлечения трафика, что позволит привлекать на 30% больше пользователей   \n",
       "6          Показать на главной странице баннеры с актуальными акциями и распродажами, чтобы увеличить конверсию   \n",
       "8                                                       Запустить акцию, дающую скидку на товар в день рождения   \n",
       "3           Изменить структура категорий, что увеличит конверсию, т.к. пользователи быстрее найдут нужный товар   \n",
       "1                                     Запустить собственную службу доставки, что сократит срок доставки заказов   \n",
       "5                      Добавить страницу отзывов клиентов о магазине, что позволит увеличить количество заказов   \n",
       "4                              Изменить цвет фона главной страницы, чтобы увеличить вовлеченность пользователей   \n",
       "\n",
       "    RICE  \n",
       "7  112.0  \n",
       "2   56.0  \n",
       "0   40.0  \n",
       "6   40.0  \n",
       "8   16.2  \n",
       "3    9.0  \n",
       "1    4.0  \n",
       "5    4.0  \n",
       "4    3.0  "
      ]
     },
     "execution_count": 95,
     "metadata": {},
     "output_type": "execute_result"
    }
   ],
   "source": [
    "hyp['RICE'] = hyp['impact'] * hyp['reach'] * hyp['confidence'] / hyp['efforts']\n",
    "hyp_RICE = hyp[['hypothesis', 'RICE']].sort_values(by='RICE', ascending=False).round(2)\n",
    "hyp_RICE"
   ]
  },
  {
   "cell_type": "markdown",
   "metadata": {},
   "source": [
    "По фреймворку RICE приоритетнее оказались гипотезы:\n",
    "\n",
    "1) \"Добавить форму подписки на все основные страницы, чтобы собрать базу клиентов для email-рассылок\"\n",
    "2) \"Добавить блоки рекомендаций товаров на сайт интернет магазина, чтобы повысить конверсию и средний чек заказа\"\n",
    "3) \"Добавить два новых канала привлечения трафика, что позволит привлекать на 30% больше пользователей\"\n",
    "4) \"Показать на главной странице баннеры с актуальными акциями и распродажами, чтобы увеличить конверсию\""
   ]
  },
  {
   "cell_type": "markdown",
   "metadata": {},
   "source": [
    "**Вывод:**\n",
    "При приоритизации гипотез при помощи разных фреймворков результат так же меняется. Например, лидирующая гипотеза по ICE (\"Запустить акцию, дающую скидку на товар в день рождения\") при применении RICE находится лишь на 5 месте, а лидирующей является - \"Добавить форму подписки на все основные страницы, чтобы собрать базу клиентов для email-рассылок\" (по ICE 3я). Приоритезацию меняет параметр \"reach\"(охват пользователей), который включен в формулу расчета по методу RICE. В данном случае стоит ориентироваться на RICE, данный фреймворк менее субъективен, охват аудитории важный показатель, данные по которому можно собрать и проанализировать. Но если необходима быстрая приоритезаци то ICE в этом случае подходит лучше."
   ]
  },
  {
   "cell_type": "markdown",
   "metadata": {},
   "source": [
    "### Анализ A/B-теста"
   ]
  },
  {
   "cell_type": "code",
   "execution_count": 96,
   "metadata": {},
   "outputs": [
    {
     "name": "stdout",
     "output_type": "stream",
     "text": [
      "<class 'pandas.core.frame.DataFrame'>\n",
      "RangeIndex: 1197 entries, 0 to 1196\n",
      "Data columns (total 5 columns):\n",
      " #   Column         Non-Null Count  Dtype \n",
      "---  ------         --------------  ----- \n",
      " 0   transactionId  1197 non-null   int64 \n",
      " 1   visitorId      1197 non-null   int64 \n",
      " 2   date           1197 non-null   object\n",
      " 3   revenue        1197 non-null   int64 \n",
      " 4   group          1197 non-null   object\n",
      "dtypes: int64(3), object(2)\n",
      "memory usage: 46.9+ KB\n"
     ]
    },
    {
     "data": {
      "text/html": [
       "<div>\n",
       "<style scoped>\n",
       "    .dataframe tbody tr th:only-of-type {\n",
       "        vertical-align: middle;\n",
       "    }\n",
       "\n",
       "    .dataframe tbody tr th {\n",
       "        vertical-align: top;\n",
       "    }\n",
       "\n",
       "    .dataframe thead th {\n",
       "        text-align: right;\n",
       "    }\n",
       "</style>\n",
       "<table border=\"1\" class=\"dataframe\">\n",
       "  <thead>\n",
       "    <tr style=\"text-align: right;\">\n",
       "      <th></th>\n",
       "      <th>transactionId</th>\n",
       "      <th>visitorId</th>\n",
       "      <th>date</th>\n",
       "      <th>revenue</th>\n",
       "      <th>group</th>\n",
       "    </tr>\n",
       "  </thead>\n",
       "  <tbody>\n",
       "    <tr>\n",
       "      <th>0</th>\n",
       "      <td>3667963787</td>\n",
       "      <td>3312258926</td>\n",
       "      <td>2019-08-15</td>\n",
       "      <td>1650</td>\n",
       "      <td>B</td>\n",
       "    </tr>\n",
       "    <tr>\n",
       "      <th>1</th>\n",
       "      <td>2804400009</td>\n",
       "      <td>3642806036</td>\n",
       "      <td>2019-08-15</td>\n",
       "      <td>730</td>\n",
       "      <td>B</td>\n",
       "    </tr>\n",
       "    <tr>\n",
       "      <th>2</th>\n",
       "      <td>2961555356</td>\n",
       "      <td>4069496402</td>\n",
       "      <td>2019-08-15</td>\n",
       "      <td>400</td>\n",
       "      <td>A</td>\n",
       "    </tr>\n",
       "    <tr>\n",
       "      <th>3</th>\n",
       "      <td>3797467345</td>\n",
       "      <td>1196621759</td>\n",
       "      <td>2019-08-15</td>\n",
       "      <td>9759</td>\n",
       "      <td>B</td>\n",
       "    </tr>\n",
       "    <tr>\n",
       "      <th>4</th>\n",
       "      <td>2282983706</td>\n",
       "      <td>2322279887</td>\n",
       "      <td>2019-08-15</td>\n",
       "      <td>2308</td>\n",
       "      <td>B</td>\n",
       "    </tr>\n",
       "  </tbody>\n",
       "</table>\n",
       "</div>"
      ],
      "text/plain": [
       "   transactionId   visitorId        date  revenue group\n",
       "0     3667963787  3312258926  2019-08-15     1650     B\n",
       "1     2804400009  3642806036  2019-08-15      730     B\n",
       "2     2961555356  4069496402  2019-08-15      400     A\n",
       "3     3797467345  1196621759  2019-08-15     9759     B\n",
       "4     2282983706  2322279887  2019-08-15     2308     B"
      ]
     },
     "execution_count": 96,
     "metadata": {},
     "output_type": "execute_result"
    }
   ],
   "source": [
    "# откроем датасет с заказами и ознакомимся с данными\n",
    "orders = pd.read_csv('/datasets/orders.csv')\n",
    "orders.info()\n",
    "orders.head()"
   ]
  },
  {
   "cell_type": "code",
   "execution_count": 97,
   "metadata": {},
   "outputs": [],
   "source": [
    "# поменяем тип столбца с датой на  datetime\n",
    "orders['date'] = pd.to_datetime(orders['date'], format='%Y-%m-%d')"
   ]
  },
  {
   "cell_type": "code",
   "execution_count": 98,
   "metadata": {},
   "outputs": [
    {
     "data": {
      "text/plain": [
       "0"
      ]
     },
     "execution_count": 98,
     "metadata": {},
     "output_type": "execute_result"
    }
   ],
   "source": [
    "# посмотрим дубликаты\n",
    "orders.duplicated().sum()"
   ]
  },
  {
   "cell_type": "code",
   "execution_count": 99,
   "metadata": {},
   "outputs": [
    {
     "data": {
      "text/plain": [
       "group    58\n",
       "dtype: int64"
      ]
     },
     "execution_count": 99,
     "metadata": {},
     "output_type": "execute_result"
    }
   ],
   "source": [
    "orders.groupby('visitorId').agg({'group' : 'nunique'}).query('group>1').count()"
   ]
  },
  {
   "cell_type": "code",
   "execution_count": 100,
   "metadata": {},
   "outputs": [
    {
     "data": {
      "text/plain": [
       "array([   8300375,  199603092,  232979603,  237748145,  276558944,\n",
       "        351125977,  393266494,  457167155,  471551937,  477780734,\n",
       "        818047933,  963407295, 1230306981, 1294878855, 1316129916,\n",
       "       1333886533, 1404934699, 1602967004, 1614305549, 1648269707,\n",
       "       1668030113, 1738359350, 1801183820, 1959144690, 2038680547,\n",
       "       2044997962, 2378935119, 2458001652, 2579882178, 2587333274,\n",
       "       2600415354, 2654030115, 2686716486, 2712142231, 2716752286,\n",
       "       2780786433, 2927087541, 2949041841, 2954449915, 3062433592,\n",
       "       3202540741, 3234906277, 3656415546, 3717692402, 3766097110,\n",
       "       3803269165, 3891541246, 3941795274, 3951559397, 3957174400,\n",
       "       3963646447, 3972127743, 3984495233, 4069496402, 4120364173,\n",
       "       4186807279, 4256040402, 4266935830])"
      ]
     },
     "execution_count": 100,
     "metadata": {},
     "output_type": "execute_result"
    }
   ],
   "source": [
    "double_users = orders.groupby('visitorId').agg({'group' : 'nunique'}).reset_index().query('group>1')['visitorId'].unique()\n",
    "double_users"
   ]
  },
  {
   "cell_type": "markdown",
   "metadata": {},
   "source": [
    "В датасете нет пропусков и дубликатов. Изменила тип столбца с датой на datetime. "
   ]
  },
  {
   "cell_type": "code",
   "execution_count": 101,
   "metadata": {},
   "outputs": [
    {
     "name": "stdout",
     "output_type": "stream",
     "text": [
      "<class 'pandas.core.frame.DataFrame'>\n",
      "RangeIndex: 62 entries, 0 to 61\n",
      "Data columns (total 3 columns):\n",
      " #   Column    Non-Null Count  Dtype \n",
      "---  ------    --------------  ----- \n",
      " 0   date      62 non-null     object\n",
      " 1   group     62 non-null     object\n",
      " 2   visitors  62 non-null     int64 \n",
      "dtypes: int64(1), object(2)\n",
      "memory usage: 1.6+ KB\n"
     ]
    },
    {
     "data": {
      "text/html": [
       "<div>\n",
       "<style scoped>\n",
       "    .dataframe tbody tr th:only-of-type {\n",
       "        vertical-align: middle;\n",
       "    }\n",
       "\n",
       "    .dataframe tbody tr th {\n",
       "        vertical-align: top;\n",
       "    }\n",
       "\n",
       "    .dataframe thead th {\n",
       "        text-align: right;\n",
       "    }\n",
       "</style>\n",
       "<table border=\"1\" class=\"dataframe\">\n",
       "  <thead>\n",
       "    <tr style=\"text-align: right;\">\n",
       "      <th></th>\n",
       "      <th>date</th>\n",
       "      <th>group</th>\n",
       "      <th>visitors</th>\n",
       "    </tr>\n",
       "  </thead>\n",
       "  <tbody>\n",
       "    <tr>\n",
       "      <th>0</th>\n",
       "      <td>2019-08-01</td>\n",
       "      <td>A</td>\n",
       "      <td>719</td>\n",
       "    </tr>\n",
       "    <tr>\n",
       "      <th>1</th>\n",
       "      <td>2019-08-02</td>\n",
       "      <td>A</td>\n",
       "      <td>619</td>\n",
       "    </tr>\n",
       "    <tr>\n",
       "      <th>2</th>\n",
       "      <td>2019-08-03</td>\n",
       "      <td>A</td>\n",
       "      <td>507</td>\n",
       "    </tr>\n",
       "    <tr>\n",
       "      <th>3</th>\n",
       "      <td>2019-08-04</td>\n",
       "      <td>A</td>\n",
       "      <td>717</td>\n",
       "    </tr>\n",
       "    <tr>\n",
       "      <th>4</th>\n",
       "      <td>2019-08-05</td>\n",
       "      <td>A</td>\n",
       "      <td>756</td>\n",
       "    </tr>\n",
       "  </tbody>\n",
       "</table>\n",
       "</div>"
      ],
      "text/plain": [
       "         date group  visitors\n",
       "0  2019-08-01     A       719\n",
       "1  2019-08-02     A       619\n",
       "2  2019-08-03     A       507\n",
       "3  2019-08-04     A       717\n",
       "4  2019-08-05     A       756"
      ]
     },
     "execution_count": 101,
     "metadata": {},
     "output_type": "execute_result"
    }
   ],
   "source": [
    "# откроем датасет с пользователями и ознакомимся с данными\n",
    "visitors = pd.read_csv('/datasets/visitors.csv')\n",
    "visitors.info()\n",
    "visitors.head()"
   ]
  },
  {
   "cell_type": "code",
   "execution_count": 102,
   "metadata": {},
   "outputs": [],
   "source": [
    "# поменяем тип столбца с датой на  datetime\n",
    "visitors['date'] = pd.to_datetime(visitors['date'], format='%Y-%m-%d')"
   ]
  },
  {
   "cell_type": "code",
   "execution_count": 103,
   "metadata": {},
   "outputs": [
    {
     "data": {
      "text/plain": [
       "0"
      ]
     },
     "execution_count": 103,
     "metadata": {},
     "output_type": "execute_result"
    }
   ],
   "source": [
    "# посмотрим дубликаты\n",
    "visitors.duplicated().sum()"
   ]
  },
  {
   "cell_type": "markdown",
   "metadata": {},
   "source": [
    "В датасете также нет пропусков и дубликатов. Тип столбца с датой поменяла на datetime. "
   ]
  },
  {
   "cell_type": "code",
   "execution_count": 104,
   "metadata": {},
   "outputs": [
    {
     "data": {
      "text/plain": [
       "array([4069496402,  963407295,  351125977, 3234906277,  199603092,\n",
       "        237748145, 3803269165, 2038680547, 2378935119, 4256040402,\n",
       "       2712142231,    8300375,  276558944,  457167155, 3062433592,\n",
       "       1738359350, 2458001652, 2716752286, 3891541246, 1648269707,\n",
       "       3656415546, 2686716486, 2954449915, 2927087541, 2579882178,\n",
       "       3957174400, 2780786433, 3984495233,  818047933, 1668030113,\n",
       "       3717692402, 2044997962, 1959144690, 1294878855, 1404934699,\n",
       "       2587333274, 3202540741, 1333886533, 2600415354, 3951559397,\n",
       "        393266494, 3972127743, 4120364173, 4266935830, 1230306981,\n",
       "       1614305549,  477780734, 1602967004, 1801183820, 4186807279,\n",
       "       3766097110, 3941795274,  471551937, 1316129916,  232979603,\n",
       "       2654030115, 3963646447, 2949041841])"
      ]
     },
     "metadata": {},
     "output_type": "display_data"
    },
    {
     "name": "stdout",
     "output_type": "stream",
     "text": [
      "Количество пользователей в двух группах: 58\n",
      "Всего пользователей в тесте: 1031\n"
     ]
    }
   ],
   "source": [
    "# посмотрим, присутствуют ли пользователи, входящие в оба теста сразу\n",
    "a = orders[orders['group'] == 'A']['visitorId']\n",
    "b = orders[orders['group'] == 'B']['visitorId']\n",
    "orders_ab = orders.query('visitorId in @a and visitorId in @b')\n",
    "display(orders_ab['visitorId'].unique())\n",
    "print('Количество пользователей в двух группах:', orders_ab['visitorId'].nunique())\n",
    "print('Всего пользователей в тесте:', orders['visitorId'].nunique())"
   ]
  },
  {
   "cell_type": "markdown",
   "metadata": {},
   "source": [
    "#### Кумулятивная выручка по группам"
   ]
  },
  {
   "cell_type": "code",
   "execution_count": 105,
   "metadata": {},
   "outputs": [
    {
     "name": "stdout",
     "output_type": "stream",
     "text": [
      "        date group  orders  buyers  revenue  visitors\n",
      "0 2019-08-01     A      24      20   148579       719\n",
      "1 2019-08-01     B      21      20   101217       713\n",
      "2 2019-08-02     A      44      38   242401      1338\n",
      "3 2019-08-02     B      45      43   266748      1294\n",
      "4 2019-08-03     A      68      62   354874      1845\n"
     ]
    }
   ],
   "source": [
    "#создаем массив уникальных пар значений дат и групп теста\n",
    "datesGroups = orders[['date','group']].drop_duplicates()\n",
    "#получаем агрегированные кумулятивные по дням данные о заказах \n",
    "ordersAggregated = datesGroups.apply(lambda x: orders[np.logical_and(orders['date'] <= x['date'], orders['group'] == x['group'])]\\\n",
    ".agg({'date' : 'max', 'group' : 'max', 'transactionId' : 'nunique', 'visitorId' : 'nunique', 'revenue' : 'sum'}), axis=1).sort_values(by=['date','group'])\n",
    "#получаем агрегированные кумулятивные по дням данные о посетителях\n",
    "visitorsAggregated = datesGroups.apply(lambda x: visitors[np.logical_and(visitors['date'] <= x['date'], visitors['group'] == x['group'])].agg({'date' : 'max', 'group' : 'max', 'visitors' : 'sum'}), axis=1).sort_values(by=['date','group'])\n",
    "#объединяем кумулятивные данные в одной таблице и присваиваем ее столбцам понятные названия\n",
    "cumulativeData = ordersAggregated.merge(visitorsAggregated, left_on=['date', 'group'], right_on=['date', 'group'])\n",
    "cumulativeData.columns = ['date', 'group', 'orders', 'buyers', 'revenue', 'visitors']\n",
    "print(cumulativeData.head(5))"
   ]
  },
  {
   "cell_type": "code",
   "execution_count": 106,
   "metadata": {},
   "outputs": [
    {
     "data": {
      "image/png": "[encoded data removed]",
      "text/plain": [
       "<Figure size 1080x720 with 1 Axes>"
      ]
     },
     "metadata": {
      "needs_background": "light"
     },
     "output_type": "display_data"
    }
   ],
   "source": [
    "# датафрейм с кумулятивным количеством заказов и кумулятивной выручкой по дням в группе А\n",
    "cumulativeRevenueA = cumulativeData[cumulativeData['group']=='A'][['date','revenue', 'orders']]\n",
    "\n",
    "# датафрейм с кумулятивным количеством заказов и кумулятивной выручкой по дням в группе B\n",
    "cumulativeRevenueB = cumulativeData[cumulativeData['group']=='B'][['date','revenue', 'orders']]\n",
    "\n",
    "plt.figure(figsize=(15, 10))\n",
    "# Строим график выручки группы А\n",
    "plt.plot(cumulativeRevenueA['date'], cumulativeRevenueA['revenue'], label='A')\n",
    "\n",
    "# Строим график выручки группы B\n",
    "plt.plot(cumulativeRevenueB['date'], cumulativeRevenueB['revenue'], label='B')\n",
    "plt.title('Кумулятивная выручка по группам')\n",
    "plt.xlabel('Дата')\n",
    "plt.ylabel('Выручка')\n",
    "plt.grid()\n",
    "plt.legend()\n",
    "plt.show()\n"
   ]
  },
  {
   "cell_type": "markdown",
   "metadata": {},
   "source": [
    "**Вывод:**  Примерно до середины теста выручка распределялась равномерно между группами. В середине теста кумулятивная выручка в группе B стала гораздо выше. Это может сигнализировать о всплесках числа заказов, либо о появлении очень дорогих заказов. "
   ]
  },
  {
   "cell_type": "markdown",
   "metadata": {},
   "source": [
    "#### Кумулятивный средний чек по группам"
   ]
  },
  {
   "cell_type": "code",
   "execution_count": 107,
   "metadata": {},
   "outputs": [
    {
     "data": {
      "image/png": "[encoded data removed]",
      "text/plain": [
       "<Figure size 1080x720 with 1 Axes>"
      ]
     },
     "metadata": {
      "needs_background": "light"
     },
     "output_type": "display_data"
    }
   ],
   "source": [
    "plt.figure(figsize=(15, 10))\n",
    "plt.plot(cumulativeRevenueA['date'], cumulativeRevenueA['revenue']/cumulativeRevenueA['orders'], label='A')\n",
    "plt.plot(cumulativeRevenueB['date'], cumulativeRevenueB['revenue']/cumulativeRevenueB['orders'], label='B')\n",
    "plt.title('График кумулятивного среднего чека по группам')\n",
    "plt.xlabel('Дата')\n",
    "plt.ylabel('Кумулятивный cредний чек')\n",
    "plt.grid()\n",
    "plt.legend()\n",
    "plt.show()"
   ]
  },
  {
   "cell_type": "markdown",
   "metadata": {},
   "source": [
    "**Вывод:**  Кумулятивный средний чек группы B имеет резкий рост в середине теста, аналогично графику кумулятивной выручки. Что  говорит о совершении аномально дорогих покупок в этот период.\n"
   ]
  },
  {
   "cell_type": "markdown",
   "metadata": {},
   "source": [
    "#### График относительного изменения кумулятивного среднего чека группы B к группе A."
   ]
  },
  {
   "cell_type": "code",
   "execution_count": 108,
   "metadata": {},
   "outputs": [
    {
     "data": {
      "image/png": "[encoded data removed]",
      "text/plain": [
       "<Figure size 1080x720 with 1 Axes>"
      ]
     },
     "metadata": {
      "needs_background": "light"
     },
     "output_type": "display_data"
    }
   ],
   "source": [
    "# собираем данные в одном датафрейме\n",
    "mergedCumulativeRevenue = cumulativeRevenueA.merge(cumulativeRevenueB, left_on='date', right_on='date', how='left', suffixes=['A', 'B'])\n",
    "\n",
    "# cтроим отношение средних чеков\n",
    "plt.figure(figsize=(15, 10))\n",
    "plt.plot(mergedCumulativeRevenue['date'], (mergedCumulativeRevenue['revenueB']/mergedCumulativeRevenue['ordersB'])/(mergedCumulativeRevenue['revenueA']/mergedCumulativeRevenue['ordersA'])-1)\n",
    "\n",
    "plt.axhline(y=0, color='black', linestyle='--')\n",
    "plt.title('График относительного изменения кумулятивного среднего чека группы B к группе A')\n",
    "plt.xlabel('Дата')\n",
    "plt.ylabel('Доля')\n",
    "plt.grid()\n",
    "plt.show()"
   ]
  },
  {
   "cell_type": "markdown",
   "metadata": {},
   "source": [
    "**Вывод:** В нескольких точках график различия между сегментами имеет резкий рост, видимо тогда были совершены аномальные заказы. Также в основном график расположен выше нуля, что говорит о превышении показателя группы В над А"
   ]
  },
  {
   "cell_type": "markdown",
   "metadata": {},
   "source": [
    "#### График кумулятивного среднего количества заказов на посетителя по группам."
   ]
  },
  {
   "cell_type": "code",
   "execution_count": 109,
   "metadata": {},
   "outputs": [
    {
     "data": {
      "image/png": "[encoded data removed]",
      "text/plain": [
       "<Figure size 1080x504 with 1 Axes>"
      ]
     },
     "metadata": {
      "needs_background": "light"
     },
     "output_type": "display_data"
    }
   ],
   "source": [
    "# считаем кумулятивную среднего количества заказов на посетителя по группам\n",
    "cumulativeData['conversion'] = cumulativeData['orders']/cumulativeData['visitors']\n",
    "\n",
    "# отделяем данные по группе A\n",
    "cumulativeDataA = cumulativeData[cumulativeData['group']=='A']\n",
    "\n",
    "# отделяем данные по группе B\n",
    "cumulativeDataB = cumulativeData[cumulativeData['group']=='B']\n",
    "\n",
    "# строим графики\n",
    "plt.figure(figsize=(15, 7))\n",
    "plt.plot(cumulativeDataA['date'], cumulativeDataA['conversion'], label='A')\n",
    "plt.plot(cumulativeDataB['date'], cumulativeDataB['conversion'], label='B')\n",
    "plt.axis([dt.datetime(2019, 8, 1), dt.datetime(2019, 9, 1), 0.028, 0.038])\n",
    "plt.title('График кумулятивного среднего количества заказов на посетителя по группам')\n",
    "plt.xlabel('Дата')\n",
    "plt.ylabel('среднее количество заказов на посетителя')\n",
    "plt.legend()\n",
    "plt.grid()\n",
    "plt.show()"
   ]
  },
  {
   "cell_type": "markdown",
   "metadata": {},
   "source": [
    "**Вывод:** В начале теста группа А имела большую конверсию. Однако после конверсия группы B стала выше показателя группы А, и далее показатель в группе В стабильно выше."
   ]
  },
  {
   "cell_type": "markdown",
   "metadata": {},
   "source": [
    "#### График относительного изменения кумулятивного среднего количества заказов на посетителя группы B к группе A"
   ]
  },
  {
   "cell_type": "code",
   "execution_count": 110,
   "metadata": {},
   "outputs": [
    {
     "data": {
      "image/png": "[encoded data removed]",
      "text/plain": [
       "<Figure size 1080x720 with 1 Axes>"
      ]
     },
     "metadata": {
      "needs_background": "light"
     },
     "output_type": "display_data"
    }
   ],
   "source": [
    "mergedCumulativeConversions = cumulativeDataA[['date','conversion']].merge(cumulativeDataB[['date','conversion']], left_on='date', right_on='date', how='left', suffixes=['A', 'B'])\n",
    "#строим график\n",
    "plt.figure(figsize=(15, 10))\n",
    "plt.plot(mergedCumulativeConversions['date'], mergedCumulativeConversions['conversionB']/mergedCumulativeConversions['conversionA']-1, label=\"Относительный прирост конверсии группы B относительно группы A\")\n",
    "\n",
    "plt.axhline(y=0, color='black', linestyle='--')\n",
    "plt.axhline(y=0.15, color='grey', linestyle='--')\n",
    "plt.title('График относительного изменения кумулятивного среднего количества заказов на посетителя группы B к группе A')\n",
    "plt.xlabel('Дата')\n",
    "plt.ylabel('Среднее количество заказов на посетителя')\n",
    "plt.legend()\n",
    "plt.grid()\n",
    "plt.show()"
   ]
  },
  {
   "cell_type": "markdown",
   "metadata": {},
   "source": [
    "**Вывод:** По графику видно, что группа B лидирует примерно после 5-го дня теста и сохраняет преимущество в диапазоне 10-20% до конца теста."
   ]
  },
  {
   "cell_type": "markdown",
   "metadata": {},
   "source": [
    "#### Точечный график количества заказов по пользователям и  95-й и 99-й перцентили количества заказов на пользователя."
   ]
  },
  {
   "cell_type": "code",
   "execution_count": 111,
   "metadata": {},
   "outputs": [
    {
     "name": "stdout",
     "output_type": "stream",
     "text": [
      "       visitorId  transactionId\n",
      "1023  4256040402             11\n",
      "591   2458001652             11\n",
      "569   2378935119              9\n",
      "487   2038680547              8\n",
      "44     199603092              5\n",
      "744   3062433592              5\n",
      "55     237748145              5\n",
      "917   3803269165              5\n",
      "299   1230306981              5\n",
      "897   3717692402              5\n"
     ]
    },
    {
     "data": {
      "image/png": "[encoded data removed]",
      "text/plain": [
       "<Figure size 720x504 with 1 Axes>"
      ]
     },
     "metadata": {
      "needs_background": "light"
     },
     "output_type": "display_data"
    }
   ],
   "source": [
    "# подсчитаем количество заказов по пользователям \n",
    "ordersByUsers = (\n",
    "    orders.groupby('visitorId', as_index=False)\n",
    "    .agg({'transactionId': 'nunique'})\n",
    ")\n",
    "\n",
    "ordersByUsers.columns = ['visitorId', 'transactionId']\n",
    "\n",
    "print(ordersByUsers.sort_values(by='transactionId', ascending=False).head(10))\n",
    "\n",
    "# строим график\n",
    "x_values = pd.Series(range(0, len(ordersByUsers)))\n",
    "plt.figure(figsize=(10, 7))\n",
    "plt.scatter(x_values, ordersByUsers['transactionId'])\n",
    "plt.xlabel('Пользователи')\n",
    "plt.ylabel('Количество заказов')\n",
    "plt.title(\"Количество заказов по пользователям\")\n",
    "plt.grid()\n",
    "plt.show()"
   ]
  },
  {
   "cell_type": "code",
   "execution_count": 112,
   "metadata": {},
   "outputs": [
    {
     "name": "stdout",
     "output_type": "stream",
     "text": [
      "[2. 4.]\n"
     ]
    }
   ],
   "source": [
    "# выведем перцентили\n",
    "print(np.percentile(ordersByUsers['transactionId'], [95, 99]))"
   ]
  },
  {
   "cell_type": "markdown",
   "metadata": {},
   "source": [
    "**Вывод:** В основном пользователи делают 1-2 заказа. Не более 5% пользователей оформляли больше чем 2 заказа. И 1% пользователей заказывали более четырех раз. Определим границу по 99 перцентилю, т.е. не будем учитывать пользователей сделавших более 4 заказов. Так как подобные заказы встречаются довольно редко, но могут влиять на расчеты. "
   ]
  },
  {
   "cell_type": "markdown",
   "metadata": {},
   "source": [
    "#### Точечный график стоимости заказов по пользователям и  95-й и 99-й перцентили стоимости заказов на пользователя."
   ]
  },
  {
   "cell_type": "code",
   "execution_count": 113,
   "metadata": {},
   "outputs": [
    {
     "data": {
      "image/png": "[encoded data removed]",
      "text/plain": [
       "<Figure size 720x504 with 1 Axes>"
      ]
     },
     "metadata": {
      "needs_background": "light"
     },
     "output_type": "display_data"
    }
   ],
   "source": [
    "x_values = pd.Series(range(0, len(orders['revenue'])))\n",
    "plt.figure(figsize=(10, 7))\n",
    "plt.scatter(x_values, orders['revenue']) \n",
    "plt.xlabel('Пользователи')\n",
    "plt.ylabel('Стоимость заказов')\n",
    "plt.title(\"Стоимость заказов\")\n",
    "plt.grid()\n",
    "plt.show()\n"
   ]
  },
  {
   "cell_type": "code",
   "execution_count": 114,
   "metadata": {},
   "outputs": [
    {
     "name": "stdout",
     "output_type": "stream",
     "text": [
      "[28000.  58233.2]\n"
     ]
    }
   ],
   "source": [
    "# выведем перцентили\n",
    "print(np.percentile(orders['revenue'] , [95, 99]))"
   ]
  },
  {
   "cell_type": "markdown",
   "metadata": {},
   "source": [
    "**Вывод:** Не более 5% пользователей оформляли заказы на сумму более 28 000. И 1% пользователей заказывали на сумму более 58 233. На графике видно значения более 1млн 300 тыс и 200 тыс., которые можно считать аномальными. Определяем границу по величине 99% перцентиля (58233)"
   ]
  },
  {
   "cell_type": "markdown",
   "metadata": {},
   "source": [
    "#### Статистическая значимость различий в среднем количестве заказов на посетителя между группами по «сырым» данным."
   ]
  },
  {
   "cell_type": "markdown",
   "metadata": {},
   "source": [
    "Сформируем нулевую и альтернативную гипотезы:\n",
    "- H0:Среднее количество заказов на посетителя групп A и B равны, статистически значимых отличий нет;\n",
    "- H1:Среднем количество заказов на посетителя групп A и B различны, статистически значимые отличия есть."
   ]
  },
  {
   "cell_type": "code",
   "execution_count": 115,
   "metadata": {},
   "outputs": [],
   "source": [
    "visitorsADaily = visitors[visitors['group'] == 'A'][['date', 'visitors']]\n",
    "visitorsADaily.columns = ['date', 'visitorsPerDateA']\n",
    "\n",
    "visitorsACummulative = visitorsADaily.apply(\n",
    "    lambda x: visitorsADaily[visitorsADaily['date'] <= x['date']].agg(\n",
    "        {'date': 'max', 'visitorsPerDateA': 'sum'}\n",
    "    ),\n",
    "    axis=1,\n",
    ")\n",
    "visitorsACummulative.columns = ['date', 'visitorsCummulativeA']\n",
    "\n",
    "visitorsBDaily = visitors[visitors['group'] == 'B'][['date', 'visitors']]\n",
    "visitorsBDaily.columns = ['date', 'visitorsPerDateB']\n",
    "\n",
    "visitorsBCummulative = visitorsBDaily.apply(\n",
    "    lambda x: visitorsBDaily[visitorsBDaily['date'] <= x['date']].agg(\n",
    "        {'date': 'max', 'visitorsPerDateB': 'sum'}\n",
    "    ),\n",
    "    axis=1,\n",
    ")\n",
    "visitorsBCummulative.columns = ['date', 'visitorsCummulativeB']\n",
    "\n",
    "ordersADaily = (\n",
    "    orders[orders['group'] == 'A'][['date', 'transactionId', 'visitorId', 'revenue']]\n",
    "    .groupby('date', as_index=False)\n",
    "    .agg({'transactionId': pd.Series.nunique, 'revenue': 'sum'})\n",
    ")\n",
    "ordersADaily.columns = ['date', 'ordersPerDateA', 'revenuePerDateA']\n",
    "\n",
    "ordersACummulative = ordersADaily.apply(\n",
    "    lambda x: ordersADaily[ordersADaily['date'] <= x['date']].agg(\n",
    "        {'date': 'max', 'ordersPerDateA': 'sum', 'revenuePerDateA': 'sum'}\n",
    "    ),\n",
    "    axis=1,\n",
    ").sort_values(by=['date'])\n",
    "ordersACummulative.columns = [\n",
    "    'date',\n",
    "    'ordersCummulativeA',\n",
    "    'revenueCummulativeA',\n",
    "]\n",
    "\n",
    "ordersBDaily = (\n",
    "    orders[orders['group'] == 'B'][['date', 'transactionId', 'visitorId', 'revenue']]\n",
    "    .groupby('date', as_index=False)\n",
    "    .agg({'transactionId': pd.Series.nunique, 'revenue': 'sum'})\n",
    ")\n",
    "ordersBDaily.columns = ['date', 'ordersPerDateB', 'revenuePerDateB']\n",
    "\n",
    "ordersBCummulative = ordersBDaily.apply(\n",
    "    lambda x: ordersBDaily[ordersBDaily['date'] <= x['date']].agg(\n",
    "        {'date': 'max', 'ordersPerDateB': 'sum', 'revenuePerDateB': 'sum'}\n",
    "    ),\n",
    "    axis=1,\n",
    ").sort_values(by=['date'])\n",
    "ordersBCummulative.columns = [\n",
    "    'date',\n",
    "    'ordersCummulativeB',\n",
    "    'revenueCummulativeB',\n",
    "]\n"
   ]
  },
  {
   "cell_type": "code",
   "execution_count": 116,
   "metadata": {},
   "outputs": [],
   "source": [
    "data = (\n",
    "    ordersADaily.merge(\n",
    "        ordersBDaily, left_on='date', right_on='date', how='left'\n",
    "    )\n",
    "    .merge(ordersACummulative, left_on='date', right_on='date', how='left')\n",
    "    .merge(ordersBCummulative, left_on='date', right_on='date', how='left')\n",
    "    .merge(visitorsADaily, left_on='date', right_on='date', how='left')\n",
    "    .merge(visitorsBDaily, left_on='date', right_on='date', how='left')\n",
    "    .merge(visitorsACummulative, left_on='date', right_on='date', how='left')\n",
    "    .merge(visitorsBCummulative, left_on='date', right_on='date', how='left')\n",
    ")"
   ]
  },
  {
   "cell_type": "code",
   "execution_count": 117,
   "metadata": {},
   "outputs": [
    {
     "name": "stdout",
     "output_type": "stream",
     "text": [
      "P-value: 0.017\n",
      "Относительные различия: 0.138\n"
     ]
    }
   ],
   "source": [
    "ordersByUsersA = (\n",
    "    orders[orders['group'] == 'A']\n",
    "    .groupby('visitorId', as_index=False)\n",
    "    .agg({'transactionId': pd.Series.nunique})\n",
    ")\n",
    "ordersByUsersA.columns = ['visitorId', 'transactionId']\n",
    "\n",
    "ordersByUsersB = (\n",
    "    orders[orders['group'] == 'B']\n",
    "    .groupby('visitorId', as_index=False)\n",
    "    .agg({'transactionId': pd.Series.nunique})\n",
    ")\n",
    "ordersByUsersB.columns = ['visitorId', 'transactionId'] \n",
    "\n",
    "sampleA = pd.concat([ordersByUsersA['transactionId'],pd.Series(0, index=np.arange(data['visitorsPerDateA'].sum() - len(ordersByUsersA['transactionId'])), name='orders')],axis=0)\n",
    "sampleB = pd.concat([ordersByUsersB['transactionId'],pd.Series(0, index=np.arange(data['visitorsPerDateB'].sum() - len(ordersByUsersB['transactionId'])), name='orders')],axis=0)\n",
    "\n",
    "print('P-value:',\"{0:.3f}\".format(stats.mannwhitneyu(sampleA, sampleB)[1]))\n",
    "print('Относительные различия:',\"{0:.3f}\".format(sampleB.mean() / sampleA.mean() - 1))"
   ]
  },
  {
   "cell_type": "markdown",
   "metadata": {},
   "source": [
    "#### Статистическая значимость различий в среднем чеке заказа между группами по «сырым» данным."
   ]
  },
  {
   "cell_type": "markdown",
   "metadata": {},
   "source": [
    "Также сформулируем гипотезы:\n",
    "- H0:Средние чеки групп A и B равны, статистически значимых отличий нет;\n",
    "- H1:Средние чеки групп A и B различны, статистически значимые отличия есть."
   ]
  },
  {
   "cell_type": "code",
   "execution_count": 118,
   "metadata": {},
   "outputs": [
    {
     "name": "stdout",
     "output_type": "stream",
     "text": [
      "P-value: 0.729\n",
      "Относительные различия: 0.259\n"
     ]
    }
   ],
   "source": [
    "print('P-value:','{0:.3f}'.format(stats.mannwhitneyu(orders[orders['group']=='A']['revenue'],\n",
    "                                                     orders[orders['group']=='B']['revenue'])[1]))\n",
    "print('Относительные различия:','{0:.3f}'.format(orders[orders['group']=='B']['revenue']\n",
    "                                                .mean()/orders[orders['group']=='A']['revenue'].mean()-1)) "
   ]
  },
  {
   "cell_type": "markdown",
   "metadata": {},
   "source": [
    "**Вывод:** P-value больше 0.05, статистически значимых отличий в среднем чеке между группами нет. Относительное различие среднего чека между сегментами около 26%."
   ]
  },
  {
   "cell_type": "markdown",
   "metadata": {},
   "source": [
    "#### Cтатистическая значимость различий в среднем количестве заказов на посетителя между группами по «очищенным» данным."
   ]
  },
  {
   "cell_type": "markdown",
   "metadata": {},
   "source": [
    "Очистим данные от аномалий. Примем за аномальных пользователей тех, кто совершил 4 заказа и более, или совершил заказ на сумму свыше 28 000 рублей. Так уберется 1% пользователей с наибольшим числом заказов и от 1% до 5% заказов с наибольшей стоимостью. "
   ]
  },
  {
   "cell_type": "code",
   "execution_count": 119,
   "metadata": {},
   "outputs": [],
   "source": [
    "usersWithManyOrders = pd.concat(\n",
    "    [\n",
    "        ordersByUsersA[ordersByUsersA['transactionId'] > np.percentile(ordersByUsers['transactionId'], 99)]['visitorId'],\n",
    "        ordersByUsersB[ordersByUsersB['transactionId'] > np.percentile(ordersByUsers['transactionId'], 99)]['visitorId'],\n",
    "    ],\n",
    "    axis=0,\n",
    ")\n",
    "usersWithExpensiveOrders = orders[orders['revenue'] > np.percentile(orders['revenue'], 99)]['visitorId']\n",
    "abnormalUsers = (\n",
    "    pd.concat([usersWithManyOrders, usersWithExpensiveOrders], axis=0)\n",
    "    .drop_duplicates()\n",
    "    .sort_values()\n",
    ")"
   ]
  },
  {
   "cell_type": "code",
   "execution_count": 120,
   "metadata": {},
   "outputs": [
    {
     "name": "stdout",
     "output_type": "stream",
     "text": [
      "P-value: 0.014\n",
      "Относительные различия: 0.153\n"
     ]
    }
   ],
   "source": [
    "sampleAFiltered = pd.concat(\n",
    "    [\n",
    "        ordersByUsersA[\n",
    "            np.logical_not(ordersByUsersA['visitorId'].isin(abnormalUsers))\n",
    "        ]['transactionId'],\n",
    "        pd.Series(\n",
    "            0,\n",
    "            index=np.arange(\n",
    "                data['visitorsPerDateA'].sum() - len(ordersByUsersA['transactionId'])\n",
    "            ),\n",
    "            name='orders',\n",
    "        ),\n",
    "    ],\n",
    "    axis=0,\n",
    ")\n",
    "\n",
    "sampleBFiltered = pd.concat(\n",
    "    [\n",
    "        ordersByUsersB[\n",
    "            np.logical_not(ordersByUsersB['visitorId'].isin(abnormalUsers))\n",
    "        ]['transactionId'],\n",
    "        pd.Series(\n",
    "            0,\n",
    "            index=np.arange(\n",
    "                data['visitorsPerDateB'].sum() - len(ordersByUsersB['transactionId'])\n",
    "            ),\n",
    "            name='orders',\n",
    "        ),\n",
    "    ],\n",
    "    axis=0,\n",
    ") \n",
    "print('P-value:','{0:.3f}'.format(stats.mannwhitneyu(sampleAFiltered, sampleBFiltered)[1]))\n",
    "print('Относительные различия:','{0:.3f}'.format(sampleBFiltered.mean()/sampleAFiltered.mean()-1)) "
   ]
  },
  {
   "cell_type": "markdown",
   "metadata": {},
   "source": [
    "**Вывод:** Как и в случае с \"сырыми данными\", статистическая значимость достигнута, P-value меньше 0.05 . Показатель группы В лучше группы А на 15.3%. "
   ]
  },
  {
   "cell_type": "markdown",
   "metadata": {},
   "source": [
    "#### Статистическая значимость различий в среднем чеке заказа между группами по «очищенным» данным."
   ]
  },
  {
   "cell_type": "code",
   "execution_count": 121,
   "metadata": {},
   "outputs": [
    {
     "name": "stdout",
     "output_type": "stream",
     "text": [
      "P-value: 0.851\n",
      "Относительные различия: -0.006\n"
     ]
    }
   ],
   "source": [
    "print('P-value:',\n",
    "    '{0:.3f}'.format(\n",
    "        stats.mannwhitneyu(\n",
    "            orders[\n",
    "                np.logical_and(\n",
    "                    orders['group'] == 'A',\n",
    "                    np.logical_not(orders['visitorId'].isin(abnormalUsers)),\n",
    "                )\n",
    "            ]['revenue'],\n",
    "            orders[\n",
    "                np.logical_and(\n",
    "                    orders['group'] == 'B',\n",
    "                    np.logical_not(orders['visitorId'].isin(abnormalUsers)),\n",
    "                )\n",
    "            ]['revenue'],\n",
    "        )[1]\n",
    "    )\n",
    ")\n",
    "\n",
    "print('Относительные различия:',\n",
    "    \"{0:.3f}\".format(\n",
    "        orders[\n",
    "            np.logical_and(\n",
    "                orders['group'] == 'B',\n",
    "                np.logical_not(orders['visitorId'].isin(abnormalUsers)),\n",
    "            )\n",
    "        ]['revenue'].mean()\n",
    "        / orders[\n",
    "            np.logical_and(\n",
    "                orders['group'] == 'A',\n",
    "                np.logical_not(orders['visitorId'].isin(abnormalUsers)),\n",
    "            )\n",
    "        ]['revenue'].mean()\n",
    "        - 1\n",
    "    ))"
   ]
  },
  {
   "cell_type": "markdown",
   "metadata": {},
   "source": [
    "**Вывод:** P-value больше 0.05. Значит, статистическая значимость не достигнута. По разнице средних чеков групп различий практически нет,  и после удаления выбросов разница между сегментами сократилась с 26% до -0.6%. "
   ]
  },
  {
   "cell_type": "markdown",
   "metadata": {},
   "source": [
    "### Анализ результата"
   ]
  },
  {
   "cell_type": "markdown",
   "metadata": {},
   "source": [
    "На основании полученных результатов наблюдаем следующее:\n",
    "- Есть статистически значимое различие в среднем количестве заказов на посетителя между группами как по «очищенным» данным так и по \"сырым данным\".\n",
    "- Нет статистически значимого различия в среднем чеке заказа между группами ни по «сырым», ни по данным после фильтрации аномалий;\n",
    "- График различия среднего количества заказов на посетителя между группами сообщает, что результаты группы B лучше группы A на примерно в районе 15%.\n",
    "- График различия среднего чека говорит о том, что результаты группы B также лучше группы А примерно на 20%.\n",
    "\n",
    "На основании полученных фактов можно принят решение: Остановить тест, так как группа B на данном этапе уже значимо превосходит группу А."
   ]
  },
  {
   "cell_type": "code",
   "execution_count": null,
   "metadata": {},
   "outputs": [],
   "source": []
  }
 ],
 "metadata": {
  "ExecuteTimeLog": [
   {
    "duration": 1302,
    "start_time": "2023-12-18T15:39:03.562Z"
   },
   {
    "duration": 72,
    "start_time": "2023-12-18T15:50:37.257Z"
   },
   {
    "duration": 31,
    "start_time": "2023-12-18T15:50:50.463Z"
   },
   {
    "duration": 13,
    "start_time": "2023-12-18T15:51:09.645Z"
   },
   {
    "duration": 9,
    "start_time": "2023-12-18T15:58:49.590Z"
   },
   {
    "duration": 13,
    "start_time": "2023-12-18T16:01:14.673Z"
   },
   {
    "duration": 3,
    "start_time": "2023-12-18T16:02:56.193Z"
   },
   {
    "duration": 32,
    "start_time": "2023-12-18T16:02:57.588Z"
   },
   {
    "duration": 7,
    "start_time": "2023-12-18T16:03:07.434Z"
   },
   {
    "duration": 17,
    "start_time": "2023-12-18T16:03:09.434Z"
   },
   {
    "duration": 13,
    "start_time": "2023-12-18T16:03:30.182Z"
   },
   {
    "duration": 14,
    "start_time": "2023-12-18T16:13:26.233Z"
   },
   {
    "duration": 68,
    "start_time": "2023-12-19T01:53:46.349Z"
   },
   {
    "duration": 1270,
    "start_time": "2023-12-19T01:53:51.303Z"
   },
   {
    "duration": 3,
    "start_time": "2023-12-19T01:53:52.575Z"
   },
   {
    "duration": 75,
    "start_time": "2023-12-19T01:53:52.579Z"
   },
   {
    "duration": 10,
    "start_time": "2023-12-19T01:53:52.656Z"
   },
   {
    "duration": 8,
    "start_time": "2023-12-19T01:53:52.669Z"
   },
   {
    "duration": 25,
    "start_time": "2023-12-19T01:53:52.678Z"
   },
   {
    "duration": 11,
    "start_time": "2023-12-19T01:53:52.705Z"
   },
   {
    "duration": 100,
    "start_time": "2023-12-19T01:54:00.277Z"
   },
   {
    "duration": 55,
    "start_time": "2023-12-19T01:54:18.924Z"
   },
   {
    "duration": 55,
    "start_time": "2023-12-19T01:54:27.635Z"
   },
   {
    "duration": 9,
    "start_time": "2023-12-19T01:55:24.975Z"
   },
   {
    "duration": 38,
    "start_time": "2023-12-19T01:58:20.489Z"
   },
   {
    "duration": 61,
    "start_time": "2023-12-19T01:58:54.006Z"
   },
   {
    "duration": 5,
    "start_time": "2023-12-19T01:59:57.196Z"
   },
   {
    "duration": 7,
    "start_time": "2023-12-19T02:00:34.288Z"
   },
   {
    "duration": 5,
    "start_time": "2023-12-19T02:00:51.722Z"
   },
   {
    "duration": 6,
    "start_time": "2023-12-19T02:01:22.306Z"
   },
   {
    "duration": 76,
    "start_time": "2023-12-19T02:05:25.826Z"
   },
   {
    "duration": 3,
    "start_time": "2023-12-19T02:05:57.123Z"
   },
   {
    "duration": 5,
    "start_time": "2023-12-19T02:06:20.946Z"
   },
   {
    "duration": 1395,
    "start_time": "2023-12-19T07:08:22.672Z"
   },
   {
    "duration": 3,
    "start_time": "2023-12-19T07:08:24.069Z"
   },
   {
    "duration": 145,
    "start_time": "2023-12-19T07:08:24.073Z"
   },
   {
    "duration": 8,
    "start_time": "2023-12-19T07:08:24.220Z"
   },
   {
    "duration": 20,
    "start_time": "2023-12-19T07:08:24.230Z"
   },
   {
    "duration": 17,
    "start_time": "2023-12-19T07:08:24.252Z"
   },
   {
    "duration": 86,
    "start_time": "2023-12-19T07:08:24.272Z"
   },
   {
    "duration": 5,
    "start_time": "2023-12-19T07:08:24.359Z"
   },
   {
    "duration": 13,
    "start_time": "2023-12-19T07:08:24.365Z"
   },
   {
    "duration": 72,
    "start_time": "2023-12-19T07:08:24.380Z"
   },
   {
    "duration": 3,
    "start_time": "2023-12-19T07:08:24.454Z"
   },
   {
    "duration": 8,
    "start_time": "2023-12-19T07:08:24.458Z"
   },
   {
    "duration": 278,
    "start_time": "2023-12-19T07:12:11.559Z"
   },
   {
    "duration": 325,
    "start_time": "2023-12-19T07:15:06.645Z"
   },
   {
    "duration": 250,
    "start_time": "2023-12-19T07:21:23.534Z"
   },
   {
    "duration": 243,
    "start_time": "2023-12-19T07:21:33.696Z"
   },
   {
    "duration": 422,
    "start_time": "2023-12-19T07:29:47.968Z"
   },
   {
    "duration": 265,
    "start_time": "2023-12-19T07:37:01.794Z"
   },
   {
    "duration": 393,
    "start_time": "2023-12-19T07:42:25.491Z"
   },
   {
    "duration": 16,
    "start_time": "2023-12-19T07:46:37.596Z"
   },
   {
    "duration": 141,
    "start_time": "2023-12-19T07:47:02.056Z"
   },
   {
    "duration": 221,
    "start_time": "2023-12-19T07:47:37.242Z"
   },
   {
    "duration": 833,
    "start_time": "2023-12-19T07:52:11.339Z"
   },
   {
    "duration": 5,
    "start_time": "2023-12-19T07:52:29.335Z"
   },
   {
    "duration": 159,
    "start_time": "2023-12-19T07:56:30.308Z"
   },
   {
    "duration": 183,
    "start_time": "2023-12-19T07:56:43.114Z"
   },
   {
    "duration": 4,
    "start_time": "2023-12-19T07:57:12.656Z"
   },
   {
    "duration": 1308,
    "start_time": "2023-12-19T12:06:20.483Z"
   },
   {
    "duration": 3,
    "start_time": "2023-12-19T12:06:21.795Z"
   },
   {
    "duration": 85,
    "start_time": "2023-12-19T12:06:21.799Z"
   },
   {
    "duration": 8,
    "start_time": "2023-12-19T12:06:21.886Z"
   },
   {
    "duration": 20,
    "start_time": "2023-12-19T12:06:21.897Z"
   },
   {
    "duration": 16,
    "start_time": "2023-12-19T12:06:21.919Z"
   },
   {
    "duration": 99,
    "start_time": "2023-12-19T12:06:21.937Z"
   },
   {
    "duration": 5,
    "start_time": "2023-12-19T12:06:22.038Z"
   },
   {
    "duration": 7,
    "start_time": "2023-12-19T12:06:22.045Z"
   },
   {
    "duration": 62,
    "start_time": "2023-12-19T12:06:22.054Z"
   },
   {
    "duration": 4,
    "start_time": "2023-12-19T12:06:22.118Z"
   },
   {
    "duration": 6,
    "start_time": "2023-12-19T12:06:22.123Z"
   },
   {
    "duration": 271,
    "start_time": "2023-12-19T12:06:22.131Z"
   },
   {
    "duration": 331,
    "start_time": "2023-12-19T12:06:22.404Z"
   },
   {
    "duration": 254,
    "start_time": "2023-12-19T12:06:22.736Z"
   },
   {
    "duration": 429,
    "start_time": "2023-12-19T12:06:22.991Z"
   },
   {
    "duration": 253,
    "start_time": "2023-12-19T12:06:23.422Z"
   },
   {
    "duration": 404,
    "start_time": "2023-12-19T12:06:23.677Z"
   },
   {
    "duration": 161,
    "start_time": "2023-12-19T12:06:24.083Z"
   },
   {
    "duration": 3,
    "start_time": "2023-12-19T12:06:24.246Z"
   },
   {
    "duration": 172,
    "start_time": "2023-12-19T12:06:24.251Z"
   },
   {
    "duration": 4,
    "start_time": "2023-12-19T12:06:24.425Z"
   },
   {
    "duration": 189,
    "start_time": "2023-12-19T12:14:39.222Z"
   },
   {
    "duration": 20,
    "start_time": "2023-12-19T12:14:53.450Z"
   },
   {
    "duration": 146,
    "start_time": "2023-12-19T12:15:31.157Z"
   },
   {
    "duration": 148,
    "start_time": "2023-12-19T12:19:31.820Z"
   },
   {
    "duration": 11,
    "start_time": "2023-12-19T12:20:13.095Z"
   },
   {
    "duration": 9,
    "start_time": "2023-12-19T12:26:15.241Z"
   },
   {
    "duration": 29,
    "start_time": "2023-12-19T12:26:44.313Z"
   },
   {
    "duration": 85,
    "start_time": "2023-12-19T12:31:38.537Z"
   },
   {
    "duration": 12,
    "start_time": "2023-12-19T12:31:51.795Z"
   },
   {
    "duration": 1234,
    "start_time": "2023-12-19T15:26:55.985Z"
   },
   {
    "duration": 3,
    "start_time": "2023-12-19T15:26:57.220Z"
   },
   {
    "duration": 97,
    "start_time": "2023-12-19T15:26:57.224Z"
   },
   {
    "duration": 8,
    "start_time": "2023-12-19T15:26:57.324Z"
   },
   {
    "duration": 13,
    "start_time": "2023-12-19T15:26:57.334Z"
   },
   {
    "duration": 12,
    "start_time": "2023-12-19T15:26:57.349Z"
   },
   {
    "duration": 94,
    "start_time": "2023-12-19T15:26:57.363Z"
   },
   {
    "duration": 4,
    "start_time": "2023-12-19T15:26:57.459Z"
   },
   {
    "duration": 16,
    "start_time": "2023-12-19T15:26:57.464Z"
   },
   {
    "duration": 64,
    "start_time": "2023-12-19T15:26:57.483Z"
   },
   {
    "duration": 3,
    "start_time": "2023-12-19T15:26:57.549Z"
   },
   {
    "duration": 7,
    "start_time": "2023-12-19T15:26:57.553Z"
   },
   {
    "duration": 272,
    "start_time": "2023-12-19T15:26:57.561Z"
   },
   {
    "duration": 351,
    "start_time": "2023-12-19T15:26:57.835Z"
   },
   {
    "duration": 251,
    "start_time": "2023-12-19T15:26:58.188Z"
   },
   {
    "duration": 420,
    "start_time": "2023-12-19T15:26:58.440Z"
   },
   {
    "duration": 259,
    "start_time": "2023-12-19T15:26:58.862Z"
   },
   {
    "duration": 386,
    "start_time": "2023-12-19T15:26:59.123Z"
   },
   {
    "duration": 143,
    "start_time": "2023-12-19T15:26:59.511Z"
   },
   {
    "duration": 12,
    "start_time": "2023-12-19T15:26:59.655Z"
   },
   {
    "duration": 162,
    "start_time": "2023-12-19T15:26:59.668Z"
   },
   {
    "duration": 4,
    "start_time": "2023-12-19T15:26:59.832Z"
   },
   {
    "duration": 191,
    "start_time": "2023-12-19T15:26:59.837Z"
   },
   {
    "duration": 18,
    "start_time": "2023-12-19T15:27:00.029Z"
   },
   {
    "duration": 193,
    "start_time": "2023-12-19T15:27:00.049Z"
   },
   {
    "duration": 10,
    "start_time": "2023-12-19T15:27:00.243Z"
   },
   {
    "duration": 20,
    "start_time": "2023-12-19T15:27:00.255Z"
   },
   {
    "duration": 57,
    "start_time": "2023-12-19T15:27:00.278Z"
   },
   {
    "duration": 13,
    "start_time": "2023-12-19T15:27:00.336Z"
   },
   {
    "duration": 116,
    "start_time": "2023-12-19T16:07:05.982Z"
   },
   {
    "duration": 58,
    "start_time": "2023-12-22T12:23:27.267Z"
   },
   {
    "duration": 1461,
    "start_time": "2023-12-22T12:23:32.366Z"
   },
   {
    "duration": 2,
    "start_time": "2023-12-22T12:23:33.830Z"
   },
   {
    "duration": 119,
    "start_time": "2023-12-22T12:23:33.834Z"
   },
   {
    "duration": 8,
    "start_time": "2023-12-22T12:23:33.954Z"
   },
   {
    "duration": 49,
    "start_time": "2023-12-22T12:23:33.965Z"
   },
   {
    "duration": 46,
    "start_time": "2023-12-22T12:23:34.016Z"
   },
   {
    "duration": 137,
    "start_time": "2023-12-22T12:23:34.063Z"
   },
   {
    "duration": 8,
    "start_time": "2023-12-22T12:23:34.202Z"
   },
   {
    "duration": 30,
    "start_time": "2023-12-22T12:23:34.212Z"
   },
   {
    "duration": 5,
    "start_time": "2023-12-22T12:23:38.229Z"
   },
   {
    "duration": 76,
    "start_time": "2023-12-22T12:29:12.311Z"
   },
   {
    "duration": 11,
    "start_time": "2023-12-22T12:29:25.802Z"
   },
   {
    "duration": 81,
    "start_time": "2023-12-22T12:30:24.398Z"
   },
   {
    "duration": 98,
    "start_time": "2023-12-22T12:30:37.519Z"
   },
   {
    "duration": 10,
    "start_time": "2023-12-22T12:30:52.479Z"
   },
   {
    "duration": 12,
    "start_time": "2023-12-22T12:31:07.300Z"
   },
   {
    "duration": 13,
    "start_time": "2023-12-22T12:31:55.020Z"
   },
   {
    "duration": 16,
    "start_time": "2023-12-22T12:32:08.495Z"
   },
   {
    "duration": 21,
    "start_time": "2023-12-22T12:32:22.480Z"
   },
   {
    "duration": 11,
    "start_time": "2023-12-22T12:32:28.024Z"
   },
   {
    "duration": 1226,
    "start_time": "2023-12-22T12:36:16.772Z"
   },
   {
    "duration": 1224,
    "start_time": "2023-12-22T15:05:13.198Z"
   },
   {
    "duration": 3,
    "start_time": "2023-12-22T15:05:14.423Z"
   },
   {
    "duration": 85,
    "start_time": "2023-12-22T15:05:14.428Z"
   },
   {
    "duration": 7,
    "start_time": "2023-12-22T15:05:14.515Z"
   },
   {
    "duration": 17,
    "start_time": "2023-12-22T15:05:14.523Z"
   },
   {
    "duration": 10,
    "start_time": "2023-12-22T15:05:14.542Z"
   },
   {
    "duration": 98,
    "start_time": "2023-12-22T15:05:14.553Z"
   },
   {
    "duration": 5,
    "start_time": "2023-12-22T15:05:14.652Z"
   },
   {
    "duration": 26,
    "start_time": "2023-12-22T15:05:14.659Z"
   },
   {
    "duration": 14,
    "start_time": "2023-12-22T15:05:14.687Z"
   },
   {
    "duration": 15,
    "start_time": "2023-12-22T15:05:14.702Z"
   },
   {
    "duration": 78,
    "start_time": "2023-12-22T15:05:14.719Z"
   },
   {
    "duration": 3,
    "start_time": "2023-12-22T15:05:14.799Z"
   },
   {
    "duration": 16,
    "start_time": "2023-12-22T15:05:14.803Z"
   },
   {
    "duration": 1534,
    "start_time": "2023-12-22T15:05:35.967Z"
   },
   {
    "duration": 1150,
    "start_time": "2023-12-22T15:06:43.995Z"
   },
   {
    "duration": 1439,
    "start_time": "2023-12-22T15:07:34.889Z"
   },
   {
    "duration": 11,
    "start_time": "2023-12-22T15:08:58.751Z"
   },
   {
    "duration": 14,
    "start_time": "2023-12-22T15:12:23.019Z"
   },
   {
    "duration": 72,
    "start_time": "2023-12-22T15:37:56.277Z"
   },
   {
    "duration": 78,
    "start_time": "2023-12-22T15:38:13.285Z"
   },
   {
    "duration": 11,
    "start_time": "2023-12-22T15:38:29.662Z"
   },
   {
    "duration": 3,
    "start_time": "2023-12-22T15:38:38.408Z"
   },
   {
    "duration": 30,
    "start_time": "2023-12-22T15:38:38.413Z"
   },
   {
    "duration": 94,
    "start_time": "2023-12-22T15:38:38.444Z"
   },
   {
    "duration": 8,
    "start_time": "2023-12-22T15:38:38.539Z"
   },
   {
    "duration": 62,
    "start_time": "2023-12-22T15:38:38.548Z"
   },
   {
    "duration": 53,
    "start_time": "2023-12-22T15:38:38.611Z"
   },
   {
    "duration": 113,
    "start_time": "2023-12-22T15:38:38.665Z"
   },
   {
    "duration": 5,
    "start_time": "2023-12-22T15:38:38.779Z"
   },
   {
    "duration": 58,
    "start_time": "2023-12-22T15:38:38.786Z"
   },
   {
    "duration": 44,
    "start_time": "2023-12-22T15:38:38.846Z"
   },
   {
    "duration": 40,
    "start_time": "2023-12-22T15:38:38.892Z"
   },
   {
    "duration": 69,
    "start_time": "2023-12-22T15:38:38.934Z"
   },
   {
    "duration": 25,
    "start_time": "2023-12-22T15:38:39.004Z"
   },
   {
    "duration": 53,
    "start_time": "2023-12-22T15:38:39.031Z"
   },
   {
    "duration": 43,
    "start_time": "2023-12-22T15:38:39.085Z"
   },
   {
    "duration": 283,
    "start_time": "2023-12-22T15:38:39.130Z"
   },
   {
    "duration": 317,
    "start_time": "2023-12-22T15:38:39.414Z"
   },
   {
    "duration": 234,
    "start_time": "2023-12-22T15:38:39.732Z"
   },
   {
    "duration": 388,
    "start_time": "2023-12-22T15:38:39.967Z"
   },
   {
    "duration": 213,
    "start_time": "2023-12-22T15:38:40.356Z"
   },
   {
    "duration": 370,
    "start_time": "2023-12-22T15:38:40.571Z"
   },
   {
    "duration": 152,
    "start_time": "2023-12-22T15:38:40.943Z"
   },
   {
    "duration": 4,
    "start_time": "2023-12-22T15:38:41.097Z"
   },
   {
    "duration": 182,
    "start_time": "2023-12-22T15:38:41.102Z"
   },
   {
    "duration": 3,
    "start_time": "2023-12-22T15:38:41.286Z"
   },
   {
    "duration": 244,
    "start_time": "2023-12-22T15:38:41.291Z"
   },
   {
    "duration": 28,
    "start_time": "2023-12-22T15:38:41.537Z"
   },
   {
    "duration": 184,
    "start_time": "2023-12-22T15:38:41.567Z"
   },
   {
    "duration": 14,
    "start_time": "2023-12-22T15:38:41.754Z"
   },
   {
    "duration": 11,
    "start_time": "2023-12-22T15:38:46.810Z"
   },
   {
    "duration": 1300,
    "start_time": "2023-12-22T15:41:14.705Z"
   },
   {
    "duration": 9,
    "start_time": "2023-12-22T15:42:05.393Z"
   },
   {
    "duration": 8,
    "start_time": "2023-12-22T15:42:31.539Z"
   },
   {
    "duration": 32,
    "start_time": "2023-12-22T15:43:24.753Z"
   },
   {
    "duration": 13,
    "start_time": "2023-12-22T15:43:33.738Z"
   },
   {
    "duration": 3,
    "start_time": "2023-12-22T15:45:08.892Z"
   },
   {
    "duration": 12,
    "start_time": "2023-12-22T15:45:08.897Z"
   },
   {
    "duration": 42,
    "start_time": "2023-12-22T15:45:08.910Z"
   },
   {
    "duration": 8,
    "start_time": "2023-12-22T15:45:08.954Z"
   },
   {
    "duration": 13,
    "start_time": "2023-12-22T15:45:08.963Z"
   },
   {
    "duration": 13,
    "start_time": "2023-12-22T15:45:08.978Z"
   },
   {
    "duration": 48,
    "start_time": "2023-12-22T15:45:08.993Z"
   },
   {
    "duration": 4,
    "start_time": "2023-12-22T15:45:09.043Z"
   },
   {
    "duration": 9,
    "start_time": "2023-12-22T15:45:09.050Z"
   },
   {
    "duration": 10,
    "start_time": "2023-12-22T15:45:09.060Z"
   },
   {
    "duration": 9,
    "start_time": "2023-12-22T15:45:09.071Z"
   },
   {
    "duration": 25,
    "start_time": "2023-12-22T15:45:09.081Z"
   },
   {
    "duration": 3,
    "start_time": "2023-12-22T15:45:09.107Z"
   },
   {
    "duration": 7,
    "start_time": "2023-12-22T15:45:09.112Z"
   },
   {
    "duration": 13,
    "start_time": "2023-12-22T15:45:09.120Z"
   },
   {
    "duration": 274,
    "start_time": "2023-12-22T15:45:09.134Z"
   },
   {
    "duration": 301,
    "start_time": "2023-12-22T15:45:09.410Z"
   },
   {
    "duration": 232,
    "start_time": "2023-12-22T15:45:09.712Z"
   },
   {
    "duration": 354,
    "start_time": "2023-12-22T15:45:09.946Z"
   },
   {
    "duration": 222,
    "start_time": "2023-12-22T15:45:10.301Z"
   },
   {
    "duration": 352,
    "start_time": "2023-12-22T15:45:10.524Z"
   },
   {
    "duration": 139,
    "start_time": "2023-12-22T15:45:10.877Z"
   },
   {
    "duration": 3,
    "start_time": "2023-12-22T15:45:11.018Z"
   },
   {
    "duration": 179,
    "start_time": "2023-12-22T15:45:11.024Z"
   },
   {
    "duration": 5,
    "start_time": "2023-12-22T15:45:11.205Z"
   },
   {
    "duration": 202,
    "start_time": "2023-12-22T15:45:11.211Z"
   },
   {
    "duration": 20,
    "start_time": "2023-12-22T15:45:11.414Z"
   },
   {
    "duration": 199,
    "start_time": "2023-12-22T15:45:11.435Z"
   },
   {
    "duration": 9,
    "start_time": "2023-12-22T15:45:11.636Z"
   },
   {
    "duration": 42,
    "start_time": "2023-12-22T15:45:11.647Z"
   },
   {
    "duration": 30,
    "start_time": "2023-12-22T15:45:15.296Z"
   },
   {
    "duration": 19,
    "start_time": "2023-12-22T15:47:41.190Z"
   },
   {
    "duration": 3,
    "start_time": "2023-12-22T15:54:38.005Z"
   },
   {
    "duration": 20,
    "start_time": "2023-12-22T15:54:38.009Z"
   },
   {
    "duration": 57,
    "start_time": "2023-12-22T15:54:38.031Z"
   },
   {
    "duration": 7,
    "start_time": "2023-12-22T15:54:38.090Z"
   },
   {
    "duration": 36,
    "start_time": "2023-12-22T15:54:38.098Z"
   },
   {
    "duration": 26,
    "start_time": "2023-12-22T15:54:38.136Z"
   },
   {
    "duration": 53,
    "start_time": "2023-12-22T15:54:38.163Z"
   },
   {
    "duration": 4,
    "start_time": "2023-12-22T15:54:38.218Z"
   },
   {
    "duration": 16,
    "start_time": "2023-12-22T15:54:38.225Z"
   },
   {
    "duration": 27,
    "start_time": "2023-12-22T15:54:38.243Z"
   },
   {
    "duration": 16,
    "start_time": "2023-12-22T15:54:38.272Z"
   },
   {
    "duration": 37,
    "start_time": "2023-12-22T15:54:38.289Z"
   },
   {
    "duration": 4,
    "start_time": "2023-12-22T15:54:38.327Z"
   },
   {
    "duration": 19,
    "start_time": "2023-12-22T15:54:38.333Z"
   },
   {
    "duration": 26,
    "start_time": "2023-12-22T15:54:38.354Z"
   },
   {
    "duration": 283,
    "start_time": "2023-12-22T15:54:38.382Z"
   },
   {
    "duration": 240,
    "start_time": "2023-12-22T15:54:38.667Z"
   },
   {
    "duration": 229,
    "start_time": "2023-12-22T15:54:38.909Z"
   },
   {
    "duration": 357,
    "start_time": "2023-12-22T15:54:39.139Z"
   },
   {
    "duration": 303,
    "start_time": "2023-12-22T15:54:39.497Z"
   },
   {
    "duration": 336,
    "start_time": "2023-12-22T15:54:39.801Z"
   },
   {
    "duration": 141,
    "start_time": "2023-12-22T15:54:40.139Z"
   },
   {
    "duration": 4,
    "start_time": "2023-12-22T15:54:40.281Z"
   },
   {
    "duration": 168,
    "start_time": "2023-12-22T15:54:40.288Z"
   },
   {
    "duration": 3,
    "start_time": "2023-12-22T15:54:40.458Z"
   },
   {
    "duration": 203,
    "start_time": "2023-12-22T15:54:40.462Z"
   },
   {
    "duration": 22,
    "start_time": "2023-12-22T15:54:40.667Z"
   },
   {
    "duration": 165,
    "start_time": "2023-12-22T15:54:40.691Z"
   },
   {
    "duration": 14,
    "start_time": "2023-12-22T15:54:40.858Z"
   },
   {
    "duration": 9,
    "start_time": "2023-12-22T15:54:40.874Z"
   },
   {
    "duration": 28,
    "start_time": "2023-12-22T15:54:40.885Z"
   },
   {
    "duration": 14,
    "start_time": "2023-12-22T15:54:40.914Z"
   }
  ],
  "kernelspec": {
   "display_name": "Python 3 (ipykernel)",
   "language": "python",
   "name": "python3"
  },
  "language_info": {
   "codemirror_mode": {
    "name": "ipython",
    "version": 3
   },
   "file_extension": ".py",
   "mimetype": "text/x-python",
   "name": "python",
   "nbconvert_exporter": "python",
   "pygments_lexer": "ipython3",
   "version": "3.10.9"
  },
  "toc": {
   "base_numbering": 1,
   "nav_menu": {},
   "number_sections": true,
   "sideBar": true,
   "skip_h1_title": true,
   "title_cell": "Table of Contents",
   "title_sidebar": "Contents",
   "toc_cell": false,
   "toc_position": {
    "height": "calc(100% - 180px)",
    "left": "10px",
    "top": "150px",
    "width": "284.8px"
   },
   "toc_section_display": true,
   "toc_window_display": true
  }
 },
 "nbformat": 4,
 "nbformat_minor": 2
}
