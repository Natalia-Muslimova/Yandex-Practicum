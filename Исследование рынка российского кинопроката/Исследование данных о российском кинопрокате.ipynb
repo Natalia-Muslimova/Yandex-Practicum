{
 "cells": [
  {
   "cell_type": "markdown",
   "metadata": {
    "id": "sIfNaMOxgFyK"
   },
   "source": [
    "## Исследование данных о российском кинопрокате\n",
    "\n"
   ]
  },
  {
   "cell_type": "markdown",
   "metadata": {},
   "source": [
    "**Цель исследования** -  изучение рынка российского кинопроката, в особенности изучение интереса зрителей к фильмам, получившим государственную поддержку.<br> \n",
    "Работа будет проводиться с данными, опубликованными на портале открытых данных Министерства культуры.<br>  Набор данных содержит информацию о прокатных удостоверениях, сборах и государственной поддержке фильмов, а также информацию с сайта КиноПоиск.<br>  \n",
    "\n",
    "**Этапы исследования:**\n",
    "\n",
    "Шаг 1 - Знакомство с данными\\\n",
    "Шаг 2 - Предобработка данных\\\n",
    "Шаг 3 - Исследовательский анализ данных\\\n",
    "Шаг 4 - Исследуем фильмы, которые получили государственную поддержку\\\n",
    "Шаг 5 - Общий вывод"
   ]
  },
  {
   "cell_type": "markdown",
   "metadata": {
    "id": "3bSlkCsbgFyL"
   },
   "source": [
    "### Шаг 1. Знакомство с данными\n",
    "\n"
   ]
  },
  {
   "cell_type": "code",
   "execution_count": 1,
   "metadata": {
    "id": "dw87FlzMgFyM"
   },
   "outputs": [],
   "source": [
    "import pandas as pd\n",
    "import numpy as np\n",
    "import matplotlib.pyplot as plt\n",
    "pd.set_option('display.max_columns', None)\n",
    "pd.options.display.float_format = '{:,.1f}'.format"
   ]
  },
  {
   "cell_type": "code",
   "execution_count": 2,
   "metadata": {},
   "outputs": [
    {
     "name": "stdout",
     "output_type": "stream",
     "text": [
      "<class 'pandas.core.frame.DataFrame'>\n",
      "RangeIndex: 7486 entries, 0 to 7485\n",
      "Data columns (total 15 columns):\n",
      " #   Column                 Non-Null Count  Dtype  \n",
      "---  ------                 --------------  -----  \n",
      " 0   title                  7486 non-null   object \n",
      " 1   puNumber               7486 non-null   object \n",
      " 2   show_start_date        7486 non-null   object \n",
      " 3   type                   7486 non-null   object \n",
      " 4   film_studio            7468 non-null   object \n",
      " 5   production_country     7484 non-null   object \n",
      " 6   director               7477 non-null   object \n",
      " 7   producer               6918 non-null   object \n",
      " 8   age_restriction        7486 non-null   object \n",
      " 9   refundable_support     332 non-null    float64\n",
      " 10  nonrefundable_support  332 non-null    float64\n",
      " 11  budget                 332 non-null    float64\n",
      " 12  financing_source       332 non-null    object \n",
      " 13  ratings                6519 non-null   object \n",
      " 14  genres                 6510 non-null   object \n",
      "dtypes: float64(3), object(12)\n",
      "memory usage: 877.4+ KB\n"
     ]
    },
    {
     "data": {
      "text/html": [
       "<div>\n",
       "<style scoped>\n",
       "    .dataframe tbody tr th:only-of-type {\n",
       "        vertical-align: middle;\n",
       "    }\n",
       "\n",
       "    .dataframe tbody tr th {\n",
       "        vertical-align: top;\n",
       "    }\n",
       "\n",
       "    .dataframe thead th {\n",
       "        text-align: right;\n",
       "    }\n",
       "</style>\n",
       "<table border=\"1\" class=\"dataframe\">\n",
       "  <thead>\n",
       "    <tr style=\"text-align: right;\">\n",
       "      <th></th>\n",
       "      <th>title</th>\n",
       "      <th>puNumber</th>\n",
       "      <th>show_start_date</th>\n",
       "      <th>type</th>\n",
       "      <th>film_studio</th>\n",
       "      <th>production_country</th>\n",
       "      <th>director</th>\n",
       "      <th>producer</th>\n",
       "      <th>age_restriction</th>\n",
       "      <th>refundable_support</th>\n",
       "      <th>nonrefundable_support</th>\n",
       "      <th>budget</th>\n",
       "      <th>financing_source</th>\n",
       "      <th>ratings</th>\n",
       "      <th>genres</th>\n",
       "    </tr>\n",
       "  </thead>\n",
       "  <tbody>\n",
       "    <tr>\n",
       "      <th>0</th>\n",
       "      <td>Открытый простор</td>\n",
       "      <td>221048915</td>\n",
       "      <td>2015-11-27T12:00:00.000Z</td>\n",
       "      <td>Художественный</td>\n",
       "      <td>Тачстоун Пикчерз, Кобальт Пикчерз, Бикон Пикче...</td>\n",
       "      <td>США</td>\n",
       "      <td>Кевин Костнер</td>\n",
       "      <td>Дэвид Валдес, Кевин Костнер, Джейк Эбертс</td>\n",
       "      <td>«18+» - запрещено для детей</td>\n",
       "      <td>NaN</td>\n",
       "      <td>NaN</td>\n",
       "      <td>NaN</td>\n",
       "      <td>NaN</td>\n",
       "      <td>7.2</td>\n",
       "      <td>боевик,драма,мелодрама</td>\n",
       "    </tr>\n",
       "    <tr>\n",
       "      <th>1</th>\n",
       "      <td>Особо важное задание</td>\n",
       "      <td>111013716</td>\n",
       "      <td>2016-09-13T12:00:00.000Z</td>\n",
       "      <td>Художественный</td>\n",
       "      <td>Киностудия \"Мосфильм\"</td>\n",
       "      <td>СССР</td>\n",
       "      <td>Е.Матвеев</td>\n",
       "      <td>NaN</td>\n",
       "      <td>«6+» - для детей старше 6 лет</td>\n",
       "      <td>NaN</td>\n",
       "      <td>NaN</td>\n",
       "      <td>NaN</td>\n",
       "      <td>NaN</td>\n",
       "      <td>6.6</td>\n",
       "      <td>драма,военный</td>\n",
       "    </tr>\n",
       "    <tr>\n",
       "      <th>2</th>\n",
       "      <td>Особо опасен</td>\n",
       "      <td>221038416</td>\n",
       "      <td>2016-10-10T12:00:00.000Z</td>\n",
       "      <td>Художественный</td>\n",
       "      <td>Юниверсал Пикчерз, Кикстарт Продакшнз, Марк Пл...</td>\n",
       "      <td>США</td>\n",
       "      <td>Тимур Бекмамбетов</td>\n",
       "      <td>Джим Лемли, Джейсон Нетер, Марк Е.Платт, Яйн Смит</td>\n",
       "      <td>«18+» - запрещено для детей</td>\n",
       "      <td>NaN</td>\n",
       "      <td>NaN</td>\n",
       "      <td>NaN</td>\n",
       "      <td>NaN</td>\n",
       "      <td>6.8</td>\n",
       "      <td>фантастика,боевик,триллер</td>\n",
       "    </tr>\n",
       "    <tr>\n",
       "      <th>3</th>\n",
       "      <td>Особо опасен</td>\n",
       "      <td>221026916</td>\n",
       "      <td>2016-06-10T12:00:00.000Z</td>\n",
       "      <td>Художественный</td>\n",
       "      <td>Юниверсал Пикчерз, Кикстарт Продакшнз, Марк Пл...</td>\n",
       "      <td>США</td>\n",
       "      <td>Тимур Бекмамбетов</td>\n",
       "      <td>Джим Лемли, Джейсон Нетер, Марк Е.Платт, Яйн Смит</td>\n",
       "      <td>«18+» - запрещено для детей</td>\n",
       "      <td>NaN</td>\n",
       "      <td>NaN</td>\n",
       "      <td>NaN</td>\n",
       "      <td>NaN</td>\n",
       "      <td>6.8</td>\n",
       "      <td>фантастика,боевик,триллер</td>\n",
       "    </tr>\n",
       "    <tr>\n",
       "      <th>4</th>\n",
       "      <td>Особо опасен</td>\n",
       "      <td>221030815</td>\n",
       "      <td>2015-07-29T12:00:00.000Z</td>\n",
       "      <td>Художественный</td>\n",
       "      <td>Юниверсал Пикчерз, Кикстарт Продакшнз, Марк Пл...</td>\n",
       "      <td>США</td>\n",
       "      <td>Тимур Бекмамбетов</td>\n",
       "      <td>Джим Лемли, Джейсон Нетер, Марк Е.Платт, Яйн Смит</td>\n",
       "      <td>«18+» - запрещено для детей</td>\n",
       "      <td>NaN</td>\n",
       "      <td>NaN</td>\n",
       "      <td>NaN</td>\n",
       "      <td>NaN</td>\n",
       "      <td>6.8</td>\n",
       "      <td>фантастика,боевик,триллер</td>\n",
       "    </tr>\n",
       "  </tbody>\n",
       "</table>\n",
       "</div>"
      ],
      "text/plain": [
       "                  title   puNumber           show_start_date            type  \\\n",
       "0      Открытый простор  221048915  2015-11-27T12:00:00.000Z  Художественный   \n",
       "1  Особо важное задание  111013716  2016-09-13T12:00:00.000Z  Художественный   \n",
       "2          Особо опасен  221038416  2016-10-10T12:00:00.000Z  Художественный   \n",
       "3          Особо опасен  221026916  2016-06-10T12:00:00.000Z  Художественный   \n",
       "4          Особо опасен  221030815  2015-07-29T12:00:00.000Z  Художественный   \n",
       "\n",
       "                                         film_studio production_country  \\\n",
       "0  Тачстоун Пикчерз, Кобальт Пикчерз, Бикон Пикче...                США   \n",
       "1                              Киностудия \"Мосфильм\"               СССР   \n",
       "2  Юниверсал Пикчерз, Кикстарт Продакшнз, Марк Пл...                США   \n",
       "3  Юниверсал Пикчерз, Кикстарт Продакшнз, Марк Пл...                США   \n",
       "4  Юниверсал Пикчерз, Кикстарт Продакшнз, Марк Пл...                США   \n",
       "\n",
       "            director                                           producer  \\\n",
       "0      Кевин Костнер          Дэвид Валдес, Кевин Костнер, Джейк Эбертс   \n",
       "1          Е.Матвеев                                                NaN   \n",
       "2  Тимур Бекмамбетов  Джим Лемли, Джейсон Нетер, Марк Е.Платт, Яйн Смит   \n",
       "3  Тимур Бекмамбетов  Джим Лемли, Джейсон Нетер, Марк Е.Платт, Яйн Смит   \n",
       "4  Тимур Бекмамбетов  Джим Лемли, Джейсон Нетер, Марк Е.Платт, Яйн Смит   \n",
       "\n",
       "                 age_restriction  refundable_support  nonrefundable_support  \\\n",
       "0    «18+» - запрещено для детей                 NaN                    NaN   \n",
       "1  «6+» - для детей старше 6 лет                 NaN                    NaN   \n",
       "2    «18+» - запрещено для детей                 NaN                    NaN   \n",
       "3    «18+» - запрещено для детей                 NaN                    NaN   \n",
       "4    «18+» - запрещено для детей                 NaN                    NaN   \n",
       "\n",
       "   budget financing_source ratings                     genres  \n",
       "0     NaN              NaN     7.2     боевик,драма,мелодрама  \n",
       "1     NaN              NaN     6.6              драма,военный  \n",
       "2     NaN              NaN     6.8  фантастика,боевик,триллер  \n",
       "3     NaN              NaN     6.8  фантастика,боевик,триллер  \n",
       "4     NaN              NaN     6.8  фантастика,боевик,триллер  "
      ]
     },
     "execution_count": 2,
     "metadata": {},
     "output_type": "execute_result"
    }
   ],
   "source": [
    "# откроем первый файл\n",
    "movies = pd.read_csv('/datasets/mkrf_movies.csv')\n",
    "movies.info()\n",
    "movies.head()\n"
   ]
  },
  {
   "cell_type": "code",
   "execution_count": 3,
   "metadata": {},
   "outputs": [
    {
     "name": "stdout",
     "output_type": "stream",
     "text": [
      "<class 'pandas.core.frame.DataFrame'>\n",
      "RangeIndex: 3158 entries, 0 to 3157\n",
      "Data columns (total 2 columns):\n",
      " #   Column      Non-Null Count  Dtype  \n",
      "---  ------      --------------  -----  \n",
      " 0   puNumber    3158 non-null   int64  \n",
      " 1   box_office  3158 non-null   float64\n",
      "dtypes: float64(1), int64(1)\n",
      "memory usage: 49.5 KB\n"
     ]
    },
    {
     "data": {
      "text/html": [
       "<div>\n",
       "<style scoped>\n",
       "    .dataframe tbody tr th:only-of-type {\n",
       "        vertical-align: middle;\n",
       "    }\n",
       "\n",
       "    .dataframe tbody tr th {\n",
       "        vertical-align: top;\n",
       "    }\n",
       "\n",
       "    .dataframe thead th {\n",
       "        text-align: right;\n",
       "    }\n",
       "</style>\n",
       "<table border=\"1\" class=\"dataframe\">\n",
       "  <thead>\n",
       "    <tr style=\"text-align: right;\">\n",
       "      <th></th>\n",
       "      <th>puNumber</th>\n",
       "      <th>box_office</th>\n",
       "    </tr>\n",
       "  </thead>\n",
       "  <tbody>\n",
       "    <tr>\n",
       "      <th>0</th>\n",
       "      <td>111000113</td>\n",
       "      <td>2,450.0</td>\n",
       "    </tr>\n",
       "    <tr>\n",
       "      <th>1</th>\n",
       "      <td>111000115</td>\n",
       "      <td>61,040.0</td>\n",
       "    </tr>\n",
       "    <tr>\n",
       "      <th>2</th>\n",
       "      <td>111000116</td>\n",
       "      <td>153,030,013.4</td>\n",
       "    </tr>\n",
       "    <tr>\n",
       "      <th>3</th>\n",
       "      <td>111000117</td>\n",
       "      <td>12,260,956.0</td>\n",
       "    </tr>\n",
       "    <tr>\n",
       "      <th>4</th>\n",
       "      <td>111000118</td>\n",
       "      <td>163,684,057.8</td>\n",
       "    </tr>\n",
       "  </tbody>\n",
       "</table>\n",
       "</div>"
      ],
      "text/plain": [
       "    puNumber    box_office\n",
       "0  111000113       2,450.0\n",
       "1  111000115      61,040.0\n",
       "2  111000116 153,030,013.4\n",
       "3  111000117  12,260,956.0\n",
       "4  111000118 163,684,057.8"
      ]
     },
     "execution_count": 3,
     "metadata": {},
     "output_type": "execute_result"
    }
   ],
   "source": [
    "# откроем вторую таблицу\n",
    "shows = pd.read_csv('/datasets/mkrf_shows.csv')\n",
    "shows.info()\n",
    "shows.head()\n"
   ]
  },
  {
   "cell_type": "markdown",
   "metadata": {},
   "source": [
    "Необходимо объединить таблицы по общему столбцу 'puNumber'. Попытки изменить тип данных могут оказаться неудачными из-за нецифровых символов. Напишем функцию, которая находит такие записи."
   ]
  },
  {
   "cell_type": "code",
   "execution_count": 4,
   "metadata": {},
   "outputs": [
    {
     "data": {
      "text/html": [
       "<div>\n",
       "<style scoped>\n",
       "    .dataframe tbody tr th:only-of-type {\n",
       "        vertical-align: middle;\n",
       "    }\n",
       "\n",
       "    .dataframe tbody tr th {\n",
       "        vertical-align: top;\n",
       "    }\n",
       "\n",
       "    .dataframe thead th {\n",
       "        text-align: right;\n",
       "    }\n",
       "</style>\n",
       "<table border=\"1\" class=\"dataframe\">\n",
       "  <thead>\n",
       "    <tr style=\"text-align: right;\">\n",
       "      <th></th>\n",
       "      <th>title</th>\n",
       "      <th>puNumber</th>\n",
       "      <th>show_start_date</th>\n",
       "      <th>type</th>\n",
       "      <th>film_studio</th>\n",
       "      <th>production_country</th>\n",
       "      <th>director</th>\n",
       "      <th>producer</th>\n",
       "      <th>age_restriction</th>\n",
       "      <th>refundable_support</th>\n",
       "      <th>nonrefundable_support</th>\n",
       "      <th>budget</th>\n",
       "      <th>financing_source</th>\n",
       "      <th>ratings</th>\n",
       "      <th>genres</th>\n",
       "    </tr>\n",
       "  </thead>\n",
       "  <tbody>\n",
       "    <tr>\n",
       "      <th>804</th>\n",
       "      <td>Паранормальный Якутск</td>\n",
       "      <td>111004112</td>\n",
       "      <td>2012-08-24T12:00:00.000Z</td>\n",
       "      <td>Художественный</td>\n",
       "      <td>ИП Тимофеев К.П.</td>\n",
       "      <td>Россия</td>\n",
       "      <td>К.Тимофеев</td>\n",
       "      <td>NaN</td>\n",
       "      <td>«16+» - для детей старше 16 лет</td>\n",
       "      <td>NaN</td>\n",
       "      <td>NaN</td>\n",
       "      <td>NaN</td>\n",
       "      <td>NaN</td>\n",
       "      <td>NaN</td>\n",
       "      <td>NaN</td>\n",
       "    </tr>\n",
       "    <tr>\n",
       "      <th>1797</th>\n",
       "      <td>Курбан-роман. (История с жертвой)</td>\n",
       "      <td>нет</td>\n",
       "      <td>2014-05-15T12:00:00.000Z</td>\n",
       "      <td>Художественный</td>\n",
       "      <td>ФОНД \"ИННОВАЦИЯ\"</td>\n",
       "      <td>Россия</td>\n",
       "      <td>С.Юзеев</td>\n",
       "      <td>М.Галицкая</td>\n",
       "      <td>«12+» - для детей старше 12 лет</td>\n",
       "      <td>NaN</td>\n",
       "      <td>NaN</td>\n",
       "      <td>NaN</td>\n",
       "      <td>NaN</td>\n",
       "      <td>NaN</td>\n",
       "      <td>NaN</td>\n",
       "    </tr>\n",
       "  </tbody>\n",
       "</table>\n",
       "</div>"
      ],
      "text/plain": [
       "                                  title    puNumber           show_start_date  \\\n",
       "804               Паранормальный Якутск   111004112  2012-08-24T12:00:00.000Z   \n",
       "1797  Курбан-роман. (История с жертвой)         нет  2014-05-15T12:00:00.000Z   \n",
       "\n",
       "                type       film_studio production_country    director  \\\n",
       "804   Художественный  ИП Тимофеев К.П.             Россия  К.Тимофеев   \n",
       "1797  Художественный  ФОНД \"ИННОВАЦИЯ\"             Россия     С.Юзеев   \n",
       "\n",
       "        producer                  age_restriction  refundable_support  \\\n",
       "804          NaN  «16+» - для детей старше 16 лет                 NaN   \n",
       "1797  М.Галицкая  «12+» - для детей старше 12 лет                 NaN   \n",
       "\n",
       "      nonrefundable_support  budget financing_source ratings genres  \n",
       "804                     NaN     NaN              NaN     NaN    NaN  \n",
       "1797                    NaN     NaN              NaN     NaN    NaN  "
      ]
     },
     "execution_count": 4,
     "metadata": {},
     "output_type": "execute_result"
    }
   ],
   "source": [
    "movies[~movies['puNumber'].str.isdigit()]"
   ]
  },
  {
   "cell_type": "markdown",
   "metadata": {},
   "source": [
    "В строке 804 видимо есть пробелы между символами. В строке 1797 слово \"нет\" вместо числа."
   ]
  },
  {
   "cell_type": "code",
   "execution_count": 5,
   "metadata": {},
   "outputs": [
    {
     "data": {
      "text/plain": [
       "dtype('int64')"
      ]
     },
     "execution_count": 5,
     "metadata": {},
     "output_type": "execute_result"
    }
   ],
   "source": [
    "# для объединения таблиц приведем общий столбец к одному типу\n",
    "movies.loc[804, 'puNumber'] = movies.loc[804, 'puNumber'].strip()\n",
    "movies.loc[1797, 'puNumber'] = '0'\n",
    "\n",
    "movies['puNumber'] = pd.to_numeric(movies['puNumber'])\n",
    "movies['puNumber'].dtype\n",
    "\n"
   ]
  },
  {
   "cell_type": "code",
   "execution_count": 6,
   "metadata": {},
   "outputs": [
    {
     "data": {
      "text/html": [
       "<div>\n",
       "<style scoped>\n",
       "    .dataframe tbody tr th:only-of-type {\n",
       "        vertical-align: middle;\n",
       "    }\n",
       "\n",
       "    .dataframe tbody tr th {\n",
       "        vertical-align: top;\n",
       "    }\n",
       "\n",
       "    .dataframe thead th {\n",
       "        text-align: right;\n",
       "    }\n",
       "</style>\n",
       "<table border=\"1\" class=\"dataframe\">\n",
       "  <thead>\n",
       "    <tr style=\"text-align: right;\">\n",
       "      <th></th>\n",
       "      <th>title</th>\n",
       "      <th>puNumber</th>\n",
       "      <th>show_start_date</th>\n",
       "      <th>type</th>\n",
       "      <th>film_studio</th>\n",
       "      <th>production_country</th>\n",
       "      <th>director</th>\n",
       "      <th>producer</th>\n",
       "      <th>age_restriction</th>\n",
       "      <th>refundable_support</th>\n",
       "      <th>nonrefundable_support</th>\n",
       "      <th>budget</th>\n",
       "      <th>financing_source</th>\n",
       "      <th>ratings</th>\n",
       "      <th>genres</th>\n",
       "      <th>box_office</th>\n",
       "    </tr>\n",
       "  </thead>\n",
       "  <tbody>\n",
       "    <tr>\n",
       "      <th>0</th>\n",
       "      <td>Открытый простор</td>\n",
       "      <td>221048915</td>\n",
       "      <td>2015-11-27T12:00:00.000Z</td>\n",
       "      <td>Художественный</td>\n",
       "      <td>Тачстоун Пикчерз, Кобальт Пикчерз, Бикон Пикче...</td>\n",
       "      <td>США</td>\n",
       "      <td>Кевин Костнер</td>\n",
       "      <td>Дэвид Валдес, Кевин Костнер, Джейк Эбертс</td>\n",
       "      <td>«18+» - запрещено для детей</td>\n",
       "      <td>NaN</td>\n",
       "      <td>NaN</td>\n",
       "      <td>NaN</td>\n",
       "      <td>NaN</td>\n",
       "      <td>7.2</td>\n",
       "      <td>боевик,драма,мелодрама</td>\n",
       "      <td>NaN</td>\n",
       "    </tr>\n",
       "    <tr>\n",
       "      <th>1</th>\n",
       "      <td>Особо важное задание</td>\n",
       "      <td>111013716</td>\n",
       "      <td>2016-09-13T12:00:00.000Z</td>\n",
       "      <td>Художественный</td>\n",
       "      <td>Киностудия \"Мосфильм\"</td>\n",
       "      <td>СССР</td>\n",
       "      <td>Е.Матвеев</td>\n",
       "      <td>NaN</td>\n",
       "      <td>«6+» - для детей старше 6 лет</td>\n",
       "      <td>NaN</td>\n",
       "      <td>NaN</td>\n",
       "      <td>NaN</td>\n",
       "      <td>NaN</td>\n",
       "      <td>6.6</td>\n",
       "      <td>драма,военный</td>\n",
       "      <td>NaN</td>\n",
       "    </tr>\n",
       "    <tr>\n",
       "      <th>2</th>\n",
       "      <td>Особо опасен</td>\n",
       "      <td>221038416</td>\n",
       "      <td>2016-10-10T12:00:00.000Z</td>\n",
       "      <td>Художественный</td>\n",
       "      <td>Юниверсал Пикчерз, Кикстарт Продакшнз, Марк Пл...</td>\n",
       "      <td>США</td>\n",
       "      <td>Тимур Бекмамбетов</td>\n",
       "      <td>Джим Лемли, Джейсон Нетер, Марк Е.Платт, Яйн Смит</td>\n",
       "      <td>«18+» - запрещено для детей</td>\n",
       "      <td>NaN</td>\n",
       "      <td>NaN</td>\n",
       "      <td>NaN</td>\n",
       "      <td>NaN</td>\n",
       "      <td>6.8</td>\n",
       "      <td>фантастика,боевик,триллер</td>\n",
       "      <td>NaN</td>\n",
       "    </tr>\n",
       "    <tr>\n",
       "      <th>3</th>\n",
       "      <td>Особо опасен</td>\n",
       "      <td>221026916</td>\n",
       "      <td>2016-06-10T12:00:00.000Z</td>\n",
       "      <td>Художественный</td>\n",
       "      <td>Юниверсал Пикчерз, Кикстарт Продакшнз, Марк Пл...</td>\n",
       "      <td>США</td>\n",
       "      <td>Тимур Бекмамбетов</td>\n",
       "      <td>Джим Лемли, Джейсон Нетер, Марк Е.Платт, Яйн Смит</td>\n",
       "      <td>«18+» - запрещено для детей</td>\n",
       "      <td>NaN</td>\n",
       "      <td>NaN</td>\n",
       "      <td>NaN</td>\n",
       "      <td>NaN</td>\n",
       "      <td>6.8</td>\n",
       "      <td>фантастика,боевик,триллер</td>\n",
       "      <td>NaN</td>\n",
       "    </tr>\n",
       "    <tr>\n",
       "      <th>4</th>\n",
       "      <td>Особо опасен</td>\n",
       "      <td>221030815</td>\n",
       "      <td>2015-07-29T12:00:00.000Z</td>\n",
       "      <td>Художественный</td>\n",
       "      <td>Юниверсал Пикчерз, Кикстарт Продакшнз, Марк Пл...</td>\n",
       "      <td>США</td>\n",
       "      <td>Тимур Бекмамбетов</td>\n",
       "      <td>Джим Лемли, Джейсон Нетер, Марк Е.Платт, Яйн Смит</td>\n",
       "      <td>«18+» - запрещено для детей</td>\n",
       "      <td>NaN</td>\n",
       "      <td>NaN</td>\n",
       "      <td>NaN</td>\n",
       "      <td>NaN</td>\n",
       "      <td>6.8</td>\n",
       "      <td>фантастика,боевик,триллер</td>\n",
       "      <td>NaN</td>\n",
       "    </tr>\n",
       "  </tbody>\n",
       "</table>\n",
       "</div>"
      ],
      "text/plain": [
       "                  title   puNumber           show_start_date            type  \\\n",
       "0      Открытый простор  221048915  2015-11-27T12:00:00.000Z  Художественный   \n",
       "1  Особо важное задание  111013716  2016-09-13T12:00:00.000Z  Художественный   \n",
       "2          Особо опасен  221038416  2016-10-10T12:00:00.000Z  Художественный   \n",
       "3          Особо опасен  221026916  2016-06-10T12:00:00.000Z  Художественный   \n",
       "4          Особо опасен  221030815  2015-07-29T12:00:00.000Z  Художественный   \n",
       "\n",
       "                                         film_studio production_country  \\\n",
       "0  Тачстоун Пикчерз, Кобальт Пикчерз, Бикон Пикче...                США   \n",
       "1                              Киностудия \"Мосфильм\"               СССР   \n",
       "2  Юниверсал Пикчерз, Кикстарт Продакшнз, Марк Пл...                США   \n",
       "3  Юниверсал Пикчерз, Кикстарт Продакшнз, Марк Пл...                США   \n",
       "4  Юниверсал Пикчерз, Кикстарт Продакшнз, Марк Пл...                США   \n",
       "\n",
       "            director                                           producer  \\\n",
       "0      Кевин Костнер          Дэвид Валдес, Кевин Костнер, Джейк Эбертс   \n",
       "1          Е.Матвеев                                                NaN   \n",
       "2  Тимур Бекмамбетов  Джим Лемли, Джейсон Нетер, Марк Е.Платт, Яйн Смит   \n",
       "3  Тимур Бекмамбетов  Джим Лемли, Джейсон Нетер, Марк Е.Платт, Яйн Смит   \n",
       "4  Тимур Бекмамбетов  Джим Лемли, Джейсон Нетер, Марк Е.Платт, Яйн Смит   \n",
       "\n",
       "                 age_restriction  refundable_support  nonrefundable_support  \\\n",
       "0    «18+» - запрещено для детей                 NaN                    NaN   \n",
       "1  «6+» - для детей старше 6 лет                 NaN                    NaN   \n",
       "2    «18+» - запрещено для детей                 NaN                    NaN   \n",
       "3    «18+» - запрещено для детей                 NaN                    NaN   \n",
       "4    «18+» - запрещено для детей                 NaN                    NaN   \n",
       "\n",
       "   budget financing_source ratings                     genres  box_office  \n",
       "0     NaN              NaN     7.2     боевик,драма,мелодрама         NaN  \n",
       "1     NaN              NaN     6.6              драма,военный         NaN  \n",
       "2     NaN              NaN     6.8  фантастика,боевик,триллер         NaN  \n",
       "3     NaN              NaN     6.8  фантастика,боевик,триллер         NaN  \n",
       "4     NaN              NaN     6.8  фантастика,боевик,триллер         NaN  "
      ]
     },
     "execution_count": 6,
     "metadata": {},
     "output_type": "execute_result"
    }
   ],
   "source": [
    "# объединим таблицы\n",
    "films = movies.merge(shows, on='puNumber', how='left')\n",
    "films.head()\n"
   ]
  },
  {
   "cell_type": "markdown",
   "metadata": {},
   "source": [
    "**Вывод:** Для того чтобы объединить таблицы нам необходимо было привести столбец 'puNumber' к общему типу. Также видно из содержимого датафрейма и сводной информации, рейтинг и дата премьеры фильма, хранятся в неподходящем формате object.<br>\n",
    "\n"
   ]
  },
  {
   "cell_type": "markdown",
   "metadata": {
    "id": "KLDGpPG0gFyM"
   },
   "source": [
    "### Шаг 2. Предобработка данных"
   ]
  },
  {
   "cell_type": "markdown",
   "metadata": {
    "id": "ssWwKXsxgFyO"
   },
   "source": [
    "#### Шаг 2.1. Проверим типы данных\n",
    "\n"
   ]
  },
  {
   "cell_type": "markdown",
   "metadata": {},
   "source": [
    "**Столбец 'show_start_date'**"
   ]
  },
  {
   "cell_type": "code",
   "execution_count": 7,
   "metadata": {
    "id": "kVGSplJOgFyO"
   },
   "outputs": [
    {
     "data": {
      "text/plain": [
       "0   2015-11-27 12:00:00\n",
       "1   2016-09-13 12:00:00\n",
       "2   2016-10-10 12:00:00\n",
       "3   2016-06-10 12:00:00\n",
       "4   2015-07-29 12:00:00\n",
       "Name: show_start_date, dtype: datetime64[ns]"
      ]
     },
     "execution_count": 7,
     "metadata": {},
     "output_type": "execute_result"
    }
   ],
   "source": [
    "# переведем столбец с датой в формат datetime \n",
    "films['show_start_date'] = pd.to_datetime(films['show_start_date'], format = '%Y-%m-%dT%H:%M:%S.%fZ')\n",
    "films['show_start_date'].head()"
   ]
  },
  {
   "cell_type": "markdown",
   "metadata": {},
   "source": [
    "**Столбец 'ratings'**"
   ]
  },
  {
   "cell_type": "code",
   "execution_count": 8,
   "metadata": {},
   "outputs": [
    {
     "data": {
      "text/plain": [
       "array(['1.0', '1.1', '1.2', '1.3', '1.4', '1.5', '1.6', '1.7', '1.8',\n",
       "       '1.9', '19%', '2.1', '2.4', '2.5', '2.6', '2.7', '2.8', '2.9',\n",
       "       '28%', '3.0', '3.1', '3.2', '3.3', '3.4', '3.5', '3.6', '3.7',\n",
       "       '3.8', '3.9', '4.0', '4.1', '4.2', '4.3', '4.4', '4.5', '4.6',\n",
       "       '4.7', '4.8', '4.9', '5.0', '5.1', '5.2', '5.3', '5.4', '5.5',\n",
       "       '5.6', '5.7', '5.8', '5.9', '6.0', '6.1', '6.2', '6.3', '6.4',\n",
       "       '6.5', '6.6', '6.7', '6.8', '6.9', '62%', '64%', '7.0', '7.1',\n",
       "       '7.2', '7.3', '7.4', '7.5', '7.6', '7.7', '7.8', '7.9', '79%',\n",
       "       '8.0', '8.1', '8.2', '8.3', '8.4', '8.5', '8.6', '8.7', '8.8',\n",
       "       '8.9', '83%', '88%', '89%', '9.0', '9.1', '9.2', '90%', '91%',\n",
       "       '94%', '97%', '98%', '99%', nan], dtype=object)"
      ]
     },
     "execution_count": 8,
     "metadata": {},
     "output_type": "execute_result"
    }
   ],
   "source": [
    "films['ratings'].sort_values().unique()\n"
   ]
  },
  {
   "cell_type": "code",
   "execution_count": 9,
   "metadata": {},
   "outputs": [
    {
     "data": {
      "text/html": [
       "<div>\n",
       "<style scoped>\n",
       "    .dataframe tbody tr th:only-of-type {\n",
       "        vertical-align: middle;\n",
       "    }\n",
       "\n",
       "    .dataframe tbody tr th {\n",
       "        vertical-align: top;\n",
       "    }\n",
       "\n",
       "    .dataframe thead th {\n",
       "        text-align: right;\n",
       "    }\n",
       "</style>\n",
       "<table border=\"1\" class=\"dataframe\">\n",
       "  <thead>\n",
       "    <tr style=\"text-align: right;\">\n",
       "      <th></th>\n",
       "      <th>title</th>\n",
       "      <th>puNumber</th>\n",
       "      <th>show_start_date</th>\n",
       "      <th>type</th>\n",
       "      <th>film_studio</th>\n",
       "      <th>production_country</th>\n",
       "      <th>director</th>\n",
       "      <th>producer</th>\n",
       "      <th>age_restriction</th>\n",
       "      <th>refundable_support</th>\n",
       "      <th>nonrefundable_support</th>\n",
       "      <th>budget</th>\n",
       "      <th>financing_source</th>\n",
       "      <th>ratings</th>\n",
       "      <th>genres</th>\n",
       "      <th>box_office</th>\n",
       "    </tr>\n",
       "  </thead>\n",
       "  <tbody>\n",
       "    <tr>\n",
       "      <th>259</th>\n",
       "      <td>Прошлое</td>\n",
       "      <td>221030715</td>\n",
       "      <td>2015-07-29 12:00:00</td>\n",
       "      <td>Художественный</td>\n",
       "      <td>20 Сенчюри Фокс де Архентина, Чемо, ЭйчБи Филм...</td>\n",
       "      <td>Аргентина - Бразилия</td>\n",
       "      <td>Эктор Бабенко</td>\n",
       "      <td>Эктор Бабенко, Оскар Крамер, Хуго Сидмэн</td>\n",
       "      <td>«16+» - для детей старше 16 лет</td>\n",
       "      <td>NaN</td>\n",
       "      <td>NaN</td>\n",
       "      <td>NaN</td>\n",
       "      <td>NaN</td>\n",
       "      <td>99%</td>\n",
       "      <td>ужасы,триллер,драма</td>\n",
       "      <td>NaN</td>\n",
       "    </tr>\n",
       "    <tr>\n",
       "      <th>811</th>\n",
       "      <td>От винта!</td>\n",
       "      <td>114000212</td>\n",
       "      <td>2012-08-06 12:00:00</td>\n",
       "      <td>Анимационный</td>\n",
       "      <td>ЗАО \"Продюсерский центр \"Парадиз\"</td>\n",
       "      <td>Россия</td>\n",
       "      <td>О.Лопато</td>\n",
       "      <td>Г.Нерсисян, А.Манасарян, А.Нерсесян</td>\n",
       "      <td>«12+» - для детей старше 12 лет</td>\n",
       "      <td>NaN</td>\n",
       "      <td>NaN</td>\n",
       "      <td>NaN</td>\n",
       "      <td>NaN</td>\n",
       "      <td>28%</td>\n",
       "      <td>детский,приключения,комедия</td>\n",
       "      <td>1,740.0</td>\n",
       "    </tr>\n",
       "    <tr>\n",
       "      <th>1053</th>\n",
       "      <td>Песочный человек</td>\n",
       "      <td>121029212</td>\n",
       "      <td>2012-11-29 12:00:00</td>\n",
       "      <td>Художественный</td>\n",
       "      <td>Спотлайт Медиа Продакшн</td>\n",
       "      <td>Швейцария</td>\n",
       "      <td>Питер Луизи</td>\n",
       "      <td>Дэвид Луизи, Питер Луизи</td>\n",
       "      <td>«16+» - для детей старше 16 лет</td>\n",
       "      <td>NaN</td>\n",
       "      <td>NaN</td>\n",
       "      <td>NaN</td>\n",
       "      <td>NaN</td>\n",
       "      <td>97%</td>\n",
       "      <td>ужасы,фантастика,фэнтези</td>\n",
       "      <td>NaN</td>\n",
       "    </tr>\n",
       "    <tr>\n",
       "      <th>1341</th>\n",
       "      <td>Сказка о добре и Вре</td>\n",
       "      <td>111008913</td>\n",
       "      <td>2013-11-15 12:00:00</td>\n",
       "      <td>Художественный</td>\n",
       "      <td>НП \"Студия игрового кино \"Лик\"</td>\n",
       "      <td>Россия</td>\n",
       "      <td>Е.Шиляева</td>\n",
       "      <td>К.Терещенко</td>\n",
       "      <td>«6+» - для детей старше 6 лет</td>\n",
       "      <td>NaN</td>\n",
       "      <td>NaN</td>\n",
       "      <td>NaN</td>\n",
       "      <td>NaN</td>\n",
       "      <td>99%</td>\n",
       "      <td>триллер,драма,детектив</td>\n",
       "      <td>NaN</td>\n",
       "    </tr>\n",
       "    <tr>\n",
       "      <th>1805</th>\n",
       "      <td>Спираль.</td>\n",
       "      <td>111001014</td>\n",
       "      <td>2014-01-30 12:00:00</td>\n",
       "      <td>Художественный</td>\n",
       "      <td>ООО \"Компания Питон\"</td>\n",
       "      <td>Россия</td>\n",
       "      <td>А.Волгин</td>\n",
       "      <td>Е.Ковалева</td>\n",
       "      <td>«12+» - для детей старше 12 лет</td>\n",
       "      <td>NaN</td>\n",
       "      <td>NaN</td>\n",
       "      <td>NaN</td>\n",
       "      <td>NaN</td>\n",
       "      <td>99%</td>\n",
       "      <td>аниме,мультфильм,ужасы</td>\n",
       "      <td>4,295.0</td>\n",
       "    </tr>\n",
       "    <tr>\n",
       "      <th>1874</th>\n",
       "      <td>Короткие истории о любви 2</td>\n",
       "      <td>121002615</td>\n",
       "      <td>2015-02-13 12:00:00</td>\n",
       "      <td>Художественный</td>\n",
       "      <td>Кавиар, Курт 13, СтритЛайт Филмз, Нэйер Дойче ...</td>\n",
       "      <td>Нидерланды - США - Германия - Канада - Франция...</td>\n",
       "      <td>Мэтью Аувро, Лео Брайдл, Бен Бренд, Ден Кларк,...</td>\n",
       "      <td>Мэри Пэт Бентел, Бен Бренд, Сиара Гиллан, Джор...</td>\n",
       "      <td>«18+» - запрещено для детей</td>\n",
       "      <td>NaN</td>\n",
       "      <td>NaN</td>\n",
       "      <td>NaN</td>\n",
       "      <td>NaN</td>\n",
       "      <td>83%</td>\n",
       "      <td>NaN</td>\n",
       "      <td>1,429,859.0</td>\n",
       "    </tr>\n",
       "    <tr>\n",
       "      <th>1899</th>\n",
       "      <td>Золушка /По сказке Шарля Перро/. Холодное торж...</td>\n",
       "      <td>121003615</td>\n",
       "      <td>2015-02-27 12:00:00</td>\n",
       "      <td>Художественный</td>\n",
       "      <td>Женр Филмз, Уолт Дисней Пикчерз</td>\n",
       "      <td>США</td>\n",
       "      <td>Кеннет Брана</td>\n",
       "      <td>Дэвид Бэррон, Саймон Кинберг, Эллисон Ширмур</td>\n",
       "      <td>«6+» - для детей старше 6 лет</td>\n",
       "      <td>NaN</td>\n",
       "      <td>NaN</td>\n",
       "      <td>NaN</td>\n",
       "      <td>NaN</td>\n",
       "      <td>64%</td>\n",
       "      <td>мюзикл,фэнтези,мелодрама</td>\n",
       "      <td>528,732,557.7</td>\n",
       "    </tr>\n",
       "    <tr>\n",
       "      <th>2126</th>\n",
       "      <td>Поездка к матери</td>\n",
       "      <td>111002015</td>\n",
       "      <td>2015-03-02 12:00:00</td>\n",
       "      <td>Художественный</td>\n",
       "      <td>ЗАО \"Киностудия \"М\"-Фильм\"</td>\n",
       "      <td>Россия</td>\n",
       "      <td>М.Косырев-Нестеров</td>\n",
       "      <td>М.Косырев-Нестеров</td>\n",
       "      <td>«16+» - для детей старше 16 лет</td>\n",
       "      <td>NaN</td>\n",
       "      <td>NaN</td>\n",
       "      <td>NaN</td>\n",
       "      <td>NaN</td>\n",
       "      <td>91%</td>\n",
       "      <td>драма,семейный</td>\n",
       "      <td>0.0</td>\n",
       "    </tr>\n",
       "    <tr>\n",
       "      <th>2146</th>\n",
       "      <td>Главный</td>\n",
       "      <td>111003415</td>\n",
       "      <td>2015-03-27 12:00:00</td>\n",
       "      <td>Художественный</td>\n",
       "      <td>ООО \"Киностудия \"МАСТЕР\"</td>\n",
       "      <td>Россия</td>\n",
       "      <td>Ю.Кара</td>\n",
       "      <td>Ю.Кара</td>\n",
       "      <td>«6+» - для детей старше 6 лет</td>\n",
       "      <td>0.0</td>\n",
       "      <td>10,000,000.0</td>\n",
       "      <td>40,000,000.0</td>\n",
       "      <td>Министерство культуры</td>\n",
       "      <td>94%</td>\n",
       "      <td>фантастика,боевик,комедия</td>\n",
       "      <td>334,750.0</td>\n",
       "    </tr>\n",
       "    <tr>\n",
       "      <th>2438</th>\n",
       "      <td>Самый рыжий Лис</td>\n",
       "      <td>111012715</td>\n",
       "      <td>2015-07-30 12:00:00</td>\n",
       "      <td>Художественный</td>\n",
       "      <td>ООО \"Продюсерский центр \"Ленфильм\"</td>\n",
       "      <td>Россия</td>\n",
       "      <td>А.Стреляная</td>\n",
       "      <td>А.Котелевский, Э.Пичугин</td>\n",
       "      <td>«6+» - для детей старше 6 лет</td>\n",
       "      <td>NaN</td>\n",
       "      <td>NaN</td>\n",
       "      <td>NaN</td>\n",
       "      <td>NaN</td>\n",
       "      <td>62%</td>\n",
       "      <td>фэнтези,семейный</td>\n",
       "      <td>NaN</td>\n",
       "    </tr>\n",
       "    <tr>\n",
       "      <th>2680</th>\n",
       "      <td>Год Белого Слона</td>\n",
       "      <td>111003915</td>\n",
       "      <td>2015-04-08 12:00:00</td>\n",
       "      <td>Художественный</td>\n",
       "      <td>ООО \"Творческое объединение ЮГ\"</td>\n",
       "      <td>Россия</td>\n",
       "      <td>Ю.Грымов</td>\n",
       "      <td>П.Поляков</td>\n",
       "      <td>«6+» - для детей старше 6 лет</td>\n",
       "      <td>NaN</td>\n",
       "      <td>NaN</td>\n",
       "      <td>NaN</td>\n",
       "      <td>NaN</td>\n",
       "      <td>79%</td>\n",
       "      <td>семейный</td>\n",
       "      <td>NaN</td>\n",
       "    </tr>\n",
       "    <tr>\n",
       "      <th>3139</th>\n",
       "      <td>Я умею вязать</td>\n",
       "      <td>111019615</td>\n",
       "      <td>2015-11-27 12:00:00</td>\n",
       "      <td>Художественный</td>\n",
       "      <td>ООО \"Белое Зеркало\"</td>\n",
       "      <td>Россия</td>\n",
       "      <td>Н.Степанова при участии С.Иванова</td>\n",
       "      <td>С.Кикнавелидзе, Д.Улюкаев</td>\n",
       "      <td>«16+» - для детей старше 16 лет</td>\n",
       "      <td>0.0</td>\n",
       "      <td>4,700,000.0</td>\n",
       "      <td>14,462,464.0</td>\n",
       "      <td>Министерство культуры</td>\n",
       "      <td>90%</td>\n",
       "      <td>драма</td>\n",
       "      <td>801,370.0</td>\n",
       "    </tr>\n",
       "    <tr>\n",
       "      <th>3431</th>\n",
       "      <td>Наурыз</td>\n",
       "      <td>131000217</td>\n",
       "      <td>2017-03-09 12:00:00</td>\n",
       "      <td>Художественный</td>\n",
       "      <td>Эс Джи</td>\n",
       "      <td>Республика Казахстан</td>\n",
       "      <td>Аскар Бисембин</td>\n",
       "      <td>Олег Головашкин, Алмас Султангазин</td>\n",
       "      <td>«12+» - для детей старше 12 лет</td>\n",
       "      <td>NaN</td>\n",
       "      <td>NaN</td>\n",
       "      <td>NaN</td>\n",
       "      <td>NaN</td>\n",
       "      <td>19%</td>\n",
       "      <td>комедия</td>\n",
       "      <td>37,960.0</td>\n",
       "    </tr>\n",
       "    <tr>\n",
       "      <th>3439</th>\n",
       "      <td>Семь диких историй</td>\n",
       "      <td>126005916</td>\n",
       "      <td>2016-11-28 12:00:00</td>\n",
       "      <td>Прочие</td>\n",
       "      <td>Макс Бэйкер, Джон Е.Брайан, Пьер-Луи Гарнон,  ...</td>\n",
       "      <td>США - Пуэрто-Рико - Франция</td>\n",
       "      <td>М.Бэйкер, Д.Е.Брайант, Д.Рондот, Я.Серсар, Д.С...</td>\n",
       "      <td>М.Бэйкер, Д.Е.Брайан, П.-Л.Гарнон, М.Х.Дельгад...</td>\n",
       "      <td>«18+» - запрещено для детей</td>\n",
       "      <td>NaN</td>\n",
       "      <td>NaN</td>\n",
       "      <td>NaN</td>\n",
       "      <td>NaN</td>\n",
       "      <td>88%</td>\n",
       "      <td>NaN</td>\n",
       "      <td>1,025,937.0</td>\n",
       "    </tr>\n",
       "    <tr>\n",
       "      <th>3446</th>\n",
       "      <td>Короткие истории о любви - 4</td>\n",
       "      <td>126006316</td>\n",
       "      <td>2016-12-30 12:00:00</td>\n",
       "      <td>Прочие</td>\n",
       "      <td>Нетворг Айлэнд Телевижн, Магнетфильм, Шорткатс...</td>\n",
       "      <td>Великобритания - Аргентина - США - Франция - Р...</td>\n",
       "      <td>Д.Адар, П.Антохин, М.Биасин, А.Бурунова, К.Кол...</td>\n",
       "      <td>Д.Адар, Д.Амсон, П.Антохин, А.Армстронг, С.Бил...</td>\n",
       "      <td>«18+» - запрещено для детей</td>\n",
       "      <td>NaN</td>\n",
       "      <td>NaN</td>\n",
       "      <td>NaN</td>\n",
       "      <td>NaN</td>\n",
       "      <td>83%</td>\n",
       "      <td>NaN</td>\n",
       "      <td>2,266,408.0</td>\n",
       "    </tr>\n",
       "    <tr>\n",
       "      <th>3514</th>\n",
       "      <td>Чужой дом</td>\n",
       "      <td>111015516</td>\n",
       "      <td>2016-09-14 12:00:00</td>\n",
       "      <td>Художественный</td>\n",
       "      <td>ООО \"Лига Продакшн\"</td>\n",
       "      <td>Россия, Грузия, Хорватия, Испания</td>\n",
       "      <td>Р.Глурджидзе</td>\n",
       "      <td>З.Магалашвили, К.Гечмен-Вальдек, Н.Горшкова</td>\n",
       "      <td>«12+» - для детей старше 12 лет</td>\n",
       "      <td>NaN</td>\n",
       "      <td>NaN</td>\n",
       "      <td>NaN</td>\n",
       "      <td>NaN</td>\n",
       "      <td>91%</td>\n",
       "      <td>драма</td>\n",
       "      <td>NaN</td>\n",
       "    </tr>\n",
       "    <tr>\n",
       "      <th>3585</th>\n",
       "      <td>Машины Страшилки. Серия \"Жутчайшая повесть о п...</td>\n",
       "      <td>114003916</td>\n",
       "      <td>2016-12-09 12:00:00</td>\n",
       "      <td>Анимационный</td>\n",
       "      <td>ООО Студия \"АНИМАККОРД\", АНИМАККОРД ЛТД.</td>\n",
       "      <td>Россия, Республика Кипр</td>\n",
       "      <td>Д.Червяцов</td>\n",
       "      <td>Д.Ловейко, О.Кузовков</td>\n",
       "      <td>«0+» - для любой зрительской аудитории</td>\n",
       "      <td>NaN</td>\n",
       "      <td>NaN</td>\n",
       "      <td>NaN</td>\n",
       "      <td>NaN</td>\n",
       "      <td>97%</td>\n",
       "      <td>мультфильм,ужасы,фэнтези</td>\n",
       "      <td>NaN</td>\n",
       "    </tr>\n",
       "    <tr>\n",
       "      <th>3786</th>\n",
       "      <td>Охотники</td>\n",
       "      <td>111017816</td>\n",
       "      <td>2016-02-06 12:00:00</td>\n",
       "      <td>Художественный</td>\n",
       "      <td>Селиверстов Александр Александрович</td>\n",
       "      <td>Россия</td>\n",
       "      <td>А.Селиверстов</td>\n",
       "      <td>Е.Тарковская, Т.Лагода, Д.Степанян</td>\n",
       "      <td>«16+» - для детей старше 16 лет</td>\n",
       "      <td>NaN</td>\n",
       "      <td>NaN</td>\n",
       "      <td>NaN</td>\n",
       "      <td>NaN</td>\n",
       "      <td>89%</td>\n",
       "      <td>фантастика,комедия,боевик</td>\n",
       "      <td>82,840.0</td>\n",
       "    </tr>\n",
       "    <tr>\n",
       "      <th>3948</th>\n",
       "      <td>Круиз.</td>\n",
       "      <td>211038210</td>\n",
       "      <td>2010-09-03 12:00:00</td>\n",
       "      <td>Художественный</td>\n",
       "      <td>ООО \"ЮНАЙТЕД МУЛЬТИМЕДИА ПРОДЖЕКТС\"</td>\n",
       "      <td>Россия</td>\n",
       "      <td>И.Ромащенко</td>\n",
       "      <td>Р.Атамалибеков</td>\n",
       "      <td>«16+» - для детей старше 16 лет</td>\n",
       "      <td>NaN</td>\n",
       "      <td>NaN</td>\n",
       "      <td>NaN</td>\n",
       "      <td>NaN</td>\n",
       "      <td>97%</td>\n",
       "      <td>приключения,комедия,фэнтези</td>\n",
       "      <td>NaN</td>\n",
       "    </tr>\n",
       "    <tr>\n",
       "      <th>5332</th>\n",
       "      <td>Добыча.</td>\n",
       "      <td>121009411</td>\n",
       "      <td>2011-06-15 12:00:00</td>\n",
       "      <td>Художественный</td>\n",
       "      <td>Афтер Дарк Филмз</td>\n",
       "      <td>США</td>\n",
       "      <td>Патрик Сиверсен</td>\n",
       "      <td>Закари Ти Брайан, Кристофер</td>\n",
       "      <td>«18+» - запрещено для детей</td>\n",
       "      <td>NaN</td>\n",
       "      <td>NaN</td>\n",
       "      <td>NaN</td>\n",
       "      <td>NaN</td>\n",
       "      <td>88%</td>\n",
       "      <td>фантастика,боевик,триллер</td>\n",
       "      <td>NaN</td>\n",
       "    </tr>\n",
       "    <tr>\n",
       "      <th>5455</th>\n",
       "      <td>Вечный холод</td>\n",
       "      <td>111006417</td>\n",
       "      <td>2017-08-28 12:00:00</td>\n",
       "      <td>Художественный</td>\n",
       "      <td>ЗАО \"Производственный комплекс \"ГЛАВКИНО\", ООО...</td>\n",
       "      <td>Россия</td>\n",
       "      <td>А.Мигачев</td>\n",
       "      <td>И.Бачурин</td>\n",
       "      <td>«18+» - запрещено для детей</td>\n",
       "      <td>NaN</td>\n",
       "      <td>NaN</td>\n",
       "      <td>NaN</td>\n",
       "      <td>NaN</td>\n",
       "      <td>83%</td>\n",
       "      <td>фэнтези,боевик,триллер</td>\n",
       "      <td>NaN</td>\n",
       "    </tr>\n",
       "    <tr>\n",
       "      <th>5821</th>\n",
       "      <td>Свинья</td>\n",
       "      <td>121007018</td>\n",
       "      <td>2018-04-11 12:00:00</td>\n",
       "      <td>Художественный</td>\n",
       "      <td>Дарк Прекёрсор Продакшен, Филмиран, Хедейт Филм</td>\n",
       "      <td>Иран</td>\n",
       "      <td>Мани Хагиги</td>\n",
       "      <td>Мани Хагиги</td>\n",
       "      <td>«18+» - запрещено для детей</td>\n",
       "      <td>NaN</td>\n",
       "      <td>NaN</td>\n",
       "      <td>NaN</td>\n",
       "      <td>NaN</td>\n",
       "      <td>94%</td>\n",
       "      <td>триллер,драма</td>\n",
       "      <td>1,587,221.5</td>\n",
       "    </tr>\n",
       "    <tr>\n",
       "      <th>5910</th>\n",
       "      <td>Мира</td>\n",
       "      <td>112000118</td>\n",
       "      <td>2018-06-04 12:00:00</td>\n",
       "      <td>Документальный</td>\n",
       "      <td>ООО \"Компания \"Новые люди\"</td>\n",
       "      <td>Россия</td>\n",
       "      <td>Д.Шабаев</td>\n",
       "      <td>Н.Мокрицкая</td>\n",
       "      <td>«18+» - запрещено для детей</td>\n",
       "      <td>NaN</td>\n",
       "      <td>NaN</td>\n",
       "      <td>NaN</td>\n",
       "      <td>NaN</td>\n",
       "      <td>94%</td>\n",
       "      <td>драма</td>\n",
       "      <td>NaN</td>\n",
       "    </tr>\n",
       "    <tr>\n",
       "      <th>6426</th>\n",
       "      <td>Памятные даты России. Партизаны и подпольщики</td>\n",
       "      <td>112013018</td>\n",
       "      <td>2018-11-28 12:00:00</td>\n",
       "      <td>Документальный</td>\n",
       "      <td>ООО Кинокомпания \"Вектор\"</td>\n",
       "      <td>Россия</td>\n",
       "      <td>Н.Иванова, А.Кузнецова</td>\n",
       "      <td>В.Коханович</td>\n",
       "      <td>«12+» - для детей старше 12 лет</td>\n",
       "      <td>NaN</td>\n",
       "      <td>NaN</td>\n",
       "      <td>NaN</td>\n",
       "      <td>NaN</td>\n",
       "      <td>91%</td>\n",
       "      <td>драма,биография</td>\n",
       "      <td>NaN</td>\n",
       "    </tr>\n",
       "    <tr>\n",
       "      <th>6616</th>\n",
       "      <td>ОТ ВОЙНЫ ДО НАШИХ ДНЕЙ</td>\n",
       "      <td>111026518</td>\n",
       "      <td>2019-01-21 12:00:00</td>\n",
       "      <td>Художественный</td>\n",
       "      <td>ИП Вайсман Анатолий Александрович</td>\n",
       "      <td>Россия</td>\n",
       "      <td>А.Сазонов, Е.Климович, А.Коломеец, С.Черникова...</td>\n",
       "      <td>Д.Руюежин, Л.Пятницкая, Д.Колеров, Э.Ким, А.Хомич</td>\n",
       "      <td>«12+» - для детей старше 12 лет</td>\n",
       "      <td>NaN</td>\n",
       "      <td>NaN</td>\n",
       "      <td>NaN</td>\n",
       "      <td>NaN</td>\n",
       "      <td>98%</td>\n",
       "      <td>фантастика,боевик</td>\n",
       "      <td>NaN</td>\n",
       "    </tr>\n",
       "    <tr>\n",
       "      <th>6737</th>\n",
       "      <td>Колесо времени</td>\n",
       "      <td>111003219</td>\n",
       "      <td>2019-03-01 12:00:00</td>\n",
       "      <td>Художественный</td>\n",
       "      <td>ООО \"БестМедиа\"</td>\n",
       "      <td>Россия</td>\n",
       "      <td>Б.Куломзин</td>\n",
       "      <td>Б.Куломзин</td>\n",
       "      <td>«6+» - для детей старше 6 лет</td>\n",
       "      <td>NaN</td>\n",
       "      <td>NaN</td>\n",
       "      <td>NaN</td>\n",
       "      <td>NaN</td>\n",
       "      <td>98%</td>\n",
       "      <td>фэнтези,приключения</td>\n",
       "      <td>34,992.0</td>\n",
       "    </tr>\n",
       "    <tr>\n",
       "      <th>6882</th>\n",
       "      <td>Животные рядом со Святыми</td>\n",
       "      <td>112003719</td>\n",
       "      <td>2019-05-03 12:00:00</td>\n",
       "      <td>Документальный</td>\n",
       "      <td>ООО \"Кинопрограмма \"XXI век\"</td>\n",
       "      <td>Россия</td>\n",
       "      <td>Т.Мирошник</td>\n",
       "      <td>В.Есинов, Е.Калинина</td>\n",
       "      <td>«0+» - для любой зрительской аудитории</td>\n",
       "      <td>NaN</td>\n",
       "      <td>NaN</td>\n",
       "      <td>NaN</td>\n",
       "      <td>NaN</td>\n",
       "      <td>99%</td>\n",
       "      <td>криминал,драма</td>\n",
       "      <td>NaN</td>\n",
       "    </tr>\n",
       "    <tr>\n",
       "      <th>7159</th>\n",
       "      <td>Анна Каренина. Интимный дневник</td>\n",
       "      <td>111013919</td>\n",
       "      <td>2019-10-23 12:00:00</td>\n",
       "      <td>Художественный</td>\n",
       "      <td>ООО \"РТВ\"</td>\n",
       "      <td>Россия</td>\n",
       "      <td>Ю.Грымов</td>\n",
       "      <td>Ю.Грымов</td>\n",
       "      <td>«16+» - для детей старше 16 лет</td>\n",
       "      <td>NaN</td>\n",
       "      <td>NaN</td>\n",
       "      <td>NaN</td>\n",
       "      <td>NaN</td>\n",
       "      <td>79%</td>\n",
       "      <td>драма</td>\n",
       "      <td>182,882.5</td>\n",
       "    </tr>\n",
       "    <tr>\n",
       "      <th>7277</th>\n",
       "      <td>Добыча</td>\n",
       "      <td>121028319</td>\n",
       "      <td>2019-10-03 12:00:00</td>\n",
       "      <td>Художественный</td>\n",
       "      <td>Блумхаус Продакшнз, Хайд Парк Интертейнмент, Т...</td>\n",
       "      <td>США</td>\n",
       "      <td>Франк Халфун</td>\n",
       "      <td>Ашок Амритрадж, Джейсон Блум, Трэвис Клафф</td>\n",
       "      <td>«16+» - для детей старше 16 лет</td>\n",
       "      <td>NaN</td>\n",
       "      <td>NaN</td>\n",
       "      <td>NaN</td>\n",
       "      <td>NaN</td>\n",
       "      <td>88%</td>\n",
       "      <td>фантастика,боевик,триллер</td>\n",
       "      <td>4,416,590.5</td>\n",
       "    </tr>\n",
       "  </tbody>\n",
       "</table>\n",
       "</div>"
      ],
      "text/plain": [
       "                                                  title   puNumber  \\\n",
       "259                                             Прошлое  221030715   \n",
       "811                                           От винта!  114000212   \n",
       "1053                                   Песочный человек  121029212   \n",
       "1341                               Сказка о добре и Вре  111008913   \n",
       "1805                                           Спираль.  111001014   \n",
       "1874                         Короткие истории о любви 2  121002615   \n",
       "1899  Золушка /По сказке Шарля Перро/. Холодное торж...  121003615   \n",
       "2126                                   Поездка к матери  111002015   \n",
       "2146                                            Главный  111003415   \n",
       "2438                                    Самый рыжий Лис  111012715   \n",
       "2680                                   Год Белого Слона  111003915   \n",
       "3139                                      Я умею вязать  111019615   \n",
       "3431                                             Наурыз  131000217   \n",
       "3439                                 Семь диких историй  126005916   \n",
       "3446                       Короткие истории о любви - 4  126006316   \n",
       "3514                                          Чужой дом  111015516   \n",
       "3585  Машины Страшилки. Серия \"Жутчайшая повесть о п...  114003916   \n",
       "3786                                           Охотники  111017816   \n",
       "3948                                             Круиз.  211038210   \n",
       "5332                                            Добыча.  121009411   \n",
       "5455                                       Вечный холод  111006417   \n",
       "5821                                             Свинья  121007018   \n",
       "5910                                               Мира  112000118   \n",
       "6426      Памятные даты России. Партизаны и подпольщики  112013018   \n",
       "6616                             ОТ ВОЙНЫ ДО НАШИХ ДНЕЙ  111026518   \n",
       "6737                                     Колесо времени  111003219   \n",
       "6882                          Животные рядом со Святыми  112003719   \n",
       "7159                    Анна Каренина. Интимный дневник  111013919   \n",
       "7277                                             Добыча  121028319   \n",
       "\n",
       "         show_start_date             type  \\\n",
       "259  2015-07-29 12:00:00   Художественный   \n",
       "811  2012-08-06 12:00:00     Анимационный   \n",
       "1053 2012-11-29 12:00:00   Художественный   \n",
       "1341 2013-11-15 12:00:00   Художественный   \n",
       "1805 2014-01-30 12:00:00   Художественный   \n",
       "1874 2015-02-13 12:00:00   Художественный   \n",
       "1899 2015-02-27 12:00:00   Художественный   \n",
       "2126 2015-03-02 12:00:00   Художественный   \n",
       "2146 2015-03-27 12:00:00   Художественный   \n",
       "2438 2015-07-30 12:00:00   Художественный   \n",
       "2680 2015-04-08 12:00:00   Художественный   \n",
       "3139 2015-11-27 12:00:00   Художественный   \n",
       "3431 2017-03-09 12:00:00   Художественный   \n",
       "3439 2016-11-28 12:00:00           Прочие   \n",
       "3446 2016-12-30 12:00:00           Прочие   \n",
       "3514 2016-09-14 12:00:00   Художественный   \n",
       "3585 2016-12-09 12:00:00     Анимационный   \n",
       "3786 2016-02-06 12:00:00   Художественный   \n",
       "3948 2010-09-03 12:00:00   Художественный   \n",
       "5332 2011-06-15 12:00:00   Художественный   \n",
       "5455 2017-08-28 12:00:00   Художественный   \n",
       "5821 2018-04-11 12:00:00   Художественный   \n",
       "5910 2018-06-04 12:00:00   Документальный   \n",
       "6426 2018-11-28 12:00:00   Документальный   \n",
       "6616 2019-01-21 12:00:00   Художественный   \n",
       "6737 2019-03-01 12:00:00   Художественный   \n",
       "6882 2019-05-03 12:00:00   Документальный   \n",
       "7159 2019-10-23 12:00:00   Художественный   \n",
       "7277 2019-10-03 12:00:00   Художественный   \n",
       "\n",
       "                                            film_studio  \\\n",
       "259   20 Сенчюри Фокс де Архентина, Чемо, ЭйчБи Филм...   \n",
       "811                   ЗАО \"Продюсерский центр \"Парадиз\"   \n",
       "1053                            Спотлайт Медиа Продакшн   \n",
       "1341                     НП \"Студия игрового кино \"Лик\"   \n",
       "1805                               ООО \"Компания Питон\"   \n",
       "1874  Кавиар, Курт 13, СтритЛайт Филмз, Нэйер Дойче ...   \n",
       "1899                    Женр Филмз, Уолт Дисней Пикчерз   \n",
       "2126                         ЗАО \"Киностудия \"М\"-Фильм\"   \n",
       "2146                           ООО \"Киностудия \"МАСТЕР\"   \n",
       "2438                 ООО \"Продюсерский центр \"Ленфильм\"   \n",
       "2680                    ООО \"Творческое объединение ЮГ\"   \n",
       "3139                                ООО \"Белое Зеркало\"   \n",
       "3431                                             Эс Джи   \n",
       "3439  Макс Бэйкер, Джон Е.Брайан, Пьер-Луи Гарнон,  ...   \n",
       "3446  Нетворг Айлэнд Телевижн, Магнетфильм, Шорткатс...   \n",
       "3514                                ООО \"Лига Продакшн\"   \n",
       "3585           ООО Студия \"АНИМАККОРД\", АНИМАККОРД ЛТД.   \n",
       "3786                Селиверстов Александр Александрович   \n",
       "3948                ООО \"ЮНАЙТЕД МУЛЬТИМЕДИА ПРОДЖЕКТС\"   \n",
       "5332                                   Афтер Дарк Филмз   \n",
       "5455  ЗАО \"Производственный комплекс \"ГЛАВКИНО\", ООО...   \n",
       "5821    Дарк Прекёрсор Продакшен, Филмиран, Хедейт Филм   \n",
       "5910                         ООО \"Компания \"Новые люди\"   \n",
       "6426                          ООО Кинокомпания \"Вектор\"   \n",
       "6616                  ИП Вайсман Анатолий Александрович   \n",
       "6737                                    ООО \"БестМедиа\"   \n",
       "6882                       ООО \"Кинопрограмма \"XXI век\"   \n",
       "7159                                          ООО \"РТВ\"   \n",
       "7277  Блумхаус Продакшнз, Хайд Парк Интертейнмент, Т...   \n",
       "\n",
       "                                     production_country  \\\n",
       "259                                Аргентина - Бразилия   \n",
       "811                                              Россия   \n",
       "1053                                          Швейцария   \n",
       "1341                                             Россия   \n",
       "1805                                             Россия   \n",
       "1874  Нидерланды - США - Германия - Канада - Франция...   \n",
       "1899                                                США   \n",
       "2126                                             Россия   \n",
       "2146                                             Россия   \n",
       "2438                                             Россия   \n",
       "2680                                             Россия   \n",
       "3139                                             Россия   \n",
       "3431                               Республика Казахстан   \n",
       "3439                       США - Пуэрто-Рико - Франция    \n",
       "3446  Великобритания - Аргентина - США - Франция - Р...   \n",
       "3514                  Россия, Грузия, Хорватия, Испания   \n",
       "3585                            Россия, Республика Кипр   \n",
       "3786                                             Россия   \n",
       "3948                                             Россия   \n",
       "5332                                                США   \n",
       "5455                                             Россия   \n",
       "5821                                               Иран   \n",
       "5910                                             Россия   \n",
       "6426                                             Россия   \n",
       "6616                                             Россия   \n",
       "6737                                             Россия   \n",
       "6882                                             Россия   \n",
       "7159                                             Россия   \n",
       "7277                                                США   \n",
       "\n",
       "                                               director  \\\n",
       "259                                       Эктор Бабенко   \n",
       "811                                            О.Лопато   \n",
       "1053                                        Питер Луизи   \n",
       "1341                                          Е.Шиляева   \n",
       "1805                                           А.Волгин   \n",
       "1874  Мэтью Аувро, Лео Брайдл, Бен Бренд, Ден Кларк,...   \n",
       "1899                                       Кеннет Брана   \n",
       "2126                                 М.Косырев-Нестеров   \n",
       "2146                                             Ю.Кара   \n",
       "2438                                        А.Стреляная   \n",
       "2680                                           Ю.Грымов   \n",
       "3139                  Н.Степанова при участии С.Иванова   \n",
       "3431                                     Аскар Бисембин   \n",
       "3439  М.Бэйкер, Д.Е.Брайант, Д.Рондот, Я.Серсар, Д.С...   \n",
       "3446  Д.Адар, П.Антохин, М.Биасин, А.Бурунова, К.Кол...   \n",
       "3514                                       Р.Глурджидзе   \n",
       "3585                                         Д.Червяцов   \n",
       "3786                                      А.Селиверстов   \n",
       "3948                                        И.Ромащенко   \n",
       "5332                                    Патрик Сиверсен   \n",
       "5455                                          А.Мигачев   \n",
       "5821                                        Мани Хагиги   \n",
       "5910                                           Д.Шабаев   \n",
       "6426                             Н.Иванова, А.Кузнецова   \n",
       "6616  А.Сазонов, Е.Климович, А.Коломеец, С.Черникова...   \n",
       "6737                                         Б.Куломзин   \n",
       "6882                                         Т.Мирошник   \n",
       "7159                                           Ю.Грымов   \n",
       "7277                                       Франк Халфун   \n",
       "\n",
       "                                               producer  \\\n",
       "259            Эктор Бабенко, Оскар Крамер, Хуго Сидмэн   \n",
       "811                 Г.Нерсисян, А.Манасарян, А.Нерсесян   \n",
       "1053                           Дэвид Луизи, Питер Луизи   \n",
       "1341                                        К.Терещенко   \n",
       "1805                                         Е.Ковалева   \n",
       "1874  Мэри Пэт Бентел, Бен Бренд, Сиара Гиллан, Джор...   \n",
       "1899       Дэвид Бэррон, Саймон Кинберг, Эллисон Ширмур   \n",
       "2126                                 М.Косырев-Нестеров   \n",
       "2146                                             Ю.Кара   \n",
       "2438                           А.Котелевский, Э.Пичугин   \n",
       "2680                                          П.Поляков   \n",
       "3139                          С.Кикнавелидзе, Д.Улюкаев   \n",
       "3431                 Олег Головашкин, Алмас Султангазин   \n",
       "3439  М.Бэйкер, Д.Е.Брайан, П.-Л.Гарнон, М.Х.Дельгад...   \n",
       "3446  Д.Адар, Д.Амсон, П.Антохин, А.Армстронг, С.Бил...   \n",
       "3514        З.Магалашвили, К.Гечмен-Вальдек, Н.Горшкова   \n",
       "3585                              Д.Ловейко, О.Кузовков   \n",
       "3786                 Е.Тарковская, Т.Лагода, Д.Степанян   \n",
       "3948                                     Р.Атамалибеков   \n",
       "5332                        Закари Ти Брайан, Кристофер   \n",
       "5455                                          И.Бачурин   \n",
       "5821                                        Мани Хагиги   \n",
       "5910                                        Н.Мокрицкая   \n",
       "6426                                        В.Коханович   \n",
       "6616  Д.Руюежин, Л.Пятницкая, Д.Колеров, Э.Ким, А.Хомич   \n",
       "6737                                         Б.Куломзин   \n",
       "6882                               В.Есинов, Е.Калинина   \n",
       "7159                                           Ю.Грымов   \n",
       "7277         Ашок Амритрадж, Джейсон Блум, Трэвис Клафф   \n",
       "\n",
       "                             age_restriction  refundable_support  \\\n",
       "259          «16+» - для детей старше 16 лет                 NaN   \n",
       "811          «12+» - для детей старше 12 лет                 NaN   \n",
       "1053         «16+» - для детей старше 16 лет                 NaN   \n",
       "1341           «6+» - для детей старше 6 лет                 NaN   \n",
       "1805         «12+» - для детей старше 12 лет                 NaN   \n",
       "1874             «18+» - запрещено для детей                 NaN   \n",
       "1899           «6+» - для детей старше 6 лет                 NaN   \n",
       "2126         «16+» - для детей старше 16 лет                 NaN   \n",
       "2146           «6+» - для детей старше 6 лет                 0.0   \n",
       "2438           «6+» - для детей старше 6 лет                 NaN   \n",
       "2680           «6+» - для детей старше 6 лет                 NaN   \n",
       "3139         «16+» - для детей старше 16 лет                 0.0   \n",
       "3431         «12+» - для детей старше 12 лет                 NaN   \n",
       "3439             «18+» - запрещено для детей                 NaN   \n",
       "3446             «18+» - запрещено для детей                 NaN   \n",
       "3514         «12+» - для детей старше 12 лет                 NaN   \n",
       "3585  «0+» - для любой зрительской аудитории                 NaN   \n",
       "3786         «16+» - для детей старше 16 лет                 NaN   \n",
       "3948         «16+» - для детей старше 16 лет                 NaN   \n",
       "5332             «18+» - запрещено для детей                 NaN   \n",
       "5455             «18+» - запрещено для детей                 NaN   \n",
       "5821             «18+» - запрещено для детей                 NaN   \n",
       "5910             «18+» - запрещено для детей                 NaN   \n",
       "6426         «12+» - для детей старше 12 лет                 NaN   \n",
       "6616         «12+» - для детей старше 12 лет                 NaN   \n",
       "6737           «6+» - для детей старше 6 лет                 NaN   \n",
       "6882  «0+» - для любой зрительской аудитории                 NaN   \n",
       "7159         «16+» - для детей старше 16 лет                 NaN   \n",
       "7277         «16+» - для детей старше 16 лет                 NaN   \n",
       "\n",
       "      nonrefundable_support       budget       financing_source ratings  \\\n",
       "259                     NaN          NaN                    NaN     99%   \n",
       "811                     NaN          NaN                    NaN     28%   \n",
       "1053                    NaN          NaN                    NaN     97%   \n",
       "1341                    NaN          NaN                    NaN     99%   \n",
       "1805                    NaN          NaN                    NaN     99%   \n",
       "1874                    NaN          NaN                    NaN     83%   \n",
       "1899                    NaN          NaN                    NaN     64%   \n",
       "2126                    NaN          NaN                    NaN     91%   \n",
       "2146           10,000,000.0 40,000,000.0  Министерство культуры     94%   \n",
       "2438                    NaN          NaN                    NaN     62%   \n",
       "2680                    NaN          NaN                    NaN     79%   \n",
       "3139            4,700,000.0 14,462,464.0  Министерство культуры     90%   \n",
       "3431                    NaN          NaN                    NaN     19%   \n",
       "3439                    NaN          NaN                    NaN     88%   \n",
       "3446                    NaN          NaN                    NaN     83%   \n",
       "3514                    NaN          NaN                    NaN     91%   \n",
       "3585                    NaN          NaN                    NaN     97%   \n",
       "3786                    NaN          NaN                    NaN     89%   \n",
       "3948                    NaN          NaN                    NaN     97%   \n",
       "5332                    NaN          NaN                    NaN     88%   \n",
       "5455                    NaN          NaN                    NaN     83%   \n",
       "5821                    NaN          NaN                    NaN     94%   \n",
       "5910                    NaN          NaN                    NaN     94%   \n",
       "6426                    NaN          NaN                    NaN     91%   \n",
       "6616                    NaN          NaN                    NaN     98%   \n",
       "6737                    NaN          NaN                    NaN     98%   \n",
       "6882                    NaN          NaN                    NaN     99%   \n",
       "7159                    NaN          NaN                    NaN     79%   \n",
       "7277                    NaN          NaN                    NaN     88%   \n",
       "\n",
       "                           genres    box_office  \n",
       "259           ужасы,триллер,драма           NaN  \n",
       "811   детский,приключения,комедия       1,740.0  \n",
       "1053     ужасы,фантастика,фэнтези           NaN  \n",
       "1341       триллер,драма,детектив           NaN  \n",
       "1805       аниме,мультфильм,ужасы       4,295.0  \n",
       "1874                          NaN   1,429,859.0  \n",
       "1899     мюзикл,фэнтези,мелодрама 528,732,557.7  \n",
       "2126               драма,семейный           0.0  \n",
       "2146    фантастика,боевик,комедия     334,750.0  \n",
       "2438             фэнтези,семейный           NaN  \n",
       "2680                     семейный           NaN  \n",
       "3139                        драма     801,370.0  \n",
       "3431                      комедия      37,960.0  \n",
       "3439                          NaN   1,025,937.0  \n",
       "3446                          NaN   2,266,408.0  \n",
       "3514                        драма           NaN  \n",
       "3585     мультфильм,ужасы,фэнтези           NaN  \n",
       "3786    фантастика,комедия,боевик      82,840.0  \n",
       "3948  приключения,комедия,фэнтези           NaN  \n",
       "5332    фантастика,боевик,триллер           NaN  \n",
       "5455       фэнтези,боевик,триллер           NaN  \n",
       "5821                триллер,драма   1,587,221.5  \n",
       "5910                        драма           NaN  \n",
       "6426              драма,биография           NaN  \n",
       "6616            фантастика,боевик           NaN  \n",
       "6737          фэнтези,приключения      34,992.0  \n",
       "6882               криминал,драма           NaN  \n",
       "7159                        драма     182,882.5  \n",
       "7277    фантастика,боевик,триллер   4,416,590.5  "
      ]
     },
     "execution_count": 9,
     "metadata": {},
     "output_type": "execute_result"
    }
   ],
   "source": [
    "invalid_raitings = films[films['ratings'].str.contains('[^0-9.]').fillna(False)]\n",
    "invalid_raitings"
   ]
  },
  {
   "cell_type": "markdown",
   "metadata": {},
   "source": [
    "Часть данных хранится в формате процентов, хотя обычно для рейтингов используют десятибальную систему. Перепишем проценты в этих строках как доли от 10 баллов, а затем приведём всё к числу. Убедимся, что предельные значения находятся в диапазоне от 1 до 10 и поменяем тип на float."
   ]
  },
  {
   "cell_type": "code",
   "execution_count": 10,
   "metadata": {},
   "outputs": [
    {
     "data": {
      "text/plain": [
       "min   1.0\n",
       "max   9.9\n",
       "Name: ratings, dtype: float64"
      ]
     },
     "execution_count": 10,
     "metadata": {},
     "output_type": "execute_result"
    }
   ],
   "source": [
    "films.loc[invalid_raitings.index, 'ratings'] = (invalid_raitings['ratings'].str[0]\n",
    "                                               + '.' + invalid_raitings['ratings'].str[1])\n",
    "films['ratings'] = films['ratings'].astype(float)\n",
    "films['ratings'].describe()[['min', 'max']]"
   ]
  },
  {
   "cell_type": "markdown",
   "metadata": {
    "id": "i0MOLbF-gFyP"
   },
   "source": [
    "#### Шаг 2.2. Изучим пропуски в датафрейме\n",
    "\n"
   ]
  },
  {
   "cell_type": "code",
   "execution_count": 11,
   "metadata": {
    "id": "8MJD_lkngFyP",
    "scrolled": false
   },
   "outputs": [
    {
     "data": {
      "text/plain": [
       "title                       0\n",
       "puNumber                    0\n",
       "show_start_date             0\n",
       "type                        0\n",
       "film_studio                18\n",
       "production_country          2\n",
       "director                    9\n",
       "producer                  568\n",
       "age_restriction             0\n",
       "refundable_support       7154\n",
       "nonrefundable_support    7154\n",
       "budget                   7154\n",
       "financing_source         7154\n",
       "ratings                   967\n",
       "genres                    976\n",
       "box_office               4328\n",
       "dtype: int64"
      ]
     },
     "metadata": {},
     "output_type": "display_data"
    },
    {
     "name": "stdout",
     "output_type": "stream",
     "text": [
      "title - 0%\n",
      "puNumber - 0%\n",
      "show_start_date - 0%\n",
      "type - 0%\n",
      "film_studio - 0%\n",
      "production_country - 0%\n",
      "director - 0%\n",
      "producer - 8%\n",
      "age_restriction - 0%\n",
      "refundable_support - 96%\n",
      "nonrefundable_support - 96%\n",
      "budget - 96%\n",
      "financing_source - 96%\n",
      "ratings - 13%\n",
      "genres - 13%\n",
      "box_office - 58%\n"
     ]
    }
   ],
   "source": [
    "display(films.isna().sum())\n",
    "# визуализируем процент пропусков\n",
    "for col in films.columns:\n",
    "    pct_missing = np.mean(films[col].isnull())\n",
    "    print('{} - {}%'.format(col, round(pct_missing*100)))"
   ]
  },
  {
   "cell_type": "markdown",
   "metadata": {},
   "source": [
    "Пропущена значительная часть данный в refundable_support, nonrefundable_support, budget, financing_source. Эти данные говорят об объёме государственной поддержки, и скорее всего факт пропуска связан со страной выпуска (зарубежные фильмы) или отсутствием господдержки. Заменим пропуски на 0 в этих столбцах. Пропуски в столбцах указывающих бюджет и источник госфинансирования оставим без изменений"
   ]
  },
  {
   "cell_type": "code",
   "execution_count": 12,
   "metadata": {},
   "outputs": [],
   "source": [
    "films['refundable_support'] = films['refundable_support'].fillna(0)\n",
    "films['nonrefundable_support'] = films['nonrefundable_support'].fillna(0)"
   ]
  },
  {
   "cell_type": "code",
   "execution_count": 13,
   "metadata": {},
   "outputs": [
    {
     "data": {
      "text/html": [
       "<div>\n",
       "<style scoped>\n",
       "    .dataframe tbody tr th:only-of-type {\n",
       "        vertical-align: middle;\n",
       "    }\n",
       "\n",
       "    .dataframe tbody tr th {\n",
       "        vertical-align: top;\n",
       "    }\n",
       "\n",
       "    .dataframe thead th {\n",
       "        text-align: right;\n",
       "    }\n",
       "</style>\n",
       "<table border=\"1\" class=\"dataframe\">\n",
       "  <thead>\n",
       "    <tr style=\"text-align: right;\">\n",
       "      <th></th>\n",
       "      <th>title</th>\n",
       "      <th>puNumber</th>\n",
       "      <th>show_start_date</th>\n",
       "      <th>type</th>\n",
       "      <th>film_studio</th>\n",
       "      <th>production_country</th>\n",
       "      <th>director</th>\n",
       "      <th>producer</th>\n",
       "      <th>age_restriction</th>\n",
       "      <th>refundable_support</th>\n",
       "      <th>nonrefundable_support</th>\n",
       "      <th>budget</th>\n",
       "      <th>financing_source</th>\n",
       "      <th>ratings</th>\n",
       "      <th>genres</th>\n",
       "      <th>box_office</th>\n",
       "    </tr>\n",
       "  </thead>\n",
       "  <tbody>\n",
       "    <tr>\n",
       "      <th>3186</th>\n",
       "      <td>Детский юмористический киножурнал \"Ералаш. Ну ...</td>\n",
       "      <td>111001216</td>\n",
       "      <td>2016-02-09 12:00:00</td>\n",
       "      <td>Художественный</td>\n",
       "      <td>ООО \"Продюсерский центр ЕРАЛАШ\"</td>\n",
       "      <td>NaN</td>\n",
       "      <td>Р.Светлов, И.Магитон, А.Арутюнян, Л.Мирский, А...</td>\n",
       "      <td>ООО \"Продюсерский центр ЕРАЛАШ\"</td>\n",
       "      <td>«0+» - для любой зрительской аудитории</td>\n",
       "      <td>0.0</td>\n",
       "      <td>0.0</td>\n",
       "      <td>NaN</td>\n",
       "      <td>NaN</td>\n",
       "      <td>7.2</td>\n",
       "      <td>детский,комедия</td>\n",
       "      <td>194,527.0</td>\n",
       "    </tr>\n",
       "    <tr>\n",
       "      <th>4441</th>\n",
       "      <td>Мульт личности. Выпуск 5</td>\n",
       "      <td>214000410</td>\n",
       "      <td>2010-01-25 12:00:00</td>\n",
       "      <td>Художественный</td>\n",
       "      <td>NaN</td>\n",
       "      <td>NaN</td>\n",
       "      <td>NaN</td>\n",
       "      <td>NaN</td>\n",
       "      <td>«0+» - для любой зрительской аудитории</td>\n",
       "      <td>0.0</td>\n",
       "      <td>0.0</td>\n",
       "      <td>NaN</td>\n",
       "      <td>NaN</td>\n",
       "      <td>4.0</td>\n",
       "      <td>мультфильм,комедия</td>\n",
       "      <td>NaN</td>\n",
       "    </tr>\n",
       "  </tbody>\n",
       "</table>\n",
       "</div>"
      ],
      "text/plain": [
       "                                                  title   puNumber  \\\n",
       "3186  Детский юмористический киножурнал \"Ералаш. Ну ...  111001216   \n",
       "4441                           Мульт личности. Выпуск 5  214000410   \n",
       "\n",
       "         show_start_date            type                      film_studio  \\\n",
       "3186 2016-02-09 12:00:00  Художественный  ООО \"Продюсерский центр ЕРАЛАШ\"   \n",
       "4441 2010-01-25 12:00:00  Художественный                              NaN   \n",
       "\n",
       "     production_country                                           director  \\\n",
       "3186                NaN  Р.Светлов, И.Магитон, А.Арутюнян, Л.Мирский, А...   \n",
       "4441                NaN                                                NaN   \n",
       "\n",
       "                             producer                         age_restriction  \\\n",
       "3186  ООО \"Продюсерский центр ЕРАЛАШ\"  «0+» - для любой зрительской аудитории   \n",
       "4441                              NaN  «0+» - для любой зрительской аудитории   \n",
       "\n",
       "      refundable_support  nonrefundable_support  budget financing_source  \\\n",
       "3186                 0.0                    0.0     NaN              NaN   \n",
       "4441                 0.0                    0.0     NaN              NaN   \n",
       "\n",
       "      ratings              genres  box_office  \n",
       "3186      7.2     детский,комедия   194,527.0  \n",
       "4441      4.0  мультфильм,комедия         NaN  "
      ]
     },
     "execution_count": 13,
     "metadata": {},
     "output_type": "execute_result"
    }
   ],
   "source": [
    "#посмотрим пропуски в столбце указывающим на страну производителя\n",
    "films[films['production_country'].isna()]"
   ]
  },
  {
   "cell_type": "markdown",
   "metadata": {},
   "source": [
    "В столбце всего 2 пропуска. Поискав дополнительную информацию я узнала, что \"Ералаш\" и \"Мульт личности\" производятся в России. Можно заполнит пропуски."
   ]
  },
  {
   "cell_type": "code",
   "execution_count": 14,
   "metadata": {},
   "outputs": [],
   "source": [
    "films['production_country'] = films['production_country'].fillna('Россия')\n"
   ]
  },
  {
   "cell_type": "markdown",
   "metadata": {},
   "source": [
    "В столбцах film_studio, director, producer заменим пропуски на unknown."
   ]
  },
  {
   "cell_type": "code",
   "execution_count": 15,
   "metadata": {},
   "outputs": [],
   "source": [
    "films['film_studio'] = films['film_studio'].fillna('unkown')\n",
    "films['director'] = films['director'].fillna('unkown')\n",
    "films['producer'] = films['producer'].fillna('unkown')"
   ]
  },
  {
   "cell_type": "markdown",
   "metadata": {},
   "source": [
    "**Вывод:**<br> \n",
    "1) Пропущена значительная часть данный в refundable_support, nonrefundable_support, budget, financing_source. Эти данные говорят об объёме государственной поддержки, и скорее всего факт пропуска связан со страной выпуска (зарубежные фильмы) или отсутствием господдержки. Заменили пропуски на 0 в этих столбцах;<br> \n",
    "2) Заполнили пропуски в столбце 'production_country', поискав дополнительную информацию, и уточнив, что пропущенные фильмы  производятся в России;<br> \n",
    "3) В столбцах film_studio, director, producer заменили пропуски на unknown.<br>\n",
    "4) Пропуски в столбце rating оставим без изменений. Возможно пропуски появились из-за технической ошибки и заполнить их корректно не получится;<br> \n",
    "5) Также оставили без изменений пропуски во всех остальных столбцах, так как корректно заполнить их непредставляется возможным."
   ]
  },
  {
   "cell_type": "markdown",
   "metadata": {
    "id": "4c6k1t9ygFyQ"
   },
   "source": [
    "#### Шаг 2.3. Изучим дубликаты в датафрейме\n"
   ]
  },
  {
   "cell_type": "code",
   "execution_count": 16,
   "metadata": {
    "id": "aKck8RIdgFyQ"
   },
   "outputs": [
    {
     "name": "stdout",
     "output_type": "stream",
     "text": [
      "Количество дублирующихся строк: 0\n"
     ]
    },
    {
     "data": {
      "text/plain": [
       "title                    6772\n",
       "puNumber                 7484\n",
       "show_start_date          1965\n",
       "type                        8\n",
       "film_studio              5491\n",
       "production_country        950\n",
       "director                 4812\n",
       "producer                 5350\n",
       "age_restriction             5\n",
       "refundable_support         34\n",
       "nonrefundable_support      75\n",
       "budget                    290\n",
       "financing_source            3\n",
       "ratings                    84\n",
       "genres                    742\n",
       "box_office               2938\n",
       "dtype: int64"
      ]
     },
     "execution_count": 16,
     "metadata": {},
     "output_type": "execute_result"
    }
   ],
   "source": [
    "print('Количество дублирующихся строк:', films.duplicated().sum())\n",
    "\n",
    "films.nunique()"
   ]
  },
  {
   "cell_type": "code",
   "execution_count": 17,
   "metadata": {},
   "outputs": [
    {
     "data": {
      "text/html": [
       "<div>\n",
       "<style scoped>\n",
       "    .dataframe tbody tr th:only-of-type {\n",
       "        vertical-align: middle;\n",
       "    }\n",
       "\n",
       "    .dataframe tbody tr th {\n",
       "        vertical-align: top;\n",
       "    }\n",
       "\n",
       "    .dataframe thead th {\n",
       "        text-align: right;\n",
       "    }\n",
       "</style>\n",
       "<table border=\"1\" class=\"dataframe\">\n",
       "  <thead>\n",
       "    <tr style=\"text-align: right;\">\n",
       "      <th></th>\n",
       "      <th>title</th>\n",
       "      <th>puNumber</th>\n",
       "      <th>show_start_date</th>\n",
       "      <th>type</th>\n",
       "      <th>film_studio</th>\n",
       "      <th>production_country</th>\n",
       "      <th>director</th>\n",
       "      <th>producer</th>\n",
       "      <th>age_restriction</th>\n",
       "      <th>refundable_support</th>\n",
       "      <th>nonrefundable_support</th>\n",
       "      <th>budget</th>\n",
       "      <th>financing_source</th>\n",
       "      <th>ratings</th>\n",
       "      <th>genres</th>\n",
       "      <th>box_office</th>\n",
       "    </tr>\n",
       "  </thead>\n",
       "  <tbody>\n",
       "    <tr>\n",
       "      <th>4505</th>\n",
       "      <td>Я ненавижу день святого Валентина</td>\n",
       "      <td>221139210</td>\n",
       "      <td>2010-12-03 12:00:00</td>\n",
       "      <td>Художественный</td>\n",
       "      <td>Блю Стар Пикчерз, Ай Хэйт Вдэй Продакшнз, Ай С...</td>\n",
       "      <td>США</td>\n",
       "      <td>Ниа Вардалос</td>\n",
       "      <td>Доминик Йанно, Мэдлейн Шерак, Уильям Шерак</td>\n",
       "      <td>«16+» - для детей старше 16 лет</td>\n",
       "      <td>0.0</td>\n",
       "      <td>0.0</td>\n",
       "      <td>NaN</td>\n",
       "      <td>NaN</td>\n",
       "      <td>5.0</td>\n",
       "      <td>мелодрама,комедия</td>\n",
       "      <td>NaN</td>\n",
       "    </tr>\n",
       "    <tr>\n",
       "      <th>1704</th>\n",
       "      <td>Я, снова я и мама</td>\n",
       "      <td>121030213</td>\n",
       "      <td>2013-11-21 12:00:00</td>\n",
       "      <td>Художественный</td>\n",
       "      <td>Гомон, Эль Джи Эм Продакшнз, Ректанль Продюксь...</td>\n",
       "      <td>Франция - Бельгия</td>\n",
       "      <td>Гийом Гальенн</td>\n",
       "      <td>Жан-Батист Дюпон, Алис Жирар, Сирил Кольбо-Жюстен</td>\n",
       "      <td>«16+» - для детей старше 16 лет</td>\n",
       "      <td>0.0</td>\n",
       "      <td>0.0</td>\n",
       "      <td>NaN</td>\n",
       "      <td>NaN</td>\n",
       "      <td>6.3</td>\n",
       "      <td>комедия,мелодрама,драма</td>\n",
       "      <td>NaN</td>\n",
       "    </tr>\n",
       "    <tr>\n",
       "      <th>1703</th>\n",
       "      <td>Я, снова я и мама</td>\n",
       "      <td>121013116</td>\n",
       "      <td>2016-05-23 12:00:00</td>\n",
       "      <td>Художественный</td>\n",
       "      <td>Гомон, Эль Джи Эм Продакшнз, Ректанль Продюксь...</td>\n",
       "      <td>Франция - Бельгия</td>\n",
       "      <td>Гийом Гальенн</td>\n",
       "      <td>Жан-Батист Дюпон, Алис Жирар, Сирил Кольбо-Жюстен</td>\n",
       "      <td>«16+» - для детей старше 16 лет</td>\n",
       "      <td>0.0</td>\n",
       "      <td>0.0</td>\n",
       "      <td>NaN</td>\n",
       "      <td>NaN</td>\n",
       "      <td>6.3</td>\n",
       "      <td>комедия,мелодрама,драма</td>\n",
       "      <td>NaN</td>\n",
       "    </tr>\n",
       "    <tr>\n",
       "      <th>6379</th>\n",
       "      <td>Ян Антонышев</td>\n",
       "      <td>112011818</td>\n",
       "      <td>2018-11-15 12:00:00</td>\n",
       "      <td>Документальный</td>\n",
       "      <td>unkown</td>\n",
       "      <td>Россия</td>\n",
       "      <td>Е.Окопная</td>\n",
       "      <td>Е.Герасимов</td>\n",
       "      <td>«12+» - для детей старше 12 лет</td>\n",
       "      <td>0.0</td>\n",
       "      <td>0.0</td>\n",
       "      <td>NaN</td>\n",
       "      <td>NaN</td>\n",
       "      <td>NaN</td>\n",
       "      <td>NaN</td>\n",
       "      <td>NaN</td>\n",
       "    </tr>\n",
       "    <tr>\n",
       "      <th>6380</th>\n",
       "      <td>Ян Антонышев</td>\n",
       "      <td>112011918</td>\n",
       "      <td>2018-11-15 12:00:00</td>\n",
       "      <td>Документальный</td>\n",
       "      <td>unkown</td>\n",
       "      <td>Россия</td>\n",
       "      <td>Е.Окопная</td>\n",
       "      <td>Е.Герасимов</td>\n",
       "      <td>«12+» - для детей старше 12 лет</td>\n",
       "      <td>0.0</td>\n",
       "      <td>0.0</td>\n",
       "      <td>NaN</td>\n",
       "      <td>NaN</td>\n",
       "      <td>NaN</td>\n",
       "      <td>NaN</td>\n",
       "      <td>NaN</td>\n",
       "    </tr>\n",
       "  </tbody>\n",
       "</table>\n",
       "</div>"
      ],
      "text/plain": [
       "                                  title   puNumber     show_start_date  \\\n",
       "4505  Я ненавижу день святого Валентина  221139210 2010-12-03 12:00:00   \n",
       "1704                  Я, снова я и мама  121030213 2013-11-21 12:00:00   \n",
       "1703                  Я, снова я и мама  121013116 2016-05-23 12:00:00   \n",
       "6379                       Ян Антонышев  112011818 2018-11-15 12:00:00   \n",
       "6380                       Ян Антонышев  112011918 2018-11-15 12:00:00   \n",
       "\n",
       "                type                                        film_studio  \\\n",
       "4505  Художественный  Блю Стар Пикчерз, Ай Хэйт Вдэй Продакшнз, Ай С...   \n",
       "1704  Художественный  Гомон, Эль Джи Эм Продакшнз, Ректанль Продюксь...   \n",
       "1703  Художественный  Гомон, Эль Джи Эм Продакшнз, Ректанль Продюксь...   \n",
       "6379  Документальный                                             unkown   \n",
       "6380  Документальный                                             unkown   \n",
       "\n",
       "     production_country       director  \\\n",
       "4505                США   Ниа Вардалос   \n",
       "1704  Франция - Бельгия  Гийом Гальенн   \n",
       "1703  Франция - Бельгия  Гийом Гальенн   \n",
       "6379             Россия      Е.Окопная   \n",
       "6380             Россия      Е.Окопная   \n",
       "\n",
       "                                               producer  \\\n",
       "4505         Доминик Йанно, Мэдлейн Шерак, Уильям Шерак   \n",
       "1704  Жан-Батист Дюпон, Алис Жирар, Сирил Кольбо-Жюстен   \n",
       "1703  Жан-Батист Дюпон, Алис Жирар, Сирил Кольбо-Жюстен   \n",
       "6379                                        Е.Герасимов   \n",
       "6380                                        Е.Герасимов   \n",
       "\n",
       "                      age_restriction  refundable_support  \\\n",
       "4505  «16+» - для детей старше 16 лет                 0.0   \n",
       "1704  «16+» - для детей старше 16 лет                 0.0   \n",
       "1703  «16+» - для детей старше 16 лет                 0.0   \n",
       "6379  «12+» - для детей старше 12 лет                 0.0   \n",
       "6380  «12+» - для детей старше 12 лет                 0.0   \n",
       "\n",
       "      nonrefundable_support  budget financing_source  ratings  \\\n",
       "4505                    0.0     NaN              NaN      5.0   \n",
       "1704                    0.0     NaN              NaN      6.3   \n",
       "1703                    0.0     NaN              NaN      6.3   \n",
       "6379                    0.0     NaN              NaN      NaN   \n",
       "6380                    0.0     NaN              NaN      NaN   \n",
       "\n",
       "                       genres  box_office  \n",
       "4505        мелодрама,комедия         NaN  \n",
       "1704  комедия,мелодрама,драма         NaN  \n",
       "1703  комедия,мелодрама,драма         NaN  \n",
       "6379                      NaN         NaN  \n",
       "6380                      NaN         NaN  "
      ]
     },
     "execution_count": 17,
     "metadata": {},
     "output_type": "execute_result"
    }
   ],
   "source": [
    "films.loc[films['title'].duplicated(keep=False)].sort_values(by='title').tail()"
   ]
  },
  {
   "cell_type": "markdown",
   "metadata": {},
   "source": [
    "Повторы в 'title' объясняются тем, что один и тот же фильм может иметь несколько прокатных удостоверений, его могут начать показывать в разное время под разной лицензией и/или разными прокатчиками."
   ]
  },
  {
   "cell_type": "code",
   "execution_count": 18,
   "metadata": {},
   "outputs": [
    {
     "data": {
      "text/html": [
       "<div>\n",
       "<style scoped>\n",
       "    .dataframe tbody tr th:only-of-type {\n",
       "        vertical-align: middle;\n",
       "    }\n",
       "\n",
       "    .dataframe tbody tr th {\n",
       "        vertical-align: top;\n",
       "    }\n",
       "\n",
       "    .dataframe thead th {\n",
       "        text-align: right;\n",
       "    }\n",
       "</style>\n",
       "<table border=\"1\" class=\"dataframe\">\n",
       "  <thead>\n",
       "    <tr style=\"text-align: right;\">\n",
       "      <th></th>\n",
       "      <th>title</th>\n",
       "      <th>puNumber</th>\n",
       "      <th>show_start_date</th>\n",
       "      <th>type</th>\n",
       "      <th>film_studio</th>\n",
       "      <th>production_country</th>\n",
       "      <th>director</th>\n",
       "      <th>producer</th>\n",
       "      <th>age_restriction</th>\n",
       "      <th>refundable_support</th>\n",
       "      <th>nonrefundable_support</th>\n",
       "      <th>budget</th>\n",
       "      <th>financing_source</th>\n",
       "      <th>ratings</th>\n",
       "      <th>genres</th>\n",
       "      <th>box_office</th>\n",
       "    </tr>\n",
       "  </thead>\n",
       "  <tbody>\n",
       "    <tr>\n",
       "      <th>4638</th>\n",
       "      <td>Как жениться и остаться холостым</td>\n",
       "      <td>221154310</td>\n",
       "      <td>2010-12-17 12:00:00</td>\n",
       "      <td>Художественный</td>\n",
       "      <td>Ше Вам, Скрипт Ассосье, Тэ Фэ 1 Фильм Продюксь...</td>\n",
       "      <td>Франция</td>\n",
       "      <td>Эрик Лартиго</td>\n",
       "      <td>Амандин Било, Алан Шаба</td>\n",
       "      <td>«16+» - для детей старше 16 лет</td>\n",
       "      <td>0.0</td>\n",
       "      <td>0.0</td>\n",
       "      <td>NaN</td>\n",
       "      <td>NaN</td>\n",
       "      <td>7.0</td>\n",
       "      <td>мелодрама,комедия</td>\n",
       "      <td>NaN</td>\n",
       "    </tr>\n",
       "    <tr>\n",
       "      <th>4639</th>\n",
       "      <td>Иоанна - женщина на папском престоле /По роман...</td>\n",
       "      <td>221154310</td>\n",
       "      <td>2010-12-17 12:00:00</td>\n",
       "      <td>Художественный</td>\n",
       "      <td>Константин Фильм, А Эр Ди Дегето Фильм, Дюне ...</td>\n",
       "      <td>Германия - Великобритания - Италия - Испания</td>\n",
       "      <td>Зенке Вортманн</td>\n",
       "      <td>Оливер Бербен, Дорис Д.Хайнце, Фарук Элтан</td>\n",
       "      <td>«16+» - для детей старше 16 лет</td>\n",
       "      <td>0.0</td>\n",
       "      <td>0.0</td>\n",
       "      <td>NaN</td>\n",
       "      <td>NaN</td>\n",
       "      <td>7.6</td>\n",
       "      <td>драма,мелодрама,история</td>\n",
       "      <td>NaN</td>\n",
       "    </tr>\n",
       "    <tr>\n",
       "      <th>5067</th>\n",
       "      <td>Анализируй это!</td>\n",
       "      <td>221054410</td>\n",
       "      <td>2010-05-25 12:00:00</td>\n",
       "      <td>Художественный</td>\n",
       "      <td>Уорнер Бразерс, Вилладж Роудшоу Филмз ЛТД</td>\n",
       "      <td>США-Австралия</td>\n",
       "      <td>ХЭрольд Рэмис</td>\n",
       "      <td>Джейн Розенталь, Пола Уейнстейн</td>\n",
       "      <td>«16+» - для детей старше 16 лет</td>\n",
       "      <td>0.0</td>\n",
       "      <td>0.0</td>\n",
       "      <td>NaN</td>\n",
       "      <td>NaN</td>\n",
       "      <td>7.4</td>\n",
       "      <td>комедия,криминал</td>\n",
       "      <td>NaN</td>\n",
       "    </tr>\n",
       "    <tr>\n",
       "      <th>5068</th>\n",
       "      <td>Анализируй то!</td>\n",
       "      <td>221054410</td>\n",
       "      <td>2010-05-25 12:00:00</td>\n",
       "      <td>Художественный</td>\n",
       "      <td>Уорнер Бразерс, Виллидж Роадшоу Пикчерз, Эн-Пи...</td>\n",
       "      <td>США</td>\n",
       "      <td>Гарольд Реймис</td>\n",
       "      <td>Джейн Розенталь, Паул Уэйнстейн</td>\n",
       "      <td>«12+» - для детей старше 12 лет</td>\n",
       "      <td>0.0</td>\n",
       "      <td>0.0</td>\n",
       "      <td>NaN</td>\n",
       "      <td>NaN</td>\n",
       "      <td>6.8</td>\n",
       "      <td>комедия,криминал</td>\n",
       "      <td>NaN</td>\n",
       "    </tr>\n",
       "  </tbody>\n",
       "</table>\n",
       "</div>"
      ],
      "text/plain": [
       "                                                  title   puNumber  \\\n",
       "4638                   Как жениться и остаться холостым  221154310   \n",
       "4639  Иоанна - женщина на папском престоле /По роман...  221154310   \n",
       "5067                                    Анализируй это!  221054410   \n",
       "5068                                     Анализируй то!  221054410   \n",
       "\n",
       "         show_start_date            type  \\\n",
       "4638 2010-12-17 12:00:00  Художественный   \n",
       "4639 2010-12-17 12:00:00  Художественный   \n",
       "5067 2010-05-25 12:00:00  Художественный   \n",
       "5068 2010-05-25 12:00:00  Художественный   \n",
       "\n",
       "                                            film_studio  \\\n",
       "4638  Ше Вам, Скрипт Ассосье, Тэ Фэ 1 Фильм Продюксь...   \n",
       "4639   Константин Фильм, А Эр Ди Дегето Фильм, Дюне ...   \n",
       "5067          Уорнер Бразерс, Вилладж Роудшоу Филмз ЛТД   \n",
       "5068  Уорнер Бразерс, Виллидж Роадшоу Пикчерз, Эн-Пи...   \n",
       "\n",
       "                                production_country        director  \\\n",
       "4638                                       Франция    Эрик Лартиго   \n",
       "4639  Германия - Великобритания - Италия - Испания  Зенке Вортманн   \n",
       "5067                                 США-Австралия   ХЭрольд Рэмис   \n",
       "5068                                           США  Гарольд Реймис   \n",
       "\n",
       "                                        producer  \\\n",
       "4638                     Амандин Било, Алан Шаба   \n",
       "4639  Оливер Бербен, Дорис Д.Хайнце, Фарук Элтан   \n",
       "5067             Джейн Розенталь, Пола Уейнстейн   \n",
       "5068             Джейн Розенталь, Паул Уэйнстейн   \n",
       "\n",
       "                      age_restriction  refundable_support  \\\n",
       "4638  «16+» - для детей старше 16 лет                 0.0   \n",
       "4639  «16+» - для детей старше 16 лет                 0.0   \n",
       "5067  «16+» - для детей старше 16 лет                 0.0   \n",
       "5068  «12+» - для детей старше 12 лет                 0.0   \n",
       "\n",
       "      nonrefundable_support  budget financing_source  ratings  \\\n",
       "4638                    0.0     NaN              NaN      7.0   \n",
       "4639                    0.0     NaN              NaN      7.6   \n",
       "5067                    0.0     NaN              NaN      7.4   \n",
       "5068                    0.0     NaN              NaN      6.8   \n",
       "\n",
       "                       genres  box_office  \n",
       "4638        мелодрама,комедия         NaN  \n",
       "4639  драма,мелодрама,история         NaN  \n",
       "5067         комедия,криминал         NaN  \n",
       "5068         комедия,криминал         NaN  "
      ]
     },
     "execution_count": 18,
     "metadata": {},
     "output_type": "execute_result"
    }
   ],
   "source": [
    "films.loc[films['puNumber'].duplicated(keep=False)]"
   ]
  },
  {
   "cell_type": "markdown",
   "metadata": {},
   "source": [
    "**Вывод:** Полностью повторяющих строк нет. Есть дубли в названиях фильмов, это связано с выдачей разных прокатных удостоверений. Есть дубли в номерах прокатных удостоверений, это скорее всего связано с тем, что под одним удостоверением выходило в прокат несколько фильмов. Возможно сыграл человеческий фактор при заполнении какой-нибудь формы. Удалить эти дубликаты мы не можем, так как они связаны с другими данными.\n"
   ]
  },
  {
   "cell_type": "markdown",
   "metadata": {
    "id": "52fOPrEBgFyQ"
   },
   "source": [
    "#### Шаг 2.4. Изучим категориальные значения\n",
    "\n"
   ]
  },
  {
   "cell_type": "code",
   "execution_count": 19,
   "metadata": {},
   "outputs": [
    {
     "data": {
      "text/plain": [
       "array(['Художественный', 'Анимационный', 'Прочие', 'Документальный',\n",
       "       'Научно-популярный', ' Художественный', ' Анимационный',\n",
       "       'Музыкально-развлекательный'], dtype=object)"
      ]
     },
     "execution_count": 19,
     "metadata": {},
     "output_type": "execute_result"
    }
   ],
   "source": [
    "films['type'].unique()"
   ]
  },
  {
   "cell_type": "code",
   "execution_count": 20,
   "metadata": {
    "id": "PnXKIVdFgFyR"
   },
   "outputs": [
    {
     "data": {
      "text/plain": [
       "array(['Художественный', 'Анимационный', 'Прочие', 'Документальный',\n",
       "       'Научно-популярный', 'Музыкально-развлекательный'], dtype=object)"
      ]
     },
     "execution_count": 20,
     "metadata": {},
     "output_type": "execute_result"
    }
   ],
   "source": [
    "#Уберем лишние пробелы между списками внутри ячейки\n",
    "films['type'] = films['type'].str.strip()\n",
    "films['type'].unique()"
   ]
  },
  {
   "cell_type": "markdown",
   "metadata": {},
   "source": [
    "**Вывод:** Лишние пробелы в начале или конце строки является частой проблемой категориальных данных. Помимо столбца type, также были обнаружены и  убраны пробелы в строке столбца 'puNumber'."
   ]
  },
  {
   "cell_type": "markdown",
   "metadata": {
    "id": "XFSN5lrEgFyR"
   },
   "source": [
    "#### Шаг 2.5. Проверим количественные значения\n",
    "\n"
   ]
  },
  {
   "cell_type": "code",
   "execution_count": 21,
   "metadata": {
    "id": "YbzClBxagFyS"
   },
   "outputs": [
    {
     "data": {
      "text/plain": [
       "count             332.0\n",
       "mean      127,229,716.7\n",
       "std       188,588,333.1\n",
       "min                 0.0\n",
       "25%        42,000,000.0\n",
       "50%        68,649,916.0\n",
       "75%       141,985,319.5\n",
       "max     2,305,074,303.0\n",
       "Name: budget, dtype: float64"
      ]
     },
     "execution_count": 21,
     "metadata": {},
     "output_type": "execute_result"
    }
   ],
   "source": [
    "films['budget'].describe()"
   ]
  },
  {
   "cell_type": "code",
   "execution_count": 22,
   "metadata": {},
   "outputs": [
    {
     "data": {
      "text/html": [
       "<div>\n",
       "<style scoped>\n",
       "    .dataframe tbody tr th:only-of-type {\n",
       "        vertical-align: middle;\n",
       "    }\n",
       "\n",
       "    .dataframe tbody tr th {\n",
       "        vertical-align: top;\n",
       "    }\n",
       "\n",
       "    .dataframe thead th {\n",
       "        text-align: right;\n",
       "    }\n",
       "</style>\n",
       "<table border=\"1\" class=\"dataframe\">\n",
       "  <thead>\n",
       "    <tr style=\"text-align: right;\">\n",
       "      <th></th>\n",
       "      <th>title</th>\n",
       "      <th>puNumber</th>\n",
       "      <th>show_start_date</th>\n",
       "      <th>type</th>\n",
       "      <th>film_studio</th>\n",
       "      <th>production_country</th>\n",
       "      <th>director</th>\n",
       "      <th>producer</th>\n",
       "      <th>age_restriction</th>\n",
       "      <th>refundable_support</th>\n",
       "      <th>nonrefundable_support</th>\n",
       "      <th>budget</th>\n",
       "      <th>financing_source</th>\n",
       "      <th>ratings</th>\n",
       "      <th>genres</th>\n",
       "      <th>box_office</th>\n",
       "    </tr>\n",
       "  </thead>\n",
       "  <tbody>\n",
       "    <tr>\n",
       "      <th>2053</th>\n",
       "      <td>14+</td>\n",
       "      <td>111023614</td>\n",
       "      <td>2014-12-19 12:00:00</td>\n",
       "      <td>Художественный</td>\n",
       "      <td>ООО Киностудия  \"Сентябрь\"</td>\n",
       "      <td>Россия</td>\n",
       "      <td>А.Зайцев</td>\n",
       "      <td>О.Гранина, А.Зайцев</td>\n",
       "      <td>«16+» - для детей старше 16 лет</td>\n",
       "      <td>0.0</td>\n",
       "      <td>23,000,000.0</td>\n",
       "      <td>0.0</td>\n",
       "      <td>Министерство культуры, Фонд кино</td>\n",
       "      <td>6.6</td>\n",
       "      <td>мелодрама</td>\n",
       "      <td>10,234,016.1</td>\n",
       "    </tr>\n",
       "    <tr>\n",
       "      <th>2058</th>\n",
       "      <td>Дуxless 2</td>\n",
       "      <td>111000415</td>\n",
       "      <td>2015-01-26 12:00:00</td>\n",
       "      <td>Художественный</td>\n",
       "      <td>ООО \"Киностудия \"Слово\", ООО \"Арт Пикчерс Студия\"</td>\n",
       "      <td>Россия</td>\n",
       "      <td>Р.Прыгунов</td>\n",
       "      <td>П.Ануров, Ф.Бондарчук, Д.Рудовский</td>\n",
       "      <td>«16+» - для детей старше 16 лет</td>\n",
       "      <td>0.0</td>\n",
       "      <td>75,000,000.0</td>\n",
       "      <td>0.0</td>\n",
       "      <td>Фонд кино</td>\n",
       "      <td>6.6</td>\n",
       "      <td>драма</td>\n",
       "      <td>446,163,511.0</td>\n",
       "    </tr>\n",
       "    <tr>\n",
       "      <th>2472</th>\n",
       "      <td>Воин (2015)</td>\n",
       "      <td>111017315</td>\n",
       "      <td>2015-09-28 12:00:00</td>\n",
       "      <td>Художественный</td>\n",
       "      <td>ООО \"Форпост Продакшн\", ООО \"Арт Пикчерс Студия\"</td>\n",
       "      <td>Россия</td>\n",
       "      <td>А.Андрианов</td>\n",
       "      <td>ООО \"Арт Пикчерс Студия\"</td>\n",
       "      <td>«12+» - для детей старше 12 лет</td>\n",
       "      <td>10,000,000.0</td>\n",
       "      <td>70,000,000.0</td>\n",
       "      <td>0.0</td>\n",
       "      <td>Фонд кино</td>\n",
       "      <td>7.8</td>\n",
       "      <td>боевик,драма,криминал</td>\n",
       "      <td>196,572,438.4</td>\n",
       "    </tr>\n",
       "    <tr>\n",
       "      <th>2532</th>\n",
       "      <td>Бармен.</td>\n",
       "      <td>111009615</td>\n",
       "      <td>2015-05-26 12:00:00</td>\n",
       "      <td>Художественный</td>\n",
       "      <td>АО \"ВайТ Медиа\", ООО \"Арт Пикчерс Студия\"</td>\n",
       "      <td>Россия</td>\n",
       "      <td>Д.Штурманова</td>\n",
       "      <td>Т.Вайнштейн</td>\n",
       "      <td>«16+» - для детей старше 16 лет</td>\n",
       "      <td>20,000,000.0</td>\n",
       "      <td>0.0</td>\n",
       "      <td>0.0</td>\n",
       "      <td>Фонд кино</td>\n",
       "      <td>6.2</td>\n",
       "      <td>комедия,фэнтези</td>\n",
       "      <td>67,418,974.8</td>\n",
       "    </tr>\n",
       "    <tr>\n",
       "      <th>2615</th>\n",
       "      <td>Савва. Сердце воина</td>\n",
       "      <td>114001715</td>\n",
       "      <td>2015-07-21 12:00:00</td>\n",
       "      <td>Анимационный</td>\n",
       "      <td>ООО \"Глюкоза Продакшн\", ООО \"Арт Пикчерс Студия\"</td>\n",
       "      <td>Россия</td>\n",
       "      <td>М.Фадеев</td>\n",
       "      <td>А.Чистяков</td>\n",
       "      <td>«6+» - для детей старше 6 лет</td>\n",
       "      <td>60,000,000.0</td>\n",
       "      <td>100,000,000.0</td>\n",
       "      <td>0.0</td>\n",
       "      <td>Фонд кино</td>\n",
       "      <td>4.6</td>\n",
       "      <td>мультфильм,приключения,фэнтези</td>\n",
       "      <td>184,487,551.4</td>\n",
       "    </tr>\n",
       "    <tr>\n",
       "      <th>2684</th>\n",
       "      <td>Тряпичный союз</td>\n",
       "      <td>111010215</td>\n",
       "      <td>2015-06-08 12:00:00</td>\n",
       "      <td>Художественный</td>\n",
       "      <td>ООО \"Кинокомпания \"КОКТЕБЕЛЬ\"</td>\n",
       "      <td>Россия</td>\n",
       "      <td>М.Местецкий</td>\n",
       "      <td>Р.Борисевич, А.Кушаев</td>\n",
       "      <td>«18+» - запрещено для детей</td>\n",
       "      <td>0.0</td>\n",
       "      <td>59,000,000.0</td>\n",
       "      <td>0.0</td>\n",
       "      <td>Фонд кино</td>\n",
       "      <td>6.3</td>\n",
       "      <td>комедия,драма</td>\n",
       "      <td>1,957,738.5</td>\n",
       "    </tr>\n",
       "    <tr>\n",
       "      <th>2788</th>\n",
       "      <td>Срочно выйду замуж</td>\n",
       "      <td>111017115</td>\n",
       "      <td>2015-09-30 12:00:00</td>\n",
       "      <td>Художественный</td>\n",
       "      <td>АО \"ВайТ Медиа\", ООО \"Арт Пикчерс Студия\"</td>\n",
       "      <td>Россия</td>\n",
       "      <td>С Чекалов</td>\n",
       "      <td>Ф.Бондарчук, Т.Вайнштейн, Д.Рудовский</td>\n",
       "      <td>«16+» - для детей старше 16 лет</td>\n",
       "      <td>0.0</td>\n",
       "      <td>35,000,000.0</td>\n",
       "      <td>0.0</td>\n",
       "      <td>Фонд кино</td>\n",
       "      <td>5.1</td>\n",
       "      <td>комедия,мелодрама</td>\n",
       "      <td>72,937,783.2</td>\n",
       "    </tr>\n",
       "    <tr>\n",
       "      <th>2874</th>\n",
       "      <td>Помню - не помню!</td>\n",
       "      <td>111004916</td>\n",
       "      <td>2016-03-01 12:00:00</td>\n",
       "      <td>Художественный</td>\n",
       "      <td>ООО \"КиноФирма\"</td>\n",
       "      <td>Россия</td>\n",
       "      <td>В.Ровенский</td>\n",
       "      <td>ООО \"КиноФирма\"</td>\n",
       "      <td>«12+» - для детей старше 12 лет</td>\n",
       "      <td>0.0</td>\n",
       "      <td>6,000,000.0</td>\n",
       "      <td>0.0</td>\n",
       "      <td>Министерство культуры</td>\n",
       "      <td>4.3</td>\n",
       "      <td>комедия</td>\n",
       "      <td>15,362,931.4</td>\n",
       "    </tr>\n",
       "    <tr>\n",
       "      <th>3047</th>\n",
       "      <td>Любовь с ограничениями</td>\n",
       "      <td>111008216</td>\n",
       "      <td>2016-04-29 12:00:00</td>\n",
       "      <td>Художественный</td>\n",
       "      <td>АО \"ВайТ Медиа\", ООО \"Арт Пикчерс Студия\"</td>\n",
       "      <td>Россия</td>\n",
       "      <td>Д.Тюрин</td>\n",
       "      <td>Ф.Бондарчук, Т.Вайнштейн, Д.Рудовский</td>\n",
       "      <td>«16+» - для детей старше 16 лет</td>\n",
       "      <td>19,000,000.0</td>\n",
       "      <td>51,000,000.0</td>\n",
       "      <td>0.0</td>\n",
       "      <td>Фонд кино</td>\n",
       "      <td>6.3</td>\n",
       "      <td>комедия,мелодрама</td>\n",
       "      <td>70,299,052.0</td>\n",
       "    </tr>\n",
       "    <tr>\n",
       "      <th>3565</th>\n",
       "      <td>Притяжение (2016)</td>\n",
       "      <td>111018116</td>\n",
       "      <td>2016-12-16 12:00:00</td>\n",
       "      <td>Художественный</td>\n",
       "      <td>ООО \"Водород 2011\",  ООО \"Арт Пикчерс Студия\"</td>\n",
       "      <td>Россия</td>\n",
       "      <td>Ф.Бондарчук</td>\n",
       "      <td>ООО \"Арт Пикчерс Студия\"</td>\n",
       "      <td>«12+» - для детей старше 12 лет</td>\n",
       "      <td>0.0</td>\n",
       "      <td>250,000,000.0</td>\n",
       "      <td>0.0</td>\n",
       "      <td>Фонд кино</td>\n",
       "      <td>5.6</td>\n",
       "      <td>фантастика</td>\n",
       "      <td>1,038,321,489.0</td>\n",
       "    </tr>\n",
       "    <tr>\n",
       "      <th>3675</th>\n",
       "      <td>Чудо-юдо</td>\n",
       "      <td>114001817</td>\n",
       "      <td>2017-06-27 12:00:00</td>\n",
       "      <td>Анимационный</td>\n",
       "      <td>ООО \"КиноФирма\"</td>\n",
       "      <td>Россия</td>\n",
       "      <td>А.Лукичев</td>\n",
       "      <td>ООО \"КиноФирма\"</td>\n",
       "      <td>«6+» - для детей старше 6 лет</td>\n",
       "      <td>20,000,000.0</td>\n",
       "      <td>20,000,000.0</td>\n",
       "      <td>0.0</td>\n",
       "      <td>Фонд кино</td>\n",
       "      <td>5.2</td>\n",
       "      <td>мультфильм,фэнтези,семейный</td>\n",
       "      <td>55,108,014.8</td>\n",
       "    </tr>\n",
       "    <tr>\n",
       "      <th>3739</th>\n",
       "      <td>Мифы</td>\n",
       "      <td>111004317</td>\n",
       "      <td>2017-06-07 12:00:00</td>\n",
       "      <td>Художественный</td>\n",
       "      <td>ООО \"ХАЙПФИЛМ\", ООО \"Арт Пикчерс Студия\"</td>\n",
       "      <td>Россия</td>\n",
       "      <td>А.Молочников</td>\n",
       "      <td>Ф.Бондарчук, Д.Рудовский, И.Стюарт, М.Османн, ...</td>\n",
       "      <td>«16+» - для детей старше 16 лет</td>\n",
       "      <td>25,000,000.0</td>\n",
       "      <td>20,000,000.0</td>\n",
       "      <td>0.0</td>\n",
       "      <td>Фонд кино</td>\n",
       "      <td>4.8</td>\n",
       "      <td>комедия</td>\n",
       "      <td>50,451,949.0</td>\n",
       "    </tr>\n",
       "    <tr>\n",
       "      <th>5673</th>\n",
       "      <td>Селфи</td>\n",
       "      <td>111012117</td>\n",
       "      <td>2018-02-01 12:00:00</td>\n",
       "      <td>Художественный</td>\n",
       "      <td>ООО \"Киностудия \"Слово\", ООО \"Арт Пикчерс Студия\"</td>\n",
       "      <td>Россия</td>\n",
       "      <td>Н.Хомерики</td>\n",
       "      <td>П.Ануров, Ф.Бондарчук, Д.Рудовский</td>\n",
       "      <td>«16+» - для детей старше 16 лет</td>\n",
       "      <td>20,000,000.0</td>\n",
       "      <td>40,000,000.0</td>\n",
       "      <td>0.0</td>\n",
       "      <td>Фонд кино</td>\n",
       "      <td>5.8</td>\n",
       "      <td>триллер,драма</td>\n",
       "      <td>225,196,400.0</td>\n",
       "    </tr>\n",
       "    <tr>\n",
       "      <th>5806</th>\n",
       "      <td>Два хвоста</td>\n",
       "      <td>114001018</td>\n",
       "      <td>2018-05-31 12:00:00</td>\n",
       "      <td>Анимационный</td>\n",
       "      <td>ООО \"ЛИЦЕНЗИОННЫЕ БРЕНДЫ\"</td>\n",
       "      <td>Россия</td>\n",
       "      <td>В.Ровенский, Н.Лопато, В.Азеев</td>\n",
       "      <td>ООО \"ЛИЦЕНЗИОННЫЕ БРЕНДЫ\"</td>\n",
       "      <td>«6+» - для детей старше 6 лет</td>\n",
       "      <td>10,000,000.0</td>\n",
       "      <td>60,000,000.0</td>\n",
       "      <td>0.0</td>\n",
       "      <td>Фонд кино</td>\n",
       "      <td>5.0</td>\n",
       "      <td>мультфильм,детский</td>\n",
       "      <td>106,514,301.0</td>\n",
       "    </tr>\n",
       "    <tr>\n",
       "      <th>6008</th>\n",
       "      <td>Принцесса и дракон</td>\n",
       "      <td>114003018</td>\n",
       "      <td>2018-08-23 12:00:00</td>\n",
       "      <td>Анимационный</td>\n",
       "      <td>ООО \"ЛИЦЕНЗИОННЫЕ БРЕНДЫ\"</td>\n",
       "      <td>Россия</td>\n",
       "      <td>М.Нефедова</td>\n",
       "      <td>ООО \"ЛИЦЕНЗИОННЫЕ БРЕНДЫ\"</td>\n",
       "      <td>«6+» - для детей старше 6 лет</td>\n",
       "      <td>40,000,000.0</td>\n",
       "      <td>40,000,000.0</td>\n",
       "      <td>0.0</td>\n",
       "      <td>Фонд кино</td>\n",
       "      <td>5.2</td>\n",
       "      <td>мультфильм,фэнтези,детский</td>\n",
       "      <td>83,366,328.7</td>\n",
       "    </tr>\n",
       "    <tr>\n",
       "      <th>6323</th>\n",
       "      <td>Баба Яга</td>\n",
       "      <td>114006518</td>\n",
       "      <td>2018-11-08 12:00:00</td>\n",
       "      <td>Анимационный</td>\n",
       "      <td>ООО \"Арт Пикчерс Студия\"</td>\n",
       "      <td>Россия</td>\n",
       "      <td>В.Саков</td>\n",
       "      <td>ООО \"Арт Пикчерс Студия\", ООО \"КРИЭЙТИВ АНИМЭЙ...</td>\n",
       "      <td>«6+» - для детей старше 6 лет</td>\n",
       "      <td>0.0</td>\n",
       "      <td>138,969,465.0</td>\n",
       "      <td>0.0</td>\n",
       "      <td>Фонд кино</td>\n",
       "      <td>NaN</td>\n",
       "      <td>NaN</td>\n",
       "      <td>1,334,699.4</td>\n",
       "    </tr>\n",
       "    <tr>\n",
       "      <th>6823</th>\n",
       "      <td>Большое путешествие</td>\n",
       "      <td>114002419</td>\n",
       "      <td>2019-04-20 12:00:00</td>\n",
       "      <td>Анимационный</td>\n",
       "      <td>ООО \"ЛИЦЕНЗИОННЫЕ БРЕНДЫ\"</td>\n",
       "      <td>Россия</td>\n",
       "      <td>Н.Лопато, В.Ровенский</td>\n",
       "      <td>ООО \"ЛИЦЕНЗИОННЫЕ БРЕНДЫ\"</td>\n",
       "      <td>«6+» - для детей старше 6 лет</td>\n",
       "      <td>60,000,000.0</td>\n",
       "      <td>120,000,000.0</td>\n",
       "      <td>0.0</td>\n",
       "      <td>Фонд кино</td>\n",
       "      <td>6.2</td>\n",
       "      <td>мультфильм,комедия,приключения</td>\n",
       "      <td>147,606,826.5</td>\n",
       "    </tr>\n",
       "  </tbody>\n",
       "</table>\n",
       "</div>"
      ],
      "text/plain": [
       "                       title   puNumber     show_start_date            type  \\\n",
       "2053                     14+  111023614 2014-12-19 12:00:00  Художественный   \n",
       "2058               Дуxless 2  111000415 2015-01-26 12:00:00  Художественный   \n",
       "2472             Воин (2015)  111017315 2015-09-28 12:00:00  Художественный   \n",
       "2532                 Бармен.  111009615 2015-05-26 12:00:00  Художественный   \n",
       "2615     Савва. Сердце воина  114001715 2015-07-21 12:00:00    Анимационный   \n",
       "2684          Тряпичный союз  111010215 2015-06-08 12:00:00  Художественный   \n",
       "2788      Срочно выйду замуж  111017115 2015-09-30 12:00:00  Художественный   \n",
       "2874       Помню - не помню!  111004916 2016-03-01 12:00:00  Художественный   \n",
       "3047  Любовь с ограничениями  111008216 2016-04-29 12:00:00  Художественный   \n",
       "3565       Притяжение (2016)  111018116 2016-12-16 12:00:00  Художественный   \n",
       "3675                Чудо-юдо  114001817 2017-06-27 12:00:00    Анимационный   \n",
       "3739                    Мифы  111004317 2017-06-07 12:00:00  Художественный   \n",
       "5673                   Селфи  111012117 2018-02-01 12:00:00  Художественный   \n",
       "5806              Два хвоста  114001018 2018-05-31 12:00:00    Анимационный   \n",
       "6008      Принцесса и дракон  114003018 2018-08-23 12:00:00    Анимационный   \n",
       "6323                Баба Яга  114006518 2018-11-08 12:00:00    Анимационный   \n",
       "6823     Большое путешествие  114002419 2019-04-20 12:00:00    Анимационный   \n",
       "\n",
       "                                            film_studio production_country  \\\n",
       "2053                         ООО Киностудия  \"Сентябрь\"             Россия   \n",
       "2058  ООО \"Киностудия \"Слово\", ООО \"Арт Пикчерс Студия\"             Россия   \n",
       "2472   ООО \"Форпост Продакшн\", ООО \"Арт Пикчерс Студия\"             Россия   \n",
       "2532          АО \"ВайТ Медиа\", ООО \"Арт Пикчерс Студия\"             Россия   \n",
       "2615   ООО \"Глюкоза Продакшн\", ООО \"Арт Пикчерс Студия\"             Россия   \n",
       "2684                      ООО \"Кинокомпания \"КОКТЕБЕЛЬ\"             Россия   \n",
       "2788          АО \"ВайТ Медиа\", ООО \"Арт Пикчерс Студия\"             Россия   \n",
       "2874                                    ООО \"КиноФирма\"             Россия   \n",
       "3047          АО \"ВайТ Медиа\", ООО \"Арт Пикчерс Студия\"             Россия   \n",
       "3565      ООО \"Водород 2011\",  ООО \"Арт Пикчерс Студия\"             Россия   \n",
       "3675                                    ООО \"КиноФирма\"             Россия   \n",
       "3739           ООО \"ХАЙПФИЛМ\", ООО \"Арт Пикчерс Студия\"             Россия   \n",
       "5673  ООО \"Киностудия \"Слово\", ООО \"Арт Пикчерс Студия\"             Россия   \n",
       "5806                          ООО \"ЛИЦЕНЗИОННЫЕ БРЕНДЫ\"             Россия   \n",
       "6008                          ООО \"ЛИЦЕНЗИОННЫЕ БРЕНДЫ\"             Россия   \n",
       "6323                           ООО \"Арт Пикчерс Студия\"             Россия   \n",
       "6823                          ООО \"ЛИЦЕНЗИОННЫЕ БРЕНДЫ\"             Россия   \n",
       "\n",
       "                            director  \\\n",
       "2053                        А.Зайцев   \n",
       "2058                      Р.Прыгунов   \n",
       "2472                     А.Андрианов   \n",
       "2532                    Д.Штурманова   \n",
       "2615                        М.Фадеев   \n",
       "2684                     М.Местецкий   \n",
       "2788                       С Чекалов   \n",
       "2874                     В.Ровенский   \n",
       "3047                         Д.Тюрин   \n",
       "3565                     Ф.Бондарчук   \n",
       "3675                       А.Лукичев   \n",
       "3739                    А.Молочников   \n",
       "5673                      Н.Хомерики   \n",
       "5806  В.Ровенский, Н.Лопато, В.Азеев   \n",
       "6008                      М.Нефедова   \n",
       "6323                         В.Саков   \n",
       "6823           Н.Лопато, В.Ровенский   \n",
       "\n",
       "                                               producer  \\\n",
       "2053                                О.Гранина, А.Зайцев   \n",
       "2058                 П.Ануров, Ф.Бондарчук, Д.Рудовский   \n",
       "2472                           ООО \"Арт Пикчерс Студия\"   \n",
       "2532                                        Т.Вайнштейн   \n",
       "2615                                         А.Чистяков   \n",
       "2684                              Р.Борисевич, А.Кушаев   \n",
       "2788              Ф.Бондарчук, Т.Вайнштейн, Д.Рудовский   \n",
       "2874                                    ООО \"КиноФирма\"   \n",
       "3047              Ф.Бондарчук, Т.Вайнштейн, Д.Рудовский   \n",
       "3565                           ООО \"Арт Пикчерс Студия\"   \n",
       "3675                                    ООО \"КиноФирма\"   \n",
       "3739  Ф.Бондарчук, Д.Рудовский, И.Стюарт, М.Османн, ...   \n",
       "5673                 П.Ануров, Ф.Бондарчук, Д.Рудовский   \n",
       "5806                          ООО \"ЛИЦЕНЗИОННЫЕ БРЕНДЫ\"   \n",
       "6008                          ООО \"ЛИЦЕНЗИОННЫЕ БРЕНДЫ\"   \n",
       "6323  ООО \"Арт Пикчерс Студия\", ООО \"КРИЭЙТИВ АНИМЭЙ...   \n",
       "6823                          ООО \"ЛИЦЕНЗИОННЫЕ БРЕНДЫ\"   \n",
       "\n",
       "                      age_restriction  refundable_support  \\\n",
       "2053  «16+» - для детей старше 16 лет                 0.0   \n",
       "2058  «16+» - для детей старше 16 лет                 0.0   \n",
       "2472  «12+» - для детей старше 12 лет        10,000,000.0   \n",
       "2532  «16+» - для детей старше 16 лет        20,000,000.0   \n",
       "2615    «6+» - для детей старше 6 лет        60,000,000.0   \n",
       "2684      «18+» - запрещено для детей                 0.0   \n",
       "2788  «16+» - для детей старше 16 лет                 0.0   \n",
       "2874  «12+» - для детей старше 12 лет                 0.0   \n",
       "3047  «16+» - для детей старше 16 лет        19,000,000.0   \n",
       "3565  «12+» - для детей старше 12 лет                 0.0   \n",
       "3675    «6+» - для детей старше 6 лет        20,000,000.0   \n",
       "3739  «16+» - для детей старше 16 лет        25,000,000.0   \n",
       "5673  «16+» - для детей старше 16 лет        20,000,000.0   \n",
       "5806    «6+» - для детей старше 6 лет        10,000,000.0   \n",
       "6008    «6+» - для детей старше 6 лет        40,000,000.0   \n",
       "6323    «6+» - для детей старше 6 лет                 0.0   \n",
       "6823    «6+» - для детей старше 6 лет        60,000,000.0   \n",
       "\n",
       "      nonrefundable_support  budget                  financing_source  \\\n",
       "2053           23,000,000.0     0.0  Министерство культуры, Фонд кино   \n",
       "2058           75,000,000.0     0.0                         Фонд кино   \n",
       "2472           70,000,000.0     0.0                         Фонд кино   \n",
       "2532                    0.0     0.0                         Фонд кино   \n",
       "2615          100,000,000.0     0.0                         Фонд кино   \n",
       "2684           59,000,000.0     0.0                         Фонд кино   \n",
       "2788           35,000,000.0     0.0                         Фонд кино   \n",
       "2874            6,000,000.0     0.0             Министерство культуры   \n",
       "3047           51,000,000.0     0.0                         Фонд кино   \n",
       "3565          250,000,000.0     0.0                         Фонд кино   \n",
       "3675           20,000,000.0     0.0                         Фонд кино   \n",
       "3739           20,000,000.0     0.0                         Фонд кино   \n",
       "5673           40,000,000.0     0.0                         Фонд кино   \n",
       "5806           60,000,000.0     0.0                         Фонд кино   \n",
       "6008           40,000,000.0     0.0                         Фонд кино   \n",
       "6323          138,969,465.0     0.0                         Фонд кино   \n",
       "6823          120,000,000.0     0.0                         Фонд кино   \n",
       "\n",
       "      ratings                          genres      box_office  \n",
       "2053      6.6                       мелодрама    10,234,016.1  \n",
       "2058      6.6                           драма   446,163,511.0  \n",
       "2472      7.8           боевик,драма,криминал   196,572,438.4  \n",
       "2532      6.2                 комедия,фэнтези    67,418,974.8  \n",
       "2615      4.6  мультфильм,приключения,фэнтези   184,487,551.4  \n",
       "2684      6.3                   комедия,драма     1,957,738.5  \n",
       "2788      5.1               комедия,мелодрама    72,937,783.2  \n",
       "2874      4.3                         комедия    15,362,931.4  \n",
       "3047      6.3               комедия,мелодрама    70,299,052.0  \n",
       "3565      5.6                      фантастика 1,038,321,489.0  \n",
       "3675      5.2     мультфильм,фэнтези,семейный    55,108,014.8  \n",
       "3739      4.8                         комедия    50,451,949.0  \n",
       "5673      5.8                   триллер,драма   225,196,400.0  \n",
       "5806      5.0              мультфильм,детский   106,514,301.0  \n",
       "6008      5.2      мультфильм,фэнтези,детский    83,366,328.7  \n",
       "6323      NaN                             NaN     1,334,699.4  \n",
       "6823      6.2  мультфильм,комедия,приключения   147,606,826.5  "
      ]
     },
     "execution_count": 22,
     "metadata": {},
     "output_type": "execute_result"
    }
   ],
   "source": [
    "# Есть фильмы с нулевым бюджетом, посмотрим такие значения\n",
    "wrong_budget = films[films['budget'] < (films['refundable_support'] + films['nonrefundable_support'])]\n",
    "wrong_budget"
   ]
  },
  {
   "cell_type": "markdown",
   "metadata": {},
   "source": [
    "Есть ряд фильмов, которые получали господдержку, но в бюджете стоит 0. Исправим в них бюджет на сумму поддержки."
   ]
  },
  {
   "cell_type": "code",
   "execution_count": 23,
   "metadata": {},
   "outputs": [],
   "source": [
    "def correct_budget(row):\n",
    "    if row['budget'] < (row['refundable_support'] + row['nonrefundable_support']):\n",
    "        return row['refundable_support'] + row['nonrefundable_support']\n",
    "    return row['budget']\n"
   ]
  },
  {
   "cell_type": "code",
   "execution_count": 24,
   "metadata": {},
   "outputs": [
    {
     "data": {
      "text/plain": [
       "count             332.0\n",
       "mean      131,422,395.8\n",
       "std       187,148,242.7\n",
       "min         6,000,000.0\n",
       "25%        45,524,799.5\n",
       "50%        71,196,901.5\n",
       "75%       150,000,000.0\n",
       "max     2,305,074,303.0\n",
       "Name: budget_corrected, dtype: float64"
      ]
     },
     "execution_count": 24,
     "metadata": {},
     "output_type": "execute_result"
    }
   ],
   "source": [
    "films['budget_corrected'] = films.apply(correct_budget, axis=1)\n",
    "films['budget_corrected'].describe()"
   ]
  },
  {
   "cell_type": "markdown",
   "metadata": {},
   "source": [
    "**Вывод:** Был ряд фильмов, которые получали господдержку, но в бюджете стоял 0. Исправили такие строки бюджета на сумму видов гос.поддержки.\n"
   ]
  },
  {
   "cell_type": "markdown",
   "metadata": {
    "id": "Eu6oWp2CgFyS"
   },
   "source": [
    "#### Шаг 2.6. Добавим новые столбцы\n",
    "\n",
    "\n",
    "\n"
   ]
  },
  {
   "cell_type": "markdown",
   "metadata": {
    "id": "7GgW-UpAgFyS"
   },
   "source": [
    "- Создим столбец с информацией о годе проката. Выделим год из даты премьеры фильма."
   ]
  },
  {
   "cell_type": "code",
   "execution_count": 25,
   "metadata": {
    "id": "I-yd1DkWgFyT"
   },
   "outputs": [
    {
     "name": "stdout",
     "output_type": "stream",
     "text": [
      "<class 'pandas.core.frame.DataFrame'>\n",
      "Int64Index: 7486 entries, 0 to 7485\n",
      "Data columns (total 18 columns):\n",
      " #   Column                 Non-Null Count  Dtype         \n",
      "---  ------                 --------------  -----         \n",
      " 0   title                  7486 non-null   object        \n",
      " 1   puNumber               7486 non-null   int64         \n",
      " 2   show_start_date        7486 non-null   datetime64[ns]\n",
      " 3   type                   7486 non-null   object        \n",
      " 4   film_studio            7486 non-null   object        \n",
      " 5   production_country     7486 non-null   object        \n",
      " 6   director               7486 non-null   object        \n",
      " 7   producer               7486 non-null   object        \n",
      " 8   age_restriction        7486 non-null   object        \n",
      " 9   refundable_support     7486 non-null   float64       \n",
      " 10  nonrefundable_support  7486 non-null   float64       \n",
      " 11  budget                 332 non-null    float64       \n",
      " 12  financing_source       332 non-null    object        \n",
      " 13  ratings                6519 non-null   float64       \n",
      " 14  genres                 6510 non-null   object        \n",
      " 15  box_office             3158 non-null   float64       \n",
      " 16  budget_corrected       332 non-null    float64       \n",
      " 17  year                   7486 non-null   int64         \n",
      "dtypes: datetime64[ns](1), float64(6), int64(2), object(9)\n",
      "memory usage: 1.3+ MB\n"
     ]
    }
   ],
   "source": [
    "films['year'] = pd.DatetimeIndex(films['show_start_date']).year\n",
    "films.info()"
   ]
  },
  {
   "cell_type": "markdown",
   "metadata": {
    "id": "nFTDLDYOgFyT"
   },
   "source": [
    "- Создим два столбца: с именем и фамилией главного режиссёра и основным жанром фильма. В столбцы войдут первые значения из списка режиссёров и жанров соответственно.\n"
   ]
  },
  {
   "cell_type": "code",
   "execution_count": 26,
   "metadata": {
    "id": "LSbRZKbMgFyU"
   },
   "outputs": [
    {
     "data": {
      "text/html": [
       "<div>\n",
       "<style scoped>\n",
       "    .dataframe tbody tr th:only-of-type {\n",
       "        vertical-align: middle;\n",
       "    }\n",
       "\n",
       "    .dataframe tbody tr th {\n",
       "        vertical-align: top;\n",
       "    }\n",
       "\n",
       "    .dataframe thead th {\n",
       "        text-align: right;\n",
       "    }\n",
       "</style>\n",
       "<table border=\"1\" class=\"dataframe\">\n",
       "  <thead>\n",
       "    <tr style=\"text-align: right;\">\n",
       "      <th></th>\n",
       "      <th>title</th>\n",
       "      <th>puNumber</th>\n",
       "      <th>show_start_date</th>\n",
       "      <th>type</th>\n",
       "      <th>film_studio</th>\n",
       "      <th>production_country</th>\n",
       "      <th>director</th>\n",
       "      <th>producer</th>\n",
       "      <th>age_restriction</th>\n",
       "      <th>refundable_support</th>\n",
       "      <th>nonrefundable_support</th>\n",
       "      <th>budget</th>\n",
       "      <th>financing_source</th>\n",
       "      <th>ratings</th>\n",
       "      <th>genres</th>\n",
       "      <th>box_office</th>\n",
       "      <th>budget_corrected</th>\n",
       "      <th>year</th>\n",
       "      <th>main_director</th>\n",
       "      <th>main_genres</th>\n",
       "    </tr>\n",
       "  </thead>\n",
       "  <tbody>\n",
       "    <tr>\n",
       "      <th>0</th>\n",
       "      <td>Открытый простор</td>\n",
       "      <td>221048915</td>\n",
       "      <td>2015-11-27 12:00:00</td>\n",
       "      <td>Художественный</td>\n",
       "      <td>Тачстоун Пикчерз, Кобальт Пикчерз, Бикон Пикче...</td>\n",
       "      <td>США</td>\n",
       "      <td>Кевин Костнер</td>\n",
       "      <td>Дэвид Валдес, Кевин Костнер, Джейк Эбертс</td>\n",
       "      <td>«18+» - запрещено для детей</td>\n",
       "      <td>0.0</td>\n",
       "      <td>0.0</td>\n",
       "      <td>NaN</td>\n",
       "      <td>NaN</td>\n",
       "      <td>7.2</td>\n",
       "      <td>боевик,драма,мелодрама</td>\n",
       "      <td>NaN</td>\n",
       "      <td>NaN</td>\n",
       "      <td>2015</td>\n",
       "      <td>Кевин Костнер</td>\n",
       "      <td>боевик</td>\n",
       "    </tr>\n",
       "    <tr>\n",
       "      <th>1</th>\n",
       "      <td>Особо важное задание</td>\n",
       "      <td>111013716</td>\n",
       "      <td>2016-09-13 12:00:00</td>\n",
       "      <td>Художественный</td>\n",
       "      <td>Киностудия \"Мосфильм\"</td>\n",
       "      <td>СССР</td>\n",
       "      <td>Е.Матвеев</td>\n",
       "      <td>unkown</td>\n",
       "      <td>«6+» - для детей старше 6 лет</td>\n",
       "      <td>0.0</td>\n",
       "      <td>0.0</td>\n",
       "      <td>NaN</td>\n",
       "      <td>NaN</td>\n",
       "      <td>6.6</td>\n",
       "      <td>драма,военный</td>\n",
       "      <td>NaN</td>\n",
       "      <td>NaN</td>\n",
       "      <td>2016</td>\n",
       "      <td>Е.Матвеев</td>\n",
       "      <td>драма</td>\n",
       "    </tr>\n",
       "    <tr>\n",
       "      <th>2</th>\n",
       "      <td>Особо опасен</td>\n",
       "      <td>221038416</td>\n",
       "      <td>2016-10-10 12:00:00</td>\n",
       "      <td>Художественный</td>\n",
       "      <td>Юниверсал Пикчерз, Кикстарт Продакшнз, Марк Пл...</td>\n",
       "      <td>США</td>\n",
       "      <td>Тимур Бекмамбетов</td>\n",
       "      <td>Джим Лемли, Джейсон Нетер, Марк Е.Платт, Яйн Смит</td>\n",
       "      <td>«18+» - запрещено для детей</td>\n",
       "      <td>0.0</td>\n",
       "      <td>0.0</td>\n",
       "      <td>NaN</td>\n",
       "      <td>NaN</td>\n",
       "      <td>6.8</td>\n",
       "      <td>фантастика,боевик,триллер</td>\n",
       "      <td>NaN</td>\n",
       "      <td>NaN</td>\n",
       "      <td>2016</td>\n",
       "      <td>Тимур Бекмамбетов</td>\n",
       "      <td>фантастика</td>\n",
       "    </tr>\n",
       "    <tr>\n",
       "      <th>3</th>\n",
       "      <td>Особо опасен</td>\n",
       "      <td>221026916</td>\n",
       "      <td>2016-06-10 12:00:00</td>\n",
       "      <td>Художественный</td>\n",
       "      <td>Юниверсал Пикчерз, Кикстарт Продакшнз, Марк Пл...</td>\n",
       "      <td>США</td>\n",
       "      <td>Тимур Бекмамбетов</td>\n",
       "      <td>Джим Лемли, Джейсон Нетер, Марк Е.Платт, Яйн Смит</td>\n",
       "      <td>«18+» - запрещено для детей</td>\n",
       "      <td>0.0</td>\n",
       "      <td>0.0</td>\n",
       "      <td>NaN</td>\n",
       "      <td>NaN</td>\n",
       "      <td>6.8</td>\n",
       "      <td>фантастика,боевик,триллер</td>\n",
       "      <td>NaN</td>\n",
       "      <td>NaN</td>\n",
       "      <td>2016</td>\n",
       "      <td>Тимур Бекмамбетов</td>\n",
       "      <td>фантастика</td>\n",
       "    </tr>\n",
       "    <tr>\n",
       "      <th>4</th>\n",
       "      <td>Особо опасен</td>\n",
       "      <td>221030815</td>\n",
       "      <td>2015-07-29 12:00:00</td>\n",
       "      <td>Художественный</td>\n",
       "      <td>Юниверсал Пикчерз, Кикстарт Продакшнз, Марк Пл...</td>\n",
       "      <td>США</td>\n",
       "      <td>Тимур Бекмамбетов</td>\n",
       "      <td>Джим Лемли, Джейсон Нетер, Марк Е.Платт, Яйн Смит</td>\n",
       "      <td>«18+» - запрещено для детей</td>\n",
       "      <td>0.0</td>\n",
       "      <td>0.0</td>\n",
       "      <td>NaN</td>\n",
       "      <td>NaN</td>\n",
       "      <td>6.8</td>\n",
       "      <td>фантастика,боевик,триллер</td>\n",
       "      <td>NaN</td>\n",
       "      <td>NaN</td>\n",
       "      <td>2015</td>\n",
       "      <td>Тимур Бекмамбетов</td>\n",
       "      <td>фантастика</td>\n",
       "    </tr>\n",
       "  </tbody>\n",
       "</table>\n",
       "</div>"
      ],
      "text/plain": [
       "                  title   puNumber     show_start_date            type  \\\n",
       "0      Открытый простор  221048915 2015-11-27 12:00:00  Художественный   \n",
       "1  Особо важное задание  111013716 2016-09-13 12:00:00  Художественный   \n",
       "2          Особо опасен  221038416 2016-10-10 12:00:00  Художественный   \n",
       "3          Особо опасен  221026916 2016-06-10 12:00:00  Художественный   \n",
       "4          Особо опасен  221030815 2015-07-29 12:00:00  Художественный   \n",
       "\n",
       "                                         film_studio production_country  \\\n",
       "0  Тачстоун Пикчерз, Кобальт Пикчерз, Бикон Пикче...                США   \n",
       "1                              Киностудия \"Мосфильм\"               СССР   \n",
       "2  Юниверсал Пикчерз, Кикстарт Продакшнз, Марк Пл...                США   \n",
       "3  Юниверсал Пикчерз, Кикстарт Продакшнз, Марк Пл...                США   \n",
       "4  Юниверсал Пикчерз, Кикстарт Продакшнз, Марк Пл...                США   \n",
       "\n",
       "            director                                           producer  \\\n",
       "0      Кевин Костнер          Дэвид Валдес, Кевин Костнер, Джейк Эбертс   \n",
       "1          Е.Матвеев                                             unkown   \n",
       "2  Тимур Бекмамбетов  Джим Лемли, Джейсон Нетер, Марк Е.Платт, Яйн Смит   \n",
       "3  Тимур Бекмамбетов  Джим Лемли, Джейсон Нетер, Марк Е.Платт, Яйн Смит   \n",
       "4  Тимур Бекмамбетов  Джим Лемли, Джейсон Нетер, Марк Е.Платт, Яйн Смит   \n",
       "\n",
       "                 age_restriction  refundable_support  nonrefundable_support  \\\n",
       "0    «18+» - запрещено для детей                 0.0                    0.0   \n",
       "1  «6+» - для детей старше 6 лет                 0.0                    0.0   \n",
       "2    «18+» - запрещено для детей                 0.0                    0.0   \n",
       "3    «18+» - запрещено для детей                 0.0                    0.0   \n",
       "4    «18+» - запрещено для детей                 0.0                    0.0   \n",
       "\n",
       "   budget financing_source  ratings                     genres  box_office  \\\n",
       "0     NaN              NaN      7.2     боевик,драма,мелодрама         NaN   \n",
       "1     NaN              NaN      6.6              драма,военный         NaN   \n",
       "2     NaN              NaN      6.8  фантастика,боевик,триллер         NaN   \n",
       "3     NaN              NaN      6.8  фантастика,боевик,триллер         NaN   \n",
       "4     NaN              NaN      6.8  фантастика,боевик,триллер         NaN   \n",
       "\n",
       "   budget_corrected  year      main_director main_genres  \n",
       "0               NaN  2015      Кевин Костнер      боевик  \n",
       "1               NaN  2016          Е.Матвеев       драма  \n",
       "2               NaN  2016  Тимур Бекмамбетов  фантастика  \n",
       "3               NaN  2016  Тимур Бекмамбетов  фантастика  \n",
       "4               NaN  2015  Тимур Бекмамбетов  фантастика  "
      ]
     },
     "execution_count": 26,
     "metadata": {},
     "output_type": "execute_result"
    }
   ],
   "source": [
    "def add_main(films, columns):\n",
    "    for column in columns:\n",
    "        films[f'main_{column}'] = films[column].dropna().apply(lambda x: x.split(',')[0])\n",
    "    return films\n",
    "\n",
    "films = add_main(films, ['director', 'genres'])\n",
    "films.head()"
   ]
  },
  {
   "cell_type": "markdown",
   "metadata": {
    "id": "1FsCXHwdgFyU"
   },
   "source": [
    "- Посчитайте, какую долю от общего бюджета фильма составляет государственная поддержка."
   ]
  },
  {
   "cell_type": "code",
   "execution_count": 27,
   "metadata": {},
   "outputs": [
    {
     "name": "stdout",
     "output_type": "stream",
     "text": [
      "Доля участия государства в бюджете фильма составляет 0.6140376284219444\n"
     ]
    }
   ],
   "source": [
    "# найдем процент господдержки в бюджете фильма\n",
    "films['support_percentage'] = ((films['refundable_support'] + films['nonrefundable_support']) / \n",
    "                               films['budget_corrected'])\n",
    "support_percentage = films['support_percentage'].median()\n",
    "\n",
    "print('Доля участия государства в бюджете фильма составляет', support_percentage)"
   ]
  },
  {
   "cell_type": "markdown",
   "metadata": {
    "id": "6t4EukPLgFyV"
   },
   "source": [
    "### Шаг 3. Исследовательский анализ данных\n"
   ]
  },
  {
   "cell_type": "markdown",
   "metadata": {
    "id": "vAH8WCzugFyV"
   },
   "source": [
    "- Посмотрим, сколько фильмов выходило в прокат каждый год. осчитайте, какую долю составляют фильмы с указанной информацией о прокате в кинотеатрах."
   ]
  },
  {
   "cell_type": "code",
   "execution_count": 28,
   "metadata": {
    "id": "ABeV47y7gFyW"
   },
   "outputs": [
    {
     "data": {
      "text/html": [
       "<div>\n",
       "<style scoped>\n",
       "    .dataframe tbody tr th:only-of-type {\n",
       "        vertical-align: middle;\n",
       "    }\n",
       "\n",
       "    .dataframe tbody tr th {\n",
       "        vertical-align: top;\n",
       "    }\n",
       "\n",
       "    .dataframe thead th {\n",
       "        text-align: right;\n",
       "    }\n",
       "</style>\n",
       "<table border=\"1\" class=\"dataframe\">\n",
       "  <thead>\n",
       "    <tr style=\"text-align: right;\">\n",
       "      <th></th>\n",
       "      <th>count</th>\n",
       "      <th>sum</th>\n",
       "      <th>mean</th>\n",
       "      <th>median</th>\n",
       "    </tr>\n",
       "    <tr>\n",
       "      <th>year</th>\n",
       "      <th></th>\n",
       "      <th></th>\n",
       "      <th></th>\n",
       "      <th></th>\n",
       "    </tr>\n",
       "  </thead>\n",
       "  <tbody>\n",
       "    <tr>\n",
       "      <th>2010</th>\n",
       "      <td>105</td>\n",
       "      <td>2,428,654.0</td>\n",
       "      <td>23,130.0</td>\n",
       "      <td>1,700.0</td>\n",
       "    </tr>\n",
       "    <tr>\n",
       "      <th>2011</th>\n",
       "      <td>109</td>\n",
       "      <td>14,102,765.0</td>\n",
       "      <td>129,383.2</td>\n",
       "      <td>3,000.0</td>\n",
       "    </tr>\n",
       "    <tr>\n",
       "      <th>2012</th>\n",
       "      <td>128</td>\n",
       "      <td>6,955,423.0</td>\n",
       "      <td>54,339.2</td>\n",
       "      <td>5,660.0</td>\n",
       "    </tr>\n",
       "    <tr>\n",
       "      <th>2013</th>\n",
       "      <td>184</td>\n",
       "      <td>29,799,706.2</td>\n",
       "      <td>161,954.9</td>\n",
       "      <td>3,522.5</td>\n",
       "    </tr>\n",
       "    <tr>\n",
       "      <th>2014</th>\n",
       "      <td>279</td>\n",
       "      <td>7,444,951,859.2</td>\n",
       "      <td>26,684,415.3</td>\n",
       "      <td>18,160.0</td>\n",
       "    </tr>\n",
       "    <tr>\n",
       "      <th>2015</th>\n",
       "      <td>465</td>\n",
       "      <td>39,497,365,196.4</td>\n",
       "      <td>84,940,570.3</td>\n",
       "      <td>4,920,933.0</td>\n",
       "    </tr>\n",
       "    <tr>\n",
       "      <th>2016</th>\n",
       "      <td>526</td>\n",
       "      <td>47,866,299,741.9</td>\n",
       "      <td>91,000,569.9</td>\n",
       "      <td>3,846,679.4</td>\n",
       "    </tr>\n",
       "    <tr>\n",
       "      <th>2017</th>\n",
       "      <td>357</td>\n",
       "      <td>48,563,707,217.5</td>\n",
       "      <td>136,032,793.3</td>\n",
       "      <td>9,968,340.0</td>\n",
       "    </tr>\n",
       "    <tr>\n",
       "      <th>2018</th>\n",
       "      <td>475</td>\n",
       "      <td>49,668,403,134.3</td>\n",
       "      <td>104,565,059.2</td>\n",
       "      <td>8,891,102.2</td>\n",
       "    </tr>\n",
       "    <tr>\n",
       "      <th>2019</th>\n",
       "      <td>530</td>\n",
       "      <td>48,425,708,779.6</td>\n",
       "      <td>91,369,261.8</td>\n",
       "      <td>4,627,798.3</td>\n",
       "    </tr>\n",
       "  </tbody>\n",
       "</table>\n",
       "</div>"
      ],
      "text/plain": [
       "      count              sum          mean      median\n",
       "year                                                  \n",
       "2010    105      2,428,654.0      23,130.0     1,700.0\n",
       "2011    109     14,102,765.0     129,383.2     3,000.0\n",
       "2012    128      6,955,423.0      54,339.2     5,660.0\n",
       "2013    184     29,799,706.2     161,954.9     3,522.5\n",
       "2014    279  7,444,951,859.2  26,684,415.3    18,160.0\n",
       "2015    465 39,497,365,196.4  84,940,570.3 4,920,933.0\n",
       "2016    526 47,866,299,741.9  91,000,569.9 3,846,679.4\n",
       "2017    357 48,563,707,217.5 136,032,793.3 9,968,340.0\n",
       "2018    475 49,668,403,134.3 104,565,059.2 8,891,102.2\n",
       "2019    530 48,425,708,779.6  91,369,261.8 4,627,798.3"
      ]
     },
     "metadata": {},
     "output_type": "display_data"
    },
    {
     "name": "stdout",
     "output_type": "stream",
     "text": [
      "Доля фильмов, для которых есть информация о сборах: 0.42\n"
     ]
    }
   ],
   "source": [
    "films_per_year = films.loc[films['box_office'].notna(), ['year', 'box_office']] \\\n",
    "                .groupby('year') \\\n",
    "                .agg(['count','sum', 'mean', 'median'])\n",
    "films_per_year.columns = films_per_year.columns.get_level_values(1)\n",
    "display(films_per_year)\n",
    "print(f'Доля фильмов, для которых есть информация о сборах: {films.box_office.notna().mean():.2f}')\n"
   ]
  },
  {
   "cell_type": "code",
   "execution_count": 29,
   "metadata": {},
   "outputs": [
    {
     "data": {
      "text/plain": [
       "<AxesSubplot:title={'center':'Количество фильмов в прокате по годам'}, xlabel='Год выпуска'>"
      ]
     },
     "execution_count": 29,
     "metadata": {},
     "output_type": "execute_result"
    },
    {
     "data": {
      "image/png": "[encoded data removed]",
      "text/plain": [
       "<Figure size 432x288 with 1 Axes>"
      ]
     },
     "metadata": {
      "needs_background": "light"
     },
     "output_type": "display_data"
    }
   ],
   "source": [
    "films_per_year.plot(title='Количество фильмов в прокате по годам',\n",
    "                    kind='bar', y='count', rot=45, grid=True, xlabel='Год выпуска')"
   ]
  },
  {
   "cell_type": "markdown",
   "metadata": {},
   "source": [
    "**Вывод:** Доля фильмов с указанной информацией о прокате составляет 42%. Из графика видно, что меньше всего фильмов выпущенно в 2010г (105 фильмов), далее наблюдается увеличение количества выпускаемых фильмов. Больше всего выпущено в 2019 (530) и в 2016 (526) годах."
   ]
  },
  {
   "cell_type": "markdown",
   "metadata": {
    "id": "BEOdcIrIgFyW"
   },
   "source": [
    "- Изучим, как менялась динамика проката по годам. В каком году сумма сборов была минимальной? А максимальной?"
   ]
  },
  {
   "cell_type": "code",
   "execution_count": 30,
   "metadata": {
    "id": "tfEhofYvgFyX"
   },
   "outputs": [
    {
     "data": {
      "text/plain": [
       "<AxesSubplot:title={'center':'Сумма сборов по годам'}, xlabel='Год выпуска'>"
      ]
     },
     "execution_count": 30,
     "metadata": {},
     "output_type": "execute_result"
    },
    {
     "data": {
      "image/png": "[encoded data removed]",
      "text/plain": [
       "<Figure size 432x288 with 1 Axes>"
      ]
     },
     "metadata": {
      "needs_background": "light"
     },
     "output_type": "display_data"
    }
   ],
   "source": [
    "films_per_year.plot(title='Сумма сборов по годам', kind='line', y='sum',\n",
    "                    rot=45, grid=True,xlabel='Год выпуска')\n"
   ]
  },
  {
   "cell_type": "markdown",
   "metadata": {},
   "source": [
    "**Вывод:** Минимальное количество сборов было в 2010 (2428654), 2011 (14102765) годах. С 2013 года наблюдается рост сборов, что также связано с увеличением количества выпускаемых фильмов. Максимальная сумма сборов была в 2018 году (49668403134), несмотря на то, что в этом году фильмов выпущенно меньше чем в 2019г. "
   ]
  },
  {
   "cell_type": "markdown",
   "metadata": {
    "id": "G-7qS-N-gFyY"
   },
   "source": [
    "- Посчитаеме среднюю и медианную сумму сборов для каждого года."
   ]
  },
  {
   "cell_type": "code",
   "execution_count": 31,
   "metadata": {
    "id": "jmp-rgg9gFyY"
   },
   "outputs": [
    {
     "data": {
      "text/plain": [
       "<AxesSubplot:title={'center':'Средняя и медианная сумма сборов по годам'}, xlabel='Год выпуска'>"
      ]
     },
     "execution_count": 31,
     "metadata": {},
     "output_type": "execute_result"
    },
    {
     "data": {
      "image/png": "[encoded data removed]",
      "text/plain": [
       "<Figure size 432x288 with 1 Axes>"
      ]
     },
     "metadata": {
      "needs_background": "light"
     },
     "output_type": "display_data"
    }
   ],
   "source": [
    "films_per_year.plot(title='Средняя и медианная сумма сборов по годам', kind='line', y=['median', 'mean'],\n",
    "                    rot=45, grid=True, xlabel='Год выпуска' )"
   ]
  },
  {
   "cell_type": "markdown",
   "metadata": {},
   "source": [
    "**Вывод:** Наблюдается большой разброс данных, это видно из разницы между средней и медианой. Это означает, что в данных присутствуют значения с невероятно большими сборами по сравнению с остальными. Что в целом для киноиндустрии можно считать нормой, так как анализировались и кассовые фильмы и авторское кино, и телевизионные проекты. В среднем, самый прибыльный год был 2017. Это видно и по медиане, и по средней.\n",
    "\n"
   ]
  },
  {
   "cell_type": "markdown",
   "metadata": {
    "id": "Ok89WFwJgFyZ"
   },
   "source": [
    "- Определяем, влияет ли возрастное ограничение аудитории («6+», «12+», «16+», «18+» и т. д.) на сборы фильма в прокате в период с 2015 по 2019 год? Фильмы с каким возрастным ограничением собрали больше всего денег в прокате? Меняется ли картина в зависимости от года? Если да, предположите, с чем это может быть связано."
   ]
  },
  {
   "cell_type": "code",
   "execution_count": 32,
   "metadata": {
    "id": "jsSbEqfjgFya"
   },
   "outputs": [
    {
     "data": {
      "text/plain": [
       "<AxesSubplot:title={'center':'Сумма сборов по годам с разбивкой по возрастным категориям'}, xlabel='Год выпуска'>"
      ]
     },
     "execution_count": 32,
     "metadata": {},
     "output_type": "execute_result"
    },
    {
     "data": {
      "image/png": "[encoded data removed]",
      "text/plain": [
       "<Figure size 1080x504 with 1 Axes>"
      ]
     },
     "metadata": {
      "needs_background": "light"
     },
     "output_type": "display_data"
    }
   ],
   "source": [
    "films[films['box_office'].notna()] \\\n",
    "    .pivot_table(index='year',\n",
    "                columns='age_restriction',\n",
    "                values='box_office',\n",
    "                aggfunc='sum') \\\n",
    "    .plot(title='Сумма сборов по годам с разбивкой по возрастным категориям', kind='line', xlim=[2015, 2019],\n",
    "          rot=45, grid=True, figsize=(15,7), xlabel='Год выпуска')\n"
   ]
  },
  {
   "cell_type": "markdown",
   "metadata": {},
   "source": [
    "**Вывод:** По графику почти во все года лидирует по сборам кино 16+, в то время как катнгория 0+ стабильно показывает наименьшее количество сборов. "
   ]
  },
  {
   "cell_type": "markdown",
   "metadata": {
    "id": "l_Kg6Ku4gFya"
   },
   "source": [
    "### Шаг 4. Исследуем фильмы, которые получили государственную поддержку\n",
    "\n"
   ]
  },
  {
   "cell_type": "code",
   "execution_count": 33,
   "metadata": {
    "id": "W9QKpjUdgFyb"
   },
   "outputs": [
    {
     "data": {
      "text/html": [
       "<div>\n",
       "<style scoped>\n",
       "    .dataframe tbody tr th:only-of-type {\n",
       "        vertical-align: middle;\n",
       "    }\n",
       "\n",
       "    .dataframe tbody tr th {\n",
       "        vertical-align: top;\n",
       "    }\n",
       "\n",
       "    .dataframe thead th {\n",
       "        text-align: right;\n",
       "    }\n",
       "</style>\n",
       "<table border=\"1\" class=\"dataframe\">\n",
       "  <thead>\n",
       "    <tr style=\"text-align: right;\">\n",
       "      <th></th>\n",
       "      <th>title</th>\n",
       "      <th>puNumber</th>\n",
       "      <th>show_start_date</th>\n",
       "      <th>type</th>\n",
       "      <th>film_studio</th>\n",
       "      <th>production_country</th>\n",
       "      <th>director</th>\n",
       "      <th>producer</th>\n",
       "      <th>age_restriction</th>\n",
       "      <th>refundable_support</th>\n",
       "      <th>nonrefundable_support</th>\n",
       "      <th>budget</th>\n",
       "      <th>financing_source</th>\n",
       "      <th>ratings</th>\n",
       "      <th>genres</th>\n",
       "      <th>box_office</th>\n",
       "      <th>budget_corrected</th>\n",
       "      <th>year</th>\n",
       "      <th>main_director</th>\n",
       "      <th>main_genres</th>\n",
       "      <th>support_percentage</th>\n",
       "      <th>full_support</th>\n",
       "      <th>profitability</th>\n",
       "      <th>is_paid_off</th>\n",
       "      <th>is_not_paid_off</th>\n",
       "    </tr>\n",
       "  </thead>\n",
       "  <tbody>\n",
       "    <tr>\n",
       "      <th>0</th>\n",
       "      <td>Открытый простор</td>\n",
       "      <td>221048915</td>\n",
       "      <td>2015-11-27 12:00:00</td>\n",
       "      <td>Художественный</td>\n",
       "      <td>Тачстоун Пикчерз, Кобальт Пикчерз, Бикон Пикче...</td>\n",
       "      <td>США</td>\n",
       "      <td>Кевин Костнер</td>\n",
       "      <td>Дэвид Валдес, Кевин Костнер, Джейк Эбертс</td>\n",
       "      <td>«18+» - запрещено для детей</td>\n",
       "      <td>0.0</td>\n",
       "      <td>0.0</td>\n",
       "      <td>NaN</td>\n",
       "      <td>NaN</td>\n",
       "      <td>7.2</td>\n",
       "      <td>боевик,драма,мелодрама</td>\n",
       "      <td>NaN</td>\n",
       "      <td>NaN</td>\n",
       "      <td>2015</td>\n",
       "      <td>Кевин Костнер</td>\n",
       "      <td>боевик</td>\n",
       "      <td>NaN</td>\n",
       "      <td>0.0</td>\n",
       "      <td>NaN</td>\n",
       "      <td>False</td>\n",
       "      <td>True</td>\n",
       "    </tr>\n",
       "    <tr>\n",
       "      <th>1</th>\n",
       "      <td>Особо важное задание</td>\n",
       "      <td>111013716</td>\n",
       "      <td>2016-09-13 12:00:00</td>\n",
       "      <td>Художественный</td>\n",
       "      <td>Киностудия \"Мосфильм\"</td>\n",
       "      <td>СССР</td>\n",
       "      <td>Е.Матвеев</td>\n",
       "      <td>unkown</td>\n",
       "      <td>«6+» - для детей старше 6 лет</td>\n",
       "      <td>0.0</td>\n",
       "      <td>0.0</td>\n",
       "      <td>NaN</td>\n",
       "      <td>NaN</td>\n",
       "      <td>6.6</td>\n",
       "      <td>драма,военный</td>\n",
       "      <td>NaN</td>\n",
       "      <td>NaN</td>\n",
       "      <td>2016</td>\n",
       "      <td>Е.Матвеев</td>\n",
       "      <td>драма</td>\n",
       "      <td>NaN</td>\n",
       "      <td>0.0</td>\n",
       "      <td>NaN</td>\n",
       "      <td>False</td>\n",
       "      <td>True</td>\n",
       "    </tr>\n",
       "    <tr>\n",
       "      <th>2</th>\n",
       "      <td>Особо опасен</td>\n",
       "      <td>221038416</td>\n",
       "      <td>2016-10-10 12:00:00</td>\n",
       "      <td>Художественный</td>\n",
       "      <td>Юниверсал Пикчерз, Кикстарт Продакшнз, Марк Пл...</td>\n",
       "      <td>США</td>\n",
       "      <td>Тимур Бекмамбетов</td>\n",
       "      <td>Джим Лемли, Джейсон Нетер, Марк Е.Платт, Яйн Смит</td>\n",
       "      <td>«18+» - запрещено для детей</td>\n",
       "      <td>0.0</td>\n",
       "      <td>0.0</td>\n",
       "      <td>NaN</td>\n",
       "      <td>NaN</td>\n",
       "      <td>6.8</td>\n",
       "      <td>фантастика,боевик,триллер</td>\n",
       "      <td>NaN</td>\n",
       "      <td>NaN</td>\n",
       "      <td>2016</td>\n",
       "      <td>Тимур Бекмамбетов</td>\n",
       "      <td>фантастика</td>\n",
       "      <td>NaN</td>\n",
       "      <td>0.0</td>\n",
       "      <td>NaN</td>\n",
       "      <td>False</td>\n",
       "      <td>True</td>\n",
       "    </tr>\n",
       "    <tr>\n",
       "      <th>3</th>\n",
       "      <td>Особо опасен</td>\n",
       "      <td>221026916</td>\n",
       "      <td>2016-06-10 12:00:00</td>\n",
       "      <td>Художественный</td>\n",
       "      <td>Юниверсал Пикчерз, Кикстарт Продакшнз, Марк Пл...</td>\n",
       "      <td>США</td>\n",
       "      <td>Тимур Бекмамбетов</td>\n",
       "      <td>Джим Лемли, Джейсон Нетер, Марк Е.Платт, Яйн Смит</td>\n",
       "      <td>«18+» - запрещено для детей</td>\n",
       "      <td>0.0</td>\n",
       "      <td>0.0</td>\n",
       "      <td>NaN</td>\n",
       "      <td>NaN</td>\n",
       "      <td>6.8</td>\n",
       "      <td>фантастика,боевик,триллер</td>\n",
       "      <td>NaN</td>\n",
       "      <td>NaN</td>\n",
       "      <td>2016</td>\n",
       "      <td>Тимур Бекмамбетов</td>\n",
       "      <td>фантастика</td>\n",
       "      <td>NaN</td>\n",
       "      <td>0.0</td>\n",
       "      <td>NaN</td>\n",
       "      <td>False</td>\n",
       "      <td>True</td>\n",
       "    </tr>\n",
       "    <tr>\n",
       "      <th>4</th>\n",
       "      <td>Особо опасен</td>\n",
       "      <td>221030815</td>\n",
       "      <td>2015-07-29 12:00:00</td>\n",
       "      <td>Художественный</td>\n",
       "      <td>Юниверсал Пикчерз, Кикстарт Продакшнз, Марк Пл...</td>\n",
       "      <td>США</td>\n",
       "      <td>Тимур Бекмамбетов</td>\n",
       "      <td>Джим Лемли, Джейсон Нетер, Марк Е.Платт, Яйн Смит</td>\n",
       "      <td>«18+» - запрещено для детей</td>\n",
       "      <td>0.0</td>\n",
       "      <td>0.0</td>\n",
       "      <td>NaN</td>\n",
       "      <td>NaN</td>\n",
       "      <td>6.8</td>\n",
       "      <td>фантастика,боевик,триллер</td>\n",
       "      <td>NaN</td>\n",
       "      <td>NaN</td>\n",
       "      <td>2015</td>\n",
       "      <td>Тимур Бекмамбетов</td>\n",
       "      <td>фантастика</td>\n",
       "      <td>NaN</td>\n",
       "      <td>0.0</td>\n",
       "      <td>NaN</td>\n",
       "      <td>False</td>\n",
       "      <td>True</td>\n",
       "    </tr>\n",
       "    <tr>\n",
       "      <th>...</th>\n",
       "      <td>...</td>\n",
       "      <td>...</td>\n",
       "      <td>...</td>\n",
       "      <td>...</td>\n",
       "      <td>...</td>\n",
       "      <td>...</td>\n",
       "      <td>...</td>\n",
       "      <td>...</td>\n",
       "      <td>...</td>\n",
       "      <td>...</td>\n",
       "      <td>...</td>\n",
       "      <td>...</td>\n",
       "      <td>...</td>\n",
       "      <td>...</td>\n",
       "      <td>...</td>\n",
       "      <td>...</td>\n",
       "      <td>...</td>\n",
       "      <td>...</td>\n",
       "      <td>...</td>\n",
       "      <td>...</td>\n",
       "      <td>...</td>\n",
       "      <td>...</td>\n",
       "      <td>...</td>\n",
       "      <td>...</td>\n",
       "      <td>...</td>\n",
       "    </tr>\n",
       "    <tr>\n",
       "      <th>7481</th>\n",
       "      <td>Сад художника: Американский импрессионизм</td>\n",
       "      <td>126008019</td>\n",
       "      <td>2019-12-23 12:00:00</td>\n",
       "      <td>Прочие</td>\n",
       "      <td>Севен Артс Продакшнз</td>\n",
       "      <td>Великобритания</td>\n",
       "      <td>Фил Грабски</td>\n",
       "      <td>Фил Грабски</td>\n",
       "      <td>«12+» - для детей старше 12 лет</td>\n",
       "      <td>0.0</td>\n",
       "      <td>0.0</td>\n",
       "      <td>NaN</td>\n",
       "      <td>NaN</td>\n",
       "      <td>NaN</td>\n",
       "      <td>NaN</td>\n",
       "      <td>NaN</td>\n",
       "      <td>NaN</td>\n",
       "      <td>2019</td>\n",
       "      <td>Фил Грабски</td>\n",
       "      <td>NaN</td>\n",
       "      <td>NaN</td>\n",
       "      <td>0.0</td>\n",
       "      <td>NaN</td>\n",
       "      <td>False</td>\n",
       "      <td>True</td>\n",
       "    </tr>\n",
       "    <tr>\n",
       "      <th>7482</th>\n",
       "      <td>Звериная ярость</td>\n",
       "      <td>121037819</td>\n",
       "      <td>2019-12-24 12:00:00</td>\n",
       "      <td>Художественный</td>\n",
       "      <td>Дэниел Гродник Продакшнз, Вандерфилм Медиа Кор...</td>\n",
       "      <td>США</td>\n",
       "      <td>Ник Пауэлл</td>\n",
       "      <td>Джефф Боулер, Дэниэл Гродник, Луильо Руис, Брэ...</td>\n",
       "      <td>«16+» - для детей старше 16 лет</td>\n",
       "      <td>0.0</td>\n",
       "      <td>0.0</td>\n",
       "      <td>NaN</td>\n",
       "      <td>NaN</td>\n",
       "      <td>5.4</td>\n",
       "      <td>боевик,триллер</td>\n",
       "      <td>NaN</td>\n",
       "      <td>NaN</td>\n",
       "      <td>2019</td>\n",
       "      <td>Ник Пауэлл</td>\n",
       "      <td>боевик</td>\n",
       "      <td>NaN</td>\n",
       "      <td>0.0</td>\n",
       "      <td>NaN</td>\n",
       "      <td>False</td>\n",
       "      <td>True</td>\n",
       "    </tr>\n",
       "    <tr>\n",
       "      <th>7483</th>\n",
       "      <td>Щенячий патруль: Скорей спешим на помощь!</td>\n",
       "      <td>124010819</td>\n",
       "      <td>2019-12-28 12:00:00</td>\n",
       "      <td>Художественный</td>\n",
       "      <td>Никелодеон Анимейшн Студиос, Спин Мастер</td>\n",
       "      <td>США - Канада</td>\n",
       "      <td>Чарльз Е.Бастьен</td>\n",
       "      <td>Дженнифер Додж</td>\n",
       "      <td>«0+» - для любой зрительской аудитории</td>\n",
       "      <td>0.0</td>\n",
       "      <td>0.0</td>\n",
       "      <td>NaN</td>\n",
       "      <td>NaN</td>\n",
       "      <td>NaN</td>\n",
       "      <td>NaN</td>\n",
       "      <td>NaN</td>\n",
       "      <td>NaN</td>\n",
       "      <td>2019</td>\n",
       "      <td>Чарльз Е.Бастьен</td>\n",
       "      <td>NaN</td>\n",
       "      <td>NaN</td>\n",
       "      <td>0.0</td>\n",
       "      <td>NaN</td>\n",
       "      <td>False</td>\n",
       "      <td>True</td>\n",
       "    </tr>\n",
       "    <tr>\n",
       "      <th>7484</th>\n",
       "      <td>Машины песенки. Серия \"Испанские мотивы\"</td>\n",
       "      <td>124010619</td>\n",
       "      <td>2019-12-30 12:00:00</td>\n",
       "      <td>Анимационный</td>\n",
       "      <td>Анимаккорд Лтд., ООО Студия \"АНИМАККОРД\"</td>\n",
       "      <td>Республика Кипр, Россия</td>\n",
       "      <td>А.Беляев</td>\n",
       "      <td>Д.Ловейко</td>\n",
       "      <td>«0+» - для любой зрительской аудитории</td>\n",
       "      <td>0.0</td>\n",
       "      <td>0.0</td>\n",
       "      <td>NaN</td>\n",
       "      <td>NaN</td>\n",
       "      <td>NaN</td>\n",
       "      <td>NaN</td>\n",
       "      <td>NaN</td>\n",
       "      <td>NaN</td>\n",
       "      <td>2019</td>\n",
       "      <td>А.Беляев</td>\n",
       "      <td>NaN</td>\n",
       "      <td>NaN</td>\n",
       "      <td>0.0</td>\n",
       "      <td>NaN</td>\n",
       "      <td>False</td>\n",
       "      <td>True</td>\n",
       "    </tr>\n",
       "    <tr>\n",
       "      <th>7485</th>\n",
       "      <td>Машины песенки. Серия \"Когда цветут кактусы\"</td>\n",
       "      <td>124010719</td>\n",
       "      <td>2019-12-30 12:00:00</td>\n",
       "      <td>Анимационный</td>\n",
       "      <td>Анимаккорд Лтд., ООО Студия \"АНИМАККОРД\"</td>\n",
       "      <td>Республика Кипр, Россия</td>\n",
       "      <td>И.Трусов</td>\n",
       "      <td>Д.Ловейко</td>\n",
       "      <td>«0+» - для любой зрительской аудитории</td>\n",
       "      <td>0.0</td>\n",
       "      <td>0.0</td>\n",
       "      <td>NaN</td>\n",
       "      <td>NaN</td>\n",
       "      <td>6.3</td>\n",
       "      <td>комедия,вестерн</td>\n",
       "      <td>NaN</td>\n",
       "      <td>NaN</td>\n",
       "      <td>2019</td>\n",
       "      <td>И.Трусов</td>\n",
       "      <td>комедия</td>\n",
       "      <td>NaN</td>\n",
       "      <td>0.0</td>\n",
       "      <td>NaN</td>\n",
       "      <td>False</td>\n",
       "      <td>True</td>\n",
       "    </tr>\n",
       "  </tbody>\n",
       "</table>\n",
       "<p>7486 rows × 25 columns</p>\n",
       "</div>"
      ],
      "text/plain": [
       "                                             title   puNumber  \\\n",
       "0                                 Открытый простор  221048915   \n",
       "1                             Особо важное задание  111013716   \n",
       "2                                     Особо опасен  221038416   \n",
       "3                                     Особо опасен  221026916   \n",
       "4                                     Особо опасен  221030815   \n",
       "...                                            ...        ...   \n",
       "7481     Сад художника: Американский импрессионизм  126008019   \n",
       "7482                               Звериная ярость  121037819   \n",
       "7483     Щенячий патруль: Скорей спешим на помощь!  124010819   \n",
       "7484      Машины песенки. Серия \"Испанские мотивы\"  124010619   \n",
       "7485  Машины песенки. Серия \"Когда цветут кактусы\"  124010719   \n",
       "\n",
       "         show_start_date            type  \\\n",
       "0    2015-11-27 12:00:00  Художественный   \n",
       "1    2016-09-13 12:00:00  Художественный   \n",
       "2    2016-10-10 12:00:00  Художественный   \n",
       "3    2016-06-10 12:00:00  Художественный   \n",
       "4    2015-07-29 12:00:00  Художественный   \n",
       "...                  ...             ...   \n",
       "7481 2019-12-23 12:00:00          Прочие   \n",
       "7482 2019-12-24 12:00:00  Художественный   \n",
       "7483 2019-12-28 12:00:00  Художественный   \n",
       "7484 2019-12-30 12:00:00    Анимационный   \n",
       "7485 2019-12-30 12:00:00    Анимационный   \n",
       "\n",
       "                                            film_studio  \\\n",
       "0     Тачстоун Пикчерз, Кобальт Пикчерз, Бикон Пикче...   \n",
       "1                                 Киностудия \"Мосфильм\"   \n",
       "2     Юниверсал Пикчерз, Кикстарт Продакшнз, Марк Пл...   \n",
       "3     Юниверсал Пикчерз, Кикстарт Продакшнз, Марк Пл...   \n",
       "4     Юниверсал Пикчерз, Кикстарт Продакшнз, Марк Пл...   \n",
       "...                                                 ...   \n",
       "7481                               Севен Артс Продакшнз   \n",
       "7482  Дэниел Гродник Продакшнз, Вандерфилм Медиа Кор...   \n",
       "7483           Никелодеон Анимейшн Студиос, Спин Мастер   \n",
       "7484           Анимаккорд Лтд., ООО Студия \"АНИМАККОРД\"   \n",
       "7485           Анимаккорд Лтд., ООО Студия \"АНИМАККОРД\"   \n",
       "\n",
       "           production_country           director  \\\n",
       "0                         США      Кевин Костнер   \n",
       "1                        СССР          Е.Матвеев   \n",
       "2                         США  Тимур Бекмамбетов   \n",
       "3                         США  Тимур Бекмамбетов   \n",
       "4                         США  Тимур Бекмамбетов   \n",
       "...                       ...                ...   \n",
       "7481           Великобритания        Фил Грабски   \n",
       "7482                      США         Ник Пауэлл   \n",
       "7483             США - Канада   Чарльз Е.Бастьен   \n",
       "7484  Республика Кипр, Россия           А.Беляев   \n",
       "7485  Республика Кипр, Россия           И.Трусов   \n",
       "\n",
       "                                               producer  \\\n",
       "0             Дэвид Валдес, Кевин Костнер, Джейк Эбертс   \n",
       "1                                                unkown   \n",
       "2     Джим Лемли, Джейсон Нетер, Марк Е.Платт, Яйн Смит   \n",
       "3     Джим Лемли, Джейсон Нетер, Марк Е.Платт, Яйн Смит   \n",
       "4     Джим Лемли, Джейсон Нетер, Марк Е.Платт, Яйн Смит   \n",
       "...                                                 ...   \n",
       "7481                                        Фил Грабски   \n",
       "7482  Джефф Боулер, Дэниэл Гродник, Луильо Руис, Брэ...   \n",
       "7483                                     Дженнифер Додж   \n",
       "7484                                          Д.Ловейко   \n",
       "7485                                          Д.Ловейко   \n",
       "\n",
       "                             age_restriction  refundable_support  \\\n",
       "0                «18+» - запрещено для детей                 0.0   \n",
       "1              «6+» - для детей старше 6 лет                 0.0   \n",
       "2                «18+» - запрещено для детей                 0.0   \n",
       "3                «18+» - запрещено для детей                 0.0   \n",
       "4                «18+» - запрещено для детей                 0.0   \n",
       "...                                      ...                 ...   \n",
       "7481         «12+» - для детей старше 12 лет                 0.0   \n",
       "7482         «16+» - для детей старше 16 лет                 0.0   \n",
       "7483  «0+» - для любой зрительской аудитории                 0.0   \n",
       "7484  «0+» - для любой зрительской аудитории                 0.0   \n",
       "7485  «0+» - для любой зрительской аудитории                 0.0   \n",
       "\n",
       "      nonrefundable_support  budget financing_source  ratings  \\\n",
       "0                       0.0     NaN              NaN      7.2   \n",
       "1                       0.0     NaN              NaN      6.6   \n",
       "2                       0.0     NaN              NaN      6.8   \n",
       "3                       0.0     NaN              NaN      6.8   \n",
       "4                       0.0     NaN              NaN      6.8   \n",
       "...                     ...     ...              ...      ...   \n",
       "7481                    0.0     NaN              NaN      NaN   \n",
       "7482                    0.0     NaN              NaN      5.4   \n",
       "7483                    0.0     NaN              NaN      NaN   \n",
       "7484                    0.0     NaN              NaN      NaN   \n",
       "7485                    0.0     NaN              NaN      6.3   \n",
       "\n",
       "                         genres  box_office  budget_corrected  year  \\\n",
       "0        боевик,драма,мелодрама         NaN               NaN  2015   \n",
       "1                 драма,военный         NaN               NaN  2016   \n",
       "2     фантастика,боевик,триллер         NaN               NaN  2016   \n",
       "3     фантастика,боевик,триллер         NaN               NaN  2016   \n",
       "4     фантастика,боевик,триллер         NaN               NaN  2015   \n",
       "...                         ...         ...               ...   ...   \n",
       "7481                        NaN         NaN               NaN  2019   \n",
       "7482             боевик,триллер         NaN               NaN  2019   \n",
       "7483                        NaN         NaN               NaN  2019   \n",
       "7484                        NaN         NaN               NaN  2019   \n",
       "7485            комедия,вестерн         NaN               NaN  2019   \n",
       "\n",
       "          main_director main_genres  support_percentage  full_support  \\\n",
       "0         Кевин Костнер      боевик                 NaN           0.0   \n",
       "1             Е.Матвеев       драма                 NaN           0.0   \n",
       "2     Тимур Бекмамбетов  фантастика                 NaN           0.0   \n",
       "3     Тимур Бекмамбетов  фантастика                 NaN           0.0   \n",
       "4     Тимур Бекмамбетов  фантастика                 NaN           0.0   \n",
       "...                 ...         ...                 ...           ...   \n",
       "7481        Фил Грабски         NaN                 NaN           0.0   \n",
       "7482         Ник Пауэлл      боевик                 NaN           0.0   \n",
       "7483   Чарльз Е.Бастьен         NaN                 NaN           0.0   \n",
       "7484           А.Беляев         NaN                 NaN           0.0   \n",
       "7485           И.Трусов     комедия                 NaN           0.0   \n",
       "\n",
       "      profitability  is_paid_off  is_not_paid_off  \n",
       "0               NaN        False             True  \n",
       "1               NaN        False             True  \n",
       "2               NaN        False             True  \n",
       "3               NaN        False             True  \n",
       "4               NaN        False             True  \n",
       "...             ...          ...              ...  \n",
       "7481            NaN        False             True  \n",
       "7482            NaN        False             True  \n",
       "7483            NaN        False             True  \n",
       "7484            NaN        False             True  \n",
       "7485            NaN        False             True  \n",
       "\n",
       "[7486 rows x 25 columns]"
      ]
     },
     "metadata": {},
     "output_type": "display_data"
    }
   ],
   "source": [
    "#постоим сводную таблицу отображающую фильмы с гос.поддержкой \n",
    "films_supported = films[films['refundable_support'].notna() | films['nonrefundable_support'].notna()]\n",
    "# добавим несколько столбцов\n",
    "# столбец показывающий сумму полной гос.поддержки\n",
    "films_supported['full_support'] = (films_supported['nonrefundable_support'] + \n",
    "                                   films_supported['refundable_support'])\n",
    "# столбец расчитывающий прибыльность\n",
    "films_supported['profitability'] = films_supported['box_office'] / films_supported['full_support'] - 1\n",
    "# столбцы показывающиие окупились фильмы или нет\n",
    "films_supported['is_paid_off'] = films_supported['profitability'] > 0\n",
    "films_supported['is_not_paid_off'] = ~films_supported['is_paid_off']\n",
    "display(films_supported)"
   ]
  },
  {
   "cell_type": "code",
   "execution_count": 34,
   "metadata": {},
   "outputs": [
    {
     "data": {
      "text/plain": [
       "<AxesSubplot:title={'center':'Средняя оценка фильмов по жанрам'}, xlabel='Жанр'>"
      ]
     },
     "execution_count": 34,
     "metadata": {},
     "output_type": "execute_result"
    },
    {
     "data": {
      "image/png": "[encoded data removed]",
      "text/plain": [
       "<Figure size 1080x504 with 1 Axes>"
      ]
     },
     "metadata": {
      "needs_background": "light"
     },
     "output_type": "display_data"
    }
   ],
   "source": [
    "# выделим наиболее популярные жанры\n",
    "films_supported[['main_genres', 'ratings']].groupby('main_genres') \\\n",
    "                                        .agg('mean') \\\n",
    "                                        .sort_values(by='ratings', ascending=False) \\\n",
    "                                        .plot(title='Средняя оценка фильмов по жанрам', kind='bar',\n",
    "                                              figsize=(15,7), xlabel='Жанр')"
   ]
  },
  {
   "cell_type": "code",
   "execution_count": 35,
   "metadata": {},
   "outputs": [
    {
     "data": {
      "text/plain": [
       "<AxesSubplot:title={'center':'Количество фильмов, получивших господдержку (по жанрам)'}>"
      ]
     },
     "execution_count": 35,
     "metadata": {},
     "output_type": "execute_result"
    },
    {
     "data": {
      "image/png": "[encoded data removed]",
      "text/plain": [
       "<Figure size 1080x504 with 1 Axes>"
      ]
     },
     "metadata": {
      "needs_background": "light"
     },
     "output_type": "display_data"
    }
   ],
   "source": [
    "# посмотрим количество фильмов больше всего получивших гос.поддержку по жанрам\n",
    "films_supported['main_genres'].value_counts().plot(title='Количество фильмов, получивших господдержку (по жанрам)',\n",
    "                                                   figsize=(15,7), kind='bar')"
   ]
  },
  {
   "cell_type": "code",
   "execution_count": 36,
   "metadata": {},
   "outputs": [
    {
     "data": {
      "text/plain": [
       "<AxesSubplot:title={'center':'Количество окупившихся и не окупившихся фильмов'}, xlabel='Жанр'>"
      ]
     },
     "execution_count": 36,
     "metadata": {},
     "output_type": "execute_result"
    },
    {
     "data": {
      "image/png": "[encoded data removed]",
      "text/plain": [
       "<Figure size 1080x504 with 1 Axes>"
      ]
     },
     "metadata": {
      "needs_background": "light"
     },
     "output_type": "display_data"
    }
   ],
   "source": [
    "# проанализируем количесиво окупившихся или неокупившихся фильмов по жанрам\n",
    "films_supported.groupby('main_genres') \\\n",
    "            .agg({'title': 'count',\n",
    "                  'is_paid_off': 'sum',\n",
    "                  'is_not_paid_off': lambda x: 0 - x.sum()}) \\\n",
    "            .sort_values(by='title',\n",
    "                         ascending=False) \\\n",
    "            .plot(title='Количество окупившихся и не окупившихся фильмов',\n",
    "                  kind='bar',\n",
    "                  stacked=True,\n",
    "                  y=['is_paid_off', 'is_not_paid_off'],\n",
    "                  figsize=(15,7),\n",
    "                  xlabel='Жанр')"
   ]
  },
  {
   "cell_type": "code",
   "execution_count": 37,
   "metadata": {},
   "outputs": [
    {
     "data": {
      "text/plain": [
       "<AxesSubplot:title={'center':'Объём видов государственной поддержки'}, xlabel='Жанр'>"
      ]
     },
     "execution_count": 37,
     "metadata": {},
     "output_type": "execute_result"
    },
    {
     "data": {
      "image/png": "[encoded data removed]",
      "text/plain": [
       "<Figure size 1080x504 with 1 Axes>"
      ]
     },
     "metadata": {
      "needs_background": "light"
     },
     "output_type": "display_data"
    }
   ],
   "source": [
    "# посмотрим объем видов господдержки по жанрам\n",
    "films_supported.groupby('main_genres') \\\n",
    "            .agg('sum') \\\n",
    "            .sort_values(by='full_support',\n",
    "                         ascending=False) \\\n",
    "            .plot(title='Объём видов государственной поддержки',\n",
    "                  kind='bar',\n",
    "                  stacked=True,\n",
    "                  y=['refundable_support', 'nonrefundable_support'],\n",
    "                  figsize=(15,7),\n",
    "                  xlabel='Жанр')"
   ]
  },
  {
   "cell_type": "code",
   "execution_count": 38,
   "metadata": {},
   "outputs": [
    {
     "name": "stdout",
     "output_type": "stream",
     "text": [
      "Корелляция от ratings 0.08885517959968678\n"
     ]
    },
    {
     "data": {
      "image/png": "[encoded data removed]",
      "text/plain": [
       "<Figure size 1008x504 with 1 Axes>"
      ]
     },
     "metadata": {
      "needs_background": "light"
     },
     "output_type": "display_data"
    }
   ],
   "source": [
    "# напишем функцию для рассчета суммы поддержки от рейтинга\n",
    "def correlation(column):  \n",
    "    print('Корелляция от', column, films['budget_corrected'].corr(films[column]))\n",
    "    films.plot(x=column, y='budget_corrected', kind='scatter', grid=True,\n",
    "               figsize=(14,7), alpha=0.5, xlabel='Рейтинг');\n",
    "\n",
    "correlation('ratings')"
   ]
  },
  {
   "cell_type": "markdown",
   "metadata": {},
   "source": [
    "**Вывод:** <br>\n",
    "Наиболее высокие рейтинги у фильмов в жанре нуар и аниме. Самые низкие рейтинги у фильмов для взрослых. Больше всего выделяется господдержки на драмы. В видах господдержки приобладают невозвратные средства, несморя на то, что довольно большое количество фильмов неокупается. Корреляции между рейтингом и финансовой поддержкой государства не обнаружено."
   ]
  },
  {
   "cell_type": "markdown",
   "metadata": {
    "id": "V2gYwMcPgFyd"
   },
   "source": [
    "### Шаг 5. Общий вывод"
   ]
  },
  {
   "cell_type": "markdown",
   "metadata": {},
   "source": [
    "В проекте исследованы данные, опубликованные на портале открытых данных Министерства культуры - информация о результатах проката и объемах господдержки фильмов с 2010 по 2019 года.\n",
    "\n",
    "При подготовки данных выполнены следующие этапы: <br>\n",
    "1)Создана таблица объединяющая в себе два датафрейма;<br>\n",
    "2)Проведена оптимизация типов данных:<br>\n",
    "-В столбце \"puNumber\" поменяли тип на int. Несмотря на то, что в столбце категориальные данные это нужно было сделать для объединения таблиц;<br>\n",
    "-В столбце \"ratings\" исправленны некорректно записаные данные и поменян тип на float<br>\n",
    "-В столбце \"show_start_date\" поменяли тип на datetime;<br>\n",
    "3)При анализе пропусков было сделано следующее:<br>\n",
    "-Пропущена значительная часть данный в refundable_support, nonrefundable_support, budget, financing_source. Так как данные говорят об объёме государственной поддержки, то пропуски скорее всего свидетельствуют об ее отсутствии. Заменили пропуски на 0 в этих столбцах;<br>\n",
    "-Заполнили пропуски в столбце 'production_country', поискав дополнительную информацию, и уточнив, что пропущенные фильмы производятся в России;<br>\n",
    "-В столбцах film_studio, director, producer заменим пропуски на unknown;<br>\n",
    "-Пропуски в столбце rating оставим без изменений. Возможно пропуски появились из-за технической ошибки и заполнить их корректно не получится. Также оставили без изменений пропуски во всех остальных столбцах, так как корректно заполнить их непредставляется возможным.<br>\n",
    "4)При посиске дублей обнаружили, что полностью повторяющихся строк нет. Есть дубли в названиях фильмов, это связано с выдачей разных прокатных удостоверений. Есть дубли в номерах прокатных удостоверений, это скорее всего связано с тем, что под одним удостоверением выходило в прокат несколько фильмов. Возможно сыграл человеческий фактор при заполнении какой-нибудь формы. Удалить эти дубликаты мы не можем, так как они связаны с другими данными.<br>\n",
    "5)Большая часть таблицы это категориальные данные. Лишние пробелы в начале или конце строки является частой проблемой таких данных. Помимо столбца type, также были обнаружены и убраны пробелы в строке столбца 'puNumber'.<br>\n",
    "6)Был ряд фильмов, которые получали господдержку, но в столбце показывающим объем госсредств стоял 0. Исправили такие строки бюджета на сумму видов господдержки.\n",
    "\n",
    "В рамках проведенного исследования можно сделать следующие выводы:<br>\n",
    "1)Доля участия государства в бюджете фильма составляет примерно 61%<br>\n",
    "2)Доля фильмов с указанной информацией о прокате составляет 42%. Меньше всего фильмов выпущенно в 2010г (105 фильмов), далее наблюдается увеличение количества выпускаемых фильмов. Больше всего выпущено в 2019 (530) и в 2016 (526) годах;<br>\n",
    "3)Минимальное количество сборов было в 2010 (2 428 654), 2011 (14 102 765) годах. С 2013 года наблюдается рост сборов, что также связано с увеличением количества выпускаемых фильмов. Максимальная сумма сборов была в 2018 году (49 668 403 134), несмотря на то, что в этом году фильмов выпущенно меньше чем в 2019г;<br>\n",
    "4)Из разницы между показателями средней и медианой, видно, что в данных присутствуют значения с невероятно большими сборами по сравнению с остальными. Что в целом для киноиндустрии можно считать нормой, так как анализировались и кассовые фильмы и авторское кино, и телевизионные проекты. В среднем, самый прибыльный год был 2017. Это видно и по медиане, и по средней;<br>\n",
    "5)По сборам почти во все года лидирует кино 16+, в то время как категория 0+ стабильно показывает наименьшее количество сборов;<br>\n",
    "6)Наиболее высокие рейтинги у фильмов в жанре нуар и аниме. Самые низкие рейтинги у фильмов для взрослых. Больше всего выделяется господдержки на драмы;<br>\n",
    "7)В видах господдержки приобладают невозвратные средства, несморя на то, что довольно большое количество фильмов с выделенной поддержкой неокупается. Зависимости между рейтингом и финансовой поддержкой государства не обнаружено.<br>"
   ]
  },
  {
   "cell_type": "code",
   "execution_count": null,
   "metadata": {},
   "outputs": [],
   "source": []
  },
  {
   "cell_type": "code",
   "execution_count": null,
   "metadata": {},
   "outputs": [],
   "source": []
  }
 ],
 "metadata": {
  "ExecuteTimeLog": [
   {
    "duration": 537,
    "start_time": "2021-07-07T10:12:08.634Z"
   },
   {
    "duration": 206,
    "start_time": "2021-07-07T10:12:30.191Z"
   },
   {
    "duration": 227,
    "start_time": "2021-07-07T10:12:33.078Z"
   },
   {
    "duration": 153,
    "start_time": "2021-07-07T10:13:42.146Z"
   },
   {
    "duration": 233,
    "start_time": "2021-07-07T10:30:09.252Z"
   },
   {
    "duration": 19,
    "start_time": "2021-07-07T10:30:15.577Z"
   },
   {
    "duration": 18,
    "start_time": "2021-07-07T10:30:57.348Z"
   },
   {
    "duration": 19,
    "start_time": "2021-07-07T10:31:17.452Z"
   },
   {
    "duration": 21,
    "start_time": "2021-07-07T10:31:32.227Z"
   },
   {
    "duration": 27,
    "start_time": "2021-07-07T10:32:06.588Z"
   },
   {
    "duration": 23,
    "start_time": "2021-07-07T10:32:43.645Z"
   },
   {
    "duration": 24,
    "start_time": "2021-07-07T10:33:06.948Z"
   },
   {
    "duration": 7,
    "start_time": "2021-07-07T10:33:28.558Z"
   },
   {
    "duration": 23,
    "start_time": "2021-07-07T10:33:43.761Z"
   },
   {
    "duration": 28,
    "start_time": "2021-07-07T10:34:13.466Z"
   },
   {
    "duration": 23,
    "start_time": "2021-07-07T10:35:56.187Z"
   },
   {
    "duration": 6,
    "start_time": "2021-07-07T10:36:48.182Z"
   },
   {
    "duration": 14,
    "start_time": "2021-07-07T10:37:49.641Z"
   },
   {
    "duration": 6,
    "start_time": "2021-07-07T10:38:06.694Z"
   },
   {
    "duration": 6,
    "start_time": "2021-07-07T10:38:13.493Z"
   },
   {
    "duration": 19,
    "start_time": "2021-07-07T10:38:44.056Z"
   },
   {
    "duration": 186,
    "start_time": "2021-07-07T10:48:35.618Z"
   },
   {
    "duration": 24,
    "start_time": "2021-07-07T10:48:51.498Z"
   },
   {
    "duration": 20,
    "start_time": "2021-07-07T10:48:59.415Z"
   },
   {
    "duration": 20,
    "start_time": "2021-07-07T10:53:02.195Z"
   },
   {
    "duration": 188,
    "start_time": "2021-07-07T10:54:40.486Z"
   },
   {
    "duration": 115,
    "start_time": "2021-07-07T10:54:52.552Z"
   },
   {
    "duration": 214,
    "start_time": "2021-07-07T10:54:56.354Z"
   },
   {
    "duration": 47,
    "start_time": "2021-07-07T10:54:58.282Z"
   },
   {
    "duration": 217,
    "start_time": "2021-07-07T10:59:16.075Z"
   },
   {
    "duration": 51,
    "start_time": "2021-07-07T10:59:16.243Z"
   },
   {
    "duration": 578,
    "start_time": "2021-07-07T10:59:18.774Z"
   },
   {
    "duration": 161,
    "start_time": "2021-07-07T10:59:21.238Z"
   },
   {
    "duration": 59,
    "start_time": "2021-07-07T10:59:21.453Z"
   },
   {
    "duration": 3,
    "start_time": "2021-07-07T11:02:10.786Z"
   },
   {
    "duration": 13,
    "start_time": "2021-07-07T11:07:07.722Z"
   },
   {
    "duration": 26,
    "start_time": "2021-07-07T11:07:17.958Z"
   },
   {
    "duration": 22,
    "start_time": "2021-07-07T11:08:17.939Z"
   },
   {
    "duration": 212,
    "start_time": "2021-07-07T11:08:19.665Z"
   },
   {
    "duration": 21,
    "start_time": "2021-07-07T11:08:29.945Z"
   },
   {
    "duration": 31,
    "start_time": "2021-07-07T11:08:38.899Z"
   },
   {
    "duration": 23,
    "start_time": "2021-07-07T11:08:54.527Z"
   },
   {
    "duration": 8,
    "start_time": "2021-07-07T11:18:55.974Z"
   },
   {
    "duration": 7,
    "start_time": "2021-07-07T11:19:03.639Z"
   },
   {
    "duration": 7,
    "start_time": "2021-07-07T11:19:06.444Z"
   },
   {
    "duration": 578,
    "start_time": "2021-07-07T12:09:59.576Z"
   },
   {
    "duration": 195,
    "start_time": "2021-07-07T12:10:00.156Z"
   },
   {
    "duration": 115,
    "start_time": "2021-07-07T12:10:00.353Z"
   },
   {
    "duration": 3,
    "start_time": "2021-07-07T12:10:00.470Z"
   },
   {
    "duration": 32,
    "start_time": "2021-07-07T12:10:00.474Z"
   },
   {
    "duration": 23,
    "start_time": "2021-07-07T12:10:00.508Z"
   },
   {
    "duration": 19,
    "start_time": "2021-07-07T12:10:00.533Z"
   },
   {
    "duration": 44,
    "start_time": "2021-07-07T12:10:00.553Z"
   },
   {
    "duration": 7,
    "start_time": "2021-07-07T12:10:00.600Z"
   },
   {
    "duration": 7,
    "start_time": "2021-07-07T12:19:45.761Z"
   },
   {
    "duration": 21,
    "start_time": "2021-07-07T12:21:35.482Z"
   },
   {
    "duration": 21,
    "start_time": "2021-07-07T12:29:23.569Z"
   },
   {
    "duration": 525,
    "start_time": "2021-07-07T12:29:44.542Z"
   },
   {
    "duration": 214,
    "start_time": "2021-07-07T12:29:45.069Z"
   },
   {
    "duration": 92,
    "start_time": "2021-07-07T12:29:45.285Z"
   },
   {
    "duration": 3,
    "start_time": "2021-07-07T12:29:45.379Z"
   },
   {
    "duration": 28,
    "start_time": "2021-07-07T12:29:45.384Z"
   },
   {
    "duration": 23,
    "start_time": "2021-07-07T12:29:45.413Z"
   },
   {
    "duration": 21,
    "start_time": "2021-07-07T12:29:45.437Z"
   },
   {
    "duration": 41,
    "start_time": "2021-07-07T12:29:45.460Z"
   },
   {
    "duration": 7,
    "start_time": "2021-07-07T12:29:45.502Z"
   },
   {
    "duration": 20,
    "start_time": "2021-07-07T12:29:45.511Z"
   },
   {
    "duration": 12,
    "start_time": "2021-07-07T12:34:02.800Z"
   },
   {
    "duration": 7,
    "start_time": "2021-07-07T12:35:10.479Z"
   },
   {
    "duration": 8,
    "start_time": "2021-07-07T12:35:22.440Z"
   },
   {
    "duration": 6,
    "start_time": "2021-07-07T12:35:35.649Z"
   },
   {
    "duration": 6,
    "start_time": "2021-07-07T12:35:43.107Z"
   },
   {
    "duration": 22,
    "start_time": "2021-07-07T12:38:03.029Z"
   },
   {
    "duration": 10,
    "start_time": "2021-07-07T12:38:06.592Z"
   },
   {
    "duration": 563,
    "start_time": "2021-07-07T12:38:46.493Z"
   },
   {
    "duration": 265,
    "start_time": "2021-07-07T12:38:47.058Z"
   },
   {
    "duration": 94,
    "start_time": "2021-07-07T12:38:47.325Z"
   },
   {
    "duration": 3,
    "start_time": "2021-07-07T12:38:47.422Z"
   },
   {
    "duration": 30,
    "start_time": "2021-07-07T12:38:47.427Z"
   },
   {
    "duration": 16,
    "start_time": "2021-07-07T12:38:53.305Z"
   },
   {
    "duration": 10,
    "start_time": "2021-07-07T12:38:53.499Z"
   },
   {
    "duration": 8,
    "start_time": "2021-07-07T12:39:48.161Z"
   },
   {
    "duration": 27,
    "start_time": "2021-07-07T12:41:17.629Z"
   },
   {
    "duration": 17,
    "start_time": "2021-07-07T12:41:17.867Z"
   },
   {
    "duration": 21,
    "start_time": "2021-07-07T12:41:19.310Z"
   },
   {
    "duration": 7,
    "start_time": "2021-07-07T12:41:19.544Z"
   },
   {
    "duration": 20,
    "start_time": "2021-07-07T12:41:20.504Z"
   },
   {
    "duration": 554,
    "start_time": "2021-07-07T12:56:23.696Z"
   },
   {
    "duration": 200,
    "start_time": "2021-07-07T12:56:25.234Z"
   },
   {
    "duration": 119,
    "start_time": "2021-07-07T12:56:25.480Z"
   },
   {
    "duration": 4,
    "start_time": "2021-07-07T12:56:25.762Z"
   },
   {
    "duration": 26,
    "start_time": "2021-07-07T12:56:27.172Z"
   },
   {
    "duration": 12,
    "start_time": "2021-07-07T12:56:29.051Z"
   },
   {
    "duration": 10,
    "start_time": "2021-07-07T12:56:29.291Z"
   },
   {
    "duration": 8,
    "start_time": "2021-07-07T12:56:29.623Z"
   },
   {
    "duration": 28,
    "start_time": "2021-07-07T12:56:32.137Z"
   },
   {
    "duration": 19,
    "start_time": "2021-07-07T12:56:39.785Z"
   },
   {
    "duration": 20,
    "start_time": "2021-07-07T12:56:44.297Z"
   },
   {
    "duration": 7,
    "start_time": "2021-07-07T12:56:45.392Z"
   },
   {
    "duration": 23,
    "start_time": "2021-07-07T12:56:46.615Z"
   },
   {
    "duration": 4,
    "start_time": "2021-07-07T12:57:06.625Z"
   },
   {
    "duration": 32,
    "start_time": "2021-07-07T12:57:36.690Z"
   },
   {
    "duration": 18,
    "start_time": "2021-07-07T12:58:00.149Z"
   },
   {
    "duration": 15,
    "start_time": "2021-07-07T12:59:16.793Z"
   },
   {
    "duration": 7,
    "start_time": "2021-07-07T13:19:22.624Z"
   },
   {
    "duration": 6,
    "start_time": "2021-07-07T14:17:33.527Z"
   },
   {
    "duration": 9,
    "start_time": "2021-07-07T14:17:48.409Z"
   },
   {
    "duration": 8,
    "start_time": "2021-07-07T14:20:13.060Z"
   },
   {
    "duration": 8,
    "start_time": "2021-07-07T14:20:37.957Z"
   },
   {
    "duration": 8,
    "start_time": "2021-07-07T14:20:47.470Z"
   },
   {
    "duration": 9,
    "start_time": "2021-07-07T14:20:54.503Z"
   },
   {
    "duration": 10,
    "start_time": "2021-07-07T14:28:57.763Z"
   },
   {
    "duration": 3,
    "start_time": "2021-07-07T14:30:23.377Z"
   },
   {
    "duration": 3,
    "start_time": "2021-07-07T14:30:36.489Z"
   },
   {
    "duration": 103,
    "start_time": "2021-07-07T14:30:52.351Z"
   },
   {
    "duration": 8,
    "start_time": "2021-07-07T14:30:54.763Z"
   },
   {
    "duration": 8,
    "start_time": "2021-07-07T14:31:29.301Z"
   },
   {
    "duration": 13,
    "start_time": "2021-07-07T14:31:44.516Z"
   },
   {
    "duration": 7,
    "start_time": "2021-07-07T14:33:10.972Z"
   },
   {
    "duration": 11,
    "start_time": "2021-07-07T14:33:27.780Z"
   },
   {
    "duration": 8,
    "start_time": "2021-07-07T14:34:44.588Z"
   },
   {
    "duration": 57,
    "start_time": "2021-07-07T14:35:59.042Z"
   },
   {
    "duration": 3,
    "start_time": "2021-07-07T14:36:28.168Z"
   },
   {
    "duration": 5,
    "start_time": "2021-07-07T14:36:46.254Z"
   },
   {
    "duration": 4,
    "start_time": "2021-07-07T14:36:52.714Z"
   },
   {
    "duration": 3,
    "start_time": "2021-07-07T14:36:56.612Z"
   },
   {
    "duration": 4,
    "start_time": "2021-07-07T14:36:57.049Z"
   },
   {
    "duration": 3,
    "start_time": "2021-07-07T14:39:21.214Z"
   },
   {
    "duration": 7,
    "start_time": "2021-07-07T14:39:52.406Z"
   },
   {
    "duration": 11,
    "start_time": "2021-07-07T14:39:58.576Z"
   },
   {
    "duration": 9,
    "start_time": "2021-07-07T14:40:26.301Z"
   },
   {
    "duration": 10,
    "start_time": "2021-07-07T14:40:31.704Z"
   },
   {
    "duration": 11,
    "start_time": "2021-07-07T14:40:36.249Z"
   },
   {
    "duration": 10,
    "start_time": "2021-07-07T14:40:39.783Z"
   },
   {
    "duration": 9,
    "start_time": "2021-07-07T14:40:48.558Z"
   },
   {
    "duration": 10,
    "start_time": "2021-07-07T14:40:57.143Z"
   },
   {
    "duration": 9,
    "start_time": "2021-07-07T14:41:06.074Z"
   },
   {
    "duration": 4324,
    "start_time": "2021-07-07T14:41:22.004Z"
   },
   {
    "duration": 11,
    "start_time": "2021-07-07T14:41:33.392Z"
   },
   {
    "duration": 9,
    "start_time": "2021-07-07T14:41:39.288Z"
   },
   {
    "duration": 569,
    "start_time": "2021-07-07T14:42:14.387Z"
   },
   {
    "duration": 197,
    "start_time": "2021-07-07T14:42:14.959Z"
   },
   {
    "duration": 84,
    "start_time": "2021-07-07T14:42:16.052Z"
   },
   {
    "duration": 4,
    "start_time": "2021-07-07T14:42:16.900Z"
   },
   {
    "duration": 27,
    "start_time": "2021-07-07T14:42:19.898Z"
   },
   {
    "duration": 12,
    "start_time": "2021-07-07T14:42:21.577Z"
   },
   {
    "duration": 9,
    "start_time": "2021-07-07T14:42:21.813Z"
   },
   {
    "duration": 9,
    "start_time": "2021-07-07T14:42:22.569Z"
   },
   {
    "duration": 29,
    "start_time": "2021-07-07T14:42:25.837Z"
   },
   {
    "duration": 20,
    "start_time": "2021-07-07T14:42:27.003Z"
   },
   {
    "duration": 21,
    "start_time": "2021-07-07T14:42:28.767Z"
   },
   {
    "duration": 7,
    "start_time": "2021-07-07T14:42:29.838Z"
   },
   {
    "duration": 4,
    "start_time": "2021-07-07T14:43:25.493Z"
   },
   {
    "duration": 7,
    "start_time": "2021-07-07T14:43:26.573Z"
   },
   {
    "duration": 10,
    "start_time": "2021-07-07T14:43:31.639Z"
   },
   {
    "duration": 9,
    "start_time": "2021-07-07T14:43:32.046Z"
   },
   {
    "duration": 10,
    "start_time": "2021-07-07T14:43:33.301Z"
   },
   {
    "duration": 12,
    "start_time": "2021-07-07T14:43:33.658Z"
   },
   {
    "duration": 8,
    "start_time": "2021-07-07T14:43:34.552Z"
   },
   {
    "duration": 9,
    "start_time": "2021-07-07T14:43:35.058Z"
   },
   {
    "duration": 12,
    "start_time": "2021-07-07T14:43:35.914Z"
   },
   {
    "duration": 17,
    "start_time": "2021-07-07T14:45:34.368Z"
   },
   {
    "duration": 512,
    "start_time": "2021-07-07T14:51:58.236Z"
   },
   {
    "duration": 223,
    "start_time": "2021-07-07T14:51:58.750Z"
   },
   {
    "duration": 93,
    "start_time": "2021-07-07T14:51:58.977Z"
   },
   {
    "duration": 4,
    "start_time": "2021-07-07T14:51:59.071Z"
   },
   {
    "duration": 37,
    "start_time": "2021-07-07T14:51:59.077Z"
   },
   {
    "duration": 18,
    "start_time": "2021-07-07T14:51:59.116Z"
   },
   {
    "duration": 10,
    "start_time": "2021-07-07T14:51:59.137Z"
   },
   {
    "duration": 8,
    "start_time": "2021-07-07T14:51:59.149Z"
   },
   {
    "duration": 54,
    "start_time": "2021-07-07T14:51:59.158Z"
   },
   {
    "duration": 18,
    "start_time": "2021-07-07T14:51:59.213Z"
   },
   {
    "duration": 22,
    "start_time": "2021-07-07T14:51:59.232Z"
   },
   {
    "duration": 36,
    "start_time": "2021-07-07T14:51:59.255Z"
   },
   {
    "duration": 7,
    "start_time": "2021-07-07T14:51:59.293Z"
   },
   {
    "duration": 10,
    "start_time": "2021-07-07T14:51:59.302Z"
   },
   {
    "duration": 9,
    "start_time": "2021-07-07T14:51:59.313Z"
   },
   {
    "duration": 11,
    "start_time": "2021-07-07T14:51:59.324Z"
   },
   {
    "duration": 8,
    "start_time": "2021-07-07T14:51:59.337Z"
   },
   {
    "duration": 46,
    "start_time": "2021-07-07T14:51:59.347Z"
   },
   {
    "duration": 22,
    "start_time": "2021-07-07T14:51:59.395Z"
   },
   {
    "duration": 24,
    "start_time": "2021-07-07T14:57:32.911Z"
   },
   {
    "duration": 7,
    "start_time": "2021-07-07T14:58:22.070Z"
   },
   {
    "duration": 4,
    "start_time": "2021-07-07T14:59:11.239Z"
   },
   {
    "duration": 25,
    "start_time": "2021-07-07T15:07:22.208Z"
   },
   {
    "duration": 16,
    "start_time": "2021-07-07T15:08:25.560Z"
   },
   {
    "duration": 15,
    "start_time": "2021-07-07T15:08:40.647Z"
   },
   {
    "duration": 14,
    "start_time": "2021-07-07T15:08:46.669Z"
   },
   {
    "duration": 533,
    "start_time": "2021-07-07T15:18:07.440Z"
   },
   {
    "duration": 173,
    "start_time": "2021-07-07T15:18:07.974Z"
   },
   {
    "duration": 84,
    "start_time": "2021-07-07T15:18:08.149Z"
   },
   {
    "duration": 3,
    "start_time": "2021-07-07T15:18:08.235Z"
   },
   {
    "duration": 30,
    "start_time": "2021-07-07T15:18:08.240Z"
   },
   {
    "duration": 22,
    "start_time": "2021-07-07T15:18:08.272Z"
   },
   {
    "duration": 11,
    "start_time": "2021-07-07T15:18:08.295Z"
   },
   {
    "duration": 11,
    "start_time": "2021-07-07T15:18:08.309Z"
   },
   {
    "duration": 40,
    "start_time": "2021-07-07T15:18:08.322Z"
   },
   {
    "duration": 42,
    "start_time": "2021-07-07T15:18:08.364Z"
   },
   {
    "duration": 22,
    "start_time": "2021-07-07T15:18:08.408Z"
   },
   {
    "duration": 5,
    "start_time": "2021-07-07T15:18:08.432Z"
   },
   {
    "duration": 13,
    "start_time": "2021-07-07T15:18:08.439Z"
   },
   {
    "duration": 9,
    "start_time": "2021-07-07T15:18:08.454Z"
   },
   {
    "duration": 32,
    "start_time": "2021-07-07T15:18:08.465Z"
   },
   {
    "duration": 10,
    "start_time": "2021-07-07T15:18:08.501Z"
   },
   {
    "duration": 7,
    "start_time": "2021-07-07T15:18:08.513Z"
   },
   {
    "duration": 11,
    "start_time": "2021-07-07T15:18:08.521Z"
   },
   {
    "duration": 17,
    "start_time": "2021-07-07T15:18:08.534Z"
   },
   {
    "duration": 44,
    "start_time": "2021-07-07T15:18:08.553Z"
   },
   {
    "duration": 22,
    "start_time": "2021-07-07T15:18:08.599Z"
   },
   {
    "duration": 61,
    "start_time": "2021-07-07T15:18:08.622Z"
   },
   {
    "duration": 7,
    "start_time": "2021-07-07T15:18:39.457Z"
   },
   {
    "duration": 5,
    "start_time": "2021-07-07T16:05:17.020Z"
   },
   {
    "duration": 5,
    "start_time": "2021-07-07T16:51:28.794Z"
   },
   {
    "duration": 546,
    "start_time": "2021-07-07T16:52:26.306Z"
   },
   {
    "duration": 203,
    "start_time": "2021-07-07T16:52:27.523Z"
   },
   {
    "duration": 85,
    "start_time": "2021-07-07T16:52:27.736Z"
   },
   {
    "duration": 4,
    "start_time": "2021-07-07T16:52:27.899Z"
   },
   {
    "duration": 25,
    "start_time": "2021-07-07T16:52:28.674Z"
   },
   {
    "duration": 8,
    "start_time": "2021-07-07T16:52:32.956Z"
   },
   {
    "duration": 18,
    "start_time": "2021-07-07T16:52:35.616Z"
   },
   {
    "duration": 6,
    "start_time": "2021-07-07T16:52:36.913Z"
   },
   {
    "duration": 11,
    "start_time": "2021-07-07T16:52:40.258Z"
   },
   {
    "duration": 10,
    "start_time": "2021-07-07T16:52:46.251Z"
   },
   {
    "duration": 8,
    "start_time": "2021-07-07T16:52:47.182Z"
   },
   {
    "duration": 27,
    "start_time": "2021-07-07T16:53:20.391Z"
   },
   {
    "duration": 20,
    "start_time": "2021-07-07T16:53:22.022Z"
   },
   {
    "duration": 23,
    "start_time": "2021-07-07T16:53:23.690Z"
   },
   {
    "duration": 8,
    "start_time": "2021-07-07T16:53:24.261Z"
   },
   {
    "duration": 4,
    "start_time": "2021-07-07T16:53:38.733Z"
   },
   {
    "duration": 7,
    "start_time": "2021-07-07T16:53:40.445Z"
   },
   {
    "duration": 11,
    "start_time": "2021-07-07T16:53:41.348Z"
   },
   {
    "duration": 13,
    "start_time": "2021-07-07T16:53:45.250Z"
   },
   {
    "duration": 12,
    "start_time": "2021-07-07T16:53:45.467Z"
   },
   {
    "duration": 4,
    "start_time": "2021-07-07T16:55:32.704Z"
   },
   {
    "duration": 12,
    "start_time": "2021-07-07T16:55:49.012Z"
   },
   {
    "duration": 18,
    "start_time": "2021-07-07T16:55:49.547Z"
   },
   {
    "duration": 611,
    "start_time": "2021-07-07T16:58:35.156Z"
   },
   {
    "duration": 200,
    "start_time": "2021-07-07T16:58:35.770Z"
   },
   {
    "duration": 86,
    "start_time": "2021-07-07T16:58:35.972Z"
   },
   {
    "duration": 3,
    "start_time": "2021-07-07T16:58:36.060Z"
   },
   {
    "duration": 27,
    "start_time": "2021-07-07T16:58:36.065Z"
   },
   {
    "duration": 8,
    "start_time": "2021-07-07T16:58:36.094Z"
   },
   {
    "duration": 17,
    "start_time": "2021-07-07T16:58:36.103Z"
   },
   {
    "duration": 5,
    "start_time": "2021-07-07T16:58:36.123Z"
   },
   {
    "duration": 11,
    "start_time": "2021-07-07T16:58:36.130Z"
   },
   {
    "duration": 7,
    "start_time": "2021-07-07T16:58:36.143Z"
   },
   {
    "duration": 37,
    "start_time": "2021-07-07T16:58:36.152Z"
   },
   {
    "duration": 27,
    "start_time": "2021-07-07T16:58:36.191Z"
   },
   {
    "duration": 19,
    "start_time": "2021-07-07T16:58:36.219Z"
   },
   {
    "duration": 49,
    "start_time": "2021-07-07T16:58:36.240Z"
   },
   {
    "duration": 6,
    "start_time": "2021-07-07T16:58:36.291Z"
   },
   {
    "duration": 3,
    "start_time": "2021-07-07T16:58:36.299Z"
   },
   {
    "duration": 13,
    "start_time": "2021-07-07T16:58:36.304Z"
   },
   {
    "duration": 10,
    "start_time": "2021-07-07T16:58:36.319Z"
   },
   {
    "duration": 10,
    "start_time": "2021-07-07T16:58:36.331Z"
   },
   {
    "duration": 44,
    "start_time": "2021-07-07T16:58:36.343Z"
   },
   {
    "duration": 4,
    "start_time": "2021-07-07T16:58:36.388Z"
   },
   {
    "duration": 13,
    "start_time": "2021-07-07T16:58:36.394Z"
   },
   {
    "duration": 16,
    "start_time": "2021-07-07T16:58:36.410Z"
   },
   {
    "duration": 8,
    "start_time": "2021-07-07T17:02:31.629Z"
   },
   {
    "duration": 8,
    "start_time": "2021-07-07T17:02:34.308Z"
   },
   {
    "duration": 6,
    "start_time": "2021-07-07T17:05:13.483Z"
   },
   {
    "duration": 17,
    "start_time": "2021-07-07T17:05:20.606Z"
   },
   {
    "duration": 7,
    "start_time": "2021-07-07T17:05:34.638Z"
   },
   {
    "duration": 3,
    "start_time": "2021-07-07T17:06:31.883Z"
   },
   {
    "duration": 570,
    "start_time": "2021-07-07T17:06:37.165Z"
   },
   {
    "duration": 174,
    "start_time": "2021-07-07T17:06:37.737Z"
   },
   {
    "duration": 47,
    "start_time": "2021-07-07T17:06:37.913Z"
   },
   {
    "duration": 3,
    "start_time": "2021-07-07T17:06:37.962Z"
   },
   {
    "duration": 27,
    "start_time": "2021-07-07T17:06:37.967Z"
   },
   {
    "duration": 7,
    "start_time": "2021-07-07T17:06:37.996Z"
   },
   {
    "duration": 16,
    "start_time": "2021-07-07T17:06:38.005Z"
   },
   {
    "duration": 6,
    "start_time": "2021-07-07T17:06:38.024Z"
   },
   {
    "duration": 12,
    "start_time": "2021-07-07T17:06:38.031Z"
   },
   {
    "duration": 41,
    "start_time": "2021-07-07T17:06:38.045Z"
   },
   {
    "duration": 8,
    "start_time": "2021-07-07T17:06:38.088Z"
   },
   {
    "duration": 26,
    "start_time": "2021-07-07T17:06:38.098Z"
   },
   {
    "duration": 17,
    "start_time": "2021-07-07T17:06:38.126Z"
   },
   {
    "duration": 43,
    "start_time": "2021-07-07T17:06:38.144Z"
   },
   {
    "duration": 6,
    "start_time": "2021-07-07T17:06:38.188Z"
   },
   {
    "duration": 5,
    "start_time": "2021-07-07T17:06:38.195Z"
   },
   {
    "duration": 9,
    "start_time": "2021-07-07T17:06:38.201Z"
   },
   {
    "duration": 12,
    "start_time": "2021-07-07T17:06:38.212Z"
   },
   {
    "duration": 11,
    "start_time": "2021-07-07T17:06:38.226Z"
   },
   {
    "duration": 47,
    "start_time": "2021-07-07T17:06:38.239Z"
   },
   {
    "duration": 4,
    "start_time": "2021-07-07T17:06:38.288Z"
   },
   {
    "duration": 13,
    "start_time": "2021-07-07T17:06:38.293Z"
   },
   {
    "duration": 5,
    "start_time": "2021-07-07T17:06:38.309Z"
   },
   {
    "duration": 18,
    "start_time": "2021-07-07T17:06:38.325Z"
   },
   {
    "duration": 20,
    "start_time": "2021-07-07T17:07:02.805Z"
   },
   {
    "duration": 19,
    "start_time": "2021-07-07T17:07:08.527Z"
   },
   {
    "duration": 19,
    "start_time": "2021-07-07T17:07:12.758Z"
   },
   {
    "duration": 22,
    "start_time": "2021-07-07T17:07:17.497Z"
   },
   {
    "duration": 19,
    "start_time": "2021-07-07T17:07:19.645Z"
   },
   {
    "duration": 10,
    "start_time": "2021-07-07T17:07:34.239Z"
   },
   {
    "duration": 17,
    "start_time": "2021-07-07T17:07:54.144Z"
   },
   {
    "duration": 14,
    "start_time": "2021-07-07T17:08:14.357Z"
   },
   {
    "duration": 616,
    "start_time": "2021-07-07T17:08:45.254Z"
   },
   {
    "duration": 178,
    "start_time": "2021-07-07T17:08:45.872Z"
   },
   {
    "duration": 60,
    "start_time": "2021-07-07T17:08:46.054Z"
   },
   {
    "duration": 3,
    "start_time": "2021-07-07T17:08:46.116Z"
   },
   {
    "duration": 26,
    "start_time": "2021-07-07T17:08:46.121Z"
   },
   {
    "duration": 7,
    "start_time": "2021-07-07T17:08:46.149Z"
   },
   {
    "duration": 17,
    "start_time": "2021-07-07T17:08:46.158Z"
   },
   {
    "duration": 14,
    "start_time": "2021-07-07T17:08:46.176Z"
   },
   {
    "duration": 17,
    "start_time": "2021-07-07T17:08:46.193Z"
   },
   {
    "duration": 9,
    "start_time": "2021-07-07T17:08:46.211Z"
   },
   {
    "duration": 21,
    "start_time": "2021-07-07T17:08:46.221Z"
   },
   {
    "duration": 49,
    "start_time": "2021-07-07T17:08:46.244Z"
   },
   {
    "duration": 24,
    "start_time": "2021-07-07T17:08:46.295Z"
   },
   {
    "duration": 22,
    "start_time": "2021-07-07T17:08:46.321Z"
   },
   {
    "duration": 6,
    "start_time": "2021-07-07T17:08:46.345Z"
   },
   {
    "duration": 5,
    "start_time": "2021-07-07T17:08:46.353Z"
   },
   {
    "duration": 13,
    "start_time": "2021-07-07T17:08:46.386Z"
   },
   {
    "duration": 12,
    "start_time": "2021-07-07T17:08:46.402Z"
   },
   {
    "duration": 10,
    "start_time": "2021-07-07T17:08:46.415Z"
   },
   {
    "duration": 7,
    "start_time": "2021-07-07T17:08:46.427Z"
   },
   {
    "duration": 8,
    "start_time": "2021-07-07T17:08:46.435Z"
   },
   {
    "duration": 68,
    "start_time": "2021-07-07T17:08:46.446Z"
   },
   {
    "duration": 13,
    "start_time": "2021-07-07T17:08:46.516Z"
   },
   {
    "duration": 78,
    "start_time": "2021-07-07T17:08:46.530Z"
   },
   {
    "duration": 40,
    "start_time": "2021-07-07T17:09:08.185Z"
   },
   {
    "duration": 16,
    "start_time": "2021-07-07T17:09:19.324Z"
   },
   {
    "duration": 21,
    "start_time": "2021-07-07T17:09:23.290Z"
   },
   {
    "duration": 13,
    "start_time": "2021-07-07T17:09:54.812Z"
   },
   {
    "duration": 13,
    "start_time": "2021-07-07T17:10:02.039Z"
   },
   {
    "duration": 10,
    "start_time": "2021-07-07T17:10:29.632Z"
   },
   {
    "duration": 13,
    "start_time": "2021-07-07T17:10:52.372Z"
   },
   {
    "duration": 13,
    "start_time": "2021-07-07T17:11:17.270Z"
   },
   {
    "duration": 13,
    "start_time": "2021-07-07T17:14:59.284Z"
   },
   {
    "duration": 547,
    "start_time": "2021-07-07T17:18:52.403Z"
   },
   {
    "duration": 163,
    "start_time": "2021-07-07T17:18:52.952Z"
   },
   {
    "duration": 44,
    "start_time": "2021-07-07T17:18:53.117Z"
   },
   {
    "duration": 3,
    "start_time": "2021-07-07T17:18:53.162Z"
   },
   {
    "duration": 26,
    "start_time": "2021-07-07T17:18:53.167Z"
   },
   {
    "duration": 6,
    "start_time": "2021-07-07T17:18:53.195Z"
   },
   {
    "duration": 15,
    "start_time": "2021-07-07T17:18:53.203Z"
   },
   {
    "duration": 5,
    "start_time": "2021-07-07T17:18:53.220Z"
   },
   {
    "duration": 11,
    "start_time": "2021-07-07T17:18:53.228Z"
   },
   {
    "duration": 9,
    "start_time": "2021-07-07T17:18:53.241Z"
   },
   {
    "duration": 41,
    "start_time": "2021-07-07T17:18:53.252Z"
   },
   {
    "duration": 33,
    "start_time": "2021-07-07T17:18:53.295Z"
   },
   {
    "duration": 19,
    "start_time": "2021-07-07T17:18:53.330Z"
   },
   {
    "duration": 49,
    "start_time": "2021-07-07T17:18:53.350Z"
   },
   {
    "duration": 5,
    "start_time": "2021-07-07T17:18:53.401Z"
   },
   {
    "duration": 5,
    "start_time": "2021-07-07T17:18:53.408Z"
   },
   {
    "duration": 11,
    "start_time": "2021-07-07T17:18:53.414Z"
   },
   {
    "duration": 9,
    "start_time": "2021-07-07T17:18:53.427Z"
   },
   {
    "duration": 10,
    "start_time": "2021-07-07T17:18:53.437Z"
   },
   {
    "duration": 39,
    "start_time": "2021-07-07T17:18:53.448Z"
   },
   {
    "duration": 26,
    "start_time": "2021-07-07T17:18:55.799Z"
   },
   {
    "duration": 598,
    "start_time": "2021-07-07T17:20:17.862Z"
   },
   {
    "duration": 161,
    "start_time": "2021-07-07T17:20:18.462Z"
   },
   {
    "duration": 45,
    "start_time": "2021-07-07T17:20:18.626Z"
   },
   {
    "duration": 4,
    "start_time": "2021-07-07T17:20:18.673Z"
   },
   {
    "duration": 38,
    "start_time": "2021-07-07T17:20:26.877Z"
   },
   {
    "duration": 7,
    "start_time": "2021-07-07T17:20:37.405Z"
   },
   {
    "duration": 19,
    "start_time": "2021-07-07T17:20:51.534Z"
   },
   {
    "duration": 5,
    "start_time": "2021-07-07T17:20:57.228Z"
   },
   {
    "duration": 7,
    "start_time": "2021-07-07T17:21:08.235Z"
   },
   {
    "duration": 19,
    "start_time": "2021-07-07T17:21:42.158Z"
   },
   {
    "duration": 14,
    "start_time": "2021-07-07T17:21:50.225Z"
   },
   {
    "duration": 22,
    "start_time": "2021-07-07T17:22:54.104Z"
   },
   {
    "duration": 5,
    "start_time": "2021-07-07T17:22:56.371Z"
   },
   {
    "duration": 14,
    "start_time": "2021-07-07T17:22:58.316Z"
   },
   {
    "duration": 5,
    "start_time": "2021-07-07T17:22:58.493Z"
   },
   {
    "duration": 35,
    "start_time": "2021-07-07T17:22:59.666Z"
   },
   {
    "duration": 6,
    "start_time": "2021-07-07T17:23:02.410Z"
   },
   {
    "duration": 611,
    "start_time": "2021-07-07T17:24:59.664Z"
   },
   {
    "duration": 178,
    "start_time": "2021-07-07T17:25:01.945Z"
   },
   {
    "duration": 47,
    "start_time": "2021-07-07T17:25:02.125Z"
   },
   {
    "duration": 2,
    "start_time": "2021-07-07T17:25:07.903Z"
   },
   {
    "duration": 254,
    "start_time": "2021-07-07T17:25:08.232Z"
   },
   {
    "duration": 182,
    "start_time": "2021-07-07T17:25:08.671Z"
   },
   {
    "duration": 6,
    "start_time": "2021-07-07T17:25:13.104Z"
   },
   {
    "duration": 36,
    "start_time": "2021-07-07T17:25:13.662Z"
   },
   {
    "duration": 7,
    "start_time": "2021-07-07T17:25:14.528Z"
   },
   {
    "duration": 24,
    "start_time": "2021-07-07T17:25:27.982Z"
   },
   {
    "duration": 3,
    "start_time": "2021-07-07T17:25:48.982Z"
   },
   {
    "duration": 165,
    "start_time": "2021-07-07T17:25:48.987Z"
   },
   {
    "duration": 50,
    "start_time": "2021-07-07T17:25:49.154Z"
   },
   {
    "duration": 4,
    "start_time": "2021-07-07T17:25:49.206Z"
   },
   {
    "duration": 26,
    "start_time": "2021-07-07T17:25:49.212Z"
   },
   {
    "duration": 7,
    "start_time": "2021-07-07T17:25:49.240Z"
   },
   {
    "duration": 16,
    "start_time": "2021-07-07T17:25:49.249Z"
   },
   {
    "duration": 22,
    "start_time": "2021-07-07T17:25:49.266Z"
   },
   {
    "duration": 16,
    "start_time": "2021-07-07T17:25:49.291Z"
   },
   {
    "duration": 9,
    "start_time": "2021-07-07T17:25:49.309Z"
   },
   {
    "duration": 7,
    "start_time": "2021-07-07T17:25:49.319Z"
   },
   {
    "duration": 28,
    "start_time": "2021-07-07T17:25:49.328Z"
   },
   {
    "duration": 44,
    "start_time": "2021-07-07T17:25:49.357Z"
   },
   {
    "duration": 22,
    "start_time": "2021-07-07T17:25:49.403Z"
   },
   {
    "duration": 7,
    "start_time": "2021-07-07T17:25:49.427Z"
   },
   {
    "duration": 3,
    "start_time": "2021-07-07T17:25:49.436Z"
   },
   {
    "duration": 44,
    "start_time": "2021-07-07T17:25:49.441Z"
   },
   {
    "duration": 12,
    "start_time": "2021-07-07T17:25:49.488Z"
   },
   {
    "duration": 13,
    "start_time": "2021-07-07T17:25:49.502Z"
   },
   {
    "duration": 10,
    "start_time": "2021-07-07T17:25:49.516Z"
   },
   {
    "duration": 62,
    "start_time": "2021-07-07T17:25:49.527Z"
   },
   {
    "duration": 26,
    "start_time": "2021-07-07T17:26:51.809Z"
   },
   {
    "duration": 26,
    "start_time": "2021-07-07T17:26:55.759Z"
   },
   {
    "duration": 26,
    "start_time": "2021-07-07T17:27:04.501Z"
   },
   {
    "duration": 25,
    "start_time": "2021-07-07T17:28:24.859Z"
   },
   {
    "duration": 21,
    "start_time": "2021-07-07T17:28:55.250Z"
   },
   {
    "duration": 21,
    "start_time": "2021-07-07T17:28:58.885Z"
   },
   {
    "duration": 7,
    "start_time": "2021-07-07T17:45:40.972Z"
   },
   {
    "duration": 13,
    "start_time": "2021-07-07T17:45:42.529Z"
   },
   {
    "duration": 27,
    "start_time": "2021-07-07T17:45:51.026Z"
   },
   {
    "duration": 518,
    "start_time": "2021-07-07T17:46:15.532Z"
   },
   {
    "duration": 235,
    "start_time": "2021-07-07T17:46:16.053Z"
   },
   {
    "duration": 80,
    "start_time": "2021-07-07T17:46:16.292Z"
   },
   {
    "duration": 5,
    "start_time": "2021-07-07T17:46:16.373Z"
   },
   {
    "duration": 26,
    "start_time": "2021-07-07T17:46:16.380Z"
   },
   {
    "duration": 7,
    "start_time": "2021-07-07T17:46:16.408Z"
   },
   {
    "duration": 16,
    "start_time": "2021-07-07T17:46:16.418Z"
   },
   {
    "duration": 5,
    "start_time": "2021-07-07T17:46:16.436Z"
   },
   {
    "duration": 13,
    "start_time": "2021-07-07T17:46:16.442Z"
   },
   {
    "duration": 35,
    "start_time": "2021-07-07T17:46:16.456Z"
   },
   {
    "duration": 8,
    "start_time": "2021-07-07T17:46:16.493Z"
   },
   {
    "duration": 28,
    "start_time": "2021-07-07T17:46:16.502Z"
   },
   {
    "duration": 17,
    "start_time": "2021-07-07T17:46:16.532Z"
   },
   {
    "duration": 44,
    "start_time": "2021-07-07T17:46:16.551Z"
   },
   {
    "duration": 6,
    "start_time": "2021-07-07T17:46:16.597Z"
   },
   {
    "duration": 4,
    "start_time": "2021-07-07T17:46:16.605Z"
   },
   {
    "duration": 9,
    "start_time": "2021-07-07T17:46:16.610Z"
   },
   {
    "duration": 9,
    "start_time": "2021-07-07T17:46:16.621Z"
   },
   {
    "duration": 10,
    "start_time": "2021-07-07T17:46:16.632Z"
   },
   {
    "duration": 43,
    "start_time": "2021-07-07T17:46:16.644Z"
   },
   {
    "duration": 26,
    "start_time": "2021-07-07T17:46:16.689Z"
   },
   {
    "duration": 19,
    "start_time": "2021-07-07T17:46:16.718Z"
   },
   {
    "duration": 8,
    "start_time": "2021-07-07T17:46:16.738Z"
   },
   {
    "duration": 43,
    "start_time": "2021-07-07T17:46:16.747Z"
   },
   {
    "duration": 19,
    "start_time": "2021-07-07T17:46:16.791Z"
   },
   {
    "duration": 9,
    "start_time": "2021-07-07T17:46:16.812Z"
   },
   {
    "duration": 60,
    "start_time": "2021-07-07T17:46:16.822Z"
   },
   {
    "duration": -8,
    "start_time": "2021-07-07T17:46:16.892Z"
   },
   {
    "duration": 12,
    "start_time": "2021-07-07T17:48:47.707Z"
   },
   {
    "duration": 553,
    "start_time": "2021-07-07T18:10:09.350Z"
   },
   {
    "duration": 230,
    "start_time": "2021-07-07T18:10:09.905Z"
   },
   {
    "duration": 97,
    "start_time": "2021-07-07T18:10:10.137Z"
   },
   {
    "duration": 5,
    "start_time": "2021-07-07T18:10:10.236Z"
   },
   {
    "duration": 29,
    "start_time": "2021-07-07T18:10:10.242Z"
   },
   {
    "duration": 7,
    "start_time": "2021-07-07T18:10:10.272Z"
   },
   {
    "duration": 15,
    "start_time": "2021-07-07T18:10:10.281Z"
   },
   {
    "duration": 4,
    "start_time": "2021-07-07T18:10:10.299Z"
   },
   {
    "duration": 14,
    "start_time": "2021-07-07T18:10:10.305Z"
   },
   {
    "duration": 8,
    "start_time": "2021-07-07T18:10:10.321Z"
   },
   {
    "duration": 8,
    "start_time": "2021-07-07T18:10:10.331Z"
   },
   {
    "duration": 56,
    "start_time": "2021-07-07T18:10:10.341Z"
   },
   {
    "duration": 19,
    "start_time": "2021-07-07T18:10:10.399Z"
   },
   {
    "duration": 23,
    "start_time": "2021-07-07T18:10:10.419Z"
   },
   {
    "duration": 6,
    "start_time": "2021-07-07T18:10:10.444Z"
   },
   {
    "duration": 9,
    "start_time": "2021-07-07T18:10:10.451Z"
   },
   {
    "duration": 30,
    "start_time": "2021-07-07T18:10:10.462Z"
   },
   {
    "duration": 9,
    "start_time": "2021-07-07T18:10:10.494Z"
   },
   {
    "duration": 14,
    "start_time": "2021-07-07T18:10:10.505Z"
   },
   {
    "duration": 7,
    "start_time": "2021-07-07T18:10:10.521Z"
   },
   {
    "duration": 26,
    "start_time": "2021-07-07T18:10:10.530Z"
   },
   {
    "duration": 44,
    "start_time": "2021-07-07T18:10:10.558Z"
   },
   {
    "duration": 7,
    "start_time": "2021-07-07T18:10:10.605Z"
   },
   {
    "duration": 11,
    "start_time": "2021-07-07T18:10:10.614Z"
   },
   {
    "duration": 19,
    "start_time": "2021-07-07T18:10:10.626Z"
   },
   {
    "duration": 44,
    "start_time": "2021-07-07T18:10:10.646Z"
   },
   {
    "duration": 516,
    "start_time": "2021-07-07T18:14:00.826Z"
   },
   {
    "duration": 230,
    "start_time": "2021-07-07T18:14:01.344Z"
   },
   {
    "duration": 105,
    "start_time": "2021-07-07T18:14:01.576Z"
   },
   {
    "duration": 5,
    "start_time": "2021-07-07T18:14:01.683Z"
   },
   {
    "duration": 46,
    "start_time": "2021-07-07T18:14:01.690Z"
   },
   {
    "duration": 7,
    "start_time": "2021-07-07T18:14:01.738Z"
   },
   {
    "duration": 20,
    "start_time": "2021-07-07T18:14:01.747Z"
   },
   {
    "duration": 16,
    "start_time": "2021-07-07T18:14:01.769Z"
   },
   {
    "duration": 14,
    "start_time": "2021-07-07T18:14:01.787Z"
   },
   {
    "duration": 15,
    "start_time": "2021-07-07T18:14:01.803Z"
   },
   {
    "duration": 12,
    "start_time": "2021-07-07T18:14:01.820Z"
   },
   {
    "duration": 35,
    "start_time": "2021-07-07T18:14:01.833Z"
   },
   {
    "duration": 31,
    "start_time": "2021-07-07T18:14:01.869Z"
   },
   {
    "duration": 37,
    "start_time": "2021-07-07T18:14:01.902Z"
   },
   {
    "duration": 8,
    "start_time": "2021-07-07T18:14:01.942Z"
   },
   {
    "duration": 16,
    "start_time": "2021-07-07T18:14:01.952Z"
   },
   {
    "duration": 13,
    "start_time": "2021-07-07T18:14:01.970Z"
   },
   {
    "duration": 32,
    "start_time": "2021-07-07T18:14:01.985Z"
   },
   {
    "duration": 11,
    "start_time": "2021-07-07T18:14:02.019Z"
   },
   {
    "duration": 22,
    "start_time": "2021-07-07T18:14:02.031Z"
   },
   {
    "duration": 27,
    "start_time": "2021-07-07T18:14:02.055Z"
   },
   {
    "duration": 18,
    "start_time": "2021-07-07T18:14:02.084Z"
   },
   {
    "duration": 18,
    "start_time": "2021-07-07T18:14:02.106Z"
   },
   {
    "duration": 11,
    "start_time": "2021-07-07T18:14:02.126Z"
   },
   {
    "duration": 21,
    "start_time": "2021-07-07T18:14:02.138Z"
   },
   {
    "duration": 32,
    "start_time": "2021-07-07T18:14:02.161Z"
   },
   {
    "duration": 28,
    "start_time": "2021-07-07T18:14:44.295Z"
   },
   {
    "duration": 6,
    "start_time": "2021-07-07T18:15:05.834Z"
   },
   {
    "duration": 511,
    "start_time": "2021-07-07T18:15:41.541Z"
   },
   {
    "duration": 183,
    "start_time": "2021-07-07T18:15:42.054Z"
   },
   {
    "duration": 50,
    "start_time": "2021-07-07T18:15:42.239Z"
   },
   {
    "duration": 5,
    "start_time": "2021-07-07T18:15:42.291Z"
   },
   {
    "duration": 48,
    "start_time": "2021-07-07T18:15:42.297Z"
   },
   {
    "duration": 8,
    "start_time": "2021-07-07T18:15:42.346Z"
   },
   {
    "duration": 17,
    "start_time": "2021-07-07T18:15:42.356Z"
   },
   {
    "duration": 15,
    "start_time": "2021-07-07T18:15:42.375Z"
   },
   {
    "duration": 12,
    "start_time": "2021-07-07T18:15:42.392Z"
   },
   {
    "duration": 7,
    "start_time": "2021-07-07T18:15:42.406Z"
   },
   {
    "duration": 7,
    "start_time": "2021-07-07T18:15:42.415Z"
   },
   {
    "duration": 29,
    "start_time": "2021-07-07T18:15:42.423Z"
   },
   {
    "duration": 43,
    "start_time": "2021-07-07T18:15:42.453Z"
   },
   {
    "duration": 18,
    "start_time": "2021-07-07T18:15:42.497Z"
   },
   {
    "duration": 6,
    "start_time": "2021-07-07T18:15:42.516Z"
   },
   {
    "duration": 3,
    "start_time": "2021-07-07T18:15:42.523Z"
   },
   {
    "duration": 18,
    "start_time": "2021-07-07T18:15:42.528Z"
   },
   {
    "duration": 10,
    "start_time": "2021-07-07T18:15:42.547Z"
   },
   {
    "duration": 36,
    "start_time": "2021-07-07T18:15:42.559Z"
   },
   {
    "duration": 8,
    "start_time": "2021-07-07T18:15:42.597Z"
   },
   {
    "duration": 28,
    "start_time": "2021-07-07T18:15:42.606Z"
   },
   {
    "duration": 52,
    "start_time": "2021-07-07T18:15:42.635Z"
   },
   {
    "duration": 7,
    "start_time": "2021-07-07T18:15:42.690Z"
   },
   {
    "duration": 10,
    "start_time": "2021-07-07T18:15:42.699Z"
   },
   {
    "duration": 19,
    "start_time": "2021-07-07T18:15:42.711Z"
   },
   {
    "duration": 9,
    "start_time": "2021-07-07T18:15:42.732Z"
   },
   {
    "duration": 5,
    "start_time": "2021-07-07T18:15:42.743Z"
   },
   {
    "duration": 1450,
    "start_time": "2021-07-07T18:15:51.984Z"
   },
   {
    "duration": 161,
    "start_time": "2021-07-07T18:15:53.435Z"
   },
   {
    "duration": 124,
    "start_time": "2021-07-07T18:15:53.598Z"
   },
   {
    "duration": 5,
    "start_time": "2021-07-07T18:15:53.724Z"
   },
   {
    "duration": 34,
    "start_time": "2021-07-07T18:15:53.730Z"
   },
   {
    "duration": 7,
    "start_time": "2021-07-07T18:15:53.765Z"
   },
   {
    "duration": 15,
    "start_time": "2021-07-07T18:15:53.773Z"
   },
   {
    "duration": 5,
    "start_time": "2021-07-07T18:15:53.791Z"
   },
   {
    "duration": 19,
    "start_time": "2021-07-07T18:15:53.798Z"
   },
   {
    "duration": 9,
    "start_time": "2021-07-07T18:15:53.818Z"
   },
   {
    "duration": 19,
    "start_time": "2021-07-07T18:15:53.828Z"
   },
   {
    "duration": 27,
    "start_time": "2021-07-07T18:15:53.848Z"
   },
   {
    "duration": 16,
    "start_time": "2021-07-07T18:15:53.884Z"
   },
   {
    "duration": 29,
    "start_time": "2021-07-07T18:15:53.901Z"
   },
   {
    "duration": 5,
    "start_time": "2021-07-07T18:15:53.932Z"
   },
   {
    "duration": 15,
    "start_time": "2021-07-07T18:15:53.939Z"
   },
   {
    "duration": 13,
    "start_time": "2021-07-07T18:15:53.956Z"
   },
   {
    "duration": 20,
    "start_time": "2021-07-07T18:15:53.971Z"
   },
   {
    "duration": 14,
    "start_time": "2021-07-07T18:15:53.992Z"
   },
   {
    "duration": 9,
    "start_time": "2021-07-07T18:15:54.009Z"
   },
   {
    "duration": 28,
    "start_time": "2021-07-07T18:15:54.020Z"
   },
   {
    "duration": 50,
    "start_time": "2021-07-07T18:15:54.051Z"
   },
   {
    "duration": 8,
    "start_time": "2021-07-07T18:15:54.105Z"
   },
   {
    "duration": 11,
    "start_time": "2021-07-07T18:15:54.115Z"
   },
   {
    "duration": 20,
    "start_time": "2021-07-07T18:15:54.128Z"
   },
   {
    "duration": 13,
    "start_time": "2021-07-07T18:15:54.184Z"
   },
   {
    "duration": 7,
    "start_time": "2021-07-07T18:15:54.199Z"
   },
   {
    "duration": 7,
    "start_time": "2021-07-07T18:17:08.042Z"
   },
   {
    "duration": 8,
    "start_time": "2021-07-07T18:17:21.008Z"
   },
   {
    "duration": 7,
    "start_time": "2021-07-07T18:17:29.003Z"
   },
   {
    "duration": 8,
    "start_time": "2021-07-07T18:17:32.492Z"
   },
   {
    "duration": 9,
    "start_time": "2021-07-07T18:17:41.758Z"
   },
   {
    "duration": 255,
    "start_time": "2021-07-07T18:20:20.897Z"
   },
   {
    "duration": 173,
    "start_time": "2021-07-07T18:20:26.636Z"
   },
   {
    "duration": 7,
    "start_time": "2021-07-07T18:21:47.164Z"
   },
   {
    "duration": 254,
    "start_time": "2021-07-07T18:23:08.703Z"
   },
   {
    "duration": 21,
    "start_time": "2021-07-07T18:23:22.506Z"
   },
   {
    "duration": 315,
    "start_time": "2021-07-07T18:25:54.801Z"
   },
   {
    "duration": 34,
    "start_time": "2021-07-07T18:26:51.817Z"
   },
   {
    "duration": 327,
    "start_time": "2021-07-07T18:26:56.147Z"
   },
   {
    "duration": 342,
    "start_time": "2021-07-07T18:27:15.887Z"
   },
   {
    "duration": 302,
    "start_time": "2021-07-07T18:28:18.569Z"
   },
   {
    "duration": 226,
    "start_time": "2021-07-07T18:29:20.879Z"
   },
   {
    "duration": 207,
    "start_time": "2021-07-07T18:29:58.114Z"
   },
   {
    "duration": 140,
    "start_time": "2021-07-07T18:32:04.372Z"
   },
   {
    "duration": 158,
    "start_time": "2021-07-07T18:32:32.508Z"
   },
   {
    "duration": 145,
    "start_time": "2021-07-07T18:32:41.365Z"
   },
   {
    "duration": 132,
    "start_time": "2021-07-07T18:32:45.199Z"
   },
   {
    "duration": 11,
    "start_time": "2021-07-07T18:35:24.679Z"
   },
   {
    "duration": 268,
    "start_time": "2021-07-07T18:36:16.145Z"
   },
   {
    "duration": 227,
    "start_time": "2021-07-07T18:37:04.918Z"
   },
   {
    "duration": 3,
    "start_time": "2021-07-07T18:37:33.012Z"
   },
   {
    "duration": 671,
    "start_time": "2021-07-07T18:37:38.295Z"
   },
   {
    "duration": 54,
    "start_time": "2021-07-07T18:37:53.406Z"
   },
   {
    "duration": 631,
    "start_time": "2021-07-07T18:37:56.463Z"
   },
   {
    "duration": 19,
    "start_time": "2021-07-07T18:39:40.535Z"
   },
   {
    "duration": 20,
    "start_time": "2021-07-07T18:40:12.236Z"
   },
   {
    "duration": 633,
    "start_time": "2021-07-07T18:42:00.398Z"
   },
   {
    "duration": 218,
    "start_time": "2021-07-07T18:42:01.033Z"
   },
   {
    "duration": 49,
    "start_time": "2021-07-07T18:42:01.253Z"
   },
   {
    "duration": 5,
    "start_time": "2021-07-07T18:42:01.303Z"
   },
   {
    "duration": 27,
    "start_time": "2021-07-07T18:42:01.310Z"
   },
   {
    "duration": 8,
    "start_time": "2021-07-07T18:42:01.339Z"
   },
   {
    "duration": 20,
    "start_time": "2021-07-07T18:42:01.348Z"
   },
   {
    "duration": 6,
    "start_time": "2021-07-07T18:42:01.386Z"
   },
   {
    "duration": 16,
    "start_time": "2021-07-07T18:42:01.394Z"
   },
   {
    "duration": 9,
    "start_time": "2021-07-07T18:42:01.411Z"
   },
   {
    "duration": 11,
    "start_time": "2021-07-07T18:42:01.421Z"
   },
   {
    "duration": 31,
    "start_time": "2021-07-07T18:42:01.434Z"
   },
   {
    "duration": 18,
    "start_time": "2021-07-07T18:42:01.485Z"
   },
   {
    "duration": 23,
    "start_time": "2021-07-07T18:42:01.505Z"
   },
   {
    "duration": 6,
    "start_time": "2021-07-07T18:42:01.530Z"
   },
   {
    "duration": 10,
    "start_time": "2021-07-07T18:42:01.538Z"
   },
   {
    "duration": 13,
    "start_time": "2021-07-07T18:42:01.550Z"
   },
   {
    "duration": 24,
    "start_time": "2021-07-07T18:42:01.564Z"
   },
   {
    "duration": 20,
    "start_time": "2021-07-07T18:42:01.590Z"
   },
   {
    "duration": 8,
    "start_time": "2021-07-07T18:42:01.611Z"
   },
   {
    "duration": 31,
    "start_time": "2021-07-07T18:42:01.620Z"
   },
   {
    "duration": 39,
    "start_time": "2021-07-07T18:42:01.653Z"
   },
   {
    "duration": 8,
    "start_time": "2021-07-07T18:42:01.696Z"
   },
   {
    "duration": 13,
    "start_time": "2021-07-07T18:42:01.705Z"
   },
   {
    "duration": 20,
    "start_time": "2021-07-07T18:42:01.720Z"
   },
   {
    "duration": 12,
    "start_time": "2021-07-07T18:42:01.741Z"
   },
   {
    "duration": 35,
    "start_time": "2021-07-07T18:42:01.755Z"
   },
   {
    "duration": 14,
    "start_time": "2021-07-07T18:42:01.792Z"
   },
   {
    "duration": 188,
    "start_time": "2021-07-07T18:42:01.808Z"
   },
   {
    "duration": 19,
    "start_time": "2021-07-07T18:42:01.998Z"
   },
   {
    "duration": 175,
    "start_time": "2021-07-07T18:42:02.019Z"
   },
   {
    "duration": 134,
    "start_time": "2021-07-07T18:42:02.196Z"
   },
   {
    "duration": 10,
    "start_time": "2021-07-07T18:42:02.331Z"
   },
   {
    "duration": 19,
    "start_time": "2021-07-07T18:42:02.343Z"
   },
   {
    "duration": 628,
    "start_time": "2021-07-07T18:46:30.701Z"
   },
   {
    "duration": 183,
    "start_time": "2021-07-07T18:46:31.331Z"
   },
   {
    "duration": 48,
    "start_time": "2021-07-07T18:46:31.516Z"
   },
   {
    "duration": 5,
    "start_time": "2021-07-07T18:46:31.566Z"
   },
   {
    "duration": 28,
    "start_time": "2021-07-07T18:46:31.572Z"
   },
   {
    "duration": 8,
    "start_time": "2021-07-07T18:46:31.602Z"
   },
   {
    "duration": 19,
    "start_time": "2021-07-07T18:46:31.611Z"
   },
   {
    "duration": 6,
    "start_time": "2021-07-07T18:46:31.633Z"
   },
   {
    "duration": 17,
    "start_time": "2021-07-07T18:46:31.642Z"
   },
   {
    "duration": 10,
    "start_time": "2021-07-07T18:46:31.684Z"
   },
   {
    "duration": 9,
    "start_time": "2021-07-07T18:46:31.695Z"
   },
   {
    "duration": 28,
    "start_time": "2021-07-07T18:46:31.705Z"
   },
   {
    "duration": 18,
    "start_time": "2021-07-07T18:46:31.735Z"
   },
   {
    "duration": 48,
    "start_time": "2021-07-07T18:46:31.755Z"
   },
   {
    "duration": 6,
    "start_time": "2021-07-07T18:46:31.804Z"
   },
   {
    "duration": 4,
    "start_time": "2021-07-07T18:46:31.812Z"
   },
   {
    "duration": 9,
    "start_time": "2021-07-07T18:46:31.817Z"
   },
   {
    "duration": 10,
    "start_time": "2021-07-07T18:46:31.827Z"
   },
   {
    "duration": 12,
    "start_time": "2021-07-07T18:46:31.838Z"
   },
   {
    "duration": 39,
    "start_time": "2021-07-07T18:46:31.851Z"
   },
   {
    "duration": 24,
    "start_time": "2021-07-07T18:46:31.892Z"
   },
   {
    "duration": 15,
    "start_time": "2021-07-07T18:46:31.918Z"
   },
   {
    "duration": 7,
    "start_time": "2021-07-07T18:46:31.936Z"
   },
   {
    "duration": 8,
    "start_time": "2021-07-07T18:46:31.944Z"
   },
   {
    "duration": 19,
    "start_time": "2021-07-07T18:46:31.984Z"
   },
   {
    "duration": 10,
    "start_time": "2021-07-07T18:46:32.004Z"
   },
   {
    "duration": 5,
    "start_time": "2021-07-07T18:46:32.016Z"
   },
   {
    "duration": 9,
    "start_time": "2021-07-07T18:46:32.023Z"
   },
   {
    "duration": 199,
    "start_time": "2021-07-07T18:46:32.033Z"
   },
   {
    "duration": 19,
    "start_time": "2021-07-07T18:46:32.234Z"
   },
   {
    "duration": 159,
    "start_time": "2021-07-07T18:46:32.255Z"
   },
   {
    "duration": 134,
    "start_time": "2021-07-07T18:46:32.416Z"
   },
   {
    "duration": 10,
    "start_time": "2021-07-07T18:46:32.552Z"
   },
   {
    "duration": 34,
    "start_time": "2021-07-07T18:46:32.563Z"
   },
   {
    "duration": 1039,
    "start_time": "2021-07-08T08:41:09.419Z"
   },
   {
    "duration": 333,
    "start_time": "2021-07-08T08:41:10.459Z"
   },
   {
    "duration": 173,
    "start_time": "2021-07-08T08:41:10.794Z"
   },
   {
    "duration": 5,
    "start_time": "2021-07-08T08:41:10.968Z"
   },
   {
    "duration": 25,
    "start_time": "2021-07-08T08:41:10.975Z"
   },
   {
    "duration": 9,
    "start_time": "2021-07-08T08:41:11.002Z"
   },
   {
    "duration": 18,
    "start_time": "2021-07-08T08:41:11.013Z"
   },
   {
    "duration": 6,
    "start_time": "2021-07-08T08:41:11.033Z"
   },
   {
    "duration": 44,
    "start_time": "2021-07-08T08:41:11.042Z"
   },
   {
    "duration": 10,
    "start_time": "2021-07-08T08:41:11.088Z"
   },
   {
    "duration": 9,
    "start_time": "2021-07-08T08:41:11.100Z"
   },
   {
    "duration": 27,
    "start_time": "2021-07-08T08:41:11.111Z"
   },
   {
    "duration": 46,
    "start_time": "2021-07-08T08:41:11.140Z"
   },
   {
    "duration": 17,
    "start_time": "2021-07-08T08:41:11.187Z"
   },
   {
    "duration": 6,
    "start_time": "2021-07-08T08:41:11.206Z"
   },
   {
    "duration": 5,
    "start_time": "2021-07-08T08:41:11.213Z"
   },
   {
    "duration": 10,
    "start_time": "2021-07-08T08:41:11.219Z"
   },
   {
    "duration": 9,
    "start_time": "2021-07-08T08:41:11.230Z"
   },
   {
    "duration": 45,
    "start_time": "2021-07-08T08:41:11.241Z"
   },
   {
    "duration": 7,
    "start_time": "2021-07-08T08:41:11.287Z"
   },
   {
    "duration": 24,
    "start_time": "2021-07-08T08:41:11.296Z"
   },
   {
    "duration": 16,
    "start_time": "2021-07-08T08:41:11.322Z"
   },
   {
    "duration": 7,
    "start_time": "2021-07-08T08:41:11.341Z"
   },
   {
    "duration": 41,
    "start_time": "2021-07-08T08:41:11.349Z"
   },
   {
    "duration": 17,
    "start_time": "2021-07-08T08:41:11.391Z"
   },
   {
    "duration": 9,
    "start_time": "2021-07-08T08:41:11.410Z"
   },
   {
    "duration": 5,
    "start_time": "2021-07-08T08:41:11.421Z"
   },
   {
    "duration": 6,
    "start_time": "2021-07-08T08:41:11.428Z"
   },
   {
    "duration": 198,
    "start_time": "2021-07-08T08:41:11.435Z"
   },
   {
    "duration": 18,
    "start_time": "2021-07-08T08:41:11.635Z"
   },
   {
    "duration": 155,
    "start_time": "2021-07-08T08:41:11.655Z"
   },
   {
    "duration": 138,
    "start_time": "2021-07-08T08:41:11.811Z"
   },
   {
    "duration": 10,
    "start_time": "2021-07-08T08:41:11.950Z"
   },
   {
    "duration": 29,
    "start_time": "2021-07-08T08:41:11.961Z"
   },
   {
    "duration": 171,
    "start_time": "2021-07-08T08:47:44.522Z"
   },
   {
    "duration": 124,
    "start_time": "2021-07-08T08:47:46.872Z"
   },
   {
    "duration": 191,
    "start_time": "2021-07-08T08:47:58.148Z"
   },
   {
    "duration": 191,
    "start_time": "2021-07-08T08:48:07.412Z"
   },
   {
    "duration": 261,
    "start_time": "2021-07-08T08:48:10.385Z"
   },
   {
    "duration": 255,
    "start_time": "2021-07-08T08:48:14.494Z"
   },
   {
    "duration": 219,
    "start_time": "2021-07-08T08:48:22.752Z"
   },
   {
    "duration": 173,
    "start_time": "2021-07-08T08:49:06.395Z"
   },
   {
    "duration": 180,
    "start_time": "2021-07-08T08:49:21.011Z"
   },
   {
    "duration": 6,
    "start_time": "2021-07-08T08:50:31.697Z"
   },
   {
    "duration": 10,
    "start_time": "2021-07-08T08:50:47.394Z"
   },
   {
    "duration": 11,
    "start_time": "2021-07-08T08:53:49.332Z"
   },
   {
    "duration": 171,
    "start_time": "2021-07-08T08:54:28.408Z"
   },
   {
    "duration": 636,
    "start_time": "2021-07-08T09:02:48.385Z"
   },
   {
    "duration": 227,
    "start_time": "2021-07-08T09:02:49.023Z"
   },
   {
    "duration": 104,
    "start_time": "2021-07-08T09:02:49.252Z"
   },
   {
    "duration": 5,
    "start_time": "2021-07-08T09:02:49.358Z"
   },
   {
    "duration": 27,
    "start_time": "2021-07-08T09:02:49.365Z"
   },
   {
    "duration": 8,
    "start_time": "2021-07-08T09:02:49.394Z"
   },
   {
    "duration": 18,
    "start_time": "2021-07-08T09:02:49.404Z"
   },
   {
    "duration": 6,
    "start_time": "2021-07-08T09:02:49.424Z"
   },
   {
    "duration": 11,
    "start_time": "2021-07-08T09:02:49.433Z"
   },
   {
    "duration": 13,
    "start_time": "2021-07-08T09:02:49.485Z"
   },
   {
    "duration": 9,
    "start_time": "2021-07-08T09:02:49.500Z"
   },
   {
    "duration": 38,
    "start_time": "2021-07-08T09:02:49.511Z"
   },
   {
    "duration": 42,
    "start_time": "2021-07-08T09:02:49.551Z"
   },
   {
    "duration": 21,
    "start_time": "2021-07-08T09:02:49.594Z"
   },
   {
    "duration": 6,
    "start_time": "2021-07-08T09:02:49.616Z"
   },
   {
    "duration": 3,
    "start_time": "2021-07-08T09:02:49.623Z"
   },
   {
    "duration": 9,
    "start_time": "2021-07-08T09:02:49.628Z"
   },
   {
    "duration": 52,
    "start_time": "2021-07-08T09:02:49.638Z"
   },
   {
    "duration": 11,
    "start_time": "2021-07-08T09:02:49.692Z"
   },
   {
    "duration": 8,
    "start_time": "2021-07-08T09:02:49.704Z"
   },
   {
    "duration": 27,
    "start_time": "2021-07-08T09:02:49.713Z"
   },
   {
    "duration": 59,
    "start_time": "2021-07-08T09:02:49.741Z"
   },
   {
    "duration": 8,
    "start_time": "2021-07-08T09:02:49.803Z"
   },
   {
    "duration": 14,
    "start_time": "2021-07-08T09:02:49.813Z"
   },
   {
    "duration": 20,
    "start_time": "2021-07-08T09:02:49.829Z"
   },
   {
    "duration": 44,
    "start_time": "2021-07-08T09:02:49.851Z"
   },
   {
    "duration": 14,
    "start_time": "2021-07-08T09:02:49.896Z"
   },
   {
    "duration": 221,
    "start_time": "2021-07-08T09:02:49.912Z"
   },
   {
    "duration": 6,
    "start_time": "2021-07-08T09:02:50.134Z"
   },
   {
    "duration": 206,
    "start_time": "2021-07-08T09:02:50.142Z"
   },
   {
    "duration": 19,
    "start_time": "2021-07-08T09:02:50.350Z"
   },
   {
    "duration": 21,
    "start_time": "2021-07-08T09:02:50.370Z"
   },
   {
    "duration": 20,
    "start_time": "2021-07-08T09:02:50.393Z"
   },
   {
    "duration": 5,
    "start_time": "2021-07-08T09:02:50.414Z"
   },
   {
    "duration": 5,
    "start_time": "2021-07-08T09:03:34.173Z"
   },
   {
    "duration": 6,
    "start_time": "2021-07-08T09:04:49.062Z"
   },
   {
    "duration": 9,
    "start_time": "2021-07-08T09:04:50.118Z"
   },
   {
    "duration": 14,
    "start_time": "2021-07-08T09:04:58.512Z"
   },
   {
    "duration": 9,
    "start_time": "2021-07-08T09:05:10.988Z"
   },
   {
    "duration": 11,
    "start_time": "2021-07-08T09:05:11.743Z"
   },
   {
    "duration": 7,
    "start_time": "2021-07-08T09:05:25.677Z"
   },
   {
    "duration": 13,
    "start_time": "2021-07-08T09:05:47.189Z"
   },
   {
    "duration": 13,
    "start_time": "2021-07-08T09:05:54.755Z"
   },
   {
    "duration": 4,
    "start_time": "2021-07-08T09:06:29.189Z"
   },
   {
    "duration": 244,
    "start_time": "2021-07-08T09:06:29.195Z"
   },
   {
    "duration": 91,
    "start_time": "2021-07-08T09:06:29.441Z"
   },
   {
    "duration": 4,
    "start_time": "2021-07-08T09:06:29.534Z"
   },
   {
    "duration": 28,
    "start_time": "2021-07-08T09:06:29.540Z"
   },
   {
    "duration": 6,
    "start_time": "2021-07-08T09:06:29.570Z"
   },
   {
    "duration": 18,
    "start_time": "2021-07-08T09:06:29.578Z"
   },
   {
    "duration": 5,
    "start_time": "2021-07-08T09:06:29.597Z"
   },
   {
    "duration": 13,
    "start_time": "2021-07-08T09:06:29.605Z"
   },
   {
    "duration": 8,
    "start_time": "2021-07-08T09:06:29.620Z"
   },
   {
    "duration": 7,
    "start_time": "2021-07-08T09:06:29.630Z"
   },
   {
    "duration": 63,
    "start_time": "2021-07-08T09:06:29.639Z"
   },
   {
    "duration": 17,
    "start_time": "2021-07-08T09:06:29.704Z"
   },
   {
    "duration": 20,
    "start_time": "2021-07-08T09:06:29.723Z"
   },
   {
    "duration": 6,
    "start_time": "2021-07-08T09:06:29.745Z"
   },
   {
    "duration": 3,
    "start_time": "2021-07-08T09:06:29.752Z"
   },
   {
    "duration": 7,
    "start_time": "2021-07-08T09:06:29.785Z"
   },
   {
    "duration": 11,
    "start_time": "2021-07-08T09:06:29.794Z"
   },
   {
    "duration": 15,
    "start_time": "2021-07-08T09:06:29.807Z"
   },
   {
    "duration": 8,
    "start_time": "2021-07-08T09:06:29.823Z"
   },
   {
    "duration": 70,
    "start_time": "2021-07-08T09:06:29.832Z"
   },
   {
    "duration": 17,
    "start_time": "2021-07-08T09:06:29.903Z"
   },
   {
    "duration": 9,
    "start_time": "2021-07-08T09:06:29.921Z"
   },
   {
    "duration": 9,
    "start_time": "2021-07-08T09:06:29.932Z"
   },
   {
    "duration": 57,
    "start_time": "2021-07-08T09:06:29.942Z"
   },
   {
    "duration": 11,
    "start_time": "2021-07-08T09:06:30.001Z"
   },
   {
    "duration": 19,
    "start_time": "2021-07-08T09:06:30.016Z"
   },
   {
    "duration": 217,
    "start_time": "2021-07-08T09:06:30.037Z"
   },
   {
    "duration": 6,
    "start_time": "2021-07-08T09:06:30.255Z"
   },
   {
    "duration": 205,
    "start_time": "2021-07-08T09:06:30.263Z"
   },
   {
    "duration": 27,
    "start_time": "2021-07-08T09:06:30.470Z"
   },
   {
    "duration": 11,
    "start_time": "2021-07-08T09:06:30.500Z"
   },
   {
    "duration": 31,
    "start_time": "2021-07-08T09:06:30.513Z"
   },
   {
    "duration": 18,
    "start_time": "2021-07-08T09:06:30.546Z"
   },
   {
    "duration": 11,
    "start_time": "2021-07-08T09:06:30.566Z"
   },
   {
    "duration": 19,
    "start_time": "2021-07-08T09:06:30.579Z"
   },
   {
    "duration": 20,
    "start_time": "2021-07-08T09:06:49.466Z"
   },
   {
    "duration": 9,
    "start_time": "2021-07-08T09:06:51.994Z"
   },
   {
    "duration": 20,
    "start_time": "2021-07-08T09:06:52.273Z"
   },
   {
    "duration": 246,
    "start_time": "2021-07-08T09:10:21.272Z"
   },
   {
    "duration": 84,
    "start_time": "2021-07-08T09:10:21.436Z"
   },
   {
    "duration": 7,
    "start_time": "2021-07-08T09:10:37.608Z"
   },
   {
    "duration": 189,
    "start_time": "2021-07-08T09:10:38.573Z"
   },
   {
    "duration": 185,
    "start_time": "2021-07-08T09:10:53.181Z"
   },
   {
    "duration": 11,
    "start_time": "2021-07-08T09:10:59.549Z"
   },
   {
    "duration": 42,
    "start_time": "2021-07-08T09:10:59.709Z"
   },
   {
    "duration": 12,
    "start_time": "2021-07-08T09:11:02.857Z"
   },
   {
    "duration": 28,
    "start_time": "2021-07-08T09:11:10.062Z"
   },
   {
    "duration": 249,
    "start_time": "2021-07-08T09:11:37.388Z"
   },
   {
    "duration": 232,
    "start_time": "2021-07-08T09:11:49.485Z"
   },
   {
    "duration": 453,
    "start_time": "2021-07-08T09:12:01.546Z"
   },
   {
    "duration": 440,
    "start_time": "2021-07-08T09:12:12.347Z"
   },
   {
    "duration": 213,
    "start_time": "2021-07-08T09:13:32.196Z"
   },
   {
    "duration": 172,
    "start_time": "2021-07-08T09:14:07.400Z"
   },
   {
    "duration": 185,
    "start_time": "2021-07-08T09:14:14.905Z"
   },
   {
    "duration": 209,
    "start_time": "2021-07-08T09:14:40.109Z"
   },
   {
    "duration": 201,
    "start_time": "2021-07-08T09:14:54.506Z"
   },
   {
    "duration": 622,
    "start_time": "2021-07-08T09:18:14.497Z"
   },
   {
    "duration": 220,
    "start_time": "2021-07-08T09:18:15.121Z"
   },
   {
    "duration": 79,
    "start_time": "2021-07-08T09:18:15.343Z"
   },
   {
    "duration": 4,
    "start_time": "2021-07-08T09:18:15.425Z"
   },
   {
    "duration": 24,
    "start_time": "2021-07-08T09:18:15.431Z"
   },
   {
    "duration": 8,
    "start_time": "2021-07-08T09:18:15.457Z"
   },
   {
    "duration": 16,
    "start_time": "2021-07-08T09:18:15.466Z"
   },
   {
    "duration": 5,
    "start_time": "2021-07-08T09:18:15.484Z"
   },
   {
    "duration": 10,
    "start_time": "2021-07-08T09:18:15.493Z"
   },
   {
    "duration": 8,
    "start_time": "2021-07-08T09:18:15.504Z"
   },
   {
    "duration": 7,
    "start_time": "2021-07-08T09:18:15.513Z"
   },
   {
    "duration": 26,
    "start_time": "2021-07-08T09:18:15.522Z"
   },
   {
    "duration": 49,
    "start_time": "2021-07-08T09:18:15.550Z"
   },
   {
    "duration": 21,
    "start_time": "2021-07-08T09:18:15.601Z"
   },
   {
    "duration": 8,
    "start_time": "2021-07-08T09:18:15.624Z"
   },
   {
    "duration": 3,
    "start_time": "2021-07-08T09:18:15.634Z"
   },
   {
    "duration": 8,
    "start_time": "2021-07-08T09:18:15.639Z"
   },
   {
    "duration": 45,
    "start_time": "2021-07-08T09:18:15.649Z"
   },
   {
    "duration": 13,
    "start_time": "2021-07-08T09:18:15.696Z"
   },
   {
    "duration": 10,
    "start_time": "2021-07-08T09:18:15.711Z"
   },
   {
    "duration": 64,
    "start_time": "2021-07-08T09:18:15.722Z"
   },
   {
    "duration": 19,
    "start_time": "2021-07-08T09:18:15.788Z"
   },
   {
    "duration": 9,
    "start_time": "2021-07-08T09:18:15.809Z"
   },
   {
    "duration": 9,
    "start_time": "2021-07-08T09:18:15.820Z"
   },
   {
    "duration": 18,
    "start_time": "2021-07-08T09:18:15.831Z"
   },
   {
    "duration": 43,
    "start_time": "2021-07-08T09:18:15.851Z"
   },
   {
    "duration": 12,
    "start_time": "2021-07-08T09:18:15.897Z"
   },
   {
    "duration": 219,
    "start_time": "2021-07-08T09:18:15.911Z"
   },
   {
    "duration": 8,
    "start_time": "2021-07-08T09:18:16.132Z"
   },
   {
    "duration": 199,
    "start_time": "2021-07-08T09:18:16.141Z"
   },
   {
    "duration": 18,
    "start_time": "2021-07-08T09:18:16.341Z"
   },
   {
    "duration": 24,
    "start_time": "2021-07-08T09:18:16.361Z"
   },
   {
    "duration": 24,
    "start_time": "2021-07-08T09:18:16.387Z"
   },
   {
    "duration": 211,
    "start_time": "2021-07-08T09:18:16.413Z"
   },
   {
    "duration": 18,
    "start_time": "2021-07-08T09:18:16.626Z"
   },
   {
    "duration": 596,
    "start_time": "2021-07-08T10:06:33.623Z"
   },
   {
    "duration": 181,
    "start_time": "2021-07-08T10:06:34.221Z"
   },
   {
    "duration": 176,
    "start_time": "2021-07-08T10:06:34.635Z"
   },
   {
    "duration": 239,
    "start_time": "2021-07-08T10:06:55.572Z"
   },
   {
    "duration": 6,
    "start_time": "2021-07-08T10:06:57.687Z"
   },
   {
    "duration": 4,
    "start_time": "2021-07-08T10:07:03.956Z"
   },
   {
    "duration": 4,
    "start_time": "2021-07-08T10:07:10.376Z"
   },
   {
    "duration": 4,
    "start_time": "2021-07-08T10:17:19.889Z"
   },
   {
    "duration": 3,
    "start_time": "2021-07-08T10:19:19.407Z"
   },
   {
    "duration": 197,
    "start_time": "2021-07-08T10:19:19.412Z"
   },
   {
    "duration": 127,
    "start_time": "2021-07-08T10:19:19.611Z"
   },
   {
    "duration": 4,
    "start_time": "2021-07-08T10:19:19.740Z"
   },
   {
    "duration": 27,
    "start_time": "2021-07-08T10:19:19.746Z"
   },
   {
    "duration": 7,
    "start_time": "2021-07-08T10:19:19.775Z"
   },
   {
    "duration": 30,
    "start_time": "2021-07-08T10:19:19.784Z"
   },
   {
    "duration": 7,
    "start_time": "2021-07-08T10:19:19.817Z"
   },
   {
    "duration": 26,
    "start_time": "2021-07-08T10:19:19.826Z"
   },
   {
    "duration": 18,
    "start_time": "2021-07-08T10:19:19.854Z"
   },
   {
    "duration": 14,
    "start_time": "2021-07-08T10:19:19.874Z"
   },
   {
    "duration": 48,
    "start_time": "2021-07-08T10:19:19.890Z"
   },
   {
    "duration": 17,
    "start_time": "2021-07-08T10:19:19.940Z"
   },
   {
    "duration": 38,
    "start_time": "2021-07-08T10:19:19.959Z"
   },
   {
    "duration": 8,
    "start_time": "2021-07-08T10:19:19.999Z"
   },
   {
    "duration": 15,
    "start_time": "2021-07-08T10:19:20.009Z"
   },
   {
    "duration": 22,
    "start_time": "2021-07-08T10:19:20.026Z"
   },
   {
    "duration": 10,
    "start_time": "2021-07-08T10:19:20.050Z"
   },
   {
    "duration": 10,
    "start_time": "2021-07-08T10:19:20.062Z"
   },
   {
    "duration": 20,
    "start_time": "2021-07-08T10:19:20.073Z"
   },
   {
    "duration": 29,
    "start_time": "2021-07-08T10:19:20.095Z"
   },
   {
    "duration": 17,
    "start_time": "2021-07-08T10:19:20.126Z"
   },
   {
    "duration": 40,
    "start_time": "2021-07-08T10:19:20.146Z"
   },
   {
    "duration": 15,
    "start_time": "2021-07-08T10:19:20.189Z"
   },
   {
    "duration": 19,
    "start_time": "2021-07-08T10:19:20.206Z"
   },
   {
    "duration": 10,
    "start_time": "2021-07-08T10:19:20.226Z"
   },
   {
    "duration": 11,
    "start_time": "2021-07-08T10:19:20.238Z"
   },
   {
    "duration": 297,
    "start_time": "2021-07-08T10:19:20.250Z"
   },
   {
    "duration": 6,
    "start_time": "2021-07-08T10:19:20.549Z"
   },
   {
    "duration": 191,
    "start_time": "2021-07-08T10:19:20.557Z"
   },
   {
    "duration": 19,
    "start_time": "2021-07-08T10:19:20.750Z"
   },
   {
    "duration": 20,
    "start_time": "2021-07-08T10:19:20.771Z"
   },
   {
    "duration": 15,
    "start_time": "2021-07-08T10:19:20.793Z"
   },
   {
    "duration": 222,
    "start_time": "2021-07-08T10:19:20.809Z"
   },
   {
    "duration": 20,
    "start_time": "2021-07-08T10:19:21.033Z"
   },
   {
    "duration": 27,
    "start_time": "2021-07-08T10:45:04.055Z"
   },
   {
    "duration": 8,
    "start_time": "2021-07-08T10:45:08.478Z"
   },
   {
    "duration": 8,
    "start_time": "2021-07-08T10:45:31.982Z"
   },
   {
    "duration": 10,
    "start_time": "2021-07-08T10:46:01.221Z"
   },
   {
    "duration": 17,
    "start_time": "2021-07-08T10:46:40.011Z"
   },
   {
    "duration": 193,
    "start_time": "2021-07-08T10:48:19.471Z"
   },
   {
    "duration": 225,
    "start_time": "2021-07-08T10:49:26.480Z"
   },
   {
    "duration": 204,
    "start_time": "2021-07-08T10:49:59.992Z"
   },
   {
    "duration": 435,
    "start_time": "2021-07-08T10:50:06.779Z"
   },
   {
    "duration": 199,
    "start_time": "2021-07-08T10:50:14.891Z"
   },
   {
    "duration": 204,
    "start_time": "2021-07-08T10:50:18.501Z"
   },
   {
    "duration": 244,
    "start_time": "2021-07-08T10:50:23.359Z"
   },
   {
    "duration": 192,
    "start_time": "2021-07-08T10:50:29.135Z"
   },
   {
    "duration": 218,
    "start_time": "2021-07-08T10:50:33.092Z"
   },
   {
    "duration": 207,
    "start_time": "2021-07-08T10:52:45.381Z"
   },
   {
    "duration": 5,
    "start_time": "2021-07-08T10:53:34.641Z"
   },
   {
    "duration": 196,
    "start_time": "2021-07-08T10:53:41.478Z"
   },
   {
    "duration": 43,
    "start_time": "2021-07-08T10:53:50.335Z"
   },
   {
    "duration": 32,
    "start_time": "2021-07-08T10:53:55.294Z"
   },
   {
    "duration": 55,
    "start_time": "2021-07-08T10:54:09.675Z"
   },
   {
    "duration": 16,
    "start_time": "2021-07-08T10:54:12.260Z"
   },
   {
    "duration": 15,
    "start_time": "2021-07-08T10:54:49.150Z"
   },
   {
    "duration": 20,
    "start_time": "2021-07-08T10:56:07.596Z"
   },
   {
    "duration": 16,
    "start_time": "2021-07-08T10:58:26.276Z"
   },
   {
    "duration": 22,
    "start_time": "2021-07-08T10:59:00.486Z"
   },
   {
    "duration": 18,
    "start_time": "2021-07-08T11:02:09.653Z"
   },
   {
    "duration": 10,
    "start_time": "2021-07-08T11:03:44.331Z"
   },
   {
    "duration": 10,
    "start_time": "2021-07-08T11:03:54.055Z"
   },
   {
    "duration": 12,
    "start_time": "2021-07-08T11:04:41.967Z"
   },
   {
    "duration": 24,
    "start_time": "2021-07-08T11:07:30.732Z"
   },
   {
    "duration": 6,
    "start_time": "2021-07-08T11:07:37.364Z"
   },
   {
    "duration": 16,
    "start_time": "2021-07-08T11:08:01.819Z"
   },
   {
    "duration": 17,
    "start_time": "2021-07-08T11:09:47.488Z"
   },
   {
    "duration": 246,
    "start_time": "2021-07-08T11:10:00.830Z"
   },
   {
    "duration": 18,
    "start_time": "2021-07-08T11:13:55.195Z"
   },
   {
    "duration": 204,
    "start_time": "2021-07-08T11:14:04.951Z"
   },
   {
    "duration": 19,
    "start_time": "2021-07-08T11:15:10.613Z"
   },
   {
    "duration": 680,
    "start_time": "2021-07-08T11:16:25.793Z"
   },
   {
    "duration": 451,
    "start_time": "2021-07-08T11:16:40.313Z"
   },
   {
    "duration": 469,
    "start_time": "2021-07-08T11:17:21.286Z"
   },
   {
    "duration": 20,
    "start_time": "2021-07-08T11:19:12.554Z"
   },
   {
    "duration": 35,
    "start_time": "2021-07-08T11:20:05.484Z"
   },
   {
    "duration": 53,
    "start_time": "2021-07-08T11:21:40.050Z"
   },
   {
    "duration": 13,
    "start_time": "2021-07-08T11:22:26.059Z"
   },
   {
    "duration": 19,
    "start_time": "2021-07-08T11:22:47.419Z"
   },
   {
    "duration": 25,
    "start_time": "2021-07-08T11:23:19.958Z"
   },
   {
    "duration": 29,
    "start_time": "2021-07-08T11:23:25.415Z"
   },
   {
    "duration": 10,
    "start_time": "2021-07-08T11:24:45.138Z"
   },
   {
    "duration": 19,
    "start_time": "2021-07-08T11:24:54.498Z"
   },
   {
    "duration": 12,
    "start_time": "2021-07-08T11:25:32.225Z"
   },
   {
    "duration": 19,
    "start_time": "2021-07-08T11:25:37.092Z"
   },
   {
    "duration": 17,
    "start_time": "2021-07-08T11:25:58.116Z"
   },
   {
    "duration": 15,
    "start_time": "2021-07-08T11:26:02.258Z"
   },
   {
    "duration": 8,
    "start_time": "2021-07-08T11:26:59.682Z"
   },
   {
    "duration": 184,
    "start_time": "2021-07-08T11:27:21.894Z"
   },
   {
    "duration": 8,
    "start_time": "2021-07-08T11:27:23.824Z"
   },
   {
    "duration": 202,
    "start_time": "2021-07-08T11:27:23.962Z"
   },
   {
    "duration": 360,
    "start_time": "2021-07-08T11:28:33.215Z"
   },
   {
    "duration": 231,
    "start_time": "2021-07-08T11:32:05.542Z"
   },
   {
    "duration": 607,
    "start_time": "2021-07-08T11:36:27.854Z"
   },
   {
    "duration": 241,
    "start_time": "2021-07-08T11:36:28.463Z"
   },
   {
    "duration": 67,
    "start_time": "2021-07-08T11:36:28.709Z"
   },
   {
    "duration": 5,
    "start_time": "2021-07-08T11:36:28.778Z"
   },
   {
    "duration": 32,
    "start_time": "2021-07-08T11:36:28.784Z"
   },
   {
    "duration": 11,
    "start_time": "2021-07-08T11:36:28.819Z"
   },
   {
    "duration": 20,
    "start_time": "2021-07-08T11:36:28.834Z"
   },
   {
    "duration": 36,
    "start_time": "2021-07-08T11:36:28.857Z"
   },
   {
    "duration": 16,
    "start_time": "2021-07-08T11:36:28.895Z"
   },
   {
    "duration": 14,
    "start_time": "2021-07-08T11:36:28.913Z"
   },
   {
    "duration": 9,
    "start_time": "2021-07-08T11:36:28.930Z"
   },
   {
    "duration": 55,
    "start_time": "2021-07-08T11:36:28.941Z"
   },
   {
    "duration": 27,
    "start_time": "2021-07-08T11:36:28.999Z"
   },
   {
    "duration": 30,
    "start_time": "2021-07-08T11:36:29.028Z"
   },
   {
    "duration": 31,
    "start_time": "2021-07-08T11:36:29.060Z"
   },
   {
    "duration": 3,
    "start_time": "2021-07-08T11:36:29.093Z"
   },
   {
    "duration": 12,
    "start_time": "2021-07-08T11:36:29.099Z"
   },
   {
    "duration": 11,
    "start_time": "2021-07-08T11:36:29.112Z"
   },
   {
    "duration": 12,
    "start_time": "2021-07-08T11:36:29.125Z"
   },
   {
    "duration": 9,
    "start_time": "2021-07-08T11:36:29.139Z"
   },
   {
    "duration": 31,
    "start_time": "2021-07-08T11:36:29.191Z"
   },
   {
    "duration": 17,
    "start_time": "2021-07-08T11:36:29.226Z"
   },
   {
    "duration": 7,
    "start_time": "2021-07-08T11:36:29.245Z"
   },
   {
    "duration": 10,
    "start_time": "2021-07-08T11:36:29.254Z"
   },
   {
    "duration": 30,
    "start_time": "2021-07-08T11:36:29.292Z"
   },
   {
    "duration": 11,
    "start_time": "2021-07-08T11:36:29.324Z"
   },
   {
    "duration": 11,
    "start_time": "2021-07-08T11:36:29.337Z"
   },
   {
    "duration": 230,
    "start_time": "2021-07-08T11:36:29.349Z"
   },
   {
    "duration": 13,
    "start_time": "2021-07-08T11:36:29.588Z"
   },
   {
    "duration": 205,
    "start_time": "2021-07-08T11:36:29.603Z"
   },
   {
    "duration": 20,
    "start_time": "2021-07-08T11:36:29.810Z"
   },
   {
    "duration": 9,
    "start_time": "2021-07-08T11:36:29.832Z"
   },
   {
    "duration": 16,
    "start_time": "2021-07-08T11:36:29.843Z"
   },
   {
    "duration": 283,
    "start_time": "2021-07-08T11:36:29.861Z"
   },
   {
    "duration": 50,
    "start_time": "2021-07-08T11:36:30.146Z"
   },
   {
    "duration": 14,
    "start_time": "2021-07-08T11:36:30.198Z"
   },
   {
    "duration": 11,
    "start_time": "2021-07-08T11:36:30.214Z"
   },
   {
    "duration": 245,
    "start_time": "2021-07-08T11:36:30.227Z"
   },
   {
    "duration": 439,
    "start_time": "2021-07-08T11:36:30.474Z"
   },
   {
    "duration": 210,
    "start_time": "2021-07-08T11:36:30.915Z"
   },
   {
    "duration": 15,
    "start_time": "2021-07-08T11:36:31.127Z"
   },
   {
    "duration": 17,
    "start_time": "2021-07-08T11:38:20.451Z"
   },
   {
    "duration": 642,
    "start_time": "2021-07-08T11:46:17.881Z"
   },
   {
    "duration": 210,
    "start_time": "2021-07-08T11:46:18.525Z"
   },
   {
    "duration": 104,
    "start_time": "2021-07-08T11:46:18.741Z"
   },
   {
    "duration": 8,
    "start_time": "2021-07-08T11:46:18.847Z"
   },
   {
    "duration": 25,
    "start_time": "2021-07-08T11:46:18.857Z"
   },
   {
    "duration": 14,
    "start_time": "2021-07-08T11:46:18.884Z"
   },
   {
    "duration": 22,
    "start_time": "2021-07-08T11:46:18.900Z"
   },
   {
    "duration": 5,
    "start_time": "2021-07-08T11:46:18.924Z"
   },
   {
    "duration": 13,
    "start_time": "2021-07-08T11:46:18.931Z"
   },
   {
    "duration": 45,
    "start_time": "2021-07-08T11:46:18.946Z"
   },
   {
    "duration": 12,
    "start_time": "2021-07-08T11:46:18.993Z"
   },
   {
    "duration": 38,
    "start_time": "2021-07-08T11:46:19.006Z"
   },
   {
    "duration": 50,
    "start_time": "2021-07-08T11:46:19.046Z"
   },
   {
    "duration": 29,
    "start_time": "2021-07-08T11:46:19.099Z"
   },
   {
    "duration": 7,
    "start_time": "2021-07-08T11:46:19.130Z"
   },
   {
    "duration": 3,
    "start_time": "2021-07-08T11:46:19.139Z"
   },
   {
    "duration": 11,
    "start_time": "2021-07-08T11:46:19.144Z"
   },
   {
    "duration": 40,
    "start_time": "2021-07-08T11:46:19.157Z"
   },
   {
    "duration": 15,
    "start_time": "2021-07-08T11:46:19.199Z"
   },
   {
    "duration": 10,
    "start_time": "2021-07-08T11:46:19.217Z"
   },
   {
    "duration": 68,
    "start_time": "2021-07-08T11:46:19.230Z"
   },
   {
    "duration": 17,
    "start_time": "2021-07-08T11:46:19.301Z"
   },
   {
    "duration": 7,
    "start_time": "2021-07-08T11:46:19.321Z"
   },
   {
    "duration": 11,
    "start_time": "2021-07-08T11:46:19.330Z"
   },
   {
    "duration": 59,
    "start_time": "2021-07-08T11:46:19.343Z"
   },
   {
    "duration": 17,
    "start_time": "2021-07-08T11:46:19.405Z"
   },
   {
    "duration": 16,
    "start_time": "2021-07-08T11:46:19.424Z"
   },
   {
    "duration": 252,
    "start_time": "2021-07-08T11:46:19.443Z"
   },
   {
    "duration": 9,
    "start_time": "2021-07-08T11:46:19.697Z"
   },
   {
    "duration": 224,
    "start_time": "2021-07-08T11:46:19.708Z"
   },
   {
    "duration": 21,
    "start_time": "2021-07-08T11:46:19.934Z"
   },
   {
    "duration": 9,
    "start_time": "2021-07-08T11:46:19.956Z"
   },
   {
    "duration": 32,
    "start_time": "2021-07-08T11:46:19.967Z"
   },
   {
    "duration": 288,
    "start_time": "2021-07-08T11:46:20.004Z"
   },
   {
    "duration": 23,
    "start_time": "2021-07-08T11:46:20.300Z"
   },
   {
    "duration": 11,
    "start_time": "2021-07-08T11:46:20.325Z"
   },
   {
    "duration": 11,
    "start_time": "2021-07-08T11:46:20.339Z"
   },
   {
    "duration": 259,
    "start_time": "2021-07-08T11:46:20.352Z"
   },
   {
    "duration": 438,
    "start_time": "2021-07-08T11:46:20.613Z"
   },
   {
    "duration": 207,
    "start_time": "2021-07-08T11:46:21.054Z"
   },
   {
    "duration": 27,
    "start_time": "2021-07-08T11:46:21.262Z"
   },
   {
    "duration": 19,
    "start_time": "2021-07-08T11:46:21.291Z"
   },
   {
    "duration": 820,
    "start_time": "2021-07-08T11:49:01.655Z"
   },
   {
    "duration": 372,
    "start_time": "2021-07-08T11:49:02.478Z"
   },
   {
    "duration": 98,
    "start_time": "2021-07-08T11:49:02.853Z"
   },
   {
    "duration": 6,
    "start_time": "2021-07-08T11:49:02.953Z"
   },
   {
    "duration": 39,
    "start_time": "2021-07-08T11:49:02.960Z"
   },
   {
    "duration": 9,
    "start_time": "2021-07-08T11:49:03.003Z"
   },
   {
    "duration": 23,
    "start_time": "2021-07-08T11:49:03.014Z"
   },
   {
    "duration": 6,
    "start_time": "2021-07-08T11:49:03.041Z"
   },
   {
    "duration": 20,
    "start_time": "2021-07-08T11:49:03.049Z"
   },
   {
    "duration": 18,
    "start_time": "2021-07-08T11:49:03.084Z"
   },
   {
    "duration": 14,
    "start_time": "2021-07-08T11:49:03.104Z"
   },
   {
    "duration": 39,
    "start_time": "2021-07-08T11:49:03.119Z"
   },
   {
    "duration": 38,
    "start_time": "2021-07-08T11:49:03.160Z"
   },
   {
    "duration": 26,
    "start_time": "2021-07-08T11:49:03.200Z"
   },
   {
    "duration": 7,
    "start_time": "2021-07-08T11:49:03.227Z"
   },
   {
    "duration": 4,
    "start_time": "2021-07-08T11:49:03.236Z"
   },
   {
    "duration": 15,
    "start_time": "2021-07-08T11:49:03.243Z"
   },
   {
    "duration": 21,
    "start_time": "2021-07-08T11:49:03.285Z"
   },
   {
    "duration": 17,
    "start_time": "2021-07-08T11:49:03.309Z"
   },
   {
    "duration": 10,
    "start_time": "2021-07-08T11:49:03.328Z"
   },
   {
    "duration": 65,
    "start_time": "2021-07-08T11:49:03.340Z"
   },
   {
    "duration": 18,
    "start_time": "2021-07-08T11:49:03.407Z"
   },
   {
    "duration": 8,
    "start_time": "2021-07-08T11:49:03.428Z"
   },
   {
    "duration": 15,
    "start_time": "2021-07-08T11:49:03.438Z"
   },
   {
    "duration": 40,
    "start_time": "2021-07-08T11:49:03.455Z"
   },
   {
    "duration": 12,
    "start_time": "2021-07-08T11:49:03.497Z"
   },
   {
    "duration": 29,
    "start_time": "2021-07-08T11:49:03.511Z"
   },
   {
    "duration": 285,
    "start_time": "2021-07-08T11:49:03.542Z"
   },
   {
    "duration": 8,
    "start_time": "2021-07-08T11:49:03.829Z"
   },
   {
    "duration": 227,
    "start_time": "2021-07-08T11:49:03.838Z"
   },
   {
    "duration": 40,
    "start_time": "2021-07-08T11:49:04.066Z"
   },
   {
    "duration": 10,
    "start_time": "2021-07-08T11:49:04.108Z"
   },
   {
    "duration": 26,
    "start_time": "2021-07-08T11:49:04.121Z"
   },
   {
    "duration": 290,
    "start_time": "2021-07-08T11:49:04.149Z"
   },
   {
    "duration": 26,
    "start_time": "2021-07-08T11:49:04.441Z"
   },
   {
    "duration": 31,
    "start_time": "2021-07-08T11:49:04.470Z"
   },
   {
    "duration": 14,
    "start_time": "2021-07-08T11:49:04.503Z"
   },
   {
    "duration": 259,
    "start_time": "2021-07-08T11:49:04.521Z"
   },
   {
    "duration": 480,
    "start_time": "2021-07-08T11:49:04.782Z"
   },
   {
    "duration": 225,
    "start_time": "2021-07-08T11:49:05.264Z"
   },
   {
    "duration": 22,
    "start_time": "2021-07-08T11:49:05.491Z"
   },
   {
    "duration": 24,
    "start_time": "2021-07-08T11:49:05.515Z"
   },
   {
    "duration": 634,
    "start_time": "2021-07-08T11:52:24.960Z"
   },
   {
    "duration": 199,
    "start_time": "2021-07-08T11:52:25.599Z"
   },
   {
    "duration": 106,
    "start_time": "2021-07-08T11:52:25.803Z"
   },
   {
    "duration": 7,
    "start_time": "2021-07-08T11:52:25.911Z"
   },
   {
    "duration": 29,
    "start_time": "2021-07-08T11:52:25.920Z"
   },
   {
    "duration": 7,
    "start_time": "2021-07-08T11:52:25.951Z"
   },
   {
    "duration": 26,
    "start_time": "2021-07-08T11:52:25.961Z"
   },
   {
    "duration": 11,
    "start_time": "2021-07-08T11:52:25.990Z"
   },
   {
    "duration": 29,
    "start_time": "2021-07-08T11:52:26.005Z"
   },
   {
    "duration": 9,
    "start_time": "2021-07-08T11:52:26.036Z"
   },
   {
    "duration": 8,
    "start_time": "2021-07-08T11:52:26.047Z"
   },
   {
    "duration": 63,
    "start_time": "2021-07-08T11:52:26.057Z"
   },
   {
    "duration": 17,
    "start_time": "2021-07-08T11:52:26.122Z"
   },
   {
    "duration": 43,
    "start_time": "2021-07-08T11:52:26.142Z"
   },
   {
    "duration": 17,
    "start_time": "2021-07-08T11:52:26.187Z"
   },
   {
    "duration": 5,
    "start_time": "2021-07-08T11:52:26.206Z"
   },
   {
    "duration": 12,
    "start_time": "2021-07-08T11:52:26.212Z"
   },
   {
    "duration": 11,
    "start_time": "2021-07-08T11:52:26.226Z"
   },
   {
    "duration": 12,
    "start_time": "2021-07-08T11:52:26.238Z"
   },
   {
    "duration": 38,
    "start_time": "2021-07-08T11:52:26.252Z"
   },
   {
    "duration": 40,
    "start_time": "2021-07-08T11:52:26.292Z"
   },
   {
    "duration": 17,
    "start_time": "2021-07-08T11:52:26.336Z"
   },
   {
    "duration": 39,
    "start_time": "2021-07-08T11:52:26.355Z"
   },
   {
    "duration": 11,
    "start_time": "2021-07-08T11:52:26.395Z"
   },
   {
    "duration": 23,
    "start_time": "2021-07-08T11:52:26.408Z"
   },
   {
    "duration": 12,
    "start_time": "2021-07-08T11:52:26.432Z"
   },
   {
    "duration": 41,
    "start_time": "2021-07-08T11:52:26.446Z"
   },
   {
    "duration": 215,
    "start_time": "2021-07-08T11:52:26.493Z"
   },
   {
    "duration": 8,
    "start_time": "2021-07-08T11:52:26.710Z"
   },
   {
    "duration": 228,
    "start_time": "2021-07-08T11:52:26.720Z"
   },
   {
    "duration": 18,
    "start_time": "2021-07-08T11:52:26.950Z"
   },
   {
    "duration": 35,
    "start_time": "2021-07-08T11:52:26.969Z"
   },
   {
    "duration": 23,
    "start_time": "2021-07-08T11:52:27.006Z"
   },
   {
    "duration": 258,
    "start_time": "2021-07-08T11:52:27.030Z"
   },
   {
    "duration": 24,
    "start_time": "2021-07-08T11:52:27.290Z"
   },
   {
    "duration": 12,
    "start_time": "2021-07-08T11:52:27.316Z"
   },
   {
    "duration": 10,
    "start_time": "2021-07-08T11:52:27.329Z"
   },
   {
    "duration": 298,
    "start_time": "2021-07-08T11:52:27.341Z"
   },
   {
    "duration": 436,
    "start_time": "2021-07-08T11:52:27.641Z"
   },
   {
    "duration": 216,
    "start_time": "2021-07-08T11:52:28.079Z"
   },
   {
    "duration": 20,
    "start_time": "2021-07-08T11:52:28.297Z"
   },
   {
    "duration": 17,
    "start_time": "2021-07-08T11:52:28.319Z"
   },
   {
    "duration": 758,
    "start_time": "2023-05-29T14:58:02.806Z"
   },
   {
    "duration": 297,
    "start_time": "2023-05-29T15:01:49.008Z"
   },
   {
    "duration": 151,
    "start_time": "2023-05-29T15:02:07.669Z"
   },
   {
    "duration": 79,
    "start_time": "2023-05-29T15:09:33.984Z"
   },
   {
    "duration": 21,
    "start_time": "2023-05-29T15:15:16.080Z"
   },
   {
    "duration": 8,
    "start_time": "2023-05-29T15:24:38.079Z"
   },
   {
    "duration": 14,
    "start_time": "2023-05-29T15:24:45.549Z"
   },
   {
    "duration": 14,
    "start_time": "2023-05-29T15:25:11.423Z"
   },
   {
    "duration": 20,
    "start_time": "2023-05-29T15:28:02.980Z"
   },
   {
    "duration": 27,
    "start_time": "2023-05-29T15:28:51.806Z"
   },
   {
    "duration": 27,
    "start_time": "2023-05-29T15:29:54.890Z"
   },
   {
    "duration": 144,
    "start_time": "2023-05-29T15:30:33.420Z"
   },
   {
    "duration": 26,
    "start_time": "2023-05-29T15:34:44.334Z"
   },
   {
    "duration": 27,
    "start_time": "2023-05-29T15:45:31.481Z"
   },
   {
    "duration": 54,
    "start_time": "2023-05-29T15:46:50.391Z"
   },
   {
    "duration": 118,
    "start_time": "2023-05-29T15:47:21.998Z"
   },
   {
    "duration": 58,
    "start_time": "2023-05-29T15:47:50.572Z"
   },
   {
    "duration": 200,
    "start_time": "2023-05-29T15:51:12.364Z"
   },
   {
    "duration": 16,
    "start_time": "2023-05-29T15:51:52.568Z"
   },
   {
    "duration": 14,
    "start_time": "2023-05-29T15:52:10.530Z"
   },
   {
    "duration": 31,
    "start_time": "2023-05-29T15:52:42.841Z"
   },
   {
    "duration": 27,
    "start_time": "2023-05-29T15:52:59.205Z"
   },
   {
    "duration": 27,
    "start_time": "2023-05-29T15:53:16.917Z"
   },
   {
    "duration": 47,
    "start_time": "2023-05-29T15:53:38.056Z"
   },
   {
    "duration": 65,
    "start_time": "2023-05-29T15:54:09.353Z"
   },
   {
    "duration": 59,
    "start_time": "2023-05-29T15:54:32.086Z"
   },
   {
    "duration": 871,
    "start_time": "2023-05-29T16:11:52.230Z"
   },
   {
    "duration": 234,
    "start_time": "2023-05-29T16:12:30.148Z"
   },
   {
    "duration": 14,
    "start_time": "2023-05-29T16:12:50.885Z"
   },
   {
    "duration": 15,
    "start_time": "2023-05-29T16:17:57.509Z"
   },
   {
    "duration": 33,
    "start_time": "2023-05-29T16:20:09.948Z"
   },
   {
    "duration": 11,
    "start_time": "2023-05-29T16:21:08.109Z"
   },
   {
    "duration": 20,
    "start_time": "2023-05-29T16:21:26.294Z"
   },
   {
    "duration": 3,
    "start_time": "2023-05-29T16:21:31.359Z"
   },
   {
    "duration": 190,
    "start_time": "2023-05-29T16:21:31.365Z"
   },
   {
    "duration": 78,
    "start_time": "2023-05-29T16:21:31.557Z"
   },
   {
    "duration": 55,
    "start_time": "2023-05-29T16:21:33.838Z"
   },
   {
    "duration": 423,
    "start_time": "2023-05-29T16:22:22.479Z"
   },
   {
    "duration": 15,
    "start_time": "2023-05-29T16:25:27.004Z"
   },
   {
    "duration": 17,
    "start_time": "2023-05-29T16:27:33.415Z"
   },
   {
    "duration": 16,
    "start_time": "2023-05-29T16:31:37.573Z"
   },
   {
    "duration": 13,
    "start_time": "2023-05-29T16:35:09.464Z"
   },
   {
    "duration": 10,
    "start_time": "2023-05-29T16:35:45.683Z"
   },
   {
    "duration": 58,
    "start_time": "2023-05-29T16:36:01.810Z"
   },
   {
    "duration": 73,
    "start_time": "2023-05-29T16:36:17.129Z"
   },
   {
    "duration": 51,
    "start_time": "2023-05-29T16:36:28.099Z"
   },
   {
    "duration": 49,
    "start_time": "2023-05-29T16:36:35.599Z"
   },
   {
    "duration": 64,
    "start_time": "2023-05-29T16:36:47.878Z"
   },
   {
    "duration": 109,
    "start_time": "2023-05-29T16:37:07.020Z"
   },
   {
    "duration": 49,
    "start_time": "2023-05-29T16:37:17.463Z"
   },
   {
    "duration": 10,
    "start_time": "2023-05-29T16:37:27.516Z"
   },
   {
    "duration": 7,
    "start_time": "2023-05-29T16:37:46.511Z"
   },
   {
    "duration": 801,
    "start_time": "2023-05-29T16:38:52.722Z"
   },
   {
    "duration": 12,
    "start_time": "2023-05-29T16:39:02.057Z"
   },
   {
    "duration": 10,
    "start_time": "2023-05-29T16:39:34.142Z"
   },
   {
    "duration": 12,
    "start_time": "2023-05-29T16:40:07.565Z"
   },
   {
    "duration": 27,
    "start_time": "2023-05-29T16:42:27.606Z"
   },
   {
    "duration": 17,
    "start_time": "2023-05-29T16:46:07.947Z"
   },
   {
    "duration": 12,
    "start_time": "2023-05-29T16:47:05.723Z"
   },
   {
    "duration": 12,
    "start_time": "2023-05-29T16:47:53.993Z"
   },
   {
    "duration": 1543,
    "start_time": "2023-05-29T16:49:24.334Z"
   },
   {
    "duration": 3,
    "start_time": "2023-05-29T16:49:35.851Z"
   },
   {
    "duration": 110,
    "start_time": "2023-05-29T16:49:35.857Z"
   },
   {
    "duration": 49,
    "start_time": "2023-05-29T16:49:35.969Z"
   },
   {
    "duration": 42,
    "start_time": "2023-05-29T16:49:36.020Z"
   },
   {
    "duration": 11,
    "start_time": "2023-05-29T16:49:36.063Z"
   },
   {
    "duration": 11,
    "start_time": "2023-05-29T16:49:36.076Z"
   },
   {
    "duration": 1287,
    "start_time": "2023-05-29T16:49:38.694Z"
   },
   {
    "duration": 20,
    "start_time": "2023-05-29T16:49:48.704Z"
   },
   {
    "duration": 769,
    "start_time": "2023-05-29T16:52:00.111Z"
   },
   {
    "duration": 16,
    "start_time": "2023-05-29T16:52:08.408Z"
   },
   {
    "duration": 50,
    "start_time": "2023-05-30T01:41:50.706Z"
   },
   {
    "duration": 876,
    "start_time": "2023-05-30T01:41:56.921Z"
   },
   {
    "duration": 402,
    "start_time": "2023-05-30T01:41:57.806Z"
   },
   {
    "duration": 116,
    "start_time": "2023-05-30T01:41:58.212Z"
   },
   {
    "duration": 42,
    "start_time": "2023-05-30T01:41:58.329Z"
   },
   {
    "duration": 18,
    "start_time": "2023-05-30T01:41:58.374Z"
   },
   {
    "duration": 13,
    "start_time": "2023-05-30T01:42:00.858Z"
   },
   {
    "duration": 14,
    "start_time": "2023-05-30T01:42:16.467Z"
   },
   {
    "duration": 9,
    "start_time": "2023-05-30T01:42:31.235Z"
   },
   {
    "duration": 21,
    "start_time": "2023-05-30T01:42:55.161Z"
   },
   {
    "duration": 8,
    "start_time": "2023-05-30T01:59:15.793Z"
   },
   {
    "duration": 117,
    "start_time": "2023-05-30T02:01:45.611Z"
   },
   {
    "duration": 67,
    "start_time": "2023-05-30T02:01:50.895Z"
   },
   {
    "duration": 46,
    "start_time": "2023-05-30T02:01:53.195Z"
   },
   {
    "duration": 13,
    "start_time": "2023-05-30T02:01:58.056Z"
   },
   {
    "duration": 12,
    "start_time": "2023-05-30T02:02:04.836Z"
   },
   {
    "duration": 109,
    "start_time": "2023-05-30T02:08:52.022Z"
   },
   {
    "duration": 164,
    "start_time": "2023-05-30T02:15:42.232Z"
   },
   {
    "duration": 123,
    "start_time": "2023-05-30T02:16:01.226Z"
   },
   {
    "duration": 126,
    "start_time": "2023-05-30T02:21:31.733Z"
   },
   {
    "duration": 134,
    "start_time": "2023-05-30T02:22:23.430Z"
   },
   {
    "duration": 128,
    "start_time": "2023-05-30T02:22:57.769Z"
   },
   {
    "duration": 124,
    "start_time": "2023-05-30T02:23:11.869Z"
   },
   {
    "duration": 132,
    "start_time": "2023-05-30T02:26:11.320Z"
   },
   {
    "duration": 181,
    "start_time": "2023-05-30T02:26:21.326Z"
   },
   {
    "duration": 140,
    "start_time": "2023-05-30T02:27:34.828Z"
   },
   {
    "duration": 138,
    "start_time": "2023-05-30T02:27:48.002Z"
   },
   {
    "duration": 188,
    "start_time": "2023-05-30T02:28:10.613Z"
   },
   {
    "duration": 117,
    "start_time": "2023-05-30T02:29:39.626Z"
   },
   {
    "duration": 104,
    "start_time": "2023-05-30T02:29:56.832Z"
   },
   {
    "duration": 135,
    "start_time": "2023-05-30T02:32:31.369Z"
   },
   {
    "duration": 29,
    "start_time": "2023-05-30T02:35:36.199Z"
   },
   {
    "duration": 119,
    "start_time": "2023-05-30T02:36:48.135Z"
   },
   {
    "duration": 134,
    "start_time": "2023-05-30T02:38:32.598Z"
   },
   {
    "duration": 139,
    "start_time": "2023-05-30T02:38:49.306Z"
   },
   {
    "duration": 126,
    "start_time": "2023-05-30T02:39:23.374Z"
   },
   {
    "duration": 118,
    "start_time": "2023-05-30T02:39:31.832Z"
   },
   {
    "duration": 117,
    "start_time": "2023-05-30T02:40:48.315Z"
   },
   {
    "duration": 36,
    "start_time": "2023-05-30T02:41:06.636Z"
   },
   {
    "duration": 35,
    "start_time": "2023-05-30T02:41:13.921Z"
   },
   {
    "duration": 26,
    "start_time": "2023-05-30T02:41:31.404Z"
   },
   {
    "duration": 46,
    "start_time": "2023-05-30T02:41:50.697Z"
   },
   {
    "duration": 165,
    "start_time": "2023-05-30T02:42:09.917Z"
   },
   {
    "duration": 129,
    "start_time": "2023-05-30T02:42:14.270Z"
   },
   {
    "duration": 161,
    "start_time": "2023-05-30T02:48:01.301Z"
   },
   {
    "duration": 112,
    "start_time": "2023-05-30T02:48:07.556Z"
   },
   {
    "duration": 143,
    "start_time": "2023-05-30T02:50:09.805Z"
   },
   {
    "duration": 4,
    "start_time": "2023-05-30T02:54:01.510Z"
   },
   {
    "duration": 169,
    "start_time": "2023-05-30T02:54:01.516Z"
   },
   {
    "duration": 80,
    "start_time": "2023-05-30T02:54:01.686Z"
   },
   {
    "duration": 48,
    "start_time": "2023-05-30T02:54:01.768Z"
   },
   {
    "duration": 23,
    "start_time": "2023-05-30T02:54:01.819Z"
   },
   {
    "duration": 20,
    "start_time": "2023-05-30T02:54:01.845Z"
   },
   {
    "duration": 107,
    "start_time": "2023-05-30T02:54:01.867Z"
   },
   {
    "duration": 0,
    "start_time": "2023-05-30T02:54:01.976Z"
   },
   {
    "duration": 0,
    "start_time": "2023-05-30T02:54:01.977Z"
   },
   {
    "duration": 0,
    "start_time": "2023-05-30T02:54:01.978Z"
   },
   {
    "duration": 50,
    "start_time": "2023-05-30T03:09:34.715Z"
   },
   {
    "duration": 3,
    "start_time": "2023-05-30T03:10:14.126Z"
   },
   {
    "duration": 147,
    "start_time": "2023-05-30T03:10:14.133Z"
   },
   {
    "duration": 67,
    "start_time": "2023-05-30T03:10:14.282Z"
   },
   {
    "duration": 14,
    "start_time": "2023-05-30T03:10:14.351Z"
   },
   {
    "duration": 0,
    "start_time": "2023-05-30T03:10:14.367Z"
   },
   {
    "duration": 0,
    "start_time": "2023-05-30T03:10:14.368Z"
   },
   {
    "duration": 0,
    "start_time": "2023-05-30T03:10:14.370Z"
   },
   {
    "duration": 0,
    "start_time": "2023-05-30T03:10:14.372Z"
   },
   {
    "duration": 0,
    "start_time": "2023-05-30T03:10:14.373Z"
   },
   {
    "duration": 0,
    "start_time": "2023-05-30T03:10:14.377Z"
   },
   {
    "duration": 0,
    "start_time": "2023-05-30T03:10:14.378Z"
   },
   {
    "duration": 3,
    "start_time": "2023-05-30T03:10:32.810Z"
   },
   {
    "duration": 132,
    "start_time": "2023-05-30T03:10:32.815Z"
   },
   {
    "duration": 74,
    "start_time": "2023-05-30T03:10:32.948Z"
   },
   {
    "duration": 10,
    "start_time": "2023-05-30T03:10:36.557Z"
   },
   {
    "duration": 15,
    "start_time": "2023-05-30T03:11:09.355Z"
   },
   {
    "duration": 52,
    "start_time": "2023-05-30T03:19:15.934Z"
   },
   {
    "duration": 19,
    "start_time": "2023-05-30T03:19:34.566Z"
   },
   {
    "duration": 14,
    "start_time": "2023-05-30T03:20:44.217Z"
   },
   {
    "duration": 8,
    "start_time": "2023-05-30T03:22:08.226Z"
   },
   {
    "duration": 20,
    "start_time": "2023-05-30T03:23:37.511Z"
   },
   {
    "duration": 20,
    "start_time": "2023-05-30T03:23:50.828Z"
   },
   {
    "duration": 36,
    "start_time": "2023-05-30T03:24:20.989Z"
   },
   {
    "duration": 54,
    "start_time": "2023-05-30T03:24:38.734Z"
   },
   {
    "duration": 14,
    "start_time": "2023-05-30T03:25:08.706Z"
   },
   {
    "duration": 9,
    "start_time": "2023-05-30T03:25:24.722Z"
   },
   {
    "duration": 32,
    "start_time": "2023-05-30T03:25:27.820Z"
   },
   {
    "duration": 16,
    "start_time": "2023-05-30T03:25:40.631Z"
   },
   {
    "duration": 18,
    "start_time": "2023-05-30T03:26:21.494Z"
   },
   {
    "duration": 12,
    "start_time": "2023-05-30T03:31:31.537Z"
   },
   {
    "duration": 21,
    "start_time": "2023-05-30T03:37:38.757Z"
   },
   {
    "duration": 19,
    "start_time": "2023-05-30T03:38:02.319Z"
   },
   {
    "duration": 1326,
    "start_time": "2023-05-30T03:41:23.038Z"
   },
   {
    "duration": 1444,
    "start_time": "2023-05-30T03:41:50.549Z"
   },
   {
    "duration": 7,
    "start_time": "2023-05-30T03:42:20.765Z"
   },
   {
    "duration": 1376,
    "start_time": "2023-05-30T03:43:39.017Z"
   },
   {
    "duration": 1245,
    "start_time": "2023-05-30T03:44:07.251Z"
   },
   {
    "duration": 29,
    "start_time": "2023-05-30T03:46:37.891Z"
   },
   {
    "duration": 11,
    "start_time": "2023-05-30T04:45:40.596Z"
   },
   {
    "duration": 3,
    "start_time": "2023-05-30T04:45:46.556Z"
   },
   {
    "duration": 162,
    "start_time": "2023-05-30T04:45:46.561Z"
   },
   {
    "duration": 45,
    "start_time": "2023-05-30T04:45:46.725Z"
   },
   {
    "duration": 20,
    "start_time": "2023-05-30T04:45:46.772Z"
   },
   {
    "duration": 55,
    "start_time": "2023-05-30T04:45:46.794Z"
   },
   {
    "duration": 17,
    "start_time": "2023-05-30T04:45:46.851Z"
   },
   {
    "duration": 12,
    "start_time": "2023-05-30T04:45:46.878Z"
   },
   {
    "duration": 43,
    "start_time": "2023-05-30T04:45:46.891Z"
   },
   {
    "duration": 13,
    "start_time": "2023-05-30T04:45:46.936Z"
   },
   {
    "duration": 36,
    "start_time": "2023-05-30T04:45:46.951Z"
   },
   {
    "duration": 7,
    "start_time": "2023-05-30T04:45:50.226Z"
   },
   {
    "duration": 1688,
    "start_time": "2023-05-30T04:45:59.545Z"
   },
   {
    "duration": 1638,
    "start_time": "2023-05-30T04:46:23.302Z"
   },
   {
    "duration": 30,
    "start_time": "2023-05-30T04:46:48.010Z"
   },
   {
    "duration": 1678,
    "start_time": "2023-05-30T04:47:30.461Z"
   },
   {
    "duration": 33,
    "start_time": "2023-05-30T04:47:46.904Z"
   },
   {
    "duration": 78,
    "start_time": "2023-05-30T13:32:33.091Z"
   },
   {
    "duration": 846,
    "start_time": "2023-05-30T13:32:37.963Z"
   },
   {
    "duration": 631,
    "start_time": "2023-05-30T13:32:38.812Z"
   },
   {
    "duration": 171,
    "start_time": "2023-05-30T13:32:39.445Z"
   },
   {
    "duration": 19,
    "start_time": "2023-05-30T13:32:39.617Z"
   },
   {
    "duration": 46,
    "start_time": "2023-05-30T13:32:39.639Z"
   },
   {
    "duration": 18,
    "start_time": "2023-05-30T13:32:39.687Z"
   },
   {
    "duration": 30,
    "start_time": "2023-05-30T13:32:39.707Z"
   },
   {
    "duration": 70,
    "start_time": "2023-05-30T13:32:39.740Z"
   },
   {
    "duration": 23,
    "start_time": "2023-05-30T13:32:39.812Z"
   },
   {
    "duration": 26,
    "start_time": "2023-05-30T13:32:39.837Z"
   },
   {
    "duration": 29,
    "start_time": "2023-05-30T13:32:39.865Z"
   },
   {
    "duration": 47,
    "start_time": "2023-05-30T13:32:47.980Z"
   },
   {
    "duration": 13,
    "start_time": "2023-05-30T13:33:08.269Z"
   },
   {
    "duration": 3,
    "start_time": "2023-05-30T13:33:30.489Z"
   },
   {
    "duration": 3,
    "start_time": "2023-05-30T13:33:36.080Z"
   },
   {
    "duration": 5,
    "start_time": "2023-05-30T13:33:49.377Z"
   },
   {
    "duration": 5,
    "start_time": "2023-05-30T13:34:02.978Z"
   },
   {
    "duration": 33,
    "start_time": "2023-05-30T13:34:46.455Z"
   },
   {
    "duration": 6,
    "start_time": "2023-05-30T13:44:39.924Z"
   },
   {
    "duration": 5,
    "start_time": "2023-05-30T13:45:30.382Z"
   },
   {
    "duration": 4,
    "start_time": "2023-05-30T13:45:49.429Z"
   },
   {
    "duration": 4,
    "start_time": "2023-05-30T13:46:10.800Z"
   },
   {
    "duration": 4,
    "start_time": "2023-05-30T13:46:30.477Z"
   },
   {
    "duration": 26,
    "start_time": "2023-05-30T13:56:24.793Z"
   },
   {
    "duration": 39,
    "start_time": "2023-05-30T13:58:16.369Z"
   },
   {
    "duration": 18,
    "start_time": "2023-05-30T13:58:31.894Z"
   },
   {
    "duration": 10,
    "start_time": "2023-05-30T13:58:36.585Z"
   },
   {
    "duration": 12,
    "start_time": "2023-05-30T13:58:41.285Z"
   },
   {
    "duration": 34,
    "start_time": "2023-05-30T14:00:16.788Z"
   },
   {
    "duration": 4,
    "start_time": "2023-05-30T14:16:33.132Z"
   },
   {
    "duration": 20,
    "start_time": "2023-05-30T14:18:29.999Z"
   },
   {
    "duration": 17,
    "start_time": "2023-05-30T14:19:49.798Z"
   },
   {
    "duration": 22,
    "start_time": "2023-05-30T14:21:03.006Z"
   },
   {
    "duration": 14,
    "start_time": "2023-05-30T14:23:24.561Z"
   },
   {
    "duration": 11,
    "start_time": "2023-05-30T14:23:29.480Z"
   },
   {
    "duration": 4,
    "start_time": "2023-05-30T14:23:44.253Z"
   },
   {
    "duration": 136,
    "start_time": "2023-05-30T14:23:44.258Z"
   },
   {
    "duration": 57,
    "start_time": "2023-05-30T14:23:44.395Z"
   },
   {
    "duration": 16,
    "start_time": "2023-05-30T14:23:44.454Z"
   },
   {
    "duration": 51,
    "start_time": "2023-05-30T14:23:44.472Z"
   },
   {
    "duration": 32,
    "start_time": "2023-05-30T14:23:44.525Z"
   },
   {
    "duration": 9,
    "start_time": "2023-05-30T14:23:44.558Z"
   },
   {
    "duration": 50,
    "start_time": "2023-05-30T14:23:44.569Z"
   },
   {
    "duration": 37,
    "start_time": "2023-05-30T14:23:44.621Z"
   },
   {
    "duration": 9,
    "start_time": "2023-05-30T14:23:44.660Z"
   },
   {
    "duration": 30,
    "start_time": "2023-05-30T14:23:48.770Z"
   },
   {
    "duration": 11,
    "start_time": "2023-05-30T14:29:43.303Z"
   },
   {
    "duration": 11,
    "start_time": "2023-05-30T14:29:46.679Z"
   },
   {
    "duration": 20,
    "start_time": "2023-05-30T14:30:22.865Z"
   },
   {
    "duration": 24,
    "start_time": "2023-05-30T14:33:37.528Z"
   },
   {
    "duration": 11,
    "start_time": "2023-05-30T14:37:56.716Z"
   },
   {
    "duration": 12,
    "start_time": "2023-05-30T14:38:17.540Z"
   },
   {
    "duration": 45,
    "start_time": "2023-05-30T14:38:21.292Z"
   },
   {
    "duration": 50,
    "start_time": "2023-05-30T14:38:38.814Z"
   },
   {
    "duration": 32,
    "start_time": "2023-05-30T14:39:57.285Z"
   },
   {
    "duration": 26,
    "start_time": "2023-05-30T14:40:13.326Z"
   },
   {
    "duration": 8,
    "start_time": "2023-05-30T14:45:16.584Z"
   },
   {
    "duration": 4,
    "start_time": "2023-05-30T14:45:34.396Z"
   },
   {
    "duration": 14,
    "start_time": "2023-05-30T14:45:48.106Z"
   },
   {
    "duration": 4,
    "start_time": "2023-05-30T14:45:52.758Z"
   },
   {
    "duration": 17,
    "start_time": "2023-05-30T14:46:56.145Z"
   },
   {
    "duration": 23,
    "start_time": "2023-05-30T14:58:27.280Z"
   },
   {
    "duration": 19,
    "start_time": "2023-05-30T15:01:02.337Z"
   },
   {
    "duration": 1125,
    "start_time": "2023-05-30T15:05:58.419Z"
   },
   {
    "duration": 5,
    "start_time": "2023-05-30T15:06:13.438Z"
   },
   {
    "duration": 7,
    "start_time": "2023-05-30T15:07:12.448Z"
   },
   {
    "duration": 19,
    "start_time": "2023-05-30T15:07:18.758Z"
   },
   {
    "duration": 13,
    "start_time": "2023-05-30T15:08:10.405Z"
   },
   {
    "duration": 3,
    "start_time": "2023-05-30T15:08:22.143Z"
   },
   {
    "duration": 123,
    "start_time": "2023-05-30T15:08:22.148Z"
   },
   {
    "duration": 49,
    "start_time": "2023-05-30T15:08:22.273Z"
   },
   {
    "duration": 17,
    "start_time": "2023-05-30T15:08:22.323Z"
   },
   {
    "duration": 35,
    "start_time": "2023-05-30T15:08:22.342Z"
   },
   {
    "duration": 44,
    "start_time": "2023-05-30T15:08:22.378Z"
   },
   {
    "duration": 14,
    "start_time": "2023-05-30T15:08:22.424Z"
   },
   {
    "duration": 10,
    "start_time": "2023-05-30T15:08:22.439Z"
   },
   {
    "duration": 45,
    "start_time": "2023-05-30T15:08:22.450Z"
   },
   {
    "duration": 14,
    "start_time": "2023-05-30T15:08:22.497Z"
   },
   {
    "duration": 34,
    "start_time": "2023-05-30T15:08:22.513Z"
   },
   {
    "duration": 29,
    "start_time": "2023-05-30T15:08:22.548Z"
   },
   {
    "duration": 10,
    "start_time": "2023-05-30T15:08:22.579Z"
   },
   {
    "duration": 30,
    "start_time": "2023-05-30T15:08:22.591Z"
   },
   {
    "duration": 11,
    "start_time": "2023-05-30T15:08:22.623Z"
   },
   {
    "duration": 25,
    "start_time": "2023-05-30T15:08:22.636Z"
   },
   {
    "duration": 12,
    "start_time": "2023-05-30T15:08:26.111Z"
   },
   {
    "duration": 18,
    "start_time": "2023-05-30T15:11:06.388Z"
   },
   {
    "duration": 10,
    "start_time": "2023-05-30T15:12:25.124Z"
   },
   {
    "duration": 43,
    "start_time": "2023-05-30T15:14:11.763Z"
   },
   {
    "duration": 43,
    "start_time": "2023-05-30T15:14:58.049Z"
   },
   {
    "duration": 21,
    "start_time": "2023-05-30T15:17:03.724Z"
   },
   {
    "duration": 17,
    "start_time": "2023-05-30T15:20:29.744Z"
   },
   {
    "duration": 12,
    "start_time": "2023-05-30T15:34:59.719Z"
   },
   {
    "duration": 7,
    "start_time": "2023-05-30T15:35:41.229Z"
   },
   {
    "duration": 7,
    "start_time": "2023-05-30T15:36:31.678Z"
   },
   {
    "duration": 8,
    "start_time": "2023-05-30T15:36:37.088Z"
   },
   {
    "duration": 9,
    "start_time": "2023-05-30T15:37:09.720Z"
   },
   {
    "duration": 20,
    "start_time": "2023-05-30T15:47:08.650Z"
   },
   {
    "duration": 204,
    "start_time": "2023-05-30T15:47:33.872Z"
   },
   {
    "duration": 130,
    "start_time": "2023-05-30T15:51:39.849Z"
   },
   {
    "duration": 138,
    "start_time": "2023-05-30T15:52:45.800Z"
   },
   {
    "duration": 181,
    "start_time": "2023-05-30T15:53:05.861Z"
   },
   {
    "duration": 12,
    "start_time": "2023-05-30T15:54:59.150Z"
   },
   {
    "duration": 25,
    "start_time": "2023-05-30T15:56:29.392Z"
   },
   {
    "duration": 8,
    "start_time": "2023-05-30T15:59:51.052Z"
   },
   {
    "duration": 81,
    "start_time": "2023-05-30T16:08:37.705Z"
   },
   {
    "duration": 26,
    "start_time": "2023-05-30T16:08:55.994Z"
   },
   {
    "duration": 824,
    "start_time": "2023-06-01T08:50:33.174Z"
   },
   {
    "duration": 260,
    "start_time": "2023-06-01T08:50:34.000Z"
   },
   {
    "duration": 84,
    "start_time": "2023-06-01T08:50:34.262Z"
   },
   {
    "duration": 17,
    "start_time": "2023-06-01T08:50:34.348Z"
   },
   {
    "duration": 20,
    "start_time": "2023-06-01T08:50:34.367Z"
   },
   {
    "duration": 41,
    "start_time": "2023-06-01T08:50:34.389Z"
   },
   {
    "duration": 23,
    "start_time": "2023-06-01T08:50:34.431Z"
   },
   {
    "duration": 28,
    "start_time": "2023-06-01T08:50:34.456Z"
   },
   {
    "duration": 73,
    "start_time": "2023-06-01T08:50:34.486Z"
   },
   {
    "duration": 29,
    "start_time": "2023-06-01T08:50:34.562Z"
   },
   {
    "duration": 38,
    "start_time": "2023-06-01T08:50:34.593Z"
   },
   {
    "duration": 41,
    "start_time": "2023-06-01T08:50:34.633Z"
   },
   {
    "duration": 11,
    "start_time": "2023-06-01T08:50:34.676Z"
   },
   {
    "duration": 54,
    "start_time": "2023-06-01T08:50:34.689Z"
   },
   {
    "duration": 24,
    "start_time": "2023-06-01T08:50:34.745Z"
   },
   {
    "duration": 22,
    "start_time": "2023-06-01T08:50:34.771Z"
   },
   {
    "duration": 101,
    "start_time": "2023-06-01T08:50:34.795Z"
   },
   {
    "duration": 31,
    "start_time": "2023-06-01T08:50:34.898Z"
   },
   {
    "duration": 24,
    "start_time": "2023-06-01T08:50:34.931Z"
   },
   {
    "duration": 11,
    "start_time": "2023-06-01T08:50:34.957Z"
   },
   {
    "duration": 33,
    "start_time": "2023-06-01T08:50:34.970Z"
   },
   {
    "duration": 16,
    "start_time": "2023-06-01T08:50:35.005Z"
   },
   {
    "duration": 38,
    "start_time": "2023-06-01T08:50:35.023Z"
   },
   {
    "duration": 7,
    "start_time": "2023-06-01T08:50:35.063Z"
   },
   {
    "duration": 70,
    "start_time": "2023-06-01T08:50:35.072Z"
   },
   {
    "duration": 95,
    "start_time": "2023-06-01T08:52:29.983Z"
   },
   {
    "duration": 4,
    "start_time": "2023-06-01T08:52:35.088Z"
   },
   {
    "duration": 129,
    "start_time": "2023-06-01T08:52:35.095Z"
   },
   {
    "duration": 52,
    "start_time": "2023-06-01T08:52:35.226Z"
   },
   {
    "duration": 20,
    "start_time": "2023-06-01T08:52:35.280Z"
   },
   {
    "duration": 17,
    "start_time": "2023-06-01T08:52:35.302Z"
   },
   {
    "duration": 24,
    "start_time": "2023-06-01T08:52:35.322Z"
   },
   {
    "duration": 15,
    "start_time": "2023-06-01T08:52:35.348Z"
   },
   {
    "duration": 10,
    "start_time": "2023-06-01T08:52:35.365Z"
   },
   {
    "duration": 71,
    "start_time": "2023-06-01T08:52:35.377Z"
   },
   {
    "duration": 14,
    "start_time": "2023-06-01T08:52:35.450Z"
   },
   {
    "duration": 30,
    "start_time": "2023-06-01T08:52:35.466Z"
   },
   {
    "duration": 25,
    "start_time": "2023-06-01T08:52:35.518Z"
   },
   {
    "duration": 5,
    "start_time": "2023-06-01T08:52:35.544Z"
   },
   {
    "duration": 30,
    "start_time": "2023-06-01T08:52:35.551Z"
   },
   {
    "duration": 15,
    "start_time": "2023-06-01T08:52:35.584Z"
   },
   {
    "duration": 41,
    "start_time": "2023-06-01T08:52:35.601Z"
   },
   {
    "duration": 72,
    "start_time": "2023-06-01T08:52:35.644Z"
   },
   {
    "duration": 19,
    "start_time": "2023-06-01T08:52:35.718Z"
   },
   {
    "duration": 33,
    "start_time": "2023-06-01T08:52:35.739Z"
   },
   {
    "duration": 4,
    "start_time": "2023-06-01T08:52:35.773Z"
   },
   {
    "duration": 23,
    "start_time": "2023-06-01T08:52:35.779Z"
   },
   {
    "duration": 12,
    "start_time": "2023-06-01T08:52:35.803Z"
   },
   {
    "duration": 35,
    "start_time": "2023-06-01T08:52:35.817Z"
   },
   {
    "duration": 19,
    "start_time": "2023-06-01T08:52:35.854Z"
   },
   {
    "duration": 41,
    "start_time": "2023-06-01T08:52:35.875Z"
   },
   {
    "duration": 10,
    "start_time": "2023-06-01T08:52:40.456Z"
   },
   {
    "duration": 23,
    "start_time": "2023-06-01T08:53:00.670Z"
   },
   {
    "duration": 8,
    "start_time": "2023-06-01T08:53:34.387Z"
   },
   {
    "duration": 10,
    "start_time": "2023-06-01T08:53:45.873Z"
   },
   {
    "duration": 20,
    "start_time": "2023-06-01T08:57:23.089Z"
   },
   {
    "duration": 21,
    "start_time": "2023-06-01T09:25:52.613Z"
   },
   {
    "duration": 16,
    "start_time": "2023-06-01T09:26:08.940Z"
   },
   {
    "duration": 32,
    "start_time": "2023-06-01T09:26:27.330Z"
   },
   {
    "duration": 33,
    "start_time": "2023-06-01T09:26:35.957Z"
   },
   {
    "duration": 20,
    "start_time": "2023-06-01T10:45:27.478Z"
   },
   {
    "duration": 18,
    "start_time": "2023-06-01T10:45:38.100Z"
   },
   {
    "duration": 3045,
    "start_time": "2023-06-01T10:45:54.801Z"
   },
   {
    "duration": 4056,
    "start_time": "2023-06-01T10:46:45.710Z"
   },
   {
    "duration": 3090,
    "start_time": "2023-06-01T10:47:15.959Z"
   },
   {
    "duration": 18,
    "start_time": "2023-06-01T10:48:00.427Z"
   },
   {
    "duration": 2755,
    "start_time": "2023-06-01T10:48:04.977Z"
   },
   {
    "duration": 255,
    "start_time": "2023-06-01T10:48:42.690Z"
   },
   {
    "duration": 270,
    "start_time": "2023-06-01T10:56:14.039Z"
   },
   {
    "duration": 221,
    "start_time": "2023-06-01T10:58:56.119Z"
   },
   {
    "duration": 177,
    "start_time": "2023-06-01T10:59:59.836Z"
   },
   {
    "duration": 202,
    "start_time": "2023-06-01T11:00:48.230Z"
   },
   {
    "duration": 188,
    "start_time": "2023-06-01T11:00:54.376Z"
   },
   {
    "duration": 154,
    "start_time": "2023-06-01T11:02:10.091Z"
   },
   {
    "duration": 172,
    "start_time": "2023-06-01T11:02:19.111Z"
   },
   {
    "duration": 165,
    "start_time": "2023-06-01T11:04:34.047Z"
   },
   {
    "duration": 24,
    "start_time": "2023-06-01T11:06:47.670Z"
   },
   {
    "duration": 17,
    "start_time": "2023-06-01T11:06:57.532Z"
   },
   {
    "duration": 34,
    "start_time": "2023-06-01T11:07:13.593Z"
   },
   {
    "duration": 21,
    "start_time": "2023-06-01T11:07:58.854Z"
   },
   {
    "duration": 790,
    "start_time": "2023-06-01T11:08:11.077Z"
   },
   {
    "duration": 4761,
    "start_time": "2023-06-01T11:11:38.210Z"
   },
   {
    "duration": 5064,
    "start_time": "2023-06-01T11:11:59.403Z"
   },
   {
    "duration": 28,
    "start_time": "2023-06-01T11:13:04.465Z"
   },
   {
    "duration": 4841,
    "start_time": "2023-06-01T11:14:38.882Z"
   },
   {
    "duration": 620,
    "start_time": "2023-06-01T11:15:14.107Z"
   },
   {
    "duration": 4459,
    "start_time": "2023-06-01T11:15:24.801Z"
   },
   {
    "duration": 6,
    "start_time": "2023-06-01T11:17:49.313Z"
   },
   {
    "duration": 19,
    "start_time": "2023-06-01T11:18:03.278Z"
   },
   {
    "duration": 4,
    "start_time": "2023-06-01T11:23:06.882Z"
   },
   {
    "duration": 78,
    "start_time": "2023-06-01T11:24:43.936Z"
   },
   {
    "duration": 153,
    "start_time": "2023-06-01T11:25:01.907Z"
   },
   {
    "duration": 80,
    "start_time": "2023-06-01T11:25:18.666Z"
   },
   {
    "duration": 131,
    "start_time": "2023-06-01T11:25:23.461Z"
   },
   {
    "duration": 1024,
    "start_time": "2023-06-01T11:26:34.471Z"
   },
   {
    "duration": 1192,
    "start_time": "2023-06-01T11:27:01.265Z"
   },
   {
    "duration": 211,
    "start_time": "2023-06-01T11:27:25.092Z"
   },
   {
    "duration": 230,
    "start_time": "2023-06-01T11:28:15.057Z"
   },
   {
    "duration": 1259,
    "start_time": "2023-06-01T11:28:48.595Z"
   },
   {
    "duration": 1106,
    "start_time": "2023-06-01T11:28:58.282Z"
   },
   {
    "duration": 251,
    "start_time": "2023-06-01T11:29:11.280Z"
   },
   {
    "duration": 317,
    "start_time": "2023-06-01T11:29:44.961Z"
   },
   {
    "duration": 14,
    "start_time": "2023-06-01T11:30:27.000Z"
   },
   {
    "duration": 183,
    "start_time": "2023-06-01T11:30:31.285Z"
   },
   {
    "duration": 23,
    "start_time": "2023-06-01T11:33:49.466Z"
   },
   {
    "duration": 216,
    "start_time": "2023-06-01T11:33:53.549Z"
   },
   {
    "duration": 1200,
    "start_time": "2023-06-01T11:34:18.895Z"
   },
   {
    "duration": 201,
    "start_time": "2023-06-01T11:34:29.936Z"
   },
   {
    "duration": 15,
    "start_time": "2023-06-01T11:34:41.954Z"
   },
   {
    "duration": 19,
    "start_time": "2023-06-01T11:35:15.967Z"
   },
   {
    "duration": 15,
    "start_time": "2023-06-01T11:35:23.452Z"
   },
   {
    "duration": 183,
    "start_time": "2023-06-01T11:35:25.784Z"
   },
   {
    "duration": 7,
    "start_time": "2023-06-01T11:35:37.387Z"
   },
   {
    "duration": 5,
    "start_time": "2023-06-01T11:36:01.657Z"
   },
   {
    "duration": 8,
    "start_time": "2023-06-01T11:36:22.348Z"
   },
   {
    "duration": 31,
    "start_time": "2023-06-01T11:37:11.108Z"
   },
   {
    "duration": 15,
    "start_time": "2023-06-01T11:42:12.710Z"
   },
   {
    "duration": 253,
    "start_time": "2023-06-01T11:42:33.291Z"
   },
   {
    "duration": 240,
    "start_time": "2023-06-01T11:43:25.381Z"
   },
   {
    "duration": 262,
    "start_time": "2023-06-01T11:43:52.564Z"
   },
   {
    "duration": 260,
    "start_time": "2023-06-01T11:44:52.764Z"
   },
   {
    "duration": 374,
    "start_time": "2023-06-01T11:45:08.965Z"
   },
   {
    "duration": 275,
    "start_time": "2023-06-01T11:45:36.589Z"
   },
   {
    "duration": 103,
    "start_time": "2023-06-01T11:46:30.129Z"
   },
   {
    "duration": 364,
    "start_time": "2023-06-01T11:46:44.185Z"
   },
   {
    "duration": 297,
    "start_time": "2023-06-01T11:47:29.852Z"
   },
   {
    "duration": 16,
    "start_time": "2023-06-01T11:48:39.308Z"
   },
   {
    "duration": 16,
    "start_time": "2023-06-01T11:48:48.370Z"
   },
   {
    "duration": 16,
    "start_time": "2023-06-01T11:49:11.394Z"
   },
   {
    "duration": 15,
    "start_time": "2023-06-01T11:49:24.092Z"
   },
   {
    "duration": 862,
    "start_time": "2023-06-01T11:52:59.456Z"
   },
   {
    "duration": 888,
    "start_time": "2023-06-01T11:53:33.264Z"
   },
   {
    "duration": 782,
    "start_time": "2023-06-01T11:53:49.409Z"
   },
   {
    "duration": 17,
    "start_time": "2023-06-01T11:59:39.977Z"
   },
   {
    "duration": 200,
    "start_time": "2023-06-01T11:59:49.972Z"
   },
   {
    "duration": 157,
    "start_time": "2023-06-01T11:59:59.256Z"
   },
   {
    "duration": 14,
    "start_time": "2023-06-01T12:01:07.225Z"
   },
   {
    "duration": 15,
    "start_time": "2023-06-01T12:02:44.630Z"
   },
   {
    "duration": 17,
    "start_time": "2023-06-01T12:03:13.170Z"
   },
   {
    "duration": 139,
    "start_time": "2023-06-01T12:03:55.278Z"
   },
   {
    "duration": 143,
    "start_time": "2023-06-01T12:04:15.065Z"
   },
   {
    "duration": 160,
    "start_time": "2023-06-01T12:04:28.918Z"
   },
   {
    "duration": 10,
    "start_time": "2023-06-01T12:05:08.219Z"
   },
   {
    "duration": 133,
    "start_time": "2023-06-01T12:05:20.619Z"
   },
   {
    "duration": 129,
    "start_time": "2023-06-01T12:06:11.798Z"
   },
   {
    "duration": 126,
    "start_time": "2023-06-01T12:06:25.371Z"
   },
   {
    "duration": 139,
    "start_time": "2023-06-01T12:06:37.866Z"
   },
   {
    "duration": 11,
    "start_time": "2023-06-01T12:09:25.926Z"
   },
   {
    "duration": 151,
    "start_time": "2023-06-01T12:11:56.329Z"
   },
   {
    "duration": 17,
    "start_time": "2023-06-01T12:12:52.653Z"
   },
   {
    "duration": 325,
    "start_time": "2023-06-01T12:14:29.729Z"
   },
   {
    "duration": 284,
    "start_time": "2023-06-01T12:14:37.420Z"
   },
   {
    "duration": 285,
    "start_time": "2023-06-01T12:15:10.526Z"
   },
   {
    "duration": 257,
    "start_time": "2023-06-01T12:15:51.979Z"
   },
   {
    "duration": 115,
    "start_time": "2023-06-01T12:17:00.294Z"
   },
   {
    "duration": 321,
    "start_time": "2023-06-01T12:17:08.360Z"
   },
   {
    "duration": 329,
    "start_time": "2023-06-01T12:17:32.155Z"
   },
   {
    "duration": 6,
    "start_time": "2023-06-01T12:22:12.102Z"
   },
   {
    "duration": 10,
    "start_time": "2023-06-01T12:44:18.744Z"
   },
   {
    "duration": 1460,
    "start_time": "2023-06-01T15:20:47.869Z"
   },
   {
    "duration": 318,
    "start_time": "2023-06-01T15:20:49.331Z"
   },
   {
    "duration": 112,
    "start_time": "2023-06-01T15:20:49.651Z"
   },
   {
    "duration": 19,
    "start_time": "2023-06-01T15:20:49.765Z"
   },
   {
    "duration": 13,
    "start_time": "2023-06-01T15:20:49.786Z"
   },
   {
    "duration": 31,
    "start_time": "2023-06-01T15:20:49.801Z"
   },
   {
    "duration": 39,
    "start_time": "2023-06-01T15:20:49.834Z"
   },
   {
    "duration": 9,
    "start_time": "2023-06-01T15:20:49.875Z"
   },
   {
    "duration": 36,
    "start_time": "2023-06-01T15:20:49.886Z"
   },
   {
    "duration": 46,
    "start_time": "2023-06-01T15:20:49.924Z"
   },
   {
    "duration": 21,
    "start_time": "2023-06-01T15:20:49.972Z"
   },
   {
    "duration": 24,
    "start_time": "2023-06-01T15:20:49.995Z"
   },
   {
    "duration": 4,
    "start_time": "2023-06-01T15:20:50.021Z"
   },
   {
    "duration": 51,
    "start_time": "2023-06-01T15:20:50.028Z"
   },
   {
    "duration": 15,
    "start_time": "2023-06-01T15:20:50.081Z"
   },
   {
    "duration": 15,
    "start_time": "2023-06-01T15:20:50.098Z"
   },
   {
    "duration": 66,
    "start_time": "2023-06-01T15:20:50.115Z"
   },
   {
    "duration": 35,
    "start_time": "2023-06-01T15:20:50.183Z"
   },
   {
    "duration": 19,
    "start_time": "2023-06-01T15:20:50.220Z"
   },
   {
    "duration": 31,
    "start_time": "2023-06-01T15:20:50.241Z"
   },
   {
    "duration": 8,
    "start_time": "2023-06-01T15:20:50.274Z"
   },
   {
    "duration": 20,
    "start_time": "2023-06-01T15:20:50.283Z"
   },
   {
    "duration": 33,
    "start_time": "2023-06-01T15:20:50.305Z"
   },
   {
    "duration": 21,
    "start_time": "2023-06-01T15:20:50.340Z"
   },
   {
    "duration": 42,
    "start_time": "2023-06-01T15:20:50.363Z"
   },
   {
    "duration": 15,
    "start_time": "2023-06-01T15:20:50.407Z"
   },
   {
    "duration": 25,
    "start_time": "2023-06-01T15:20:50.423Z"
   },
   {
    "duration": 31,
    "start_time": "2023-06-01T15:20:50.450Z"
   },
   {
    "duration": 202,
    "start_time": "2023-06-01T15:20:50.483Z"
   },
   {
    "duration": 163,
    "start_time": "2023-06-01T15:20:50.687Z"
   },
   {
    "duration": 180,
    "start_time": "2023-06-01T15:20:50.857Z"
   },
   {
    "duration": 338,
    "start_time": "2023-06-01T15:20:51.039Z"
   },
   {
    "duration": 11,
    "start_time": "2023-06-01T15:20:51.379Z"
   },
   {
    "duration": 29,
    "start_time": "2023-06-01T15:37:19.597Z"
   },
   {
    "duration": 147,
    "start_time": "2023-06-01T15:46:52.597Z"
   },
   {
    "duration": 63,
    "start_time": "2023-06-01T15:53:19.090Z"
   },
   {
    "duration": 17542,
    "start_time": "2023-06-01T15:56:01.401Z"
   },
   {
    "duration": 17337,
    "start_time": "2023-06-01T15:58:31.409Z"
   },
   {
    "duration": 36,
    "start_time": "2023-06-01T16:01:33.100Z"
   },
   {
    "duration": 17236,
    "start_time": "2023-06-01T16:01:49.686Z"
   },
   {
    "duration": 4,
    "start_time": "2023-06-01T16:02:38.188Z"
   },
   {
    "duration": 135,
    "start_time": "2023-06-01T16:02:38.193Z"
   },
   {
    "duration": 60,
    "start_time": "2023-06-01T16:02:38.330Z"
   },
   {
    "duration": 22,
    "start_time": "2023-06-01T16:02:38.393Z"
   },
   {
    "duration": 14,
    "start_time": "2023-06-01T16:02:38.418Z"
   },
   {
    "duration": 61,
    "start_time": "2023-06-01T16:02:38.434Z"
   },
   {
    "duration": 16,
    "start_time": "2023-06-01T16:02:38.497Z"
   },
   {
    "duration": 32,
    "start_time": "2023-06-01T16:02:38.515Z"
   },
   {
    "duration": 57,
    "start_time": "2023-06-01T16:02:38.550Z"
   },
   {
    "duration": 20,
    "start_time": "2023-06-01T16:02:38.609Z"
   },
   {
    "duration": 52,
    "start_time": "2023-06-01T16:02:38.632Z"
   },
   {
    "duration": 27,
    "start_time": "2023-06-01T16:02:38.687Z"
   },
   {
    "duration": 4,
    "start_time": "2023-06-01T16:02:38.715Z"
   },
   {
    "duration": 24,
    "start_time": "2023-06-01T16:02:38.721Z"
   },
   {
    "duration": 5,
    "start_time": "2023-06-01T16:02:38.748Z"
   },
   {
    "duration": 18,
    "start_time": "2023-06-01T16:02:38.765Z"
   },
   {
    "duration": 79,
    "start_time": "2023-06-01T16:02:38.788Z"
   },
   {
    "duration": 41,
    "start_time": "2023-06-01T16:02:38.870Z"
   },
   {
    "duration": 21,
    "start_time": "2023-06-01T16:02:38.913Z"
   },
   {
    "duration": 20,
    "start_time": "2023-06-01T16:02:38.935Z"
   },
   {
    "duration": 22,
    "start_time": "2023-06-01T16:02:38.957Z"
   },
   {
    "duration": 20,
    "start_time": "2023-06-01T16:02:38.981Z"
   },
   {
    "duration": 42,
    "start_time": "2023-06-01T16:02:39.003Z"
   },
   {
    "duration": 20,
    "start_time": "2023-06-01T16:02:39.049Z"
   },
   {
    "duration": 36,
    "start_time": "2023-06-01T16:02:39.072Z"
   },
   {
    "duration": 38,
    "start_time": "2023-06-01T16:02:39.110Z"
   },
   {
    "duration": 43,
    "start_time": "2023-06-01T16:02:39.149Z"
   },
   {
    "duration": 25,
    "start_time": "2023-06-01T16:02:39.194Z"
   },
   {
    "duration": 206,
    "start_time": "2023-06-01T16:02:39.220Z"
   },
   {
    "duration": 198,
    "start_time": "2023-06-01T16:02:39.428Z"
   },
   {
    "duration": 200,
    "start_time": "2023-06-01T16:02:39.628Z"
   },
   {
    "duration": 340,
    "start_time": "2023-06-01T16:02:39.831Z"
   },
   {
    "duration": 70,
    "start_time": "2023-06-01T16:03:31.477Z"
   },
   {
    "duration": 426,
    "start_time": "2023-06-01T16:03:34.603Z"
   },
   {
    "duration": 375,
    "start_time": "2023-06-01T16:04:17.013Z"
   },
   {
    "duration": 101,
    "start_time": "2023-06-01T16:04:36.300Z"
   },
   {
    "duration": 86,
    "start_time": "2023-06-01T16:04:43.391Z"
   },
   {
    "duration": 89,
    "start_time": "2023-06-01T16:05:11.886Z"
   },
   {
    "duration": 321,
    "start_time": "2023-06-01T16:05:19.795Z"
   },
   {
    "duration": 383,
    "start_time": "2023-06-01T16:05:47.492Z"
   },
   {
    "duration": 493,
    "start_time": "2023-06-01T16:07:15.595Z"
   },
   {
    "duration": 411,
    "start_time": "2023-06-01T16:08:50.426Z"
   },
   {
    "duration": 368,
    "start_time": "2023-06-01T16:09:34.182Z"
   },
   {
    "duration": 802,
    "start_time": "2023-06-02T05:20:29.788Z"
   },
   {
    "duration": 299,
    "start_time": "2023-06-02T05:20:30.592Z"
   },
   {
    "duration": 106,
    "start_time": "2023-06-02T05:20:30.893Z"
   },
   {
    "duration": 17,
    "start_time": "2023-06-02T05:20:31.001Z"
   },
   {
    "duration": 34,
    "start_time": "2023-06-02T05:20:31.020Z"
   },
   {
    "duration": 47,
    "start_time": "2023-06-02T05:20:31.056Z"
   },
   {
    "duration": 37,
    "start_time": "2023-06-02T05:20:31.104Z"
   },
   {
    "duration": 47,
    "start_time": "2023-06-02T05:20:31.142Z"
   },
   {
    "duration": 45,
    "start_time": "2023-06-02T05:20:31.191Z"
   },
   {
    "duration": 22,
    "start_time": "2023-06-02T05:20:31.237Z"
   },
   {
    "duration": 48,
    "start_time": "2023-06-02T05:20:31.261Z"
   },
   {
    "duration": 27,
    "start_time": "2023-06-02T05:20:31.310Z"
   },
   {
    "duration": 14,
    "start_time": "2023-06-02T05:20:31.339Z"
   },
   {
    "duration": 52,
    "start_time": "2023-06-02T05:20:31.356Z"
   },
   {
    "duration": 23,
    "start_time": "2023-06-02T05:20:31.409Z"
   },
   {
    "duration": 17,
    "start_time": "2023-06-02T05:20:31.434Z"
   },
   {
    "duration": 77,
    "start_time": "2023-06-02T05:20:31.452Z"
   },
   {
    "duration": 19,
    "start_time": "2023-06-02T05:20:31.530Z"
   },
   {
    "duration": 32,
    "start_time": "2023-06-02T05:20:31.550Z"
   },
   {
    "duration": 5,
    "start_time": "2023-06-02T05:20:31.585Z"
   },
   {
    "duration": 31,
    "start_time": "2023-06-02T05:20:31.594Z"
   },
   {
    "duration": 30,
    "start_time": "2023-06-02T05:20:31.626Z"
   },
   {
    "duration": 30,
    "start_time": "2023-06-02T05:20:31.658Z"
   },
   {
    "duration": 23,
    "start_time": "2023-06-02T05:20:31.691Z"
   },
   {
    "duration": 35,
    "start_time": "2023-06-02T05:20:31.716Z"
   },
   {
    "duration": 34,
    "start_time": "2023-06-02T05:20:31.752Z"
   },
   {
    "duration": 35,
    "start_time": "2023-06-02T05:20:31.789Z"
   },
   {
    "duration": 18,
    "start_time": "2023-06-02T05:20:31.825Z"
   },
   {
    "duration": 167,
    "start_time": "2023-06-02T05:20:31.844Z"
   },
   {
    "duration": 142,
    "start_time": "2023-06-02T05:20:32.013Z"
   },
   {
    "duration": 158,
    "start_time": "2023-06-02T05:20:32.156Z"
   },
   {
    "duration": 318,
    "start_time": "2023-06-02T05:20:32.316Z"
   },
   {
    "duration": 86,
    "start_time": "2023-06-02T05:20:32.636Z"
   },
   {
    "duration": 309,
    "start_time": "2023-06-02T05:20:32.723Z"
   },
   {
    "duration": 302,
    "start_time": "2023-06-02T05:20:33.033Z"
   },
   {
    "duration": 390,
    "start_time": "2023-06-02T05:20:33.336Z"
   },
   {
    "duration": 412,
    "start_time": "2023-06-02T05:20:33.728Z"
   },
   {
    "duration": 12,
    "start_time": "2023-06-02T05:35:27.445Z"
   },
   {
    "duration": 12,
    "start_time": "2023-06-02T05:35:36.698Z"
   },
   {
    "duration": 40,
    "start_time": "2023-06-02T05:36:28.982Z"
   },
   {
    "duration": 6,
    "start_time": "2023-06-02T05:41:25.148Z"
   },
   {
    "duration": 17,
    "start_time": "2023-06-02T05:42:13.327Z"
   },
   {
    "duration": 16,
    "start_time": "2023-06-02T05:42:18.142Z"
   },
   {
    "duration": 4,
    "start_time": "2023-06-02T05:42:21.834Z"
   },
   {
    "duration": 199,
    "start_time": "2023-06-02T05:42:21.839Z"
   },
   {
    "duration": 58,
    "start_time": "2023-06-02T05:42:22.041Z"
   },
   {
    "duration": 32,
    "start_time": "2023-06-02T05:42:22.101Z"
   },
   {
    "duration": 25,
    "start_time": "2023-06-02T05:42:22.137Z"
   },
   {
    "duration": 52,
    "start_time": "2023-06-02T05:42:22.164Z"
   },
   {
    "duration": 23,
    "start_time": "2023-06-02T05:42:22.219Z"
   },
   {
    "duration": 18,
    "start_time": "2023-06-02T05:42:22.244Z"
   },
   {
    "duration": 70,
    "start_time": "2023-06-02T05:42:22.263Z"
   },
   {
    "duration": 17,
    "start_time": "2023-06-02T05:42:22.335Z"
   },
   {
    "duration": 48,
    "start_time": "2023-06-02T05:42:22.355Z"
   },
   {
    "duration": 5,
    "start_time": "2023-06-02T05:42:22.406Z"
   },
   {
    "duration": 26,
    "start_time": "2023-06-02T05:42:25.102Z"
   },
   {
    "duration": 38,
    "start_time": "2023-06-02T06:00:05.628Z"
   },
   {
    "duration": 120,
    "start_time": "2023-06-02T06:04:41.945Z"
   },
   {
    "duration": 189,
    "start_time": "2023-06-02T06:05:01.903Z"
   },
   {
    "duration": 7,
    "start_time": "2023-06-02T06:05:20.086Z"
   },
   {
    "duration": 194,
    "start_time": "2023-06-02T06:05:23.356Z"
   },
   {
    "duration": 143,
    "start_time": "2023-06-02T06:05:42.157Z"
   },
   {
    "duration": 114,
    "start_time": "2023-06-02T06:06:16.162Z"
   },
   {
    "duration": 197,
    "start_time": "2023-06-02T06:07:23.457Z"
   },
   {
    "duration": 173,
    "start_time": "2023-06-02T06:09:06.100Z"
   },
   {
    "duration": 9,
    "start_time": "2023-06-02T06:14:59.858Z"
   },
   {
    "duration": 8,
    "start_time": "2023-06-02T06:27:21.223Z"
   },
   {
    "duration": 11,
    "start_time": "2023-06-02T06:27:40.907Z"
   },
   {
    "duration": 171,
    "start_time": "2023-06-02T06:47:41.764Z"
   },
   {
    "duration": 153,
    "start_time": "2023-06-02T06:47:53.224Z"
   },
   {
    "duration": 114,
    "start_time": "2023-06-02T07:22:32.321Z"
   },
   {
    "duration": 4,
    "start_time": "2023-06-02T07:22:47.465Z"
   },
   {
    "duration": 95,
    "start_time": "2023-06-02T07:24:54.532Z"
   },
   {
    "duration": 176,
    "start_time": "2023-06-02T07:24:59.939Z"
   },
   {
    "duration": 694,
    "start_time": "2023-06-02T09:06:02.553Z"
   },
   {
    "duration": 360,
    "start_time": "2023-06-02T09:06:03.250Z"
   },
   {
    "duration": 116,
    "start_time": "2023-06-02T09:06:03.612Z"
   },
   {
    "duration": 24,
    "start_time": "2023-06-02T09:06:03.730Z"
   },
   {
    "duration": 17,
    "start_time": "2023-06-02T09:06:03.757Z"
   },
   {
    "duration": 47,
    "start_time": "2023-06-02T09:06:03.777Z"
   },
   {
    "duration": 14,
    "start_time": "2023-06-02T09:06:03.826Z"
   },
   {
    "duration": 8,
    "start_time": "2023-06-02T09:06:03.842Z"
   },
   {
    "duration": 56,
    "start_time": "2023-06-02T09:06:03.851Z"
   },
   {
    "duration": 15,
    "start_time": "2023-06-02T09:06:03.909Z"
   },
   {
    "duration": 59,
    "start_time": "2023-06-02T09:06:03.925Z"
   },
   {
    "duration": 6,
    "start_time": "2023-06-02T09:06:03.989Z"
   },
   {
    "duration": 33,
    "start_time": "2023-06-02T09:06:03.998Z"
   },
   {
    "duration": 22,
    "start_time": "2023-06-02T09:06:04.036Z"
   },
   {
    "duration": 13,
    "start_time": "2023-06-02T09:06:04.060Z"
   },
   {
    "duration": 69,
    "start_time": "2023-06-02T09:06:04.081Z"
   },
   {
    "duration": 31,
    "start_time": "2023-06-02T09:06:04.151Z"
   },
   {
    "duration": 27,
    "start_time": "2023-06-02T09:06:04.187Z"
   },
   {
    "duration": 6,
    "start_time": "2023-06-02T09:06:04.216Z"
   },
   {
    "duration": 27,
    "start_time": "2023-06-02T09:06:04.224Z"
   },
   {
    "duration": 9,
    "start_time": "2023-06-02T09:06:04.253Z"
   },
   {
    "duration": 48,
    "start_time": "2023-06-02T09:06:04.265Z"
   },
   {
    "duration": 3,
    "start_time": "2023-06-02T09:06:04.317Z"
   },
   {
    "duration": 156,
    "start_time": "2023-06-02T09:06:04.323Z"
   },
   {
    "duration": 28,
    "start_time": "2023-06-02T09:06:04.481Z"
   },
   {
    "duration": 26,
    "start_time": "2023-06-02T09:06:04.511Z"
   },
   {
    "duration": 6,
    "start_time": "2023-06-02T09:06:04.539Z"
   },
   {
    "duration": 53,
    "start_time": "2023-06-02T09:06:04.546Z"
   },
   {
    "duration": 186,
    "start_time": "2023-06-02T09:06:04.606Z"
   },
   {
    "duration": 172,
    "start_time": "2023-06-02T09:06:04.793Z"
   },
   {
    "duration": 185,
    "start_time": "2023-06-02T09:06:04.966Z"
   },
   {
    "duration": 417,
    "start_time": "2023-06-02T09:06:05.152Z"
   },
   {
    "duration": 52,
    "start_time": "2023-06-02T09:06:05.571Z"
   },
   {
    "duration": 377,
    "start_time": "2023-06-02T09:06:05.625Z"
   },
   {
    "duration": 365,
    "start_time": "2023-06-02T09:06:06.004Z"
   },
   {
    "duration": 413,
    "start_time": "2023-06-02T09:06:06.389Z"
   },
   {
    "duration": 419,
    "start_time": "2023-06-02T09:06:06.804Z"
   },
   {
    "duration": 187,
    "start_time": "2023-06-02T09:06:07.225Z"
   },
   {
    "duration": 694,
    "start_time": "2023-06-02T21:16:48.107Z"
   },
   {
    "duration": 410,
    "start_time": "2023-06-02T21:16:48.803Z"
   },
   {
    "duration": 173,
    "start_time": "2023-06-02T21:16:49.215Z"
   },
   {
    "duration": 24,
    "start_time": "2023-06-02T21:16:49.391Z"
   },
   {
    "duration": 28,
    "start_time": "2023-06-02T21:16:49.417Z"
   },
   {
    "duration": 30,
    "start_time": "2023-06-02T21:16:49.447Z"
   },
   {
    "duration": 15,
    "start_time": "2023-06-02T21:16:49.479Z"
   },
   {
    "duration": 15,
    "start_time": "2023-06-02T21:16:49.495Z"
   },
   {
    "duration": 64,
    "start_time": "2023-06-02T21:16:49.513Z"
   },
   {
    "duration": 22,
    "start_time": "2023-06-02T21:16:49.581Z"
   },
   {
    "duration": 53,
    "start_time": "2023-06-02T21:16:49.605Z"
   },
   {
    "duration": 11,
    "start_time": "2023-06-02T21:16:49.665Z"
   },
   {
    "duration": 22,
    "start_time": "2023-06-02T21:16:49.680Z"
   },
   {
    "duration": 5,
    "start_time": "2023-06-02T21:16:49.704Z"
   },
   {
    "duration": 9,
    "start_time": "2023-06-02T21:16:49.711Z"
   },
   {
    "duration": 69,
    "start_time": "2023-06-02T21:16:49.722Z"
   },
   {
    "duration": 27,
    "start_time": "2023-06-02T21:16:49.793Z"
   },
   {
    "duration": 22,
    "start_time": "2023-06-02T21:16:49.822Z"
   },
   {
    "duration": 28,
    "start_time": "2023-06-02T21:16:49.853Z"
   },
   {
    "duration": 12,
    "start_time": "2023-06-02T21:16:49.883Z"
   },
   {
    "duration": 9,
    "start_time": "2023-06-02T21:16:49.897Z"
   },
   {
    "duration": 39,
    "start_time": "2023-06-02T21:16:49.908Z"
   },
   {
    "duration": 5,
    "start_time": "2023-06-02T21:16:49.948Z"
   },
   {
    "duration": 161,
    "start_time": "2023-06-02T21:16:49.954Z"
   },
   {
    "duration": 21,
    "start_time": "2023-06-02T21:16:50.116Z"
   },
   {
    "duration": 38,
    "start_time": "2023-06-02T21:16:50.138Z"
   },
   {
    "duration": 5,
    "start_time": "2023-06-02T21:16:50.178Z"
   },
   {
    "duration": 33,
    "start_time": "2023-06-02T21:16:50.186Z"
   },
   {
    "duration": 190,
    "start_time": "2023-06-02T21:16:50.220Z"
   },
   {
    "duration": 173,
    "start_time": "2023-06-02T21:16:50.412Z"
   },
   {
    "duration": 185,
    "start_time": "2023-06-02T21:16:50.586Z"
   },
   {
    "duration": 401,
    "start_time": "2023-06-02T21:16:50.774Z"
   },
   {
    "duration": 38,
    "start_time": "2023-06-02T21:16:51.177Z"
   },
   {
    "duration": 360,
    "start_time": "2023-06-02T21:16:51.216Z"
   },
   {
    "duration": 324,
    "start_time": "2023-06-02T21:16:51.578Z"
   },
   {
    "duration": 417,
    "start_time": "2023-06-02T21:16:51.903Z"
   },
   {
    "duration": 398,
    "start_time": "2023-06-02T21:16:52.324Z"
   },
   {
    "duration": 194,
    "start_time": "2023-06-02T21:16:52.724Z"
   },
   {
    "duration": 79,
    "start_time": "2023-06-02T21:27:47.879Z"
   },
   {
    "duration": 492,
    "start_time": "2023-06-02T21:28:14.319Z"
   },
   {
    "duration": 51,
    "start_time": "2023-06-04T11:39:50.193Z"
   },
   {
    "duration": 856,
    "start_time": "2023-06-04T11:40:00.476Z"
   },
   {
    "duration": 345,
    "start_time": "2023-06-04T11:40:05.460Z"
   },
   {
    "duration": 104,
    "start_time": "2023-06-04T11:40:26.793Z"
   },
   {
    "duration": 112,
    "start_time": "2023-06-04T11:40:46.297Z"
   },
   {
    "duration": 4,
    "start_time": "2023-06-04T11:44:49.338Z"
   },
   {
    "duration": 138,
    "start_time": "2023-06-04T11:44:55.035Z"
   },
   {
    "duration": 5,
    "start_time": "2023-06-04T11:45:04.647Z"
   },
   {
    "duration": 142,
    "start_time": "2023-06-04T11:45:07.834Z"
   },
   {
    "duration": 131,
    "start_time": "2023-06-04T11:45:27.777Z"
   },
   {
    "duration": 118,
    "start_time": "2023-06-04T11:47:23.195Z"
   },
   {
    "duration": 13,
    "start_time": "2023-06-04T11:47:36.262Z"
   },
   {
    "duration": 4,
    "start_time": "2023-06-04T11:47:41.500Z"
   },
   {
    "duration": 117,
    "start_time": "2023-06-04T11:47:41.506Z"
   },
   {
    "duration": 74,
    "start_time": "2023-06-04T11:47:41.625Z"
   },
   {
    "duration": 16,
    "start_time": "2023-06-04T11:47:41.702Z"
   },
   {
    "duration": 13,
    "start_time": "2023-06-04T11:47:41.721Z"
   },
   {
    "duration": 27,
    "start_time": "2023-06-04T11:47:41.735Z"
   },
   {
    "duration": 23,
    "start_time": "2023-06-04T11:47:41.764Z"
   },
   {
    "duration": 11,
    "start_time": "2023-06-04T11:47:41.789Z"
   },
   {
    "duration": 78,
    "start_time": "2023-06-04T11:47:41.802Z"
   },
   {
    "duration": 17,
    "start_time": "2023-06-04T11:47:50.589Z"
   },
   {
    "duration": 9,
    "start_time": "2023-06-04T11:52:35.131Z"
   },
   {
    "duration": 4,
    "start_time": "2023-06-04T11:52:40.023Z"
   },
   {
    "duration": 161,
    "start_time": "2023-06-04T11:52:40.029Z"
   },
   {
    "duration": 51,
    "start_time": "2023-06-04T11:52:40.192Z"
   },
   {
    "duration": 24,
    "start_time": "2023-06-04T11:52:40.245Z"
   },
   {
    "duration": 20,
    "start_time": "2023-06-04T11:52:40.271Z"
   },
   {
    "duration": 25,
    "start_time": "2023-06-04T11:52:40.295Z"
   },
   {
    "duration": 19,
    "start_time": "2023-06-04T11:52:40.321Z"
   },
   {
    "duration": 12,
    "start_time": "2023-06-04T11:52:40.358Z"
   },
   {
    "duration": 36,
    "start_time": "2023-06-04T11:52:40.382Z"
   },
   {
    "duration": 15,
    "start_time": "2023-06-04T11:52:40.419Z"
   },
   {
    "duration": 57,
    "start_time": "2023-06-04T11:52:40.436Z"
   },
   {
    "duration": 8,
    "start_time": "2023-06-04T11:52:40.498Z"
   },
   {
    "duration": 68,
    "start_time": "2023-06-04T11:52:40.507Z"
   },
   {
    "duration": 34,
    "start_time": "2023-06-04T11:52:40.578Z"
   },
   {
    "duration": 27,
    "start_time": "2023-06-04T11:52:40.615Z"
   },
   {
    "duration": 73,
    "start_time": "2023-06-04T11:52:40.645Z"
   },
   {
    "duration": 22,
    "start_time": "2023-06-04T11:52:40.720Z"
   },
   {
    "duration": 69,
    "start_time": "2023-06-04T11:52:40.744Z"
   },
   {
    "duration": 5,
    "start_time": "2023-06-04T11:52:40.815Z"
   },
   {
    "duration": 10,
    "start_time": "2023-06-04T11:52:40.822Z"
   },
   {
    "duration": 8,
    "start_time": "2023-06-04T11:52:40.834Z"
   },
   {
    "duration": 63,
    "start_time": "2023-06-04T11:52:40.845Z"
   },
   {
    "duration": 4,
    "start_time": "2023-06-04T11:52:40.912Z"
   },
   {
    "duration": 192,
    "start_time": "2023-06-04T11:52:40.918Z"
   },
   {
    "duration": 33,
    "start_time": "2023-06-04T11:52:41.116Z"
   },
   {
    "duration": 41,
    "start_time": "2023-06-04T11:52:41.151Z"
   },
   {
    "duration": 8,
    "start_time": "2023-06-04T11:52:41.194Z"
   },
   {
    "duration": 26,
    "start_time": "2023-06-04T11:52:41.204Z"
   },
   {
    "duration": 299,
    "start_time": "2023-06-04T11:52:44.335Z"
   },
   {
    "duration": 6,
    "start_time": "2023-06-04T11:59:06.442Z"
   },
   {
    "duration": 171,
    "start_time": "2023-06-04T12:02:32.109Z"
   },
   {
    "duration": 215,
    "start_time": "2023-06-04T12:03:00.728Z"
   },
   {
    "duration": 460,
    "start_time": "2023-06-04T12:03:38.220Z"
   },
   {
    "duration": 52,
    "start_time": "2023-06-04T12:04:02.073Z"
   },
   {
    "duration": 392,
    "start_time": "2023-06-04T12:05:16.022Z"
   },
   {
    "duration": 381,
    "start_time": "2023-06-04T12:05:36.323Z"
   },
   {
    "duration": 450,
    "start_time": "2023-06-04T12:06:12.485Z"
   },
   {
    "duration": 483,
    "start_time": "2023-06-04T12:06:38.638Z"
   },
   {
    "duration": 200,
    "start_time": "2023-06-04T12:07:15.145Z"
   },
   {
    "duration": 675,
    "start_time": "2023-06-04T12:11:05.873Z"
   },
   {
    "duration": 150,
    "start_time": "2023-06-04T12:11:06.550Z"
   },
   {
    "duration": 49,
    "start_time": "2023-06-04T12:11:06.702Z"
   },
   {
    "duration": 27,
    "start_time": "2023-06-04T12:11:06.758Z"
   },
   {
    "duration": 14,
    "start_time": "2023-06-04T12:11:06.794Z"
   },
   {
    "duration": 24,
    "start_time": "2023-06-04T12:11:06.810Z"
   },
   {
    "duration": 22,
    "start_time": "2023-06-04T12:11:06.837Z"
   },
   {
    "duration": 14,
    "start_time": "2023-06-04T12:11:06.861Z"
   },
   {
    "duration": 36,
    "start_time": "2023-06-04T12:11:06.876Z"
   },
   {
    "duration": 42,
    "start_time": "2023-06-04T12:11:06.914Z"
   },
   {
    "duration": 45,
    "start_time": "2023-06-04T12:11:06.958Z"
   },
   {
    "duration": 4,
    "start_time": "2023-06-04T12:11:07.005Z"
   },
   {
    "duration": 18,
    "start_time": "2023-06-04T12:11:07.011Z"
   },
   {
    "duration": 4,
    "start_time": "2023-06-04T12:11:07.034Z"
   },
   {
    "duration": 19,
    "start_time": "2023-06-04T12:11:07.040Z"
   },
   {
    "duration": 53,
    "start_time": "2023-06-04T12:11:07.067Z"
   },
   {
    "duration": 18,
    "start_time": "2023-06-04T12:11:07.122Z"
   },
   {
    "duration": 29,
    "start_time": "2023-06-04T12:11:07.142Z"
   },
   {
    "duration": 6,
    "start_time": "2023-06-04T12:11:07.173Z"
   },
   {
    "duration": 11,
    "start_time": "2023-06-04T12:11:07.181Z"
   },
   {
    "duration": 17,
    "start_time": "2023-06-04T12:11:07.194Z"
   },
   {
    "duration": 59,
    "start_time": "2023-06-04T12:11:07.213Z"
   },
   {
    "duration": 6,
    "start_time": "2023-06-04T12:11:07.274Z"
   },
   {
    "duration": 178,
    "start_time": "2023-06-04T12:11:07.282Z"
   },
   {
    "duration": 31,
    "start_time": "2023-06-04T12:11:07.467Z"
   },
   {
    "duration": 27,
    "start_time": "2023-06-04T12:11:07.503Z"
   },
   {
    "duration": 6,
    "start_time": "2023-06-04T12:11:07.532Z"
   },
   {
    "duration": 26,
    "start_time": "2023-06-04T12:11:07.540Z"
   },
   {
    "duration": 227,
    "start_time": "2023-06-04T12:11:07.567Z"
   },
   {
    "duration": 152,
    "start_time": "2023-06-04T12:11:07.798Z"
   },
   {
    "duration": 188,
    "start_time": "2023-06-04T12:11:07.952Z"
   },
   {
    "duration": 432,
    "start_time": "2023-06-04T12:11:08.142Z"
   },
   {
    "duration": 60,
    "start_time": "2023-06-04T12:11:08.575Z"
   },
   {
    "duration": 386,
    "start_time": "2023-06-04T12:11:08.637Z"
   },
   {
    "duration": 374,
    "start_time": "2023-06-04T12:11:09.025Z"
   },
   {
    "duration": 476,
    "start_time": "2023-06-04T12:11:09.401Z"
   },
   {
    "duration": 437,
    "start_time": "2023-06-04T12:11:09.886Z"
   },
   {
    "duration": 198,
    "start_time": "2023-06-04T12:11:10.325Z"
   }
  ],
  "colab": {
   "name": "DA+. Сборный проект 1. Шаблон (1).ipynb",
   "provenance": []
  },
  "kernelspec": {
   "display_name": "Python 3 (ipykernel)",
   "language": "python",
   "name": "python3"
  },
  "language_info": {
   "codemirror_mode": {
    "name": "ipython",
    "version": 3
   },
   "file_extension": ".py",
   "mimetype": "text/x-python",
   "name": "python",
   "nbconvert_exporter": "python",
   "pygments_lexer": "ipython3",
   "version": "3.10.9"
  },
  "toc": {
   "base_numbering": 1,
   "nav_menu": {},
   "number_sections": true,
   "sideBar": true,
   "skip_h1_title": true,
   "title_cell": "Table of Contents",
   "title_sidebar": "Contents",
   "toc_cell": false,
   "toc_position": {
    "height": "calc(100% - 180px)",
    "left": "10px",
    "top": "150px",
    "width": "375.391px"
   },
   "toc_section_display": true,
   "toc_window_display": true
  }
 },
 "nbformat": 4,
 "nbformat_minor": 1
}
