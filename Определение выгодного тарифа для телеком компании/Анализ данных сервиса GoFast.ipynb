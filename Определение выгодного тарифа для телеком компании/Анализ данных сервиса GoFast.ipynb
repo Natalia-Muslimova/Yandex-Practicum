{
 "cells": [
  {
   "cell_type": "markdown",
   "id": "435e7db4",
   "metadata": {},
   "source": [
    "# Анализ данных сервиса GoFast"
   ]
  },
  {
   "cell_type": "markdown",
   "id": "6fb8a92f",
   "metadata": {},
   "source": [
    "**Цели исследования:** \n",
    "1) Описать пользователей сервиса;\n",
    "2) Подсчет выручки;\n",
    "3) Проверка гипотез:\n",
    "  - Пользователи с подпиской тратят больше времени на поездки;\n",
    "  - Среднее расстояние, которое проезжают пользователи с подпиской за одну поездку, не превышает 3130 метров;\n",
    "  - Помесячная выручка от пользователей с подпиской по месяцам выше, чем выручка от пользователей без подписки;\n",
    "  - Из-за обновления сервера количество обращений в техподдержку значимо снизилось. \n",
    "\n",
    "Чтобы совершать поездки по городу, пользователи сервиса GoFast пользуются мобильным приложением.Сервисом можно пользоваться:\n",
    "1. Без подписки:\n",
    "- абонентская плата отсутствует;\n",
    "- стоимость одной минуты поездки — 8 рублей;\n",
    "- стоимость старта (начала поездки) — 50 рублей;\n",
    "2. С подпиской Ultra:\n",
    "- абонентская плата — 199 рублей в месяц;\n",
    "- стоимость одной минуты поездки — 6 рублей;\n",
    "- стоимость старта — бесплатно.\n",
    "\n",
    "**Данные для исследования:**\n",
    "Данные представлены в трех датасетах:\n",
    "1) Информация о пользователях:\n",
    "2) Информация о поездках:\n",
    "3) Информация о подписках:\n",
    "\n",
    "\n",
    "**Этапы исследования:**\n",
    "\n",
    "**Шаг 1. Загрузка данных** - загрузка и общее ознакомление с данными;\\\n",
    "**Шаг 2. Предобработка данных** - приведу столбцы в нужный формат, проверю данные на пропуски и дубликаты;\\\n",
    "**Шаг 3. Исследовательский анализ данных** - опишу и визуализирую общую информацию о пользователях и поездках:\n",
    "- 3.1 частота встречаемости городов;\n",
    "- 3.2 соотношение пользователей с подпиской и без подписки;\n",
    "- 3.3 возраст пользователей;\n",
    "- 3.4 расстояние, которое пользователь преодолел за одну поездку;\n",
    "- 3.5 продолжительность поездок.\n",
    "\n",
    "**Шаг 4. Объединенние данных** - объединю данные о пользователях, поездках и подписках в один датафрейм. Создам ещё два датафрейма:\n",
    "- c данными о пользователях без подписки;\n",
    "- с данными о пользователях с подпиской.\n",
    "Визуализирую информацию о расстоянии и времени поездок для пользователей обеих категорий;\n",
    "\n",
    "**Шаг 5. Подсчёт выручки**  - посчитаю помесячную выручку, которую принёс каждый пользователь;\\\n",
    "**Шаг 6. Проверка гипотез** - проверю выдвинутые выше гипотезы;\\\n",
    "**Шаг 7. Вывод** - сформулирую общий вывод по проделанной работе."
   ]
  },
  {
   "cell_type": "markdown",
   "id": "c42cbe00",
   "metadata": {},
   "source": [
    "##  1. Загрузка данных"
   ]
  },
  {
   "cell_type": "code",
   "execution_count": 1,
   "id": "9986db0b",
   "metadata": {},
   "outputs": [],
   "source": [
    "#импорт необходимых библиотек\n",
    "import pandas as pd\n",
    "import numpy as np\n",
    "import matplotlib.pyplot as plt\n",
    "import seaborn as sns\n",
    "import plotly.express as px\n",
    "from plotly import graph_objects as go\n",
    "from scipy import stats as st"
   ]
  },
  {
   "cell_type": "code",
   "execution_count": 2,
   "id": "4ade0601",
   "metadata": {},
   "outputs": [],
   "source": [
    "#унифицируем размер графиков\n",
    "sns.set(rc={'figure.figsize':(10, 8)})\n",
    "#настраиваем отображение колонок (полностью)\n",
    "pd.set_option('display.max_columns', None)\n",
    "#настраиваем отображение формата значений\n",
    "pd.options.display.float_format = '{:,.2f}'.format"
   ]
  },
  {
   "cell_type": "code",
   "execution_count": 3,
   "id": "eff9f206",
   "metadata": {},
   "outputs": [
    {
     "name": "stdout",
     "output_type": "stream",
     "text": [
      "<class 'pandas.core.frame.DataFrame'>\n",
      "RangeIndex: 1565 entries, 0 to 1564\n",
      "Data columns (total 5 columns):\n",
      " #   Column             Non-Null Count  Dtype \n",
      "---  ------             --------------  ----- \n",
      " 0   user_id            1565 non-null   int64 \n",
      " 1   name               1565 non-null   object\n",
      " 2   age                1565 non-null   int64 \n",
      " 3   city               1565 non-null   object\n",
      " 4   subscription_type  1565 non-null   object\n",
      "dtypes: int64(2), object(3)\n",
      "memory usage: 61.3+ KB\n"
     ]
    },
    {
     "data": {
      "text/html": [
       "<div>\n",
       "<style scoped>\n",
       "    .dataframe tbody tr th:only-of-type {\n",
       "        vertical-align: middle;\n",
       "    }\n",
       "\n",
       "    .dataframe tbody tr th {\n",
       "        vertical-align: top;\n",
       "    }\n",
       "\n",
       "    .dataframe thead th {\n",
       "        text-align: right;\n",
       "    }\n",
       "</style>\n",
       "<table border=\"1\" class=\"dataframe\">\n",
       "  <thead>\n",
       "    <tr style=\"text-align: right;\">\n",
       "      <th></th>\n",
       "      <th>user_id</th>\n",
       "      <th>name</th>\n",
       "      <th>age</th>\n",
       "      <th>city</th>\n",
       "      <th>subscription_type</th>\n",
       "    </tr>\n",
       "  </thead>\n",
       "  <tbody>\n",
       "    <tr>\n",
       "      <th>0</th>\n",
       "      <td>1</td>\n",
       "      <td>Кира</td>\n",
       "      <td>22</td>\n",
       "      <td>Тюмень</td>\n",
       "      <td>ultra</td>\n",
       "    </tr>\n",
       "    <tr>\n",
       "      <th>1</th>\n",
       "      <td>2</td>\n",
       "      <td>Станислав</td>\n",
       "      <td>31</td>\n",
       "      <td>Омск</td>\n",
       "      <td>ultra</td>\n",
       "    </tr>\n",
       "    <tr>\n",
       "      <th>2</th>\n",
       "      <td>3</td>\n",
       "      <td>Алексей</td>\n",
       "      <td>20</td>\n",
       "      <td>Москва</td>\n",
       "      <td>ultra</td>\n",
       "    </tr>\n",
       "    <tr>\n",
       "      <th>3</th>\n",
       "      <td>4</td>\n",
       "      <td>Константин</td>\n",
       "      <td>26</td>\n",
       "      <td>Ростов-на-Дону</td>\n",
       "      <td>ultra</td>\n",
       "    </tr>\n",
       "    <tr>\n",
       "      <th>4</th>\n",
       "      <td>5</td>\n",
       "      <td>Адель</td>\n",
       "      <td>28</td>\n",
       "      <td>Омск</td>\n",
       "      <td>ultra</td>\n",
       "    </tr>\n",
       "    <tr>\n",
       "      <th>5</th>\n",
       "      <td>6</td>\n",
       "      <td>Регина</td>\n",
       "      <td>25</td>\n",
       "      <td>Краснодар</td>\n",
       "      <td>ultra</td>\n",
       "    </tr>\n",
       "    <tr>\n",
       "      <th>6</th>\n",
       "      <td>7</td>\n",
       "      <td>Игорь</td>\n",
       "      <td>23</td>\n",
       "      <td>Омск</td>\n",
       "      <td>ultra</td>\n",
       "    </tr>\n",
       "    <tr>\n",
       "      <th>7</th>\n",
       "      <td>8</td>\n",
       "      <td>Юрий</td>\n",
       "      <td>23</td>\n",
       "      <td>Краснодар</td>\n",
       "      <td>ultra</td>\n",
       "    </tr>\n",
       "    <tr>\n",
       "      <th>8</th>\n",
       "      <td>9</td>\n",
       "      <td>Ян</td>\n",
       "      <td>21</td>\n",
       "      <td>Пятигорск</td>\n",
       "      <td>ultra</td>\n",
       "    </tr>\n",
       "    <tr>\n",
       "      <th>9</th>\n",
       "      <td>10</td>\n",
       "      <td>Валерий</td>\n",
       "      <td>18</td>\n",
       "      <td>Екатеринбург</td>\n",
       "      <td>ultra</td>\n",
       "    </tr>\n",
       "  </tbody>\n",
       "</table>\n",
       "</div>"
      ],
      "text/plain": [
       "   user_id        name  age            city subscription_type\n",
       "0        1        Кира   22          Тюмень             ultra\n",
       "1        2   Станислав   31            Омск             ultra\n",
       "2        3     Алексей   20          Москва             ultra\n",
       "3        4  Константин   26  Ростов-на-Дону             ultra\n",
       "4        5       Адель   28            Омск             ultra\n",
       "5        6      Регина   25       Краснодар             ultra\n",
       "6        7       Игорь   23            Омск             ultra\n",
       "7        8        Юрий   23       Краснодар             ultra\n",
       "8        9          Ян   21       Пятигорск             ultra\n",
       "9       10     Валерий   18    Екатеринбург             ultra"
      ]
     },
     "execution_count": 3,
     "metadata": {},
     "output_type": "execute_result"
    }
   ],
   "source": [
    "# откроем файл с пользователями\n",
    "users=pd.read_csv('/datasets/users_go.csv')\n",
    "users.info()\n",
    "users.head(10)"
   ]
  },
  {
   "cell_type": "code",
   "execution_count": 4,
   "id": "789e0622",
   "metadata": {},
   "outputs": [
    {
     "name": "stdout",
     "output_type": "stream",
     "text": [
      "<class 'pandas.core.frame.DataFrame'>\n",
      "RangeIndex: 18068 entries, 0 to 18067\n",
      "Data columns (total 4 columns):\n",
      " #   Column    Non-Null Count  Dtype  \n",
      "---  ------    --------------  -----  \n",
      " 0   user_id   18068 non-null  int64  \n",
      " 1   distance  18068 non-null  float64\n",
      " 2   duration  18068 non-null  float64\n",
      " 3   date      18068 non-null  object \n",
      "dtypes: float64(2), int64(1), object(1)\n",
      "memory usage: 564.8+ KB\n"
     ]
    },
    {
     "data": {
      "text/html": [
       "<div>\n",
       "<style scoped>\n",
       "    .dataframe tbody tr th:only-of-type {\n",
       "        vertical-align: middle;\n",
       "    }\n",
       "\n",
       "    .dataframe tbody tr th {\n",
       "        vertical-align: top;\n",
       "    }\n",
       "\n",
       "    .dataframe thead th {\n",
       "        text-align: right;\n",
       "    }\n",
       "</style>\n",
       "<table border=\"1\" class=\"dataframe\">\n",
       "  <thead>\n",
       "    <tr style=\"text-align: right;\">\n",
       "      <th></th>\n",
       "      <th>user_id</th>\n",
       "      <th>distance</th>\n",
       "      <th>duration</th>\n",
       "      <th>date</th>\n",
       "    </tr>\n",
       "  </thead>\n",
       "  <tbody>\n",
       "    <tr>\n",
       "      <th>0</th>\n",
       "      <td>1</td>\n",
       "      <td>4,409.92</td>\n",
       "      <td>25.60</td>\n",
       "      <td>2021-01-01</td>\n",
       "    </tr>\n",
       "    <tr>\n",
       "      <th>1</th>\n",
       "      <td>1</td>\n",
       "      <td>2,617.59</td>\n",
       "      <td>15.82</td>\n",
       "      <td>2021-01-18</td>\n",
       "    </tr>\n",
       "    <tr>\n",
       "      <th>2</th>\n",
       "      <td>1</td>\n",
       "      <td>754.16</td>\n",
       "      <td>6.23</td>\n",
       "      <td>2021-04-20</td>\n",
       "    </tr>\n",
       "    <tr>\n",
       "      <th>3</th>\n",
       "      <td>1</td>\n",
       "      <td>2,694.78</td>\n",
       "      <td>18.51</td>\n",
       "      <td>2021-08-11</td>\n",
       "    </tr>\n",
       "    <tr>\n",
       "      <th>4</th>\n",
       "      <td>1</td>\n",
       "      <td>4,028.69</td>\n",
       "      <td>26.27</td>\n",
       "      <td>2021-08-28</td>\n",
       "    </tr>\n",
       "    <tr>\n",
       "      <th>5</th>\n",
       "      <td>1</td>\n",
       "      <td>2,770.89</td>\n",
       "      <td>16.65</td>\n",
       "      <td>2021-10-09</td>\n",
       "    </tr>\n",
       "    <tr>\n",
       "      <th>6</th>\n",
       "      <td>1</td>\n",
       "      <td>3,039.02</td>\n",
       "      <td>14.93</td>\n",
       "      <td>2021-10-19</td>\n",
       "    </tr>\n",
       "    <tr>\n",
       "      <th>7</th>\n",
       "      <td>1</td>\n",
       "      <td>2,842.12</td>\n",
       "      <td>23.12</td>\n",
       "      <td>2021-11-06</td>\n",
       "    </tr>\n",
       "    <tr>\n",
       "      <th>8</th>\n",
       "      <td>1</td>\n",
       "      <td>3,412.69</td>\n",
       "      <td>15.24</td>\n",
       "      <td>2021-11-14</td>\n",
       "    </tr>\n",
       "    <tr>\n",
       "      <th>9</th>\n",
       "      <td>1</td>\n",
       "      <td>748.69</td>\n",
       "      <td>15.04</td>\n",
       "      <td>2021-11-22</td>\n",
       "    </tr>\n",
       "  </tbody>\n",
       "</table>\n",
       "</div>"
      ],
      "text/plain": [
       "   user_id  distance  duration        date\n",
       "0        1  4,409.92     25.60  2021-01-01\n",
       "1        1  2,617.59     15.82  2021-01-18\n",
       "2        1    754.16      6.23  2021-04-20\n",
       "3        1  2,694.78     18.51  2021-08-11\n",
       "4        1  4,028.69     26.27  2021-08-28\n",
       "5        1  2,770.89     16.65  2021-10-09\n",
       "6        1  3,039.02     14.93  2021-10-19\n",
       "7        1  2,842.12     23.12  2021-11-06\n",
       "8        1  3,412.69     15.24  2021-11-14\n",
       "9        1    748.69     15.04  2021-11-22"
      ]
     },
     "execution_count": 4,
     "metadata": {},
     "output_type": "execute_result"
    }
   ],
   "source": [
    "# откроем файл с поездками\n",
    "rides=pd.read_csv('/datasets/rides_go.csv')\n",
    "rides.info()\n",
    "rides.head(10)"
   ]
  },
  {
   "cell_type": "code",
   "execution_count": 5,
   "id": "730b445c",
   "metadata": {},
   "outputs": [
    {
     "name": "stdout",
     "output_type": "stream",
     "text": [
      "<class 'pandas.core.frame.DataFrame'>\n",
      "RangeIndex: 2 entries, 0 to 1\n",
      "Data columns (total 4 columns):\n",
      " #   Column             Non-Null Count  Dtype \n",
      "---  ------             --------------  ----- \n",
      " 0   subscription_type  2 non-null      object\n",
      " 1   minute_price       2 non-null      int64 \n",
      " 2   start_ride_price   2 non-null      int64 \n",
      " 3   subscription_fee   2 non-null      int64 \n",
      "dtypes: int64(3), object(1)\n",
      "memory usage: 192.0+ bytes\n"
     ]
    },
    {
     "data": {
      "text/html": [
       "<div>\n",
       "<style scoped>\n",
       "    .dataframe tbody tr th:only-of-type {\n",
       "        vertical-align: middle;\n",
       "    }\n",
       "\n",
       "    .dataframe tbody tr th {\n",
       "        vertical-align: top;\n",
       "    }\n",
       "\n",
       "    .dataframe thead th {\n",
       "        text-align: right;\n",
       "    }\n",
       "</style>\n",
       "<table border=\"1\" class=\"dataframe\">\n",
       "  <thead>\n",
       "    <tr style=\"text-align: right;\">\n",
       "      <th></th>\n",
       "      <th>subscription_type</th>\n",
       "      <th>minute_price</th>\n",
       "      <th>start_ride_price</th>\n",
       "      <th>subscription_fee</th>\n",
       "    </tr>\n",
       "  </thead>\n",
       "  <tbody>\n",
       "    <tr>\n",
       "      <th>0</th>\n",
       "      <td>free</td>\n",
       "      <td>8</td>\n",
       "      <td>50</td>\n",
       "      <td>0</td>\n",
       "    </tr>\n",
       "    <tr>\n",
       "      <th>1</th>\n",
       "      <td>ultra</td>\n",
       "      <td>6</td>\n",
       "      <td>0</td>\n",
       "      <td>199</td>\n",
       "    </tr>\n",
       "  </tbody>\n",
       "</table>\n",
       "</div>"
      ],
      "text/plain": [
       "  subscription_type  minute_price  start_ride_price  subscription_fee\n",
       "0              free             8                50                 0\n",
       "1             ultra             6                 0               199"
      ]
     },
     "execution_count": 5,
     "metadata": {},
     "output_type": "execute_result"
    }
   ],
   "source": [
    "# откроем файл с поездками\n",
    "subs=pd.read_csv('/datasets/subscriptions_go.csv')\n",
    "subs.info()\n",
    "subs.head(10)"
   ]
  },
  {
   "cell_type": "markdown",
   "id": "191bfdd4",
   "metadata": {},
   "source": [
    "**Вывод:** В данных содержится информация о 1565 пользователях. Тип столбца с датой в датафрейме с информацией о поездках не соответстует (исправлю на этапе предобработки). В остальных данных на первый взгляд все в порядке. Посмотрим пропуски и дубликаты на следующим этапе."
   ]
  },
  {
   "cell_type": "markdown",
   "id": "e95ebca7",
   "metadata": {},
   "source": [
    "## 2. Предобработка данных"
   ]
  },
  {
   "cell_type": "code",
   "execution_count": 6,
   "id": "af6d202c",
   "metadata": {},
   "outputs": [],
   "source": [
    "# поменяем тип столбца с датой на  datetime\n",
    "rides['date'] = pd.to_datetime(rides['date'], format='%Y-%m-%d')"
   ]
  },
  {
   "cell_type": "code",
   "execution_count": 7,
   "id": "92f7e600",
   "metadata": {},
   "outputs": [
    {
     "data": {
      "text/plain": [
       "array([2021])"
      ]
     },
     "execution_count": 7,
     "metadata": {},
     "output_type": "execute_result"
    }
   ],
   "source": [
    "# проверим за какой период представлены данные\n",
    "rides['date'].dt.year.unique()"
   ]
  },
  {
   "cell_type": "markdown",
   "id": "4638772c",
   "metadata": {},
   "source": [
    "Данные представлены только за один год, соответственно ошибок не будет, при добавлении столбца с месяцем"
   ]
  },
  {
   "cell_type": "code",
   "execution_count": 8,
   "id": "ba66eab4",
   "metadata": {},
   "outputs": [
    {
     "data": {
      "text/html": [
       "<div>\n",
       "<style scoped>\n",
       "    .dataframe tbody tr th:only-of-type {\n",
       "        vertical-align: middle;\n",
       "    }\n",
       "\n",
       "    .dataframe tbody tr th {\n",
       "        vertical-align: top;\n",
       "    }\n",
       "\n",
       "    .dataframe thead th {\n",
       "        text-align: right;\n",
       "    }\n",
       "</style>\n",
       "<table border=\"1\" class=\"dataframe\">\n",
       "  <thead>\n",
       "    <tr style=\"text-align: right;\">\n",
       "      <th></th>\n",
       "      <th>user_id</th>\n",
       "      <th>distance</th>\n",
       "      <th>duration</th>\n",
       "      <th>date</th>\n",
       "      <th>month</th>\n",
       "    </tr>\n",
       "  </thead>\n",
       "  <tbody>\n",
       "    <tr>\n",
       "      <th>0</th>\n",
       "      <td>1</td>\n",
       "      <td>4,409.92</td>\n",
       "      <td>25.60</td>\n",
       "      <td>2021-01-01</td>\n",
       "      <td>1</td>\n",
       "    </tr>\n",
       "    <tr>\n",
       "      <th>1</th>\n",
       "      <td>1</td>\n",
       "      <td>2,617.59</td>\n",
       "      <td>15.82</td>\n",
       "      <td>2021-01-18</td>\n",
       "      <td>1</td>\n",
       "    </tr>\n",
       "    <tr>\n",
       "      <th>2</th>\n",
       "      <td>1</td>\n",
       "      <td>754.16</td>\n",
       "      <td>6.23</td>\n",
       "      <td>2021-04-20</td>\n",
       "      <td>4</td>\n",
       "    </tr>\n",
       "    <tr>\n",
       "      <th>3</th>\n",
       "      <td>1</td>\n",
       "      <td>2,694.78</td>\n",
       "      <td>18.51</td>\n",
       "      <td>2021-08-11</td>\n",
       "      <td>8</td>\n",
       "    </tr>\n",
       "    <tr>\n",
       "      <th>4</th>\n",
       "      <td>1</td>\n",
       "      <td>4,028.69</td>\n",
       "      <td>26.27</td>\n",
       "      <td>2021-08-28</td>\n",
       "      <td>8</td>\n",
       "    </tr>\n",
       "  </tbody>\n",
       "</table>\n",
       "</div>"
      ],
      "text/plain": [
       "   user_id  distance  duration       date  month\n",
       "0        1  4,409.92     25.60 2021-01-01      1\n",
       "1        1  2,617.59     15.82 2021-01-18      1\n",
       "2        1    754.16      6.23 2021-04-20      4\n",
       "3        1  2,694.78     18.51 2021-08-11      8\n",
       "4        1  4,028.69     26.27 2021-08-28      8"
      ]
     },
     "execution_count": 8,
     "metadata": {},
     "output_type": "execute_result"
    }
   ],
   "source": [
    "# добавление столбца 'month' с номером месяца в датафейм 'rides'\n",
    "rides['month'] = pd.DatetimeIndex(rides['date']).month\n",
    "rides.head()"
   ]
  },
  {
   "cell_type": "markdown",
   "id": "c58d6829",
   "metadata": {},
   "source": [
    "Последовательно проверим данные на пропуски во всех таблицах"
   ]
  },
  {
   "cell_type": "code",
   "execution_count": 9,
   "id": "f733cf01",
   "metadata": {},
   "outputs": [
    {
     "data": {
      "text/plain": [
       "user_id              0\n",
       "name                 0\n",
       "age                  0\n",
       "city                 0\n",
       "subscription_type    0\n",
       "dtype: int64"
      ]
     },
     "execution_count": 9,
     "metadata": {},
     "output_type": "execute_result"
    }
   ],
   "source": [
    "users.isna().sum()"
   ]
  },
  {
   "cell_type": "code",
   "execution_count": 10,
   "id": "6940543b",
   "metadata": {},
   "outputs": [
    {
     "data": {
      "text/plain": [
       "user_id     0\n",
       "distance    0\n",
       "duration    0\n",
       "date        0\n",
       "month       0\n",
       "dtype: int64"
      ]
     },
     "execution_count": 10,
     "metadata": {},
     "output_type": "execute_result"
    }
   ],
   "source": [
    "rides.isna().sum()"
   ]
  },
  {
   "cell_type": "code",
   "execution_count": 11,
   "id": "3ffd7394",
   "metadata": {},
   "outputs": [
    {
     "data": {
      "text/plain": [
       "subscription_type    0\n",
       "minute_price         0\n",
       "start_ride_price     0\n",
       "subscription_fee     0\n",
       "dtype: int64"
      ]
     },
     "execution_count": 11,
     "metadata": {},
     "output_type": "execute_result"
    }
   ],
   "source": [
    "subs.isna().sum()"
   ]
  },
  {
   "cell_type": "markdown",
   "id": "30861d7a",
   "metadata": {},
   "source": [
    "Проверим данные на явные и неявные дубликаты"
   ]
  },
  {
   "cell_type": "code",
   "execution_count": 12,
   "id": "72f0ff7a",
   "metadata": {},
   "outputs": [
    {
     "data": {
      "text/plain": [
       "31"
      ]
     },
     "execution_count": 12,
     "metadata": {},
     "output_type": "execute_result"
    }
   ],
   "source": [
    "users.duplicated().sum()"
   ]
  },
  {
   "cell_type": "code",
   "execution_count": 13,
   "id": "695852d6",
   "metadata": {},
   "outputs": [
    {
     "data": {
      "text/plain": [
       "0"
      ]
     },
     "execution_count": 13,
     "metadata": {},
     "output_type": "execute_result"
    }
   ],
   "source": [
    "# удалим явные дубликаты \n",
    "users.drop_duplicates(inplace=True)\n",
    "users.duplicated().sum()"
   ]
  },
  {
   "cell_type": "code",
   "execution_count": 14,
   "id": "4aa841f2",
   "metadata": {},
   "outputs": [
    {
     "data": {
      "text/plain": [
       "array(['Тюмень', 'Омск', 'Москва', 'Ростов-на-Дону', 'Краснодар',\n",
       "       'Пятигорск', 'Екатеринбург', 'Сочи'], dtype=object)"
      ]
     },
     "execution_count": 14,
     "metadata": {},
     "output_type": "execute_result"
    }
   ],
   "source": [
    "# проверим данные городов в датафрейме с пользователями на неявные дубликаты\n",
    "users['city'].unique()"
   ]
  },
  {
   "cell_type": "code",
   "execution_count": 15,
   "id": "81339071",
   "metadata": {},
   "outputs": [
    {
     "data": {
      "text/plain": [
       "0"
      ]
     },
     "execution_count": 15,
     "metadata": {},
     "output_type": "execute_result"
    }
   ],
   "source": [
    "rides.duplicated().sum()"
   ]
  },
  {
   "cell_type": "markdown",
   "id": "f455c6f2",
   "metadata": {},
   "source": [
    "**Вывод:** На этапе предобработки были сделаны следующие шаги:\n",
    "- В процессе предобработки данных в датафрейме 'rides' был добавлен столбец 'month', отражающий месяц поездки, и изменен тип данных столбца с датой на datetime;\n",
    "- Во всех данных не обнаружено пропусков;\n",
    "- Явные дубликаты обнаружены и удалены только в датасете с информацией о пользователях.\n",
    "- Неявные дубликаты не обнаружены"
   ]
  },
  {
   "cell_type": "markdown",
   "id": "212593c7",
   "metadata": {},
   "source": [
    "## 3. Исследовательский анализ данных"
   ]
  },
  {
   "cell_type": "markdown",
   "id": "4ff994b5",
   "metadata": {},
   "source": [
    "##### Частота встречаемости городов "
   ]
  },
  {
   "cell_type": "code",
   "execution_count": 16,
   "id": "9febec6b",
   "metadata": {},
   "outputs": [
    {
     "data": {
      "text/plain": [
       "Пятигорск         219\n",
       "Екатеринбург      204\n",
       "Ростов-на-Дону    198\n",
       "Краснодар         193\n",
       "Сочи              189\n",
       "Омск              183\n",
       "Тюмень            180\n",
       "Москва            168\n",
       "Name: city, dtype: int64"
      ]
     },
     "execution_count": 16,
     "metadata": {},
     "output_type": "execute_result"
    }
   ],
   "source": [
    "users['city'].value_counts()\n"
   ]
  },
  {
   "cell_type": "code",
   "execution_count": 17,
   "id": "2e0505fd",
   "metadata": {},
   "outputs": [
    {
     "data": {
      "image/png": "[encoded data removed]",
      "text/plain": [
       "<Figure size 504x504 with 1 Axes>"
      ]
     },
     "metadata": {},
     "output_type": "display_data"
    }
   ],
   "source": [
    "users['city'].value_counts().plot(\n",
    "                             kind = 'bar', \n",
    "                             y = users['city'].value_counts(),\n",
    "                             figsize=(7,7), \n",
    "                             title = 'Распределение пользователей по городам')\n",
    "plt.xticks(rotation = 25);"
   ]
  },
  {
   "cell_type": "markdown",
   "id": "bbf1bc5e",
   "metadata": {},
   "source": [
    "Лидером по количеству пользователей является Пятигорск (219 чел.). Наименьшее число в Москве - 168 чел."
   ]
  },
  {
   "cell_type": "markdown",
   "id": "a77a0c46",
   "metadata": {},
   "source": [
    "##### Cоотношение пользователей с подпиской и без подписки"
   ]
  },
  {
   "cell_type": "code",
   "execution_count": 18,
   "id": "a6b9b45b",
   "metadata": {},
   "outputs": [
    {
     "data": {
      "text/plain": [
       "free     835\n",
       "ultra    699\n",
       "Name: subscription_type, dtype: int64"
      ]
     },
     "execution_count": 18,
     "metadata": {},
     "output_type": "execute_result"
    }
   ],
   "source": [
    "users['subscription_type'].value_counts()"
   ]
  },
  {
   "cell_type": "code",
   "execution_count": 19,
   "id": "8fb76f33",
   "metadata": {},
   "outputs": [
    {
     "data": {
      "image/png": "[encoded data removed]",
      "text/plain": [
       "<Figure size 360x360 with 1 Axes>"
      ]
     },
     "metadata": {},
     "output_type": "display_data"
    }
   ],
   "source": [
    "users['subscription_type'].value_counts().plot(\n",
    "                                          kind = 'pie', \n",
    "                                          y = users['subscription_type'].value_counts(), \n",
    "                                          autopct = '%1.0f%%', \n",
    "                                          figsize=(5,5),\n",
    "                                          title = 'Процентное соотношение пользователей в зависимости от тарифа');"
   ]
  },
  {
   "cell_type": "markdown",
   "id": "f332eefc",
   "metadata": {},
   "source": [
    "Пользователей без подписки больше - 54% (835 чел.)"
   ]
  },
  {
   "cell_type": "markdown",
   "id": "d2b60263",
   "metadata": {},
   "source": [
    "##### Возраст пользователей"
   ]
  },
  {
   "cell_type": "code",
   "execution_count": 20,
   "id": "5cbf0c2a",
   "metadata": {},
   "outputs": [
    {
     "data": {
      "text/plain": [
       "count   1,534.00\n",
       "mean       24.90\n",
       "std         4.57\n",
       "min        12.00\n",
       "25%        22.00\n",
       "50%        25.00\n",
       "75%        28.00\n",
       "max        43.00\n",
       "Name: age, dtype: float64"
      ]
     },
     "execution_count": 20,
     "metadata": {},
     "output_type": "execute_result"
    }
   ],
   "source": [
    "users['age'].describe()"
   ]
  },
  {
   "cell_type": "code",
   "execution_count": 21,
   "id": "e43b9291",
   "metadata": {},
   "outputs": [
    {
     "data": {
      "image/png": "[encoded data removed]",
      "text/plain": [
       "<Figure size 360x720 with 1 Axes>"
      ]
     },
     "metadata": {},
     "output_type": "display_data"
    }
   ],
   "source": [
    "users.boxplot(column='age', figsize=(5,10));"
   ]
  },
  {
   "cell_type": "code",
   "execution_count": 22,
   "id": "1ef0fe10",
   "metadata": {},
   "outputs": [
    {
     "data": {
      "image/png": "[encoded data removed]",
      "text/plain": [
       "<Figure size 720x576 with 1 Axes>"
      ]
     },
     "metadata": {},
     "output_type": "display_data"
    }
   ],
   "source": [
    "plt.hist(users['age'], bins = 10)\n",
    "plt.title('Возраст пользователей')\n",
    "plt.xlabel('Возраст')\n",
    "plt.ylabel('Количество пользователей')\n",
    "plt.grid(True)\n",
    "plt.show()"
   ]
  },
  {
   "cell_type": "markdown",
   "id": "4eda5454",
   "metadata": {},
   "source": [
    "Средний возраст пользователей 24.9, медианный 25 лет. Самый молодые пользователи 12-15 лет, также есть небольшая группа пользователей больше 38 (max 43). "
   ]
  },
  {
   "cell_type": "markdown",
   "id": "5c15b12d",
   "metadata": {},
   "source": [
    "##### Расстояние, которое пользователь преодолел за одну поездку"
   ]
  },
  {
   "cell_type": "code",
   "execution_count": 23,
   "id": "bc658520",
   "metadata": {},
   "outputs": [
    {
     "data": {
      "text/plain": [
       "count   18,068.00\n",
       "mean     3,070.66\n",
       "std      1,116.83\n",
       "min          0.86\n",
       "25%      2,543.23\n",
       "50%      3,133.61\n",
       "75%      3,776.22\n",
       "max      7,211.01\n",
       "Name: distance, dtype: float64"
      ]
     },
     "execution_count": 23,
     "metadata": {},
     "output_type": "execute_result"
    }
   ],
   "source": [
    "rides['distance'].describe()"
   ]
  },
  {
   "cell_type": "code",
   "execution_count": 24,
   "id": "5d500c43",
   "metadata": {},
   "outputs": [
    {
     "data": {
      "image/png": "[encoded data removed]",
      "text/plain": [
       "<Figure size 360x720 with 1 Axes>"
      ]
     },
     "metadata": {},
     "output_type": "display_data"
    }
   ],
   "source": [
    "rides.boxplot(column='distance', figsize=(5,10));"
   ]
  },
  {
   "cell_type": "code",
   "execution_count": 25,
   "id": "37214dc3",
   "metadata": {},
   "outputs": [
    {
     "data": {
      "image/png": "[encoded data removed]",
      "text/plain": [
       "<Figure size 720x576 with 1 Axes>"
      ]
     },
     "metadata": {},
     "output_type": "display_data"
    }
   ],
   "source": [
    "plt.hist(rides['distance'], bins = 10)\n",
    "plt.title('Расстояние пользователя за одну поездку')\n",
    "plt.xlabel('Расстояние, м')\n",
    "plt.ylabel('Поездки')\n",
    "plt.grid(True)\n",
    "plt.show()"
   ]
  },
  {
   "cell_type": "markdown",
   "id": "8f6e2147",
   "metadata": {},
   "source": [
    "В среднем пользователь преодолевает  3,070.66 м за одну поездку. Медианное значение 3,133.61.  "
   ]
  },
  {
   "cell_type": "markdown",
   "id": "2e6dfa3c",
   "metadata": {},
   "source": [
    "##### Продолжительность поездок"
   ]
  },
  {
   "cell_type": "code",
   "execution_count": 26,
   "id": "d82e4586",
   "metadata": {},
   "outputs": [
    {
     "data": {
      "text/plain": [
       "count   18,068.00\n",
       "mean        17.81\n",
       "std          6.09\n",
       "min          0.50\n",
       "25%         13.60\n",
       "50%         17.68\n",
       "75%         21.72\n",
       "max         40.82\n",
       "Name: duration, dtype: float64"
      ]
     },
     "execution_count": 26,
     "metadata": {},
     "output_type": "execute_result"
    }
   ],
   "source": [
    "rides['duration'].describe()"
   ]
  },
  {
   "cell_type": "code",
   "execution_count": 27,
   "id": "1177067c",
   "metadata": {},
   "outputs": [
    {
     "data": {
      "image/png": "[encoded data removed]",
      "text/plain": [
       "<Figure size 360x720 with 1 Axes>"
      ]
     },
     "metadata": {},
     "output_type": "display_data"
    }
   ],
   "source": [
    "rides.boxplot(column='duration', figsize=(5,10));"
   ]
  },
  {
   "cell_type": "code",
   "execution_count": 28,
   "id": "84282bbf",
   "metadata": {},
   "outputs": [
    {
     "data": {
      "image/png": "[encoded data removed]",
      "text/plain": [
       "<Figure size 720x576 with 1 Axes>"
      ]
     },
     "metadata": {},
     "output_type": "display_data"
    }
   ],
   "source": [
    "plt.hist(rides['duration'], bins = 10)\n",
    "plt.title('Распределение поездок по продолжительности')\n",
    "plt.xlabel('Продолжительность, мин')\n",
    "plt.ylabel('Поездки')\n",
    "plt.grid(True)\n",
    "plt.show()"
   ]
  },
  {
   "cell_type": "markdown",
   "id": "79482ec4",
   "metadata": {},
   "source": [
    "Средняя продолжительность поездок  17.81 мин, медианная 17.68 мин. "
   ]
  },
  {
   "cell_type": "markdown",
   "id": "b8cbed68",
   "metadata": {},
   "source": [
    "**Вывод:** Услугами сервиса аренды самокатов пользуются люди от 12 до 43 лет. Максимальное количество пользователей в возрасте 25 лет, этот же возраст является медианным. Большая часть пользователей без подписки - 835 чел.(54%). Максимальное количество в 219 поездок совершено в Пятигорске. Минимальное количество в 168 поездок совершено в Москве. За одну поездку пользователи преодолеваютв среднем 3071 метров. Продолжительность поездок нормально распределена от 0 до 41 минуты. Продолжительность около 18 минут является как наиболее распространенной так и медианным значением. Наблюдаются выбросы с продолжительностью менее 1 минуты и более 35 минут. Однако, они не являются аномалиями, т.к. подкреплены данными о поездках со столь же маленькими или юольшими дистанциями соответственно."
   ]
  },
  {
   "cell_type": "markdown",
   "id": "4ef51331",
   "metadata": {},
   "source": [
    "## 4. Объединение данных"
   ]
  },
  {
   "cell_type": "code",
   "execution_count": 29,
   "id": "6bf288b5",
   "metadata": {},
   "outputs": [
    {
     "data": {
      "text/html": [
       "<div>\n",
       "<style scoped>\n",
       "    .dataframe tbody tr th:only-of-type {\n",
       "        vertical-align: middle;\n",
       "    }\n",
       "\n",
       "    .dataframe tbody tr th {\n",
       "        vertical-align: top;\n",
       "    }\n",
       "\n",
       "    .dataframe thead th {\n",
       "        text-align: right;\n",
       "    }\n",
       "</style>\n",
       "<table border=\"1\" class=\"dataframe\">\n",
       "  <thead>\n",
       "    <tr style=\"text-align: right;\">\n",
       "      <th></th>\n",
       "      <th>user_id</th>\n",
       "      <th>name</th>\n",
       "      <th>age</th>\n",
       "      <th>city</th>\n",
       "      <th>subscription_type</th>\n",
       "      <th>distance</th>\n",
       "      <th>duration</th>\n",
       "      <th>date</th>\n",
       "      <th>month</th>\n",
       "      <th>minute_price</th>\n",
       "      <th>start_ride_price</th>\n",
       "      <th>subscription_fee</th>\n",
       "    </tr>\n",
       "  </thead>\n",
       "  <tbody>\n",
       "    <tr>\n",
       "      <th>0</th>\n",
       "      <td>1</td>\n",
       "      <td>Кира</td>\n",
       "      <td>22</td>\n",
       "      <td>Тюмень</td>\n",
       "      <td>ultra</td>\n",
       "      <td>4,409.92</td>\n",
       "      <td>25.60</td>\n",
       "      <td>2021-01-01</td>\n",
       "      <td>1</td>\n",
       "      <td>6</td>\n",
       "      <td>0</td>\n",
       "      <td>199</td>\n",
       "    </tr>\n",
       "    <tr>\n",
       "      <th>1</th>\n",
       "      <td>1</td>\n",
       "      <td>Кира</td>\n",
       "      <td>22</td>\n",
       "      <td>Тюмень</td>\n",
       "      <td>ultra</td>\n",
       "      <td>2,617.59</td>\n",
       "      <td>15.82</td>\n",
       "      <td>2021-01-18</td>\n",
       "      <td>1</td>\n",
       "      <td>6</td>\n",
       "      <td>0</td>\n",
       "      <td>199</td>\n",
       "    </tr>\n",
       "    <tr>\n",
       "      <th>2</th>\n",
       "      <td>1</td>\n",
       "      <td>Кира</td>\n",
       "      <td>22</td>\n",
       "      <td>Тюмень</td>\n",
       "      <td>ultra</td>\n",
       "      <td>754.16</td>\n",
       "      <td>6.23</td>\n",
       "      <td>2021-04-20</td>\n",
       "      <td>4</td>\n",
       "      <td>6</td>\n",
       "      <td>0</td>\n",
       "      <td>199</td>\n",
       "    </tr>\n",
       "    <tr>\n",
       "      <th>3</th>\n",
       "      <td>1</td>\n",
       "      <td>Кира</td>\n",
       "      <td>22</td>\n",
       "      <td>Тюмень</td>\n",
       "      <td>ultra</td>\n",
       "      <td>2,694.78</td>\n",
       "      <td>18.51</td>\n",
       "      <td>2021-08-11</td>\n",
       "      <td>8</td>\n",
       "      <td>6</td>\n",
       "      <td>0</td>\n",
       "      <td>199</td>\n",
       "    </tr>\n",
       "    <tr>\n",
       "      <th>4</th>\n",
       "      <td>1</td>\n",
       "      <td>Кира</td>\n",
       "      <td>22</td>\n",
       "      <td>Тюмень</td>\n",
       "      <td>ultra</td>\n",
       "      <td>4,028.69</td>\n",
       "      <td>26.27</td>\n",
       "      <td>2021-08-28</td>\n",
       "      <td>8</td>\n",
       "      <td>6</td>\n",
       "      <td>0</td>\n",
       "      <td>199</td>\n",
       "    </tr>\n",
       "  </tbody>\n",
       "</table>\n",
       "</div>"
      ],
      "text/plain": [
       "   user_id  name  age    city subscription_type  distance  duration  \\\n",
       "0        1  Кира   22  Тюмень             ultra  4,409.92     25.60   \n",
       "1        1  Кира   22  Тюмень             ultra  2,617.59     15.82   \n",
       "2        1  Кира   22  Тюмень             ultra    754.16      6.23   \n",
       "3        1  Кира   22  Тюмень             ultra  2,694.78     18.51   \n",
       "4        1  Кира   22  Тюмень             ultra  4,028.69     26.27   \n",
       "\n",
       "        date  month  minute_price  start_ride_price  subscription_fee  \n",
       "0 2021-01-01      1             6                 0               199  \n",
       "1 2021-01-18      1             6                 0               199  \n",
       "2 2021-04-20      4             6                 0               199  \n",
       "3 2021-08-11      8             6                 0               199  \n",
       "4 2021-08-28      8             6                 0               199  "
      ]
     },
     "execution_count": 29,
     "metadata": {},
     "output_type": "execute_result"
    }
   ],
   "source": [
    "# объеденим все данные в один датафрейм\n",
    "total = users.merge(rides, on='user_id').merge(subs, on='subscription_type')\n",
    "total.head()"
   ]
  },
  {
   "cell_type": "code",
   "execution_count": 30,
   "id": "540f1237",
   "metadata": {},
   "outputs": [
    {
     "name": "stdout",
     "output_type": "stream",
     "text": [
      "Количество строк (поездок) в 'rides': 18068\n",
      "Количество строк (поездок) в 'total': 18068\n",
      "\n",
      "Количество уникальных пользователей в 'users': 1534\n",
      "Количество уникальных пользователей в 'total': 1534\n"
     ]
    }
   ],
   "source": [
    "# Сравним количество строк после объединения\n",
    "print(\"Количество строк (поездок) в 'rides':\", rides['user_id'].count())\n",
    "print(\"Количество строк (поездок) в 'total':\", total['user_id'].count())\n",
    "print()\n",
    "print(\"Количество уникальных пользователей в 'users':\", len(users['user_id'].unique()))\n",
    "print(\"Количество уникальных пользователей в 'total':\", len(total['user_id'].unique()))"
   ]
  },
  {
   "cell_type": "code",
   "execution_count": 31,
   "id": "255520d0",
   "metadata": {},
   "outputs": [
    {
     "data": {
      "text/html": [
       "<div>\n",
       "<style scoped>\n",
       "    .dataframe tbody tr th:only-of-type {\n",
       "        vertical-align: middle;\n",
       "    }\n",
       "\n",
       "    .dataframe tbody tr th {\n",
       "        vertical-align: top;\n",
       "    }\n",
       "\n",
       "    .dataframe thead th {\n",
       "        text-align: right;\n",
       "    }\n",
       "</style>\n",
       "<table border=\"1\" class=\"dataframe\">\n",
       "  <thead>\n",
       "    <tr style=\"text-align: right;\">\n",
       "      <th></th>\n",
       "      <th>user_id</th>\n",
       "      <th>name</th>\n",
       "      <th>age</th>\n",
       "      <th>city</th>\n",
       "      <th>subscription_type</th>\n",
       "      <th>distance</th>\n",
       "      <th>duration</th>\n",
       "      <th>date</th>\n",
       "      <th>month</th>\n",
       "      <th>minute_price</th>\n",
       "      <th>start_ride_price</th>\n",
       "      <th>subscription_fee</th>\n",
       "    </tr>\n",
       "  </thead>\n",
       "  <tbody>\n",
       "    <tr>\n",
       "      <th>0</th>\n",
       "      <td>1</td>\n",
       "      <td>Кира</td>\n",
       "      <td>22</td>\n",
       "      <td>Тюмень</td>\n",
       "      <td>ultra</td>\n",
       "      <td>4,409.92</td>\n",
       "      <td>25.60</td>\n",
       "      <td>2021-01-01</td>\n",
       "      <td>1</td>\n",
       "      <td>6</td>\n",
       "      <td>0</td>\n",
       "      <td>199</td>\n",
       "    </tr>\n",
       "    <tr>\n",
       "      <th>1</th>\n",
       "      <td>1</td>\n",
       "      <td>Кира</td>\n",
       "      <td>22</td>\n",
       "      <td>Тюмень</td>\n",
       "      <td>ultra</td>\n",
       "      <td>2,617.59</td>\n",
       "      <td>15.82</td>\n",
       "      <td>2021-01-18</td>\n",
       "      <td>1</td>\n",
       "      <td>6</td>\n",
       "      <td>0</td>\n",
       "      <td>199</td>\n",
       "    </tr>\n",
       "    <tr>\n",
       "      <th>2</th>\n",
       "      <td>1</td>\n",
       "      <td>Кира</td>\n",
       "      <td>22</td>\n",
       "      <td>Тюмень</td>\n",
       "      <td>ultra</td>\n",
       "      <td>754.16</td>\n",
       "      <td>6.23</td>\n",
       "      <td>2021-04-20</td>\n",
       "      <td>4</td>\n",
       "      <td>6</td>\n",
       "      <td>0</td>\n",
       "      <td>199</td>\n",
       "    </tr>\n",
       "    <tr>\n",
       "      <th>3</th>\n",
       "      <td>1</td>\n",
       "      <td>Кира</td>\n",
       "      <td>22</td>\n",
       "      <td>Тюмень</td>\n",
       "      <td>ultra</td>\n",
       "      <td>2,694.78</td>\n",
       "      <td>18.51</td>\n",
       "      <td>2021-08-11</td>\n",
       "      <td>8</td>\n",
       "      <td>6</td>\n",
       "      <td>0</td>\n",
       "      <td>199</td>\n",
       "    </tr>\n",
       "    <tr>\n",
       "      <th>4</th>\n",
       "      <td>1</td>\n",
       "      <td>Кира</td>\n",
       "      <td>22</td>\n",
       "      <td>Тюмень</td>\n",
       "      <td>ultra</td>\n",
       "      <td>4,028.69</td>\n",
       "      <td>26.27</td>\n",
       "      <td>2021-08-28</td>\n",
       "      <td>8</td>\n",
       "      <td>6</td>\n",
       "      <td>0</td>\n",
       "      <td>199</td>\n",
       "    </tr>\n",
       "  </tbody>\n",
       "</table>\n",
       "</div>"
      ],
      "text/plain": [
       "   user_id  name  age    city subscription_type  distance  duration  \\\n",
       "0        1  Кира   22  Тюмень             ultra  4,409.92     25.60   \n",
       "1        1  Кира   22  Тюмень             ultra  2,617.59     15.82   \n",
       "2        1  Кира   22  Тюмень             ultra    754.16      6.23   \n",
       "3        1  Кира   22  Тюмень             ultra  2,694.78     18.51   \n",
       "4        1  Кира   22  Тюмень             ultra  4,028.69     26.27   \n",
       "\n",
       "        date  month  minute_price  start_ride_price  subscription_fee  \n",
       "0 2021-01-01      1             6                 0               199  \n",
       "1 2021-01-18      1             6                 0               199  \n",
       "2 2021-04-20      4             6                 0               199  \n",
       "3 2021-08-11      8             6                 0               199  \n",
       "4 2021-08-28      8             6                 0               199  "
      ]
     },
     "execution_count": 31,
     "metadata": {},
     "output_type": "execute_result"
    }
   ],
   "source": [
    "# создадим датафрейм данных с пользователями с подпиской\n",
    "ultra = total.query(\"`subscription_type` == 'ultra'\")\n",
    "ultra.head()"
   ]
  },
  {
   "cell_type": "code",
   "execution_count": 32,
   "id": "909f6687",
   "metadata": {},
   "outputs": [
    {
     "data": {
      "text/html": [
       "<div>\n",
       "<style scoped>\n",
       "    .dataframe tbody tr th:only-of-type {\n",
       "        vertical-align: middle;\n",
       "    }\n",
       "\n",
       "    .dataframe tbody tr th {\n",
       "        vertical-align: top;\n",
       "    }\n",
       "\n",
       "    .dataframe thead th {\n",
       "        text-align: right;\n",
       "    }\n",
       "</style>\n",
       "<table border=\"1\" class=\"dataframe\">\n",
       "  <thead>\n",
       "    <tr style=\"text-align: right;\">\n",
       "      <th></th>\n",
       "      <th>user_id</th>\n",
       "      <th>name</th>\n",
       "      <th>age</th>\n",
       "      <th>city</th>\n",
       "      <th>subscription_type</th>\n",
       "      <th>distance</th>\n",
       "      <th>duration</th>\n",
       "      <th>date</th>\n",
       "      <th>month</th>\n",
       "      <th>minute_price</th>\n",
       "      <th>start_ride_price</th>\n",
       "      <th>subscription_fee</th>\n",
       "    </tr>\n",
       "  </thead>\n",
       "  <tbody>\n",
       "    <tr>\n",
       "      <th>6500</th>\n",
       "      <td>700</td>\n",
       "      <td>Айдар</td>\n",
       "      <td>22</td>\n",
       "      <td>Омск</td>\n",
       "      <td>free</td>\n",
       "      <td>2,515.69</td>\n",
       "      <td>14.94</td>\n",
       "      <td>2021-01-02</td>\n",
       "      <td>1</td>\n",
       "      <td>8</td>\n",
       "      <td>50</td>\n",
       "      <td>0</td>\n",
       "    </tr>\n",
       "    <tr>\n",
       "      <th>6501</th>\n",
       "      <td>700</td>\n",
       "      <td>Айдар</td>\n",
       "      <td>22</td>\n",
       "      <td>Омск</td>\n",
       "      <td>free</td>\n",
       "      <td>846.93</td>\n",
       "      <td>16.23</td>\n",
       "      <td>2021-02-01</td>\n",
       "      <td>2</td>\n",
       "      <td>8</td>\n",
       "      <td>50</td>\n",
       "      <td>0</td>\n",
       "    </tr>\n",
       "    <tr>\n",
       "      <th>6502</th>\n",
       "      <td>700</td>\n",
       "      <td>Айдар</td>\n",
       "      <td>22</td>\n",
       "      <td>Омск</td>\n",
       "      <td>free</td>\n",
       "      <td>4,004.43</td>\n",
       "      <td>20.02</td>\n",
       "      <td>2021-02-04</td>\n",
       "      <td>2</td>\n",
       "      <td>8</td>\n",
       "      <td>50</td>\n",
       "      <td>0</td>\n",
       "    </tr>\n",
       "    <tr>\n",
       "      <th>6503</th>\n",
       "      <td>700</td>\n",
       "      <td>Айдар</td>\n",
       "      <td>22</td>\n",
       "      <td>Омск</td>\n",
       "      <td>free</td>\n",
       "      <td>1,205.91</td>\n",
       "      <td>9.78</td>\n",
       "      <td>2021-02-10</td>\n",
       "      <td>2</td>\n",
       "      <td>8</td>\n",
       "      <td>50</td>\n",
       "      <td>0</td>\n",
       "    </tr>\n",
       "    <tr>\n",
       "      <th>6504</th>\n",
       "      <td>700</td>\n",
       "      <td>Айдар</td>\n",
       "      <td>22</td>\n",
       "      <td>Омск</td>\n",
       "      <td>free</td>\n",
       "      <td>3,047.38</td>\n",
       "      <td>17.43</td>\n",
       "      <td>2021-02-14</td>\n",
       "      <td>2</td>\n",
       "      <td>8</td>\n",
       "      <td>50</td>\n",
       "      <td>0</td>\n",
       "    </tr>\n",
       "  </tbody>\n",
       "</table>\n",
       "</div>"
      ],
      "text/plain": [
       "      user_id   name  age  city subscription_type  distance  duration  \\\n",
       "6500      700  Айдар   22  Омск              free  2,515.69     14.94   \n",
       "6501      700  Айдар   22  Омск              free    846.93     16.23   \n",
       "6502      700  Айдар   22  Омск              free  4,004.43     20.02   \n",
       "6503      700  Айдар   22  Омск              free  1,205.91      9.78   \n",
       "6504      700  Айдар   22  Омск              free  3,047.38     17.43   \n",
       "\n",
       "           date  month  minute_price  start_ride_price  subscription_fee  \n",
       "6500 2021-01-02      1             8                50                 0  \n",
       "6501 2021-02-01      2             8                50                 0  \n",
       "6502 2021-02-04      2             8                50                 0  \n",
       "6503 2021-02-10      2             8                50                 0  \n",
       "6504 2021-02-14      2             8                50                 0  "
      ]
     },
     "execution_count": 32,
     "metadata": {},
     "output_type": "execute_result"
    }
   ],
   "source": [
    "# создадим датафрейм данных с пользователями без подписки\n",
    "free = total.query(\"`subscription_type` == 'free'\")\n",
    "free.head()"
   ]
  },
  {
   "cell_type": "code",
   "execution_count": 33,
   "id": "781ef82a",
   "metadata": {},
   "outputs": [],
   "source": [
    "# создадим функцию для сравнения столбцов с количественными данными в разных датафреймах\n",
    "def quantity_go (data1, data2, column, bins_num, xlabel, ylabel, title, dataname1, dataname2):\n",
    "        \n",
    "    data1.rename(columns = {column:dataname1})[dataname1].plot.hist(\n",
    "        bins=bins_num, \n",
    "        #xlim=(data_min, data_max),\n",
    "        alpha=.5, \n",
    "        legend=True,\n",
    "        grid=True\n",
    "    )\n",
    "    data2.rename(columns = {column:dataname2})[dataname2].plot.hist(\n",
    "        bins=bins_num, \n",
    "        #xlim=(data_min, data_max),\n",
    "        alpha=.5, \n",
    "        legend=True,\n",
    "        grid=True\n",
    "    )\n",
    "    \n",
    "    plt.gca().set(xlabel=f'${xlabel}$', ylabel=f'${ylabel}$')\n",
    "    plt.title(f'{title}')\n",
    "    plt.show()"
   ]
  },
  {
   "cell_type": "code",
   "execution_count": 34,
   "id": "692b240b",
   "metadata": {},
   "outputs": [],
   "source": [
    "# Функция для сравнения одинаковых столбцов с качественными данными в разных датафреймах\n",
    "def quality_go (data1, data2, column, xlabel, ylabel, title, dataname1, dataname2, sort=False):\n",
    "        \n",
    "    go_count = pd.DataFrame([\n",
    "        data1.groupby(column)[column].agg('count'), \n",
    "        data2.groupby(column)[column].agg('count')\n",
    "    ])\n",
    "    go_count.index = [dataname1, dataname2]\n",
    "    go_count = go_count.transpose()\n",
    "    if sort == True:\n",
    "        if go_count[dataname1].sum() >= go_count[dataname2].sum():\n",
    "            go_count = go_count.sort_values(by=dataname1)\n",
    "        else:\n",
    "            go_count = go_count.sort_values(by=dataname2)\n",
    "    \n",
    "    go_count.plot.barh(grid=True)\n",
    "    plt.gca().set(xlabel=f'${xlabel}$', ylabel=f'${ylabel}$')\n",
    "    plt.title(f'{title}')\n",
    "    plt.show()\n",
    "    \n",
    "    go_percent_sum = go_count[dataname1].sum() + go_count[dataname2].sum()\n",
    "    go_percent = go_count / go_percent_sum"
   ]
  },
  {
   "cell_type": "code",
   "execution_count": 35,
   "id": "1edf4639",
   "metadata": {},
   "outputs": [
    {
     "data": {
      "image/png": "[encoded data removed]",
      "text/plain": [
       "<Figure size 720x576 with 1 Axes>"
      ]
     },
     "metadata": {},
     "output_type": "display_data"
    }
   ],
   "source": [
    "# Сравнение возраста пользователей\n",
    "quantity_go (\n",
    "    ultra, \n",
    "    free, \n",
    "    'age', \n",
    "    int(free['age'].max()), \n",
    "    'Возраст', \n",
    "    'Количество поездок', \n",
    "    'Распределение пользователей сервиса по возрасту', \n",
    "    'ultra', \n",
    "    'free'\n",
    ")"
   ]
  },
  {
   "cell_type": "markdown",
   "id": "14bf6204",
   "metadata": {},
   "source": [
    "Возрастные показатели пользователей с разным типом подписки в целом схожи."
   ]
  },
  {
   "cell_type": "code",
   "execution_count": 36,
   "id": "f0885e19",
   "metadata": {},
   "outputs": [
    {
     "data": {
      "image/png": "[encoded data removed]",
      "text/plain": [
       "<Figure size 720x576 with 1 Axes>"
      ]
     },
     "metadata": {},
     "output_type": "display_data"
    }
   ],
   "source": [
    "# Сравнение пользователей по городам\n",
    "quality_go(\n",
    "    ultra, \n",
    "    free, \n",
    "    'city', \n",
    "    'Город', \n",
    "    'Количество поездок', \n",
    "    'Распределение пользователей по городам', \n",
    "    'ultra', \n",
    "    'free',\n",
    "    True\n",
    ")"
   ]
  },
  {
   "cell_type": "code",
   "execution_count": 37,
   "id": "4580e565",
   "metadata": {},
   "outputs": [
    {
     "data": {
      "text/plain": [
       "Пятигорск         1672\n",
       "Екатеринбург      1585\n",
       "Ростов-на-Дону    1565\n",
       "Краснодар         1521\n",
       "Сочи              1446\n",
       "Тюмень            1354\n",
       "Омск              1250\n",
       "Москва            1175\n",
       "Name: city, dtype: int64"
      ]
     },
     "execution_count": 37,
     "metadata": {},
     "output_type": "execute_result"
    }
   ],
   "source": [
    "free['city'].value_counts()"
   ]
  },
  {
   "cell_type": "code",
   "execution_count": 38,
   "id": "8b1eda7d",
   "metadata": {},
   "outputs": [
    {
     "data": {
      "text/plain": [
       "Ростов-на-Дону    885\n",
       "Екатеринбург      876\n",
       "Пятигорск         852\n",
       "Омск              827\n",
       "Сочи              813\n",
       "Краснодар         780\n",
       "Тюмень            767\n",
       "Москва            700\n",
       "Name: city, dtype: int64"
      ]
     },
     "execution_count": 38,
     "metadata": {},
     "output_type": "execute_result"
    }
   ],
   "source": [
    "ultra['city'].value_counts()"
   ]
  },
  {
   "cell_type": "markdown",
   "id": "799f902f",
   "metadata": {},
   "source": [
    "Больше всего поездок у клиентов без подписки в Пятигорске, а у клиентов с подпиской в Ростове-на Дону. "
   ]
  },
  {
   "cell_type": "code",
   "execution_count": 39,
   "id": "84fff9b8",
   "metadata": {
    "scrolled": false
   },
   "outputs": [
    {
     "data": {
      "image/png": "[encoded data removed]",
      "text/plain": [
       "<Figure size 720x576 with 1 Axes>"
      ]
     },
     "metadata": {},
     "output_type": "display_data"
    }
   ],
   "source": [
    "# Срвнение расстояний пользователей\n",
    "quantity_go(\n",
    "    ultra, \n",
    "    free, \n",
    "    'distance', \n",
    "    int(free['distance'].max()/100), \n",
    "    'Расстояние, м', \n",
    "    'Количество поездок', \n",
    "    'Распределение по расстоянию поездок', \n",
    "    'ultra', \n",
    "    'free'\n",
    ")"
   ]
  },
  {
   "cell_type": "code",
   "execution_count": 40,
   "id": "b53b5cd0",
   "metadata": {},
   "outputs": [
    {
     "data": {
      "text/plain": [
       "count   11,568.00\n",
       "mean     3,045.50\n",
       "std      1,246.17\n",
       "min          0.86\n",
       "25%      2,366.56\n",
       "50%      3,114.65\n",
       "75%      3,905.70\n",
       "max      7,211.01\n",
       "Name: distance, dtype: float64"
      ]
     },
     "execution_count": 40,
     "metadata": {},
     "output_type": "execute_result"
    }
   ],
   "source": [
    "free['distance'].describe()"
   ]
  },
  {
   "cell_type": "code",
   "execution_count": 41,
   "id": "13d97110",
   "metadata": {},
   "outputs": [
    {
     "data": {
      "text/plain": [
       "count   6,500.00\n",
       "mean    3,115.45\n",
       "std       836.90\n",
       "min       244.21\n",
       "25%     2,785.44\n",
       "50%     3,148.64\n",
       "75%     3,560.57\n",
       "max     5,699.77\n",
       "Name: distance, dtype: float64"
      ]
     },
     "execution_count": 41,
     "metadata": {},
     "output_type": "execute_result"
    }
   ],
   "source": [
    "ultra['distance'].describe()"
   ]
  },
  {
   "cell_type": "markdown",
   "id": "9126485b",
   "metadata": {},
   "source": [
    "Дистанция поездок без подписки более разнообразна. Об этом же свидетельствует и стандартное отклонение, которое при использовании таких поездках (1246), чем при использовании подписки 'ultra'(837). Средняя дистанция поездок без подписки - 3045м, при поездках с подпиской - 3115 м."
   ]
  },
  {
   "cell_type": "code",
   "execution_count": 42,
   "id": "668da816",
   "metadata": {},
   "outputs": [
    {
     "data": {
      "image/png": "[encoded data removed]",
      "text/plain": [
       "<Figure size 720x576 with 1 Axes>"
      ]
     },
     "metadata": {},
     "output_type": "display_data"
    }
   ],
   "source": [
    "# Срвнение времени поездок\n",
    "quantity_go(\n",
    "    ultra, \n",
    "    free, \n",
    "    'duration', \n",
    "    int(free['duration'].max()), \n",
    "    'Продоложительность', \n",
    "    'Количество поездок', \n",
    "    'Количество использований сервиса в зависимости от продолжительности поездки', \n",
    "    'ultra', \n",
    "    'free'\n",
    ")"
   ]
  },
  {
   "cell_type": "code",
   "execution_count": 43,
   "id": "9092b711",
   "metadata": {},
   "outputs": [
    {
     "data": {
      "text/plain": [
       "count   6,500.00\n",
       "mean       18.54\n",
       "std         5.57\n",
       "min         3.76\n",
       "25%        14.52\n",
       "50%        18.18\n",
       "75%        21.88\n",
       "max        40.82\n",
       "Name: duration, dtype: float64"
      ]
     },
     "execution_count": 43,
     "metadata": {},
     "output_type": "execute_result"
    }
   ],
   "source": [
    "ultra['duration'].describe()"
   ]
  },
  {
   "cell_type": "code",
   "execution_count": 44,
   "id": "d518cefd",
   "metadata": {},
   "outputs": [
    {
     "data": {
      "text/plain": [
       "count   11,568.00\n",
       "mean        17.39\n",
       "std          6.33\n",
       "min          0.50\n",
       "25%         12.96\n",
       "50%         17.33\n",
       "75%         21.59\n",
       "max         34.95\n",
       "Name: duration, dtype: float64"
      ]
     },
     "execution_count": 44,
     "metadata": {},
     "output_type": "execute_result"
    }
   ],
   "source": [
    "free['duration'].describe()"
   ]
  },
  {
   "cell_type": "markdown",
   "id": "9df1b80e",
   "metadata": {},
   "source": [
    "В обоих случаях количество поездок относительно нормально распределено в зависимости от их продолжительности. Пик количества поездок приходится на 17-18 минут в обоих вариантах."
   ]
  },
  {
   "cell_type": "markdown",
   "id": "4c2fce96",
   "metadata": {},
   "source": [
    "**Вывод:** Возрастные показатели пользователей с разным типом подписки в целом схожи - основные пользователи 25-30 лет. Больше всего поездок у клиентов без подписки в Пятигорске, а у клиентов с подпиской  - в Ростове-на Дону. Дистанция поездок без подписки более разнообразна. Об этом же свидетельствует и стандартное отклонение, которое при таких поездках больше (1246м), чем при использовании подписки 'ultra'(837м). Средняя дистанция поездок без подписки - 3045м, при поездках с подпиской - 3115 м.В обоих случаях количество поездок относительно нормально распределено в зависимости от их продолжительности. Пик количества поездок приходится на 17-18 минут в обоих вариантах."
   ]
  },
  {
   "cell_type": "markdown",
   "id": "402d620f",
   "metadata": {},
   "source": [
    "## 5. Подсчёт выручки"
   ]
  },
  {
   "cell_type": "code",
   "execution_count": 45,
   "id": "53049e0a",
   "metadata": {},
   "outputs": [],
   "source": [
    "# Найдем суммарное расстояние, количество поeздок и суммарное время для каждого пользователя за каждый месяц\n",
    "sum_data = pd.pivot_table(total,\n",
    "                           index=['month', 'user_id'],\n",
    "                           values = ['distance', 'duration', 'name', 'subscription_type'],\n",
    "                           aggfunc = {'distance': sum, \n",
    "                                      'duration' : sum, \n",
    "                                      'name' : len, \n",
    "                                      'subscription_type' : min})"
   ]
  },
  {
   "cell_type": "code",
   "execution_count": 46,
   "id": "1d89059a",
   "metadata": {},
   "outputs": [
    {
     "data": {
      "text/html": [
       "<div>\n",
       "<style scoped>\n",
       "    .dataframe tbody tr th:only-of-type {\n",
       "        vertical-align: middle;\n",
       "    }\n",
       "\n",
       "    .dataframe tbody tr th {\n",
       "        vertical-align: top;\n",
       "    }\n",
       "\n",
       "    .dataframe thead th {\n",
       "        text-align: right;\n",
       "    }\n",
       "</style>\n",
       "<table border=\"1\" class=\"dataframe\">\n",
       "  <thead>\n",
       "    <tr style=\"text-align: right;\">\n",
       "      <th></th>\n",
       "      <th></th>\n",
       "      <th>distance</th>\n",
       "      <th>duration</th>\n",
       "      <th>name</th>\n",
       "      <th>subscription_type</th>\n",
       "    </tr>\n",
       "    <tr>\n",
       "      <th>month</th>\n",
       "      <th>user_id</th>\n",
       "      <th></th>\n",
       "      <th></th>\n",
       "      <th></th>\n",
       "      <th></th>\n",
       "    </tr>\n",
       "  </thead>\n",
       "  <tbody>\n",
       "    <tr>\n",
       "      <th rowspan=\"5\" valign=\"top\">1</th>\n",
       "      <th>1</th>\n",
       "      <td>7,027.51</td>\n",
       "      <td>42.00</td>\n",
       "      <td>2</td>\n",
       "      <td>ultra</td>\n",
       "    </tr>\n",
       "    <tr>\n",
       "      <th>3</th>\n",
       "      <td>3,061.78</td>\n",
       "      <td>13.00</td>\n",
       "      <td>1</td>\n",
       "      <td>ultra</td>\n",
       "    </tr>\n",
       "    <tr>\n",
       "      <th>5</th>\n",
       "      <td>3,914.65</td>\n",
       "      <td>13.00</td>\n",
       "      <td>1</td>\n",
       "      <td>ultra</td>\n",
       "    </tr>\n",
       "    <tr>\n",
       "      <th>7</th>\n",
       "      <td>6,478.08</td>\n",
       "      <td>28.00</td>\n",
       "      <td>2</td>\n",
       "      <td>ultra</td>\n",
       "    </tr>\n",
       "    <tr>\n",
       "      <th>12</th>\n",
       "      <td>3,577.15</td>\n",
       "      <td>33.00</td>\n",
       "      <td>1</td>\n",
       "      <td>ultra</td>\n",
       "    </tr>\n",
       "    <tr>\n",
       "      <th>...</th>\n",
       "      <th>...</th>\n",
       "      <td>...</td>\n",
       "      <td>...</td>\n",
       "      <td>...</td>\n",
       "      <td>...</td>\n",
       "    </tr>\n",
       "    <tr>\n",
       "      <th rowspan=\"5\" valign=\"top\">12</th>\n",
       "      <th>1525</th>\n",
       "      <td>4,597.85</td>\n",
       "      <td>34.00</td>\n",
       "      <td>1</td>\n",
       "      <td>free</td>\n",
       "    </tr>\n",
       "    <tr>\n",
       "      <th>1526</th>\n",
       "      <td>3,644.12</td>\n",
       "      <td>23.00</td>\n",
       "      <td>1</td>\n",
       "      <td>free</td>\n",
       "    </tr>\n",
       "    <tr>\n",
       "      <th>1528</th>\n",
       "      <td>3,998.57</td>\n",
       "      <td>11.00</td>\n",
       "      <td>1</td>\n",
       "      <td>free</td>\n",
       "    </tr>\n",
       "    <tr>\n",
       "      <th>1532</th>\n",
       "      <td>6,111.89</td>\n",
       "      <td>41.00</td>\n",
       "      <td>2</td>\n",
       "      <td>free</td>\n",
       "    </tr>\n",
       "    <tr>\n",
       "      <th>1534</th>\n",
       "      <td>2,371.71</td>\n",
       "      <td>16.00</td>\n",
       "      <td>1</td>\n",
       "      <td>free</td>\n",
       "    </tr>\n",
       "  </tbody>\n",
       "</table>\n",
       "<p>11331 rows × 4 columns</p>\n",
       "</div>"
      ],
      "text/plain": [
       "               distance  duration  name subscription_type\n",
       "month user_id                                            \n",
       "1     1        7,027.51     42.00     2             ultra\n",
       "      3        3,061.78     13.00     1             ultra\n",
       "      5        3,914.65     13.00     1             ultra\n",
       "      7        6,478.08     28.00     2             ultra\n",
       "      12       3,577.15     33.00     1             ultra\n",
       "...                 ...       ...   ...               ...\n",
       "12    1525     4,597.85     34.00     1              free\n",
       "      1526     3,644.12     23.00     1              free\n",
       "      1528     3,998.57     11.00     1              free\n",
       "      1532     6,111.89     41.00     2              free\n",
       "      1534     2,371.71     16.00     1              free\n",
       "\n",
       "[11331 rows x 4 columns]"
      ]
     },
     "execution_count": 46,
     "metadata": {},
     "output_type": "execute_result"
    }
   ],
   "source": [
    "# Округление продолжительности поездок \n",
    "sum_data['duration'] = np.ceil(sum_data['duration'])\n",
    "\n",
    "sum_data"
   ]
  },
  {
   "cell_type": "code",
   "execution_count": 47,
   "id": "262bb3e8",
   "metadata": {},
   "outputs": [
    {
     "data": {
      "text/html": [
       "<div>\n",
       "<style scoped>\n",
       "    .dataframe tbody tr th:only-of-type {\n",
       "        vertical-align: middle;\n",
       "    }\n",
       "\n",
       "    .dataframe tbody tr th {\n",
       "        vertical-align: top;\n",
       "    }\n",
       "\n",
       "    .dataframe thead th {\n",
       "        text-align: right;\n",
       "    }\n",
       "</style>\n",
       "<table border=\"1\" class=\"dataframe\">\n",
       "  <thead>\n",
       "    <tr style=\"text-align: right;\">\n",
       "      <th></th>\n",
       "      <th></th>\n",
       "      <th>distance</th>\n",
       "      <th>duration</th>\n",
       "      <th>name</th>\n",
       "      <th>subscription_type</th>\n",
       "      <th>revenue_per_month</th>\n",
       "    </tr>\n",
       "    <tr>\n",
       "      <th>month</th>\n",
       "      <th>user_id</th>\n",
       "      <th></th>\n",
       "      <th></th>\n",
       "      <th></th>\n",
       "      <th></th>\n",
       "      <th></th>\n",
       "    </tr>\n",
       "  </thead>\n",
       "  <tbody>\n",
       "    <tr>\n",
       "      <th rowspan=\"10\" valign=\"top\">1</th>\n",
       "      <th>1</th>\n",
       "      <td>7,027.51</td>\n",
       "      <td>42.00</td>\n",
       "      <td>2</td>\n",
       "      <td>ultra</td>\n",
       "      <td>451.00</td>\n",
       "    </tr>\n",
       "    <tr>\n",
       "      <th>3</th>\n",
       "      <td>3,061.78</td>\n",
       "      <td>13.00</td>\n",
       "      <td>1</td>\n",
       "      <td>ultra</td>\n",
       "      <td>277.00</td>\n",
       "    </tr>\n",
       "    <tr>\n",
       "      <th>5</th>\n",
       "      <td>3,914.65</td>\n",
       "      <td>13.00</td>\n",
       "      <td>1</td>\n",
       "      <td>ultra</td>\n",
       "      <td>277.00</td>\n",
       "    </tr>\n",
       "    <tr>\n",
       "      <th>7</th>\n",
       "      <td>6,478.08</td>\n",
       "      <td>28.00</td>\n",
       "      <td>2</td>\n",
       "      <td>ultra</td>\n",
       "      <td>367.00</td>\n",
       "    </tr>\n",
       "    <tr>\n",
       "      <th>12</th>\n",
       "      <td>3,577.15</td>\n",
       "      <td>33.00</td>\n",
       "      <td>1</td>\n",
       "      <td>ultra</td>\n",
       "      <td>397.00</td>\n",
       "    </tr>\n",
       "    <tr>\n",
       "      <th>13</th>\n",
       "      <td>6,687.99</td>\n",
       "      <td>42.00</td>\n",
       "      <td>2</td>\n",
       "      <td>ultra</td>\n",
       "      <td>451.00</td>\n",
       "    </tr>\n",
       "    <tr>\n",
       "      <th>14</th>\n",
       "      <td>7,699.64</td>\n",
       "      <td>34.00</td>\n",
       "      <td>2</td>\n",
       "      <td>ultra</td>\n",
       "      <td>403.00</td>\n",
       "    </tr>\n",
       "    <tr>\n",
       "      <th>15</th>\n",
       "      <td>4,187.62</td>\n",
       "      <td>39.00</td>\n",
       "      <td>1</td>\n",
       "      <td>ultra</td>\n",
       "      <td>433.00</td>\n",
       "    </tr>\n",
       "    <tr>\n",
       "      <th>20</th>\n",
       "      <td>3,516.72</td>\n",
       "      <td>29.00</td>\n",
       "      <td>1</td>\n",
       "      <td>ultra</td>\n",
       "      <td>373.00</td>\n",
       "    </tr>\n",
       "    <tr>\n",
       "      <th>22</th>\n",
       "      <td>3,058.69</td>\n",
       "      <td>13.00</td>\n",
       "      <td>1</td>\n",
       "      <td>ultra</td>\n",
       "      <td>277.00</td>\n",
       "    </tr>\n",
       "  </tbody>\n",
       "</table>\n",
       "</div>"
      ],
      "text/plain": [
       "               distance  duration  name subscription_type  revenue_per_month\n",
       "month user_id                                                               \n",
       "1     1        7,027.51     42.00     2             ultra             451.00\n",
       "      3        3,061.78     13.00     1             ultra             277.00\n",
       "      5        3,914.65     13.00     1             ultra             277.00\n",
       "      7        6,478.08     28.00     2             ultra             367.00\n",
       "      12       3,577.15     33.00     1             ultra             397.00\n",
       "      13       6,687.99     42.00     2             ultra             451.00\n",
       "      14       7,699.64     34.00     2             ultra             403.00\n",
       "      15       4,187.62     39.00     1             ultra             433.00\n",
       "      20       3,516.72     29.00     1             ultra             373.00\n",
       "      22       3,058.69     13.00     1             ultra             277.00"
      ]
     },
     "execution_count": 47,
     "metadata": {},
     "output_type": "execute_result"
    }
   ],
   "source": [
    "# Добавим столбец с помесячной выручкой\n",
    "\n",
    "def revenue(row):\n",
    "    if row['subscription_type'] == 'ultra':\n",
    "        return 6 * row['duration'] + 199\n",
    "    elif row['subscription_type'] == 'free':\n",
    "        return 8 * row['duration'] + 50 * row['name']\n",
    "    else:\n",
    "        return 'Not such sub'\n",
    "sum_data['revenue_per_month'] = sum_data.apply(revenue, axis=1)\n",
    "sum_data.head(10)"
   ]
  },
  {
   "cell_type": "markdown",
   "id": "5fe8bb04",
   "metadata": {},
   "source": [
    "**Вывод:** Создали новый датафрейм с агрегированными данными на основе датафрейма с объединенными данными.\n",
    "Нашли суммарное расстояние, количество поездок и суммарное время для каждого пользователя за каждый месяц. Также добавили столбец с помесячной выручкой, которую принес каждый пользователь."
   ]
  },
  {
   "cell_type": "markdown",
   "id": "41545ac0",
   "metadata": {},
   "source": [
    "## 6. Проверка гипотез"
   ]
  },
  {
   "cell_type": "markdown",
   "id": "45416702",
   "metadata": {},
   "source": [
    "##### Пользователи с подпиской тратят больше времени на поездки\n",
    " \n",
    "Нулевая и альтернативная гипотезы:\n",
    "- Гипотеза Н0: Средняя продолжительность поездок с подпиской 'ultra' и 'free' равна. \n",
    "- Гипотеза Н1: Средняя продолжительность поездок с подпиской 'ultra' больше, чем с 'free'."
   ]
  },
  {
   "cell_type": "code",
   "execution_count": 48,
   "id": "591fcacf",
   "metadata": {},
   "outputs": [
    {
     "name": "stdout",
     "output_type": "stream",
     "text": [
      "1.2804098316645618e-34\n",
      "Отвергаем нулевую гипотезу\n"
     ]
    }
   ],
   "source": [
    "ultra_sub = ultra['duration'] \n",
    "\n",
    "free_sub = free['duration']\n",
    "\n",
    "results = st.ttest_ind(ultra_sub, \n",
    "                       free_sub,\n",
    "                       alternative = 'greater')\n",
    "\n",
    "alpha = 0.05\n",
    "\n",
    "print(results.pvalue)\n",
    "\n",
    "if results.pvalue < alpha:\n",
    "    print('Отвергаем нулевую гипотезу')\n",
    "else:\n",
    "    print('Не удалось отвергнуть нулевую гипотезу')"
   ]
  },
  {
   "cell_type": "markdown",
   "id": "e60bb521",
   "metadata": {},
   "source": [
    "##### Среднее расстояние, которое проезжают пользователи с подпиской за одну поездку, не превышает 3130 метров\n",
    "\n",
    "Нулевая и альтернативная гипотезы:\n",
    "- Гипотеза Н0: Среднее расстояние поездок с использованием подписки 'ultra' равно расстоянию в 3130 метров.\n",
    "- Гипотеза Н1: Среднее расстояние поездок с использованием подписки 'ultra' более 3130 метров."
   ]
  },
  {
   "cell_type": "code",
   "execution_count": 49,
   "id": "929849e5",
   "metadata": {},
   "outputs": [
    {
     "name": "stdout",
     "output_type": "stream",
     "text": [
      "0.9195368847849785\n",
      "Не получилось отвергнуть нулевую гипотезу\n"
     ]
    }
   ],
   "source": [
    "results = st.ttest_1samp(ultra['distance'], 3130, alternative='greater')\n",
    "print(results.pvalue)\n",
    "if results.pvalue < 0.05:\n",
    "    print('Отвергаем нулевую гипотезу')\n",
    "else:\n",
    "    print('Не получилось отвергнуть нулевую гипотезу')"
   ]
  },
  {
   "cell_type": "markdown",
   "id": "46a88fa7",
   "metadata": {},
   "source": [
    "##### Помесячная выручка от пользователей с подпиской по месяцам выше, чем выручка от пользователей без подписки\n",
    "\n",
    "Нулевая и альтернативная гипотезы:\n",
    "- Гипотеза Н0: Средняя выручка от поездок с разной подпиской равна.\n",
    "- Гипотеза Н1: Средняя выручка от поездок с использованием подписки 'ultra' больше, чем выручка без подписки."
   ]
  },
  {
   "cell_type": "code",
   "execution_count": 50,
   "id": "830eedca",
   "metadata": {},
   "outputs": [
    {
     "name": "stdout",
     "output_type": "stream",
     "text": [
      "2.8130926188487286e-35\n",
      "Отвергаем нулевую гипотезу\n"
     ]
    }
   ],
   "source": [
    "ultra_per_mnth = sum_data.loc[sum_data.subscription_type == 'ultra', 'revenue_per_month'] \n",
    "\n",
    "free_per_mnth = sum_data.loc[sum_data.subscription_type == 'free', 'revenue_per_month'] \n",
    "\n",
    "\n",
    "results = st.ttest_ind(ultra_per_mnth, \n",
    "                       free_per_mnth,\n",
    "                       alternative = 'greater')\n",
    "\n",
    "alpha = 0.05\n",
    "\n",
    "print(results.pvalue)\n",
    "\n",
    "if results.pvalue < alpha:\n",
    "    print('Отвергаем нулевую гипотезу')\n",
    "else:\n",
    "    print('Не удалось отвергнуть нулевую гипотезу')"
   ]
  },
  {
   "cell_type": "markdown",
   "id": "b2c864a1",
   "metadata": {},
   "source": [
    "##### Из-за обновления сервера количество обращений в техподдержку значимо снизилось. Какой тест понадобится для проверки гипотезы?"
   ]
  },
  {
   "cell_type": "markdown",
   "id": "7c4e4dce",
   "metadata": {},
   "source": [
    "Будем использовать гипотезу о равенстве средних для зависимых (парных) выборок.\\\n",
    "Гипотезы будут сформулированы так:\n",
    "-H0 : μ1 = μ2\n",
    "-H1 : μ1 != μ2\\\n",
    "где μ1 и μ2 - средние значения количество обращений в техподдержку до и после изменения.\n",
    "\n",
    "Метод, который нужно использовать при сравнении: scipy.stats.ttest_rel()"
   ]
  },
  {
   "cell_type": "markdown",
   "id": "fea9673c",
   "metadata": {},
   "source": [
    "**Вывод:** Было проверено 3 гипотезы:\n",
    "1) Гипотеза о том, что средняя продолжительность поездок с подпиской 'ultra' и 'free' равна не подтвердилась;\\\n",
    "2) Проверили гипотезу, и мы не можем утверждать, что расстояние, которое проехали пользователи на тарифе ultra не превышает 3130 метров;\\\n",
    "3) Гипотеза о том, что средняя месячная выручка поездок с разной подпиской равна, не подтвердилась"
   ]
  },
  {
   "cell_type": "markdown",
   "id": "61213c5e",
   "metadata": {},
   "source": [
    "#### Шаг. Общий вывод\n"
   ]
  },
  {
   "cell_type": "markdown",
   "id": "851d0158",
   "metadata": {},
   "source": [
    "Загрузили 3 датафрейма: с пользователями, информацией о поездках, информацией о подписках.\\\n",
    "На этапе предобработки были сделаны следующие шаги:\n",
    "- В процессе предобработки данных в датафрейме 'rides' был добавлен столбец 'month', отражающий месяц поездки, и изменен тип данных столбца с датой на datetime;\n",
    "- Во всех данных не обнаружено пропусков;\n",
    "- Явные дубликаты обнаружены и удалены только в датасете с информацией о пользователях.\n",
    "- Неявные дубликаты не обнаружены.\n",
    "\n",
    "По результатам исследовательского анализа можно сказать, что услугами сервиса пользуются люди от 12 до 43 лет. Максимальное количество пользователей в возрасте 25 лет, этот же возраст является медианным. Большая часть пользователей без подписки - 835 чел.(54%). Максимальное количество в 219 поездок совершено в Пятигорске. Минимальное количество в 168 поездок совершено в Москве. За одну поездку пользователи преодолевают в среднем 3071 метров. Продолжительность поездок нормально распределена от 0 до 41 минуты. Продолжительность около 18 минут является наиболее распространенной.\n",
    "\n",
    "При сравнении разных подписок можно выделить следующее:\\\n",
    "Возрастные показатели пользователей с разным типом подписки в целом схожи - основные пользователи 25-30 лет. Больше всего поездок у клиентов без подписки в Пятигорске, а у клиентов с подпиской - в Ростове-на Дону. Дистанция поездок без подписки более разнообразна. Об этом же свидетельствует и стандартное отклонение, которое при таких поездках больше (1246м), чем при использовании подписки 'ultra'(837м). Средняя дистанция поездок без подписки - 3045м, при поездках с подпиской - 3115 м. В обоих случаях количество поездок относительно нормально распределено в зависимости от их продолжительности. Пик количества поездок приходится на 17-18 минут в обоих вариантах.\n",
    "\n",
    "Было проверено 3 гипотезы:\n",
    "1) Гипотеза о том, что средняя продолжительность поездок с подпиской 'ultra' и 'free' равна не подтвердилась;\\\n",
    "2) Мы не можем утверждать, что расстояние, которое проехали пользователи на тарифе ultra не превышает 3130 метров;\\\n",
    "3) Гипотеза о том, что средняя месячная выручка поездок с разной подпиской равна, не подтвердилась."
   ]
  },
  {
   "cell_type": "code",
   "execution_count": null,
   "id": "d6d59061",
   "metadata": {},
   "outputs": [],
   "source": []
  }
 ],
 "metadata": {
  "ExecuteTimeLog": [
   {
    "duration": 1288,
    "start_time": "2023-12-07T16:20:19.868Z"
   },
   {
    "duration": 5,
    "start_time": "2023-12-07T16:20:43.680Z"
   },
   {
    "duration": 3,
    "start_time": "2023-12-07T16:23:35.380Z"
   },
   {
    "duration": 136,
    "start_time": "2023-12-07T16:28:01.511Z"
   },
   {
    "duration": 17,
    "start_time": "2023-12-07T16:28:22.415Z"
   },
   {
    "duration": 88,
    "start_time": "2023-12-07T16:28:47.541Z"
   },
   {
    "duration": 40,
    "start_time": "2023-12-07T16:31:25.452Z"
   },
   {
    "duration": 89,
    "start_time": "2023-12-07T16:31:55.263Z"
   },
   {
    "duration": 47,
    "start_time": "2023-12-07T16:32:05.525Z"
   },
   {
    "duration": 74,
    "start_time": "2023-12-07T16:33:47.519Z"
   },
   {
    "duration": 6,
    "start_time": "2023-12-07T16:45:08.799Z"
   },
   {
    "duration": 8,
    "start_time": "2023-12-07T16:46:27.234Z"
   },
   {
    "duration": 8,
    "start_time": "2023-12-07T16:49:13.934Z"
   },
   {
    "duration": 5,
    "start_time": "2023-12-07T16:51:38.158Z"
   },
   {
    "duration": 7,
    "start_time": "2023-12-07T16:51:52.574Z"
   },
   {
    "duration": 5,
    "start_time": "2023-12-07T16:52:03.728Z"
   },
   {
    "duration": 5,
    "start_time": "2023-12-07T16:52:16.229Z"
   },
   {
    "duration": 4,
    "start_time": "2023-12-07T16:53:48.178Z"
   },
   {
    "duration": 4,
    "start_time": "2023-12-07T16:54:53.237Z"
   },
   {
    "duration": 4,
    "start_time": "2023-12-07T16:55:52.407Z"
   },
   {
    "duration": 4,
    "start_time": "2023-12-07T17:00:20.887Z"
   },
   {
    "duration": 67,
    "start_time": "2023-12-07T17:03:44.796Z"
   },
   {
    "duration": 8,
    "start_time": "2023-12-07T17:03:51.643Z"
   },
   {
    "duration": 3,
    "start_time": "2023-12-07T17:16:06.453Z"
   },
   {
    "duration": 4,
    "start_time": "2023-12-07T17:16:16.336Z"
   },
   {
    "duration": 7,
    "start_time": "2023-12-07T17:21:40.595Z"
   },
   {
    "duration": 130,
    "start_time": "2023-12-07T17:22:11.349Z"
   },
   {
    "duration": 71,
    "start_time": "2023-12-07T17:25:23.260Z"
   },
   {
    "duration": 127,
    "start_time": "2023-12-07T17:25:29.542Z"
   },
   {
    "duration": 116,
    "start_time": "2023-12-07T17:25:45.588Z"
   },
   {
    "duration": 3,
    "start_time": "2023-12-07T17:32:04.661Z"
   },
   {
    "duration": 8,
    "start_time": "2023-12-07T17:32:17.293Z"
   },
   {
    "duration": 4,
    "start_time": "2023-12-07T17:33:01.004Z"
   },
   {
    "duration": 180,
    "start_time": "2023-12-07T17:33:06.724Z"
   },
   {
    "duration": 3,
    "start_time": "2023-12-07T17:34:25.259Z"
   },
   {
    "duration": 3,
    "start_time": "2023-12-07T17:34:58.332Z"
   },
   {
    "duration": 4,
    "start_time": "2023-12-07T17:35:06.889Z"
   },
   {
    "duration": 5,
    "start_time": "2023-12-07T17:36:11.739Z"
   },
   {
    "duration": 323,
    "start_time": "2023-12-07T17:39:29.804Z"
   },
   {
    "duration": 113,
    "start_time": "2023-12-07T17:39:38.471Z"
   },
   {
    "duration": 114,
    "start_time": "2023-12-07T17:41:01.489Z"
   },
   {
    "duration": 5,
    "start_time": "2023-12-07T17:45:21.596Z"
   },
   {
    "duration": 116,
    "start_time": "2023-12-07T17:46:41.130Z"
   },
   {
    "duration": 10,
    "start_time": "2023-12-07T17:49:46.450Z"
   },
   {
    "duration": 7,
    "start_time": "2023-12-07T17:50:27.488Z"
   },
   {
    "duration": 3,
    "start_time": "2023-12-07T17:50:50.579Z"
   },
   {
    "duration": 6,
    "start_time": "2023-12-07T17:50:50.584Z"
   },
   {
    "duration": 37,
    "start_time": "2023-12-07T17:50:50.592Z"
   },
   {
    "duration": 32,
    "start_time": "2023-12-07T17:50:50.631Z"
   },
   {
    "duration": 23,
    "start_time": "2023-12-07T17:50:50.664Z"
   },
   {
    "duration": 5,
    "start_time": "2023-12-07T17:50:50.688Z"
   },
   {
    "duration": 8,
    "start_time": "2023-12-07T17:50:50.694Z"
   },
   {
    "duration": 5,
    "start_time": "2023-12-07T17:50:50.704Z"
   },
   {
    "duration": 6,
    "start_time": "2023-12-07T17:50:50.710Z"
   },
   {
    "duration": 5,
    "start_time": "2023-12-07T17:50:50.717Z"
   },
   {
    "duration": 11,
    "start_time": "2023-12-07T17:50:50.723Z"
   },
   {
    "duration": 4,
    "start_time": "2023-12-07T17:50:50.735Z"
   },
   {
    "duration": 5,
    "start_time": "2023-12-07T17:50:50.740Z"
   },
   {
    "duration": 6,
    "start_time": "2023-12-07T17:50:50.746Z"
   },
   {
    "duration": 3,
    "start_time": "2023-12-07T17:50:50.753Z"
   },
   {
    "duration": 134,
    "start_time": "2023-12-07T17:50:50.758Z"
   },
   {
    "duration": 6,
    "start_time": "2023-12-07T17:50:50.893Z"
   },
   {
    "duration": 72,
    "start_time": "2023-12-07T17:50:50.914Z"
   },
   {
    "duration": 6,
    "start_time": "2023-12-07T17:50:58.457Z"
   },
   {
    "duration": 5,
    "start_time": "2023-12-07T17:51:27.251Z"
   },
   {
    "duration": 6,
    "start_time": "2023-12-07T17:51:33.960Z"
   },
   {
    "duration": 2,
    "start_time": "2023-12-07T17:51:42.462Z"
   },
   {
    "duration": 11,
    "start_time": "2023-12-07T17:51:42.466Z"
   },
   {
    "duration": 51,
    "start_time": "2023-12-07T17:51:42.478Z"
   },
   {
    "duration": 34,
    "start_time": "2023-12-07T17:51:42.531Z"
   },
   {
    "duration": 22,
    "start_time": "2023-12-07T17:51:42.567Z"
   },
   {
    "duration": 5,
    "start_time": "2023-12-07T17:51:42.590Z"
   },
   {
    "duration": 17,
    "start_time": "2023-12-07T17:51:42.596Z"
   },
   {
    "duration": 4,
    "start_time": "2023-12-07T17:51:42.614Z"
   },
   {
    "duration": 8,
    "start_time": "2023-12-07T17:51:42.619Z"
   },
   {
    "duration": 4,
    "start_time": "2023-12-07T17:51:42.628Z"
   },
   {
    "duration": 5,
    "start_time": "2023-12-07T17:51:42.633Z"
   },
   {
    "duration": 8,
    "start_time": "2023-12-07T17:51:42.639Z"
   },
   {
    "duration": 7,
    "start_time": "2023-12-07T17:51:42.648Z"
   },
   {
    "duration": 0,
    "start_time": "2023-12-07T17:51:42.656Z"
   },
   {
    "duration": 0,
    "start_time": "2023-12-07T17:51:42.657Z"
   },
   {
    "duration": 0,
    "start_time": "2023-12-07T17:51:42.657Z"
   },
   {
    "duration": 0,
    "start_time": "2023-12-07T17:51:42.658Z"
   },
   {
    "duration": 0,
    "start_time": "2023-12-07T17:51:42.659Z"
   },
   {
    "duration": 0,
    "start_time": "2023-12-07T17:51:42.660Z"
   },
   {
    "duration": 8,
    "start_time": "2023-12-07T17:52:37.936Z"
   },
   {
    "duration": 3,
    "start_time": "2023-12-07T17:52:45.360Z"
   },
   {
    "duration": 16,
    "start_time": "2023-12-07T17:52:45.364Z"
   },
   {
    "duration": 48,
    "start_time": "2023-12-07T17:52:45.381Z"
   },
   {
    "duration": 33,
    "start_time": "2023-12-07T17:52:45.430Z"
   },
   {
    "duration": 23,
    "start_time": "2023-12-07T17:52:45.465Z"
   },
   {
    "duration": 5,
    "start_time": "2023-12-07T17:52:45.489Z"
   },
   {
    "duration": 17,
    "start_time": "2023-12-07T17:52:45.495Z"
   },
   {
    "duration": 14,
    "start_time": "2023-12-07T17:52:45.514Z"
   },
   {
    "duration": 36,
    "start_time": "2023-12-07T17:52:45.530Z"
   },
   {
    "duration": 22,
    "start_time": "2023-12-07T17:52:45.567Z"
   },
   {
    "duration": 34,
    "start_time": "2023-12-07T17:52:45.591Z"
   },
   {
    "duration": 7,
    "start_time": "2023-12-07T17:52:50.399Z"
   },
   {
    "duration": 4,
    "start_time": "2023-12-07T17:52:52.924Z"
   },
   {
    "duration": 6,
    "start_time": "2023-12-07T17:52:54.255Z"
   },
   {
    "duration": 4,
    "start_time": "2023-12-07T17:52:59.518Z"
   },
   {
    "duration": 138,
    "start_time": "2023-12-07T17:53:00.265Z"
   },
   {
    "duration": 5,
    "start_time": "2023-12-07T17:53:04.238Z"
   },
   {
    "duration": 73,
    "start_time": "2023-12-07T17:53:06.056Z"
   },
   {
    "duration": 7,
    "start_time": "2023-12-07T17:53:10.051Z"
   },
   {
    "duration": 147,
    "start_time": "2023-12-07T17:55:53.400Z"
   },
   {
    "duration": 158,
    "start_time": "2023-12-07T17:56:40.506Z"
   },
   {
    "duration": 159,
    "start_time": "2023-12-07T17:57:10.931Z"
   },
   {
    "duration": 151,
    "start_time": "2023-12-07T17:57:21.494Z"
   },
   {
    "duration": 150,
    "start_time": "2023-12-07T17:57:29.836Z"
   },
   {
    "duration": 156,
    "start_time": "2023-12-07T17:57:44.563Z"
   },
   {
    "duration": 50,
    "start_time": "2023-12-08T11:34:49.100Z"
   },
   {
    "duration": 1491,
    "start_time": "2023-12-08T11:34:54.278Z"
   },
   {
    "duration": 4,
    "start_time": "2023-12-08T11:34:55.772Z"
   },
   {
    "duration": 108,
    "start_time": "2023-12-08T11:34:55.778Z"
   },
   {
    "duration": 90,
    "start_time": "2023-12-08T11:34:55.887Z"
   },
   {
    "duration": 66,
    "start_time": "2023-12-08T11:34:55.980Z"
   },
   {
    "duration": 8,
    "start_time": "2023-12-08T11:34:56.047Z"
   },
   {
    "duration": 17,
    "start_time": "2023-12-08T11:34:56.056Z"
   },
   {
    "duration": 9,
    "start_time": "2023-12-08T11:34:56.075Z"
   },
   {
    "duration": 10,
    "start_time": "2023-12-08T11:34:56.085Z"
   },
   {
    "duration": 7,
    "start_time": "2023-12-08T11:34:56.097Z"
   },
   {
    "duration": 20,
    "start_time": "2023-12-08T11:34:56.106Z"
   },
   {
    "duration": 26,
    "start_time": "2023-12-08T11:34:56.128Z"
   },
   {
    "duration": 25,
    "start_time": "2023-12-08T11:34:56.156Z"
   },
   {
    "duration": 16,
    "start_time": "2023-12-08T11:34:56.184Z"
   },
   {
    "duration": 15,
    "start_time": "2023-12-08T11:34:56.201Z"
   },
   {
    "duration": 171,
    "start_time": "2023-12-08T11:34:56.217Z"
   },
   {
    "duration": 6,
    "start_time": "2023-12-08T11:34:56.390Z"
   },
   {
    "duration": 115,
    "start_time": "2023-12-08T11:34:56.398Z"
   },
   {
    "duration": 14,
    "start_time": "2023-12-08T11:34:56.515Z"
   },
   {
    "duration": 223,
    "start_time": "2023-12-08T11:34:56.531Z"
   },
   {
    "duration": 9,
    "start_time": "2023-12-08T11:35:11.008Z"
   },
   {
    "duration": 142,
    "start_time": "2023-12-08T11:36:45.534Z"
   },
   {
    "duration": 119,
    "start_time": "2023-12-08T11:37:19.172Z"
   },
   {
    "duration": 133,
    "start_time": "2023-12-08T11:37:51.655Z"
   },
   {
    "duration": 112,
    "start_time": "2023-12-08T11:38:03.726Z"
   },
   {
    "duration": 291,
    "start_time": "2023-12-08T11:40:01.782Z"
   },
   {
    "duration": 204,
    "start_time": "2023-12-08T11:42:37.994Z"
   },
   {
    "duration": 204,
    "start_time": "2023-12-08T11:43:03.969Z"
   },
   {
    "duration": 192,
    "start_time": "2023-12-08T11:43:31.596Z"
   },
   {
    "duration": 204,
    "start_time": "2023-12-08T11:44:13.307Z"
   },
   {
    "duration": 229,
    "start_time": "2023-12-08T11:44:35.885Z"
   },
   {
    "duration": 9,
    "start_time": "2023-12-08T11:49:56.662Z"
   },
   {
    "duration": 134,
    "start_time": "2023-12-08T11:50:41.431Z"
   },
   {
    "duration": 194,
    "start_time": "2023-12-08T11:52:42.094Z"
   },
   {
    "duration": 35,
    "start_time": "2023-12-08T11:56:53.430Z"
   },
   {
    "duration": 12,
    "start_time": "2023-12-08T12:01:23.724Z"
   },
   {
    "duration": 16,
    "start_time": "2023-12-08T12:02:33.002Z"
   },
   {
    "duration": 17,
    "start_time": "2023-12-08T12:03:26.539Z"
   },
   {
    "duration": 307,
    "start_time": "2023-12-08T12:15:34.341Z"
   },
   {
    "duration": 5,
    "start_time": "2023-12-08T12:20:11.717Z"
   },
   {
    "duration": 9,
    "start_time": "2023-12-08T12:22:01.396Z"
   },
   {
    "duration": 601,
    "start_time": "2023-12-08T12:23:17.867Z"
   },
   {
    "duration": 412,
    "start_time": "2023-12-08T12:24:12.248Z"
   },
   {
    "duration": 305,
    "start_time": "2023-12-08T12:27:30.074Z"
   },
   {
    "duration": 6,
    "start_time": "2023-12-08T12:27:48.774Z"
   },
   {
    "duration": 433,
    "start_time": "2023-12-08T12:27:55.023Z"
   },
   {
    "duration": 6,
    "start_time": "2023-12-08T12:28:02.967Z"
   },
   {
    "duration": 412,
    "start_time": "2023-12-08T12:28:07.666Z"
   },
   {
    "duration": 550,
    "start_time": "2023-12-08T12:30:33.024Z"
   },
   {
    "duration": 581,
    "start_time": "2023-12-08T12:30:50.518Z"
   },
   {
    "duration": 485,
    "start_time": "2023-12-08T12:33:42.096Z"
   },
   {
    "duration": 314,
    "start_time": "2023-12-08T12:34:49.464Z"
   },
   {
    "duration": 1367,
    "start_time": "2023-12-08T16:49:31.678Z"
   },
   {
    "duration": 4,
    "start_time": "2023-12-08T16:49:33.047Z"
   },
   {
    "duration": 105,
    "start_time": "2023-12-08T16:49:33.053Z"
   },
   {
    "duration": 88,
    "start_time": "2023-12-08T16:49:33.160Z"
   },
   {
    "duration": 64,
    "start_time": "2023-12-08T16:49:33.250Z"
   },
   {
    "duration": 7,
    "start_time": "2023-12-08T16:49:33.316Z"
   },
   {
    "duration": 14,
    "start_time": "2023-12-08T16:49:33.324Z"
   },
   {
    "duration": 6,
    "start_time": "2023-12-08T16:49:33.340Z"
   },
   {
    "duration": 15,
    "start_time": "2023-12-08T16:49:33.347Z"
   },
   {
    "duration": 10,
    "start_time": "2023-12-08T16:49:33.363Z"
   },
   {
    "duration": 5,
    "start_time": "2023-12-08T16:49:33.375Z"
   },
   {
    "duration": 8,
    "start_time": "2023-12-08T16:49:33.382Z"
   },
   {
    "duration": 7,
    "start_time": "2023-12-08T16:49:33.392Z"
   },
   {
    "duration": 11,
    "start_time": "2023-12-08T16:49:33.402Z"
   },
   {
    "duration": 6,
    "start_time": "2023-12-08T16:49:33.414Z"
   },
   {
    "duration": 176,
    "start_time": "2023-12-08T16:49:33.421Z"
   },
   {
    "duration": 6,
    "start_time": "2023-12-08T16:49:33.598Z"
   },
   {
    "duration": 101,
    "start_time": "2023-12-08T16:49:33.605Z"
   },
   {
    "duration": 9,
    "start_time": "2023-12-08T16:49:33.708Z"
   },
   {
    "duration": 113,
    "start_time": "2023-12-08T16:49:33.719Z"
   },
   {
    "duration": 187,
    "start_time": "2023-12-08T16:49:33.834Z"
   },
   {
    "duration": 7,
    "start_time": "2023-12-08T16:49:34.023Z"
   },
   {
    "duration": 134,
    "start_time": "2023-12-08T16:49:34.031Z"
   },
   {
    "duration": 203,
    "start_time": "2023-12-08T16:49:34.167Z"
   },
   {
    "duration": 7,
    "start_time": "2023-12-08T16:49:34.371Z"
   },
   {
    "duration": 128,
    "start_time": "2023-12-08T16:49:34.380Z"
   },
   {
    "duration": 255,
    "start_time": "2023-12-08T16:49:34.509Z"
   },
   {
    "duration": 21,
    "start_time": "2023-12-08T16:49:34.766Z"
   },
   {
    "duration": 14,
    "start_time": "2023-12-08T16:49:34.788Z"
   },
   {
    "duration": 13,
    "start_time": "2023-12-08T16:49:34.804Z"
   },
   {
    "duration": 4,
    "start_time": "2023-12-08T16:49:34.819Z"
   },
   {
    "duration": 29,
    "start_time": "2023-12-08T16:49:34.824Z"
   },
   {
    "duration": 495,
    "start_time": "2023-12-08T16:49:34.855Z"
   },
   {
    "duration": 285,
    "start_time": "2023-12-08T16:49:35.352Z"
   },
   {
    "duration": 554,
    "start_time": "2023-12-08T16:49:35.639Z"
   },
   {
    "duration": 369,
    "start_time": "2023-12-08T16:49:36.194Z"
   },
   {
    "duration": 289,
    "start_time": "2023-12-08T16:49:36.564Z"
   },
   {
    "duration": 849,
    "start_time": "2023-12-08T16:56:02.099Z"
   },
   {
    "duration": 908,
    "start_time": "2023-12-08T16:58:00.970Z"
   },
   {
    "duration": 923,
    "start_time": "2023-12-08T17:00:45.705Z"
   },
   {
    "duration": 852,
    "start_time": "2023-12-08T17:00:59.230Z"
   },
   {
    "duration": 814,
    "start_time": "2023-12-08T17:01:09.696Z"
   },
   {
    "duration": 4,
    "start_time": "2023-12-08T17:07:54.543Z"
   },
   {
    "duration": 852,
    "start_time": "2023-12-08T17:08:06.211Z"
   },
   {
    "duration": 13,
    "start_time": "2023-12-08T17:08:18.373Z"
   },
   {
    "duration": 1513,
    "start_time": "2023-12-08T17:09:37.547Z"
   },
   {
    "duration": 147,
    "start_time": "2023-12-08T17:14:21.978Z"
   },
   {
    "duration": 6,
    "start_time": "2023-12-08T17:38:39.687Z"
   },
   {
    "duration": 5,
    "start_time": "2023-12-08T17:48:54.823Z"
   },
   {
    "duration": 78,
    "start_time": "2023-12-08T17:50:32.653Z"
   },
   {
    "duration": 1550,
    "start_time": "2023-12-08T17:55:03.407Z"
   },
   {
    "duration": 1172,
    "start_time": "2023-12-08T17:57:27.971Z"
   },
   {
    "duration": 142,
    "start_time": "2023-12-08T17:58:01.836Z"
   },
   {
    "duration": 8,
    "start_time": "2023-12-08T17:58:42.739Z"
   },
   {
    "duration": 5,
    "start_time": "2023-12-08T18:02:54.938Z"
   },
   {
    "duration": 362,
    "start_time": "2023-12-08T18:03:13.318Z"
   },
   {
    "duration": 4,
    "start_time": "2023-12-08T18:04:50.950Z"
   },
   {
    "duration": 288,
    "start_time": "2023-12-08T18:05:03.419Z"
   },
   {
    "duration": 43,
    "start_time": "2023-12-10T03:53:45.063Z"
   },
   {
    "duration": 1298,
    "start_time": "2023-12-10T03:53:49.114Z"
   },
   {
    "duration": 4,
    "start_time": "2023-12-10T03:53:50.414Z"
   },
   {
    "duration": 90,
    "start_time": "2023-12-10T03:53:50.419Z"
   },
   {
    "duration": 77,
    "start_time": "2023-12-10T03:53:50.510Z"
   },
   {
    "duration": 63,
    "start_time": "2023-12-10T03:53:50.590Z"
   },
   {
    "duration": 7,
    "start_time": "2023-12-10T03:53:50.654Z"
   },
   {
    "duration": 13,
    "start_time": "2023-12-10T03:53:50.663Z"
   },
   {
    "duration": 17,
    "start_time": "2023-12-10T03:53:50.677Z"
   },
   {
    "duration": 19,
    "start_time": "2023-12-10T03:53:50.695Z"
   },
   {
    "duration": 6,
    "start_time": "2023-12-10T03:53:50.716Z"
   },
   {
    "duration": 6,
    "start_time": "2023-12-10T03:53:50.723Z"
   },
   {
    "duration": 11,
    "start_time": "2023-12-10T03:53:50.731Z"
   },
   {
    "duration": 3,
    "start_time": "2023-12-10T03:53:50.743Z"
   },
   {
    "duration": 7,
    "start_time": "2023-12-10T03:53:50.748Z"
   },
   {
    "duration": 29,
    "start_time": "2023-12-10T03:53:50.756Z"
   },
   {
    "duration": 132,
    "start_time": "2023-12-10T03:53:50.787Z"
   },
   {
    "duration": 5,
    "start_time": "2023-12-10T03:53:50.920Z"
   },
   {
    "duration": 107,
    "start_time": "2023-12-10T03:53:50.927Z"
   },
   {
    "duration": 7,
    "start_time": "2023-12-10T03:53:51.035Z"
   },
   {
    "duration": 95,
    "start_time": "2023-12-10T03:53:51.043Z"
   },
   {
    "duration": 161,
    "start_time": "2023-12-10T03:53:51.139Z"
   },
   {
    "duration": 14,
    "start_time": "2023-12-10T03:53:51.302Z"
   },
   {
    "duration": 110,
    "start_time": "2023-12-10T03:53:51.317Z"
   },
   {
    "duration": 156,
    "start_time": "2023-12-10T03:53:51.429Z"
   },
   {
    "duration": 7,
    "start_time": "2023-12-10T03:53:51.586Z"
   },
   {
    "duration": 127,
    "start_time": "2023-12-10T03:53:51.594Z"
   },
   {
    "duration": 202,
    "start_time": "2023-12-10T03:53:51.722Z"
   },
   {
    "duration": 19,
    "start_time": "2023-12-10T03:53:51.925Z"
   },
   {
    "duration": 14,
    "start_time": "2023-12-10T03:53:51.946Z"
   },
   {
    "duration": 12,
    "start_time": "2023-12-10T03:53:51.961Z"
   },
   {
    "duration": 3,
    "start_time": "2023-12-10T03:53:51.975Z"
   },
   {
    "duration": 4,
    "start_time": "2023-12-10T03:53:51.980Z"
   },
   {
    "duration": 354,
    "start_time": "2023-12-10T03:54:01.892Z"
   },
   {
    "duration": 231,
    "start_time": "2023-12-10T03:54:34.338Z"
   },
   {
    "duration": 225,
    "start_time": "2023-12-10T03:55:09.882Z"
   },
   {
    "duration": 19,
    "start_time": "2023-12-10T03:56:33.261Z"
   },
   {
    "duration": 5,
    "start_time": "2023-12-10T03:56:55.374Z"
   },
   {
    "duration": 5,
    "start_time": "2023-12-10T03:57:20.910Z"
   },
   {
    "duration": 6,
    "start_time": "2023-12-10T04:01:27.713Z"
   },
   {
    "duration": 6,
    "start_time": "2023-12-10T04:01:59.956Z"
   },
   {
    "duration": 4,
    "start_time": "2023-12-10T04:19:45.163Z"
   },
   {
    "duration": 6,
    "start_time": "2023-12-10T04:20:00.154Z"
   },
   {
    "duration": 6,
    "start_time": "2023-12-10T04:20:13.250Z"
   },
   {
    "duration": 234,
    "start_time": "2023-12-10T04:22:18.729Z"
   },
   {
    "duration": 5,
    "start_time": "2023-12-10T04:22:54.925Z"
   },
   {
    "duration": 4,
    "start_time": "2023-12-10T04:23:26.055Z"
   },
   {
    "duration": 68,
    "start_time": "2023-12-10T04:28:51.714Z"
   },
   {
    "duration": 342,
    "start_time": "2023-12-10T04:29:03.807Z"
   },
   {
    "duration": 8,
    "start_time": "2023-12-10T04:32:41.864Z"
   },
   {
    "duration": 2,
    "start_time": "2023-12-10T04:32:46.219Z"
   },
   {
    "duration": 4,
    "start_time": "2023-12-10T04:32:46.222Z"
   },
   {
    "duration": 43,
    "start_time": "2023-12-10T04:32:46.228Z"
   },
   {
    "duration": 34,
    "start_time": "2023-12-10T04:32:46.273Z"
   },
   {
    "duration": 23,
    "start_time": "2023-12-10T04:32:46.308Z"
   },
   {
    "duration": 5,
    "start_time": "2023-12-10T04:32:46.332Z"
   },
   {
    "duration": 12,
    "start_time": "2023-12-10T04:32:46.338Z"
   },
   {
    "duration": 4,
    "start_time": "2023-12-10T04:32:46.351Z"
   },
   {
    "duration": 5,
    "start_time": "2023-12-10T04:32:46.357Z"
   },
   {
    "duration": 6,
    "start_time": "2023-12-10T04:32:46.363Z"
   },
   {
    "duration": 3,
    "start_time": "2023-12-10T04:32:46.370Z"
   },
   {
    "duration": 6,
    "start_time": "2023-12-10T04:32:46.374Z"
   },
   {
    "duration": 11,
    "start_time": "2023-12-10T04:32:46.381Z"
   },
   {
    "duration": 26,
    "start_time": "2023-12-10T04:32:46.393Z"
   },
   {
    "duration": 5,
    "start_time": "2023-12-10T04:32:46.420Z"
   },
   {
    "duration": 127,
    "start_time": "2023-12-10T04:32:46.426Z"
   },
   {
    "duration": 4,
    "start_time": "2023-12-10T04:32:46.554Z"
   },
   {
    "duration": 81,
    "start_time": "2023-12-10T04:32:46.560Z"
   },
   {
    "duration": 7,
    "start_time": "2023-12-10T04:32:46.643Z"
   },
   {
    "duration": 97,
    "start_time": "2023-12-10T04:32:46.651Z"
   },
   {
    "duration": 161,
    "start_time": "2023-12-10T04:32:46.749Z"
   },
   {
    "duration": 7,
    "start_time": "2023-12-10T04:32:46.914Z"
   },
   {
    "duration": 112,
    "start_time": "2023-12-10T04:32:46.922Z"
   },
   {
    "duration": 158,
    "start_time": "2023-12-10T04:32:47.036Z"
   },
   {
    "duration": 6,
    "start_time": "2023-12-10T04:32:47.195Z"
   },
   {
    "duration": 116,
    "start_time": "2023-12-10T04:32:47.203Z"
   },
   {
    "duration": 157,
    "start_time": "2023-12-10T04:32:47.320Z"
   },
   {
    "duration": 18,
    "start_time": "2023-12-10T04:32:47.478Z"
   },
   {
    "duration": 22,
    "start_time": "2023-12-10T04:32:47.497Z"
   },
   {
    "duration": 11,
    "start_time": "2023-12-10T04:32:47.520Z"
   },
   {
    "duration": 3,
    "start_time": "2023-12-10T04:32:47.532Z"
   },
   {
    "duration": 54,
    "start_time": "2023-12-10T04:32:47.537Z"
   },
   {
    "duration": 314,
    "start_time": "2023-12-10T04:32:47.592Z"
   },
   {
    "duration": 232,
    "start_time": "2023-12-10T04:32:47.908Z"
   },
   {
    "duration": 5,
    "start_time": "2023-12-10T04:32:48.141Z"
   },
   {
    "duration": 7,
    "start_time": "2023-12-10T04:32:48.147Z"
   },
   {
    "duration": 394,
    "start_time": "2023-12-10T04:32:48.155Z"
   },
   {
    "duration": 7,
    "start_time": "2023-12-10T04:32:48.550Z"
   },
   {
    "duration": 5,
    "start_time": "2023-12-10T04:32:48.558Z"
   },
   {
    "duration": 372,
    "start_time": "2023-12-10T04:32:48.564Z"
   },
   {
    "duration": 7,
    "start_time": "2023-12-10T04:32:48.937Z"
   },
   {
    "duration": 12,
    "start_time": "2023-12-10T04:32:48.945Z"
   },
   {
    "duration": 856,
    "start_time": "2023-12-10T04:32:48.959Z"
   },
   {
    "duration": 10,
    "start_time": "2023-12-10T04:32:49.817Z"
   },
   {
    "duration": 130,
    "start_time": "2023-12-10T04:32:56.894Z"
   },
   {
    "duration": 4,
    "start_time": "2023-12-10T04:39:32.400Z"
   },
   {
    "duration": 4,
    "start_time": "2023-12-10T04:43:59.778Z"
   },
   {
    "duration": 8,
    "start_time": "2023-12-10T04:45:59.943Z"
   },
   {
    "duration": 8,
    "start_time": "2023-12-10T04:46:53.097Z"
   },
   {
    "duration": 2,
    "start_time": "2023-12-10T04:47:39.836Z"
   },
   {
    "duration": 4,
    "start_time": "2023-12-10T04:52:52.902Z"
   },
   {
    "duration": 1472,
    "start_time": "2023-12-10T14:11:03.538Z"
   },
   {
    "duration": 4,
    "start_time": "2023-12-10T14:11:05.013Z"
   },
   {
    "duration": 119,
    "start_time": "2023-12-10T14:11:05.019Z"
   },
   {
    "duration": 167,
    "start_time": "2023-12-10T14:11:05.140Z"
   },
   {
    "duration": 66,
    "start_time": "2023-12-10T14:11:05.309Z"
   },
   {
    "duration": 7,
    "start_time": "2023-12-10T14:11:05.377Z"
   },
   {
    "duration": 20,
    "start_time": "2023-12-10T14:11:05.386Z"
   },
   {
    "duration": 26,
    "start_time": "2023-12-10T14:11:05.407Z"
   },
   {
    "duration": 26,
    "start_time": "2023-12-10T14:11:05.435Z"
   },
   {
    "duration": 7,
    "start_time": "2023-12-10T14:11:05.462Z"
   },
   {
    "duration": 34,
    "start_time": "2023-12-10T14:11:05.471Z"
   },
   {
    "duration": 21,
    "start_time": "2023-12-10T14:11:05.507Z"
   },
   {
    "duration": 6,
    "start_time": "2023-12-10T14:11:05.530Z"
   },
   {
    "duration": 12,
    "start_time": "2023-12-10T14:11:05.540Z"
   },
   {
    "duration": 6,
    "start_time": "2023-12-10T14:11:05.553Z"
   },
   {
    "duration": 164,
    "start_time": "2023-12-10T14:11:05.561Z"
   },
   {
    "duration": 7,
    "start_time": "2023-12-10T14:11:05.727Z"
   },
   {
    "duration": 115,
    "start_time": "2023-12-10T14:11:05.736Z"
   },
   {
    "duration": 8,
    "start_time": "2023-12-10T14:11:05.853Z"
   },
   {
    "duration": 131,
    "start_time": "2023-12-10T14:11:05.862Z"
   },
   {
    "duration": 198,
    "start_time": "2023-12-10T14:11:05.995Z"
   },
   {
    "duration": 8,
    "start_time": "2023-12-10T14:11:06.195Z"
   },
   {
    "duration": 162,
    "start_time": "2023-12-10T14:11:06.205Z"
   },
   {
    "duration": 212,
    "start_time": "2023-12-10T14:11:06.369Z"
   },
   {
    "duration": 8,
    "start_time": "2023-12-10T14:11:06.583Z"
   },
   {
    "duration": 147,
    "start_time": "2023-12-10T14:11:06.593Z"
   },
   {
    "duration": 285,
    "start_time": "2023-12-10T14:11:06.742Z"
   },
   {
    "duration": 23,
    "start_time": "2023-12-10T14:11:07.029Z"
   },
   {
    "duration": 30,
    "start_time": "2023-12-10T14:11:07.054Z"
   },
   {
    "duration": 16,
    "start_time": "2023-12-10T14:11:07.085Z"
   },
   {
    "duration": 9,
    "start_time": "2023-12-10T14:11:07.102Z"
   },
   {
    "duration": 11,
    "start_time": "2023-12-10T14:11:07.112Z"
   },
   {
    "duration": 533,
    "start_time": "2023-12-10T14:11:07.124Z"
   },
   {
    "duration": 314,
    "start_time": "2023-12-10T14:11:07.659Z"
   },
   {
    "duration": 8,
    "start_time": "2023-12-10T14:11:07.975Z"
   },
   {
    "duration": 13,
    "start_time": "2023-12-10T14:11:07.985Z"
   },
   {
    "duration": 555,
    "start_time": "2023-12-10T14:11:08.000Z"
   },
   {
    "duration": 17,
    "start_time": "2023-12-10T14:11:08.558Z"
   },
   {
    "duration": 18,
    "start_time": "2023-12-10T14:11:08.577Z"
   },
   {
    "duration": 487,
    "start_time": "2023-12-10T14:11:08.597Z"
   },
   {
    "duration": 9,
    "start_time": "2023-12-10T14:11:09.089Z"
   },
   {
    "duration": 9,
    "start_time": "2023-12-10T14:11:09.099Z"
   },
   {
    "duration": 912,
    "start_time": "2023-12-10T14:11:09.110Z"
   },
   {
    "duration": 16,
    "start_time": "2023-12-10T14:11:10.023Z"
   },
   {
    "duration": 159,
    "start_time": "2023-12-10T14:11:10.041Z"
   },
   {
    "duration": 5,
    "start_time": "2023-12-10T14:11:10.202Z"
   },
   {
    "duration": 16,
    "start_time": "2023-12-10T14:11:10.209Z"
   },
   {
    "duration": 24,
    "start_time": "2023-12-10T14:11:10.227Z"
   },
   {
    "duration": 63,
    "start_time": "2023-12-10T14:18:23.103Z"
   },
   {
    "duration": 5,
    "start_time": "2023-12-10T14:18:42.185Z"
   },
   {
    "duration": 121,
    "start_time": "2023-12-10T14:21:55.386Z"
   },
   {
    "duration": 219,
    "start_time": "2023-12-10T14:22:26.531Z"
   },
   {
    "duration": 6,
    "start_time": "2023-12-10T14:22:54.303Z"
   },
   {
    "duration": 8,
    "start_time": "2023-12-10T14:23:39.322Z"
   },
   {
    "duration": 45,
    "start_time": "2023-12-10T15:16:52.086Z"
   },
   {
    "duration": 1387,
    "start_time": "2023-12-10T15:16:58.506Z"
   },
   {
    "duration": 3,
    "start_time": "2023-12-10T15:16:59.895Z"
   },
   {
    "duration": 96,
    "start_time": "2023-12-10T15:16:59.900Z"
   },
   {
    "duration": 80,
    "start_time": "2023-12-10T15:16:59.998Z"
   },
   {
    "duration": 63,
    "start_time": "2023-12-10T15:17:00.080Z"
   },
   {
    "duration": 6,
    "start_time": "2023-12-10T15:17:00.145Z"
   },
   {
    "duration": 62,
    "start_time": "2023-12-10T15:17:14.222Z"
   },
   {
    "duration": 7,
    "start_time": "2023-12-10T15:17:20.915Z"
   },
   {
    "duration": 216,
    "start_time": "2023-12-10T15:26:29.484Z"
   },
   {
    "duration": 3,
    "start_time": "2023-12-10T15:27:17.759Z"
   },
   {
    "duration": 185,
    "start_time": "2023-12-10T15:27:28.592Z"
   },
   {
    "duration": 4,
    "start_time": "2023-12-10T15:27:37.257Z"
   },
   {
    "duration": 5,
    "start_time": "2023-12-10T15:27:43.292Z"
   },
   {
    "duration": 5,
    "start_time": "2023-12-10T15:28:26.317Z"
   },
   {
    "duration": 29,
    "start_time": "2023-12-10T15:33:10.048Z"
   },
   {
    "duration": 16,
    "start_time": "2023-12-10T15:33:30.187Z"
   },
   {
    "duration": 4,
    "start_time": "2023-12-10T15:34:39.582Z"
   },
   {
    "duration": 5,
    "start_time": "2023-12-10T15:34:49.778Z"
   },
   {
    "duration": 8,
    "start_time": "2023-12-10T15:36:05.090Z"
   },
   {
    "duration": 13,
    "start_time": "2023-12-10T15:36:23.838Z"
   },
   {
    "duration": 6,
    "start_time": "2023-12-10T15:38:21.638Z"
   },
   {
    "duration": 3,
    "start_time": "2023-12-10T15:38:40.939Z"
   },
   {
    "duration": 199,
    "start_time": "2023-12-10T15:38:47.792Z"
   },
   {
    "duration": 3,
    "start_time": "2023-12-10T15:39:20.564Z"
   },
   {
    "duration": 157,
    "start_time": "2023-12-10T15:39:25.787Z"
   },
   {
    "duration": 160,
    "start_time": "2023-12-10T15:39:44.367Z"
   },
   {
    "duration": 165,
    "start_time": "2023-12-10T15:40:05.652Z"
   },
   {
    "duration": 234,
    "start_time": "2023-12-10T15:49:45.111Z"
   },
   {
    "duration": 169,
    "start_time": "2023-12-10T15:52:39.712Z"
   },
   {
    "duration": 168,
    "start_time": "2023-12-10T15:52:48.879Z"
   },
   {
    "duration": 208,
    "start_time": "2023-12-10T15:56:29.546Z"
   },
   {
    "duration": 156,
    "start_time": "2023-12-10T15:56:58.549Z"
   },
   {
    "duration": 148,
    "start_time": "2023-12-10T15:57:17.412Z"
   },
   {
    "duration": 78,
    "start_time": "2023-12-10T15:58:20.135Z"
   },
   {
    "duration": 151,
    "start_time": "2023-12-10T15:58:26.542Z"
   },
   {
    "duration": 168,
    "start_time": "2023-12-10T15:58:47.661Z"
   },
   {
    "duration": 68,
    "start_time": "2023-12-10T15:59:45.836Z"
   },
   {
    "duration": 164,
    "start_time": "2023-12-10T16:02:35.139Z"
   },
   {
    "duration": 167,
    "start_time": "2023-12-10T16:02:45.733Z"
   },
   {
    "duration": 10,
    "start_time": "2023-12-10T16:04:59.301Z"
   },
   {
    "duration": 3,
    "start_time": "2023-12-10T16:05:11.596Z"
   },
   {
    "duration": 27,
    "start_time": "2023-12-10T16:05:11.601Z"
   },
   {
    "duration": 68,
    "start_time": "2023-12-10T16:05:11.630Z"
   },
   {
    "duration": 41,
    "start_time": "2023-12-10T16:05:11.699Z"
   },
   {
    "duration": 24,
    "start_time": "2023-12-10T16:05:11.742Z"
   },
   {
    "duration": 20,
    "start_time": "2023-12-10T16:05:11.768Z"
   },
   {
    "duration": 10,
    "start_time": "2023-12-10T16:05:11.789Z"
   },
   {
    "duration": 28,
    "start_time": "2023-12-10T16:05:11.800Z"
   },
   {
    "duration": 29,
    "start_time": "2023-12-10T16:05:11.830Z"
   },
   {
    "duration": 35,
    "start_time": "2023-12-10T16:05:11.861Z"
   },
   {
    "duration": 22,
    "start_time": "2023-12-10T16:05:11.899Z"
   },
   {
    "duration": 20,
    "start_time": "2023-12-10T16:05:11.923Z"
   },
   {
    "duration": 29,
    "start_time": "2023-12-10T16:05:11.945Z"
   },
   {
    "duration": 29,
    "start_time": "2023-12-10T16:05:11.976Z"
   },
   {
    "duration": 11,
    "start_time": "2023-12-10T16:05:12.006Z"
   },
   {
    "duration": 5,
    "start_time": "2023-12-10T16:05:12.019Z"
   },
   {
    "duration": 164,
    "start_time": "2023-12-10T16:05:12.026Z"
   },
   {
    "duration": 8,
    "start_time": "2023-12-10T16:05:12.191Z"
   },
   {
    "duration": 218,
    "start_time": "2023-12-10T16:05:12.200Z"
   },
   {
    "duration": 8,
    "start_time": "2023-12-10T16:05:12.420Z"
   },
   {
    "duration": 116,
    "start_time": "2023-12-10T16:05:12.430Z"
   },
   {
    "duration": 193,
    "start_time": "2023-12-10T16:05:12.548Z"
   },
   {
    "duration": 9,
    "start_time": "2023-12-10T16:05:12.743Z"
   },
   {
    "duration": 140,
    "start_time": "2023-12-10T16:05:12.754Z"
   },
   {
    "duration": 190,
    "start_time": "2023-12-10T16:05:12.895Z"
   },
   {
    "duration": 9,
    "start_time": "2023-12-10T16:05:13.087Z"
   },
   {
    "duration": 136,
    "start_time": "2023-12-10T16:05:13.098Z"
   },
   {
    "duration": 193,
    "start_time": "2023-12-10T16:05:13.235Z"
   },
   {
    "duration": 22,
    "start_time": "2023-12-10T16:05:13.432Z"
   },
   {
    "duration": 6,
    "start_time": "2023-12-10T16:05:21.896Z"
   },
   {
    "duration": 6,
    "start_time": "2023-12-10T16:06:23.231Z"
   },
   {
    "duration": 6,
    "start_time": "2023-12-10T16:06:47.329Z"
   },
   {
    "duration": 1213,
    "start_time": "2023-12-10T16:08:39.456Z"
   },
   {
    "duration": 4,
    "start_time": "2023-12-10T16:08:40.671Z"
   },
   {
    "duration": 69,
    "start_time": "2023-12-10T16:08:40.676Z"
   },
   {
    "duration": 39,
    "start_time": "2023-12-10T16:08:40.746Z"
   },
   {
    "duration": 25,
    "start_time": "2023-12-10T16:08:40.787Z"
   },
   {
    "duration": 7,
    "start_time": "2023-12-10T16:08:40.813Z"
   },
   {
    "duration": 18,
    "start_time": "2023-12-10T16:08:40.821Z"
   },
   {
    "duration": 10,
    "start_time": "2023-12-10T16:08:40.841Z"
   },
   {
    "duration": 6,
    "start_time": "2023-12-10T16:08:40.852Z"
   },
   {
    "duration": 7,
    "start_time": "2023-12-10T16:08:40.859Z"
   },
   {
    "duration": 23,
    "start_time": "2023-12-10T16:08:40.868Z"
   },
   {
    "duration": 10,
    "start_time": "2023-12-10T16:08:40.892Z"
   },
   {
    "duration": 9,
    "start_time": "2023-12-10T16:08:40.904Z"
   },
   {
    "duration": 3,
    "start_time": "2023-12-10T16:08:40.917Z"
   },
   {
    "duration": 12,
    "start_time": "2023-12-10T16:08:40.922Z"
   },
   {
    "duration": 5,
    "start_time": "2023-12-10T16:08:40.935Z"
   },
   {
    "duration": 206,
    "start_time": "2023-12-10T16:08:40.941Z"
   },
   {
    "duration": 5,
    "start_time": "2023-12-10T16:08:41.148Z"
   },
   {
    "duration": 99,
    "start_time": "2023-12-10T16:08:41.155Z"
   },
   {
    "duration": 7,
    "start_time": "2023-12-10T16:08:41.256Z"
   },
   {
    "duration": 117,
    "start_time": "2023-12-10T16:08:41.264Z"
   },
   {
    "duration": 196,
    "start_time": "2023-12-10T16:08:41.382Z"
   },
   {
    "duration": 13,
    "start_time": "2023-12-10T16:08:41.579Z"
   },
   {
    "duration": 144,
    "start_time": "2023-12-10T16:08:41.594Z"
   },
   {
    "duration": 184,
    "start_time": "2023-12-10T16:08:41.739Z"
   },
   {
    "duration": 8,
    "start_time": "2023-12-10T16:08:41.925Z"
   },
   {
    "duration": 131,
    "start_time": "2023-12-10T16:08:41.934Z"
   },
   {
    "duration": 275,
    "start_time": "2023-12-10T16:08:42.067Z"
   },
   {
    "duration": 21,
    "start_time": "2023-12-10T16:08:42.344Z"
   },
   {
    "duration": 23,
    "start_time": "2023-12-10T16:08:42.367Z"
   },
   {
    "duration": 36,
    "start_time": "2023-12-10T16:08:42.392Z"
   },
   {
    "duration": 15,
    "start_time": "2023-12-10T16:08:42.429Z"
   },
   {
    "duration": 6,
    "start_time": "2023-12-10T16:08:42.446Z"
   },
   {
    "duration": 7,
    "start_time": "2023-12-10T16:08:42.454Z"
   },
   {
    "duration": 462,
    "start_time": "2023-12-10T16:08:42.462Z"
   },
   {
    "duration": 276,
    "start_time": "2023-12-10T16:08:42.926Z"
   },
   {
    "duration": 7,
    "start_time": "2023-12-10T16:08:43.205Z"
   },
   {
    "duration": 8,
    "start_time": "2023-12-10T16:08:43.214Z"
   },
   {
    "duration": 504,
    "start_time": "2023-12-10T16:08:43.224Z"
   },
   {
    "duration": 8,
    "start_time": "2023-12-10T16:08:43.729Z"
   },
   {
    "duration": 10,
    "start_time": "2023-12-10T16:08:43.742Z"
   },
   {
    "duration": 468,
    "start_time": "2023-12-10T16:08:43.754Z"
   },
   {
    "duration": 10,
    "start_time": "2023-12-10T16:08:44.224Z"
   },
   {
    "duration": 8,
    "start_time": "2023-12-10T16:08:44.236Z"
   },
   {
    "duration": 1467,
    "start_time": "2023-12-10T16:08:44.246Z"
   },
   {
    "duration": 15,
    "start_time": "2023-12-10T16:08:45.714Z"
   },
   {
    "duration": 237,
    "start_time": "2023-12-10T16:08:45.730Z"
   },
   {
    "duration": 4,
    "start_time": "2023-12-10T16:08:45.969Z"
   },
   {
    "duration": 7,
    "start_time": "2023-12-10T16:08:45.987Z"
   },
   {
    "duration": 12,
    "start_time": "2023-12-10T16:08:45.995Z"
   },
   {
    "duration": 1456,
    "start_time": "2023-12-11T05:59:22.316Z"
   },
   {
    "duration": 3,
    "start_time": "2023-12-11T05:59:23.774Z"
   },
   {
    "duration": 102,
    "start_time": "2023-12-11T05:59:23.779Z"
   },
   {
    "duration": 80,
    "start_time": "2023-12-11T05:59:23.883Z"
   },
   {
    "duration": 63,
    "start_time": "2023-12-11T05:59:23.965Z"
   },
   {
    "duration": 7,
    "start_time": "2023-12-11T05:59:24.029Z"
   },
   {
    "duration": 34,
    "start_time": "2023-12-11T05:59:24.038Z"
   },
   {
    "duration": 29,
    "start_time": "2023-12-11T05:59:24.074Z"
   },
   {
    "duration": 23,
    "start_time": "2023-12-11T05:59:24.105Z"
   },
   {
    "duration": 26,
    "start_time": "2023-12-11T05:59:24.131Z"
   },
   {
    "duration": 9,
    "start_time": "2023-12-11T05:59:24.158Z"
   },
   {
    "duration": 26,
    "start_time": "2023-12-11T05:59:24.169Z"
   },
   {
    "duration": 30,
    "start_time": "2023-12-11T05:59:24.196Z"
   },
   {
    "duration": 16,
    "start_time": "2023-12-11T05:59:24.227Z"
   },
   {
    "duration": 35,
    "start_time": "2023-12-11T05:59:24.245Z"
   },
   {
    "duration": 23,
    "start_time": "2023-12-11T05:59:24.282Z"
   },
   {
    "duration": 185,
    "start_time": "2023-12-11T05:59:24.307Z"
   },
   {
    "duration": 6,
    "start_time": "2023-12-11T05:59:24.493Z"
   },
   {
    "duration": 113,
    "start_time": "2023-12-11T05:59:24.500Z"
   },
   {
    "duration": 9,
    "start_time": "2023-12-11T05:59:24.615Z"
   },
   {
    "duration": 138,
    "start_time": "2023-12-11T05:59:24.625Z"
   },
   {
    "duration": 211,
    "start_time": "2023-12-11T05:59:24.766Z"
   },
   {
    "duration": 8,
    "start_time": "2023-12-11T05:59:24.978Z"
   },
   {
    "duration": 137,
    "start_time": "2023-12-11T05:59:24.988Z"
   },
   {
    "duration": 190,
    "start_time": "2023-12-11T05:59:25.127Z"
   },
   {
    "duration": 9,
    "start_time": "2023-12-11T05:59:25.319Z"
   },
   {
    "duration": 140,
    "start_time": "2023-12-11T05:59:25.343Z"
   },
   {
    "duration": 288,
    "start_time": "2023-12-11T05:59:25.488Z"
   },
   {
    "duration": 24,
    "start_time": "2023-12-11T05:59:25.778Z"
   },
   {
    "duration": 6,
    "start_time": "2023-12-11T05:59:25.804Z"
   },
   {
    "duration": 44,
    "start_time": "2023-12-11T05:59:25.812Z"
   },
   {
    "duration": 22,
    "start_time": "2023-12-11T05:59:25.858Z"
   },
   {
    "duration": 6,
    "start_time": "2023-12-11T05:59:25.882Z"
   },
   {
    "duration": 6,
    "start_time": "2023-12-11T05:59:25.891Z"
   },
   {
    "duration": 479,
    "start_time": "2023-12-11T05:59:25.898Z"
   },
   {
    "duration": 497,
    "start_time": "2023-12-11T05:59:26.379Z"
   },
   {
    "duration": 7,
    "start_time": "2023-12-11T05:59:26.877Z"
   },
   {
    "duration": 63,
    "start_time": "2023-12-11T05:59:26.885Z"
   },
   {
    "duration": 1024,
    "start_time": "2023-12-11T05:59:26.950Z"
   },
   {
    "duration": 8,
    "start_time": "2023-12-11T05:59:27.976Z"
   },
   {
    "duration": 9,
    "start_time": "2023-12-11T05:59:27.986Z"
   },
   {
    "duration": 497,
    "start_time": "2023-12-11T05:59:27.996Z"
   },
   {
    "duration": 8,
    "start_time": "2023-12-11T05:59:28.494Z"
   },
   {
    "duration": 7,
    "start_time": "2023-12-11T05:59:28.503Z"
   },
   {
    "duration": 851,
    "start_time": "2023-12-11T05:59:28.512Z"
   },
   {
    "duration": 15,
    "start_time": "2023-12-11T05:59:29.365Z"
   },
   {
    "duration": 162,
    "start_time": "2023-12-11T05:59:29.381Z"
   },
   {
    "duration": 6,
    "start_time": "2023-12-11T05:59:29.544Z"
   },
   {
    "duration": 5,
    "start_time": "2023-12-11T05:59:29.551Z"
   },
   {
    "duration": 9,
    "start_time": "2023-12-11T05:59:29.558Z"
   }
  ],
  "kernelspec": {
   "display_name": "Python 3 (ipykernel)",
   "language": "python",
   "name": "python3"
  },
  "language_info": {
   "codemirror_mode": {
    "name": "ipython",
    "version": 3
   },
   "file_extension": ".py",
   "mimetype": "text/x-python",
   "name": "python",
   "nbconvert_exporter": "python",
   "pygments_lexer": "ipython3",
   "version": "3.10.9"
  },
  "toc": {
   "base_numbering": 1,
   "nav_menu": {},
   "number_sections": true,
   "sideBar": true,
   "skip_h1_title": true,
   "title_cell": "Table of Contents",
   "title_sidebar": "Contents",
   "toc_cell": false,
   "toc_position": {
    "height": "calc(100% - 180px)",
    "left": "10px",
    "top": "150px",
    "width": "284.8px"
   },
   "toc_section_display": true,
   "toc_window_display": true
  }
 },
 "nbformat": 4,
 "nbformat_minor": 5
}
